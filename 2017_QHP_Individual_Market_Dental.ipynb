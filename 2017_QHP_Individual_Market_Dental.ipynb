{
 "cells": [
  {
   "cell_type": "markdown",
   "metadata": {
    "colab_type": "text",
    "id": "dUmDcEblXFui"
   },
   "source": [
    "# 2017 QHP Individual Market Dental Insurance\n",
    "\n",
    "Data from [healthcare.gov](https://data.healthcare.gov/dataset/2017-QHP-Landscape-Individual-Market-Dental/gwq7-ribq). "
   ]
  },
  {
   "cell_type": "markdown",
   "metadata": {
    "colab_type": "text",
    "id": "AGHC_NDBXrGk"
   },
   "source": [
    "# Imports and Load Data"
   ]
  },
  {
   "cell_type": "code",
   "execution_count": 1,
   "metadata": {},
   "outputs": [
    {
     "name": "stdout",
     "output_type": "stream",
     "text": [
      "Requirement already satisfied: vega_datasets in c:\\users\\jake\\anaconda3\\envs\\mainenv\\lib\\site-packages (0.7.0)\n",
      "Requirement already satisfied: pandas in c:\\users\\jake\\anaconda3\\envs\\mainenv\\lib\\site-packages (from vega_datasets) (0.23.4)\n",
      "Requirement already satisfied: python-dateutil>=2.5.0 in c:\\users\\jake\\anaconda3\\envs\\mainenv\\lib\\site-packages (from pandas->vega_datasets) (2.7.5)\n",
      "Requirement already satisfied: pytz>=2011k in c:\\users\\jake\\anaconda3\\envs\\mainenv\\lib\\site-packages (from pandas->vega_datasets) (2018.7)\n",
      "Requirement already satisfied: numpy>=1.9.0 in c:\\users\\jake\\anaconda3\\envs\\mainenv\\lib\\site-packages (from pandas->vega_datasets) (1.15.4)\n",
      "Requirement already satisfied: six>=1.5 in c:\\users\\jake\\anaconda3\\envs\\mainenv\\lib\\site-packages (from python-dateutil>=2.5.0->pandas->vega_datasets) (1.12.0)\n"
     ]
    }
   ],
   "source": [
    "!pip install vega_datasets"
   ]
  },
  {
   "cell_type": "code",
   "execution_count": 2,
   "metadata": {
    "colab": {
     "base_uri": "https://localhost:8080/",
     "height": 34
    },
    "colab_type": "code",
    "id": "QhvLJQlPXBnD",
    "outputId": "0c954248-4dd2-4208-e9de-8587d8904da9"
   },
   "outputs": [
    {
     "name": "stdout",
     "output_type": "stream",
     "text": [
      "Warnings will be ignored!\n"
     ]
    }
   ],
   "source": [
    "# standard libraries\n",
    "import pandas as pd\n",
    "import numpy as np\n",
    "import os\n",
    "\n",
    "# visualization libraries\n",
    "import seaborn as sns\n",
    "import matplotlib.pyplot as plt\n",
    "import altair as alt\n",
    "\n",
    "# US map datasets\n",
    "from vega_datasets import data\n",
    "\n",
    "# train-test split\n",
    "from sklearn.model_selection import train_test_split\n",
    "\n",
    "# linear regression models\n",
    "from sklearn.linear_model import LinearRegression, Ridge\n",
    "from sklearn.tree import DecisionTreeRegressor\n",
    "from sklearn.ensemble import GradientBoostingRegressor, AdaBoostRegressor\n",
    "from sklearn.ensemble import RandomForestRegressor, ExtraTreesRegressor\n",
    "from sklearn.linear_model import ElasticNet, Lasso,  BayesianRidge, LassoLarsIC\n",
    "from sklearn.kernel_ridge import KernelRidge\n",
    "from sklearn.svm import SVR, LinearSVR\n",
    "\n",
    "# cross val, k-folds, scaler\n",
    "from sklearn.metrics import r2_score\n",
    "from sklearn.model_selection import GridSearchCV\n",
    "from sklearn.model_selection import RandomizedSearchCV\n",
    "from sklearn.model_selection import KFold\n",
    "from sklearn.model_selection import cross_val_score\n",
    "from sklearn.metrics import mean_squared_log_error\n",
    "from sklearn.metrics import mean_squared_error\n",
    "\n",
    "# suppress scientific notation\n",
    "pd.set_option('display.float_format', lambda x: '%.3f' % x)\n",
    "\n",
    "# ignore warnings\n",
    "import warnings\n",
    "def ignore_warn(*args, **kwargs):\n",
    "    pass\n",
    "warnings.warn = ignore_warn\n",
    "warnings.filterwarnings(\"ignore\", category=Warning)\n",
    "print('Warnings will be ignored!')"
   ]
  },
  {
   "cell_type": "code",
   "execution_count": 3,
   "metadata": {},
   "outputs": [
    {
     "data": {
      "text/plain": [
       "ThemeRegistry.enable('opaque')"
      ]
     },
     "execution_count": 3,
     "metadata": {},
     "output_type": "execute_result"
    }
   ],
   "source": [
    "# enable altair visualizations\n",
    "alt.renderers.enable()\n",
    "alt.themes.enable('opaque')"
   ]
  },
  {
   "cell_type": "markdown",
   "metadata": {
    "colab_type": "text",
    "id": "ur92BYVR854F"
   },
   "source": [
    "# Population Stats"
   ]
  },
  {
   "cell_type": "code",
   "execution_count": 4,
   "metadata": {
    "colab": {},
    "colab_type": "code",
    "id": "G7qR0BQTX9fU"
   },
   "outputs": [],
   "source": [
    "# population stats df\n",
    "pop_df = pd.read_csv('US_Population_Density_by_State.csv')\n",
    "pop_df.columns = ['State', 'State Code', 'StateID_Geo', 'Pop Density', 'Population', 'Area']\n",
    "\n",
    "pop_df['Pop Density'] = pop_df['Pop Density'].str.replace(',', '')\n",
    "pop_df['Pop Density'] = pop_df['Pop Density'].astype('uint32')\n",
    "\n",
    "pop_df['Population'] = pop_df['Population'].str.replace(',', '')\n",
    "pop_df['Population'] = pop_df['Population'].astype('uint32')\n",
    "\n",
    "pop_df['Area'] = pop_df['Area'].str.replace(',', '')\n",
    "pop_df['Area'] = pop_df['Area'].astype('uint32')"
   ]
  },
  {
   "cell_type": "code",
   "execution_count": 5,
   "metadata": {
    "colab": {},
    "colab_type": "code",
    "id": "etuYU2YtTrPd"
   },
   "outputs": [],
   "source": [
    "# dictionary for state names and codes for visualizations\n",
    "state_geo_dict = pd.Series(pop_df.State.values,index=pop_df['StateID_Geo']).to_dict()"
   ]
  },
  {
   "cell_type": "code",
   "execution_count": 6,
   "metadata": {
    "colab": {
     "base_uri": "https://localhost:8080/",
     "height": 884
    },
    "colab_type": "code",
    "id": "Ztyevatufs-Z",
    "outputId": "094155e0-b486-4642-b2dd-909cb5ffdf4c"
   },
   "outputs": [
    {
     "data": {
      "text/plain": [
       "{11: 'District of Columbia',\n",
       " 34: 'New Jersey',\n",
       " 44: 'Rhode Island',\n",
       " 25: 'Massachusetts',\n",
       " 9: 'Connecticut',\n",
       " 24: 'Maryland',\n",
       " 10: 'Delaware',\n",
       " 36: 'New York',\n",
       " 12: 'Florida',\n",
       " 42: 'Pennsylvania',\n",
       " 39: 'Ohio',\n",
       " 6: 'California',\n",
       " 17: 'Illinois',\n",
       " 15: 'Hawaii',\n",
       " 51: 'Virginia',\n",
       " 37: 'North Carolina',\n",
       " 18: 'Indiana',\n",
       " 13: 'Georgia',\n",
       " 26: 'Michigan',\n",
       " 45: 'South Carolina',\n",
       " 47: 'Tennessee',\n",
       " 33: 'New Hampshire',\n",
       " 21: 'Kentucky',\n",
       " 53: 'Washington',\n",
       " 48: 'Texas',\n",
       " 22: 'Louisiana',\n",
       " 55: 'Wisconsin',\n",
       " 1: 'Alabama',\n",
       " 29: 'Missouri',\n",
       " 54: 'West Virginia',\n",
       " 27: 'Minnesota',\n",
       " 50: 'Vermont',\n",
       " 28: 'Mississippi',\n",
       " 4: 'Arizona',\n",
       " 5: 'Arkansas',\n",
       " 19: 'Iowa',\n",
       " 40: 'Oklahoma',\n",
       " 8: 'Colorado',\n",
       " 41: 'Oregon',\n",
       " 23: 'Maine',\n",
       " 49: 'Utah',\n",
       " 20: 'Kansas',\n",
       " 32: 'Nevada',\n",
       " 31: 'Nebraska',\n",
       " 16: 'Idaho',\n",
       " 35: 'New Mexico',\n",
       " 46: 'South Dakota',\n",
       " 38: 'North Dakota',\n",
       " 30: 'Montana',\n",
       " 56: 'Wyoming',\n",
       " 2: 'Alaska'}"
      ]
     },
     "execution_count": 6,
     "metadata": {},
     "output_type": "execute_result"
    }
   ],
   "source": [
    "state_geo_dict"
   ]
  },
  {
   "cell_type": "markdown",
   "metadata": {
    "colab_type": "text",
    "id": "2Ki7D2T8c9M4"
   },
   "source": [
    "# Data Cleaning + Feature Engineering"
   ]
  },
  {
   "cell_type": "code",
   "execution_count": 7,
   "metadata": {
    "colab": {},
    "colab_type": "code",
    "id": "CoTGkiAfdVnE"
   },
   "outputs": [],
   "source": [
    "# load data\n",
    "df = pd.read_csv('2017_QHP_Landscape_Individual_Market_Dental.csv')\n",
    "\n",
    "# remove child only offerings\n",
    "df = df[df['Child Only Offering'] == 'Allows Adult and Child-Only']\n",
    "\n",
    "# encode state names by frequency\n",
    "state_list = df['State Code'].value_counts().index.tolist()\n",
    "\n",
    "state_dict = dict()\n",
    "for x in range(0, (len(state_list))):\n",
    "    state_dict[state_list[x]] = x\n",
    "      \n",
    "df['StateID'] = df['State Code'].map(state_dict).astype('uint8')\n",
    "\n",
    "# state value counts\n",
    "df['StateFreq'] = df['State Code'].map(df['State Code'].value_counts())\n",
    "\n",
    "# merge with population data\n",
    "df = pd.merge(df, pop_df, on='State Code')\n",
    "\n",
    "# drop features with all nulls and unneeded features\n",
    "df = df.drop(['Premium Rates', 'Standard On Exchange', 'Child Only Offering'], axis=1)\n",
    "\n",
    "# drop phone number features\n",
    "df = df.drop(['Customer Service Phone Number Local', 'Customer Service Phone Number Toll Free', \n",
    "             'Customer Service Phone Number TTY'], axis=1)\n",
    "\n",
    "# reset index\n",
    "df = df.reset_index(drop=True)\n",
    "\n",
    "# county changed to county + state code\n",
    "df['County Name'] = df['County Name'] + \" \" + df['State Code']\n",
    "\n",
    "# encode county names by frequency\n",
    "county_list = df['County Name'].value_counts().index.tolist()\n",
    "\n",
    "county_dict = dict()\n",
    "for x in range(0, (len(county_list))):\n",
    "    county_dict[county_list[x]] = x\n",
    "    \n",
    "df['CountyID'] = df['County Name'].map(county_dict).astype('uint16')\n",
    "\n",
    "# encode issuers by frequency\n",
    "issuer_list = df['Issuer Name'].value_counts().index.tolist()\n",
    "\n",
    "issuer_dict = dict()\n",
    "for x in range(0, (len(issuer_list))):\n",
    "    issuer_dict[issuer_list[x]] = x\n",
    "    \n",
    "df['IssuerID'] = df['Issuer Name'].map(issuer_dict).astype('uint16')\n",
    "\n",
    "# encode marketing plans\n",
    "marketing_plan_list = df['Plan Marketing Name']\n",
    "\n",
    "marekting_plan_dict = dict()\n",
    "for x in range(0, (len(marketing_plan_list))):\n",
    "    marekting_plan_dict[marketing_plan_list[x]] = x\n",
    "    \n",
    "df['PlanMarketingID'] = df['Plan Marketing Name'].map(marekting_plan_dict).astype('uint16')\n",
    "\n",
    "# encode plan IDs\n",
    "plan_id_list = df['Plan ID (Standard Component)']\n",
    "\n",
    "plan_id_dict = dict()\n",
    "for x in range(0, (len(plan_id_list))):\n",
    "    plan_id_dict[plan_id_list[x]] = x\n",
    "    \n",
    "df['PlanID Encoded'] = df['Plan ID (Standard Component)'].map(plan_id_dict).astype('uint16')\n",
    "\n",
    "# 'Metal Level' turned into binomial\n",
    "# considering changing name to 'Hi Metal Level'\n",
    "df['Metal Level'] = df['Metal Level'].replace('Low', 0)\n",
    "df['Metal Level'] = df['Metal Level'].replace('High', 1)\n",
    "df['Metal Level'] = df['Metal Level'].astype('uint8')\n",
    "\n",
    "# turn 'Rating Area' into numeric value\n",
    "df['Rating Area'] = df['Rating Area'].str.replace('Rating Area ', '').astype('uint16')\n",
    "\n",
    "# replace nulls in coverage categories\n",
    "df['Routine Dental Services - Adult (Coverage)'] = df['Routine Dental Services - Adult (Coverage)'].fillna(0)\n",
    "df['Basic Dental Care - Adult (Coverage)'] = df['Basic Dental Care - Adult (Coverage)'].fillna(0)\n",
    "df['Major Dental Care - Adult (Coverage)'] = df['Major Dental Care - Adult (Coverage)'].fillna(0)\n",
    "df['Orthodontia - Adult (Coverage)'] = df['Orthodontia - Adult (Coverage)'].fillna(0)\n",
    "df['Dental Check-Up for Children (Coverage)'] = df['Dental Check-Up for Children (Coverage)'].fillna(0)\n",
    "df['Basic Dental Care - Child (Coverage)'] = df['Basic Dental Care - Child (Coverage)'].fillna(0)\n",
    "df['Major Dental Care - Child (Coverage)'] = df['Major Dental Care - Child (Coverage)'].fillna(0)\n",
    "df['Orthodontia - Child (Coverage)'] = df['Orthodontia - Child (Coverage)'].fillna(0)\n",
    "\n",
    "# turn coverage categories into binomials\n",
    "df['Routine Dental Services - Adult (Coverage)'] = df['Routine Dental Services - Adult (Coverage)'].replace('X', 1)\n",
    "df['Basic Dental Care - Adult (Coverage)'] = df['Basic Dental Care - Adult (Coverage)'].replace('X', 1)\n",
    "df['Major Dental Care - Adult (Coverage)'] = df['Major Dental Care - Adult (Coverage)'].replace('X', 1)\n",
    "df['Orthodontia - Adult (Coverage)'] = df['Orthodontia - Adult (Coverage)'].replace('X', 1)\n",
    "df['Dental Check-Up for Children (Coverage)'] = df['Dental Check-Up for Children (Coverage)'].replace('X', 1)\n",
    "df['Basic Dental Care - Child (Coverage)'] = df['Basic Dental Care - Child (Coverage)'].replace('X', 1)\n",
    "df['Major Dental Care - Child (Coverage)'] = df['Major Dental Care - Child (Coverage)'].replace('X', 1)\n",
    "df['Orthodontia - Child (Coverage)'] = df['Orthodontia - Child (Coverage)'].replace('X', 1)\n",
    "\n",
    "# convert coverage categories into 'uint8' data type\n",
    "df['Routine Dental Services - Adult (Coverage)'] = df['Routine Dental Services - Adult (Coverage)'].astype('uint8')\n",
    "df['Basic Dental Care - Adult (Coverage)'] = df['Basic Dental Care - Adult (Coverage)'].astype('uint8')\n",
    "df['Major Dental Care - Adult (Coverage)'] = df['Major Dental Care - Adult (Coverage)'].astype('uint8')\n",
    "df['Orthodontia - Adult (Coverage)'] = df['Orthodontia - Adult (Coverage)'].astype('uint8')\n",
    "df['Dental Check-Up for Children (Coverage)'] = df['Dental Check-Up for Children (Coverage)'].astype('uint8')\n",
    "df['Basic Dental Care - Child (Coverage)'] = df['Basic Dental Care - Child (Coverage)'].astype('uint8')\n",
    "df['Major Dental Care - Child (Coverage)'] = df['Major Dental Care - Child (Coverage)'].astype('uint8')\n",
    "df['Orthodontia - Child (Coverage)'] = df['Orthodontia - Child (Coverage)'].astype('uint8')\n",
    "\n",
    "# remove dollar signs and turn into 'uint16' / impute 'Not Applicable' values with .quantile(q=0.75) \n",
    "# NA does not mean zero; it typically means multiple deductibles; so expect higher than average\n",
    "\n",
    "df['Dental Deductible - Family (Per Person) - Standard'] = df['Dental Deductible - Family (Per Person) - Standard'].str.replace('$', '')\n",
    "df['Dental Deductible - Family (Per Person) - Standard'] = df['Dental Deductible - Family (Per Person) - Standard'].str.replace(' ', '')\n",
    "df['Dental Deductible - Family (Per Person) - Standard'] = pd.to_numeric(df['Dental Deductible - Family (Per Person) - Standard'], errors='coerce')\n",
    "df['Dental Deductible - Family (Per Person) - Standard'] = df['Dental Deductible - Family (Per Person) - Standard'].fillna(df['Dental Deductible - Family (Per Person) - Standard'].quantile(q=0.75))\n",
    "df['Dental Deductible - Family (Per Person) - Standard'] = df['Dental Deductible - Family (Per Person) - Standard'].astype('uint16')\n",
    "\n",
    "df['Dental Deductible - Individual - Standard'] = df['Dental Deductible - Individual - Standard'].str.replace('$', '')\n",
    "df['Dental Deductible - Individual - Standard'] = df['Dental Deductible - Individual - Standard'].str.replace(' ', '')\n",
    "df['Dental Deductible - Individual - Standard'] = pd.to_numeric(df['Dental Deductible - Individual - Standard'], errors='coerce')\n",
    "df['Dental Deductible - Individual - Standard'] = df['Dental Deductible - Individual - Standard'].fillna(df['Dental Deductible - Individual - Standard'].quantile(q=0.75))\n",
    "df['Dental Deductible - Individual - Standard'] = df['Dental Deductible - Individual - Standard'].astype('uint16')\n",
    "\n",
    "df['Dental Deductible - Family - Standard'] = df['Dental Deductible - Family - Standard'].str.replace('$', '')\n",
    "df['Dental Deductible - Family - Standard'] = df['Dental Deductible - Family - Standard'].str.replace(' ', '')\n",
    "df['Dental Deductible - Family - Standard'] = pd.to_numeric(df['Dental Deductible - Family - Standard'], errors='coerce')\n",
    "df['Dental Deductible - Family - Standard'] = df['Dental Deductible - Family - Standard'].fillna(df['Dental Deductible - Family - Standard'].quantile(q=0.75))\n",
    "df['Dental Deductible - Family - Standard'] = df['Dental Deductible - Family - Standard'].astype('uint16')\n",
    "\n",
    "df['Dental Maximum Out of Pocket - Individual - Standard'] = df['Dental Maximum Out of Pocket - Individual - Standard'].str.replace('$', '')\n",
    "df['Dental Maximum Out of Pocket - Individual - Standard'] = df['Dental Maximum Out of Pocket - Individual - Standard'].str.replace(' ', '')\n",
    "df['Dental Maximum Out of Pocket - Individual - Standard'] = df['Dental Maximum Out of Pocket - Individual - Standard'].astype('uint16')\n",
    "\n",
    "df['Dental Maximum Out of Pocket - Family - Standard'] = df['Dental Maximum Out of Pocket - Family - Standard'].str.replace('$', '')\n",
    "df['Dental Maximum Out of Pocket - Family - Standard'] = df['Dental Maximum Out of Pocket - Family - Standard'].str.replace(' ', '')\n",
    "df['Dental Maximum Out of Pocket - Family - Standard'] = df['Dental Maximum Out of Pocket - Family - Standard'].astype('uint16')\n",
    "\n",
    "df['Dental Maximum Out of Pocket - Family (Per Person) - Standard'] = df['Dental Maximum Out of Pocket - Family (Per Person) - Standard'].str.replace('$', '')\n",
    "df['Dental Maximum Out of Pocket - Family (Per Person) - Standard'] = df['Dental Maximum Out of Pocket - Family (Per Person) - Standard'].str.replace(' ', '')\n",
    "df['Dental Maximum Out of Pocket - Family (Per Person) - Standard'] = pd.to_numeric(df['Dental Maximum Out of Pocket - Family (Per Person) - Standard'], errors='coerce')\n",
    "df['Dental Maximum Out of Pocket - Family (Per Person) - Standard'] = df['Dental Maximum Out of Pocket - Family (Per Person) - Standard'].fillna(0)\n",
    "df['Dental Maximum Out of Pocket - Family (Per Person) - Standard'] = df['Dental Maximum Out of Pocket - Family (Per Person) - Standard'].astype('uint16')\n",
    "\n",
    "# turn 'Source' into binomial\n",
    "df['SERFF'] = df['Source']\n",
    "df['SERFF'] = df['SERFF'].replace('HIOS', 0)\n",
    "df['SERFF'] = df['SERFF'].replace('SERFF', 1)\n",
    "df['SERFF'] = df['SERFF'].astype('uint8')\n",
    "\n",
    "# create average premium per person metric as sum of all premiums divided by estimated # of individuals\n",
    "df['Avg Premium'] = df[['Premium Child','Premium Adult Individual Age 21', 'Premium Adult Individual Age 27',\n",
    "       'Premium Adult Individual Age 30 ', 'Premium Adult Individual Age 40 ',\n",
    "       'Premium Adult Individual Age 50 ', 'Premium Adult Individual Age 60 ',\n",
    "       'Premium Couple 21  ', 'Premium Couple 30 ', 'Premium Couple 40 ',\n",
    "       'Premium Couple 50 ', 'Premium Couple 60 ', 'Couple+1 child, Age 21',\n",
    "       'Couple+1 child, Age 30 ', 'Couple+1 child, Age 40 ',\n",
    "       'Couple+1 child, Age 50 ', 'Couple+2 children, Age 21',\n",
    "       'Couple+2 children, Age 30 ', 'Couple+2 children, Age 40 ',\n",
    "       'Couple+2 children, Age 50', 'Couple+3 or more Children, Age 21',\n",
    "       'Couple+3 or more Children, Age 30',\n",
    "       'Couple+3 or more Children, Age 40',\n",
    "       'Couple+3 or more Children, Age 50', 'Individual+1 child, Age 21',\n",
    "       'Individual+1 child, Age 30', 'Individual+1 child, Age 40',\n",
    "       'Individual+1 child, Age 50', 'Individual+2 children, Age 21',\n",
    "       'Individual+2 children, Age 30', 'Individual+2 children, Age 40',\n",
    "       'Individual+2 children, Age 50',\n",
    "       'Individual+3 or more children, Age 21',\n",
    "       'Individual+3 or more children, Age 30',\n",
    "       'Individual+3 or more children, Age 40',\n",
    "       'Individual+3 or more children, Age 50',]].sum(axis = 1, skipna = True) / 101\n",
    "\n",
    "# insurance plans per capita; measure of competition\n",
    "df['PlansPer100K'] = (df['StateFreq'] / df['Population']) * 100000\n",
    "\n",
    "def mean_premium_map(feature):\n",
    "    mean_premium = df.groupby(feature, as_index=True)['Avg Premium'].mean()\n",
    "    mean_premium_dict = dict(zip(mean_premium.index, mean_premium))\n",
    "    return mean_premium_dict\n",
    "\n",
    "# mean premium per provider\n",
    "df['Issuer_MP'] = df['IssuerID'].map(mean_premium_map(df['IssuerID'])).astype('float32')\n",
    "\n",
    "# mean premium by state\n",
    "df['State_MP'] = df['StateID'].map(mean_premium_map(df['StateID'])).astype('float32')\n",
    "\n",
    "# mean premium by county\n",
    "df['County_MP'] = df['CountyID'].map(mean_premium_map(df['CountyID'])).astype('float32')\n",
    "\n",
    "# mean premium by rating area\n",
    "df['RatingArea_MP'] = df['Rating Area'].map(mean_premium_map(df['Rating Area'])).astype('float32')\n",
    "\n",
    "# mean premium by plans per capita\n",
    "df['PlansPer100K_MP'] = df['PlansPer100K'].map(mean_premium_map(df['PlansPer100K'])).astype('float32')\n",
    "\n",
    "# mean premium by marketing id\n",
    "df['MarketingID_MP'] = df['PlanMarketingID'].map(mean_premium_map(df['PlanMarketingID'])).astype('float32')\n",
    "\n",
    "# mean premium by pop density\n",
    "df['PopDensity_MP'] = df['Pop Density'].map(mean_premium_map(df['Pop Density'])).astype('float32')\n",
    "\n",
    "# pop density bins\n",
    "df['PopDensityBins'] = pd.qcut(df['Pop Density'], q=11, labels=[0, 1, 2, 3, 4, 5, 6, 7, 8, 9], duplicates='drop')\n",
    "\n",
    "# mean premium by pop density bucket\n",
    "df['PopDensityBin_MP'] = df['PopDensityBins'].map(mean_premium_map(df['PopDensityBins'])).astype('float32')\n",
    "\n",
    "\n",
    "# drop some redundant columns\n",
    "df = df.drop(['Source'], axis=1)\n"
   ]
  },
  {
   "cell_type": "code",
   "execution_count": 8,
   "metadata": {
    "colab": {},
    "colab_type": "code",
    "id": "7J07VASsYCeU"
   },
   "outputs": [],
   "source": [
    "# # print value counts for all 'objects'\n",
    "# def object_vcs_and_nulls(df):\n",
    "#   for i in df:\n",
    "#     if df[i].dtype == 'O':\n",
    "# #       if df[i].isnull().sum() > 0:\n",
    "#         print(df[i].value_counts())  \n",
    "#         print(\"Number of Null Values: \" + str(df[i].isnull().sum()))\n",
    "#         print(\"Percentage of Nulls = \" + str(np.round((df[i].isnull().sum() / df.shape[0] * 100), 2)) + \"%\")\n",
    "#         print(\"\\n\")\n",
    "      \n",
    "# object_vcs_and_nulls(df)"
   ]
  },
  {
   "cell_type": "code",
   "execution_count": 9,
   "metadata": {
    "colab": {
     "base_uri": "https://localhost:8080/",
     "height": 1649
    },
    "colab_type": "code",
    "id": "uwMseFpupPmN",
    "outputId": "928f78cd-5836-4bd0-fbfd-1a013ddfd0ba"
   },
   "outputs": [
    {
     "name": "stdout",
     "output_type": "stream",
     "text": [
      "<class 'pandas.core.frame.DataFrame'>\n",
      "RangeIndex: 40646 entries, 0 to 40645\n",
      "Data columns (total 91 columns):\n",
      "State Code                                                       40646 non-null object\n",
      "FIPS County Code                                                 40646 non-null int64\n",
      "County Name                                                      40646 non-null object\n",
      "Metal Level                                                      40646 non-null uint8\n",
      "Issuer Name                                                      40646 non-null object\n",
      "HIOS Issuer ID                                                   40646 non-null int64\n",
      "Plan ID (Standard Component)                                     40646 non-null object\n",
      "Plan Marketing Name                                              40646 non-null object\n",
      "Plan Type                                                        40646 non-null object\n",
      "Rating Area                                                      40646 non-null uint16\n",
      "Routine Dental Services - Adult (Coverage)                       40646 non-null uint8\n",
      "Basic Dental Care - Adult (Coverage)                             40646 non-null uint8\n",
      "Major Dental Care - Adult (Coverage)                             40646 non-null uint8\n",
      "Orthodontia - Adult (Coverage)                                   40646 non-null uint8\n",
      "Dental Check-Up for Children (Coverage)                          40646 non-null uint8\n",
      "Basic Dental Care - Child (Coverage)                             40646 non-null uint8\n",
      "Major Dental Care - Child (Coverage)                             40646 non-null uint8\n",
      "Orthodontia - Child (Coverage)                                   40646 non-null uint8\n",
      "Premium Child                                                    40646 non-null float64\n",
      "Premium Adult Individual Age 21                                  40646 non-null float64\n",
      "Premium Adult Individual Age 27                                  40646 non-null float64\n",
      "Premium Adult Individual Age 30                                  40646 non-null float64\n",
      "Premium Adult Individual Age 40                                  40646 non-null float64\n",
      "Premium Adult Individual Age 50                                  40646 non-null float64\n",
      "Premium Adult Individual Age 60                                  40646 non-null float64\n",
      "Premium Couple 21                                                40646 non-null float64\n",
      "Premium Couple 30                                                40646 non-null float64\n",
      "Premium Couple 40                                                40646 non-null float64\n",
      "Premium Couple 50                                                40646 non-null float64\n",
      "Premium Couple 60                                                40646 non-null float64\n",
      "Couple+1 child, Age 21                                           40646 non-null float64\n",
      "Couple+1 child, Age 30                                           40646 non-null float64\n",
      "Couple+1 child, Age 40                                           40646 non-null float64\n",
      "Couple+1 child, Age 50                                           40646 non-null float64\n",
      "Couple+2 children, Age 21                                        40646 non-null float64\n",
      "Couple+2 children, Age 30                                        40646 non-null float64\n",
      "Couple+2 children, Age 40                                        40646 non-null float64\n",
      "Couple+2 children, Age 50                                        40646 non-null float64\n",
      "Couple+3 or more Children, Age 21                                40646 non-null float64\n",
      "Couple+3 or more Children, Age 30                                40646 non-null float64\n",
      "Couple+3 or more Children, Age 40                                40646 non-null float64\n",
      "Couple+3 or more Children, Age 50                                40646 non-null float64\n",
      "Individual+1 child, Age 21                                       40646 non-null float64\n",
      "Individual+1 child, Age 30                                       40646 non-null float64\n",
      "Individual+1 child, Age 40                                       40646 non-null float64\n",
      "Individual+1 child, Age 50                                       40646 non-null float64\n",
      "Individual+2 children, Age 21                                    40646 non-null float64\n",
      "Individual+2 children, Age 30                                    40646 non-null float64\n",
      "Individual+2 children, Age 40                                    40646 non-null float64\n",
      "Individual+2 children, Age 50                                    40646 non-null float64\n",
      "Individual+3 or more children, Age 21                            40646 non-null float64\n",
      "Individual+3 or more children, Age 30                            40646 non-null float64\n",
      "Individual+3 or more children, Age 40                            40646 non-null float64\n",
      "Individual+3 or more children, Age 50                            40646 non-null float64\n",
      "Dental Deductible - Individual - Standard                        40646 non-null uint16\n",
      "Dental Deductible - Family - Standard                            40646 non-null uint16\n",
      "Dental Deductible - Family (Per Person) - Standard               40646 non-null uint16\n",
      "Dental Maximum Out of Pocket - Individual - Standard             40646 non-null uint16\n",
      "Dental Maximum Out of Pocket - Family - Standard                 40646 non-null uint16\n",
      "Dental Maximum Out of Pocket - Family (Per Person) - Standard    40646 non-null uint16\n",
      "Routine Dental Services - Adult                                  40646 non-null object\n",
      "Basic Dental Care - Adult                                        40646 non-null object\n",
      "Major Dental Care - Adult                                        40646 non-null object\n",
      "Orthodontia - Adult                                              40646 non-null object\n",
      "Dental Check-Up for Children                                     40646 non-null object\n",
      "Basic Dental Care - Child                                        40646 non-null object\n",
      "Major Dental Care - Child                                        40646 non-null object\n",
      "Orthodontia - Child                                              40646 non-null object\n",
      "StateID                                                          40646 non-null uint8\n",
      "StateFreq                                                        40646 non-null int64\n",
      "State                                                            40646 non-null object\n",
      "StateID_Geo                                                      40646 non-null int64\n",
      "Pop Density                                                      40646 non-null uint32\n",
      "Population                                                       40646 non-null uint32\n",
      "Area                                                             40646 non-null uint32\n",
      "CountyID                                                         40646 non-null uint16\n",
      "IssuerID                                                         40646 non-null uint16\n",
      "PlanMarketingID                                                  40646 non-null uint16\n",
      "PlanID Encoded                                                   40646 non-null uint16\n",
      "SERFF                                                            40646 non-null uint8\n",
      "Avg Premium                                                      40646 non-null float64\n",
      "PlansPer100K                                                     40646 non-null float64\n",
      "Issuer_MP                                                        40646 non-null float32\n",
      "State_MP                                                         40646 non-null float32\n",
      "County_MP                                                        40646 non-null float32\n",
      "RatingArea_MP                                                    40646 non-null float32\n",
      "PlansPer100K_MP                                                  40646 non-null float32\n",
      "MarketingID_MP                                                   40646 non-null float32\n",
      "PopDensity_MP                                                    40646 non-null float32\n",
      "PopDensityBins                                                   40646 non-null category\n",
      "PopDensityBin_MP                                                 40646 non-null float32\n",
      "dtypes: category(1), float32(8), float64(38), int64(4), object(15), uint16(11), uint32(3), uint8(11)\n",
      "memory usage: 20.7+ MB\n"
     ]
    }
   ],
   "source": [
    "df.info()"
   ]
  },
  {
   "cell_type": "markdown",
   "metadata": {
    "colab_type": "text",
    "id": "SYnpXc6o7AyQ"
   },
   "source": [
    "# Create Visualization Dataframes"
   ]
  },
  {
   "cell_type": "code",
   "execution_count": 10,
   "metadata": {
    "colab": {},
    "colab_type": "code",
    "id": "vOU7sbXi7GBh"
   },
   "outputs": [],
   "source": [
    "# function to generate new dataframes for stats\n",
    "def feature_by_premium(feature):\n",
    "\n",
    "    new_df = pd.DataFrame()\n",
    "       \n",
    "    avg_prem_state = df.groupby(feature, as_index=True)['Avg Premium'].mean()\n",
    "    new_df['avg_prem'] = avg_prem_state\n",
    "    \n",
    "    new_df['id'] = new_df.index    \n",
    "  \n",
    "    return new_df"
   ]
  },
  {
   "cell_type": "code",
   "execution_count": 11,
   "metadata": {
    "colab": {},
    "colab_type": "code",
    "id": "ZqIUh0C5D0Vk"
   },
   "outputs": [],
   "source": [
    "state_prem_df = feature_by_premium('StateID_Geo')\n",
    "state_prem_df = state_prem_df.reindex(list(range(state_prem_df.index.min(),state_prem_df.index.max()+1)),fill_value=np.nan)\n",
    "state_prem_df['id'] = state_prem_df.index.astype('uint16')\n",
    "state_prem_df['state'] = state_prem_df['id'].map(state_geo_dict)"
   ]
  },
  {
   "cell_type": "code",
   "execution_count": 12,
   "metadata": {
    "colab": {
     "base_uri": "https://localhost:8080/",
     "height": 1816
    },
    "colab_type": "code",
    "id": "2gcy3BOJfQWm",
    "outputId": "6bd1c7f9-3b2b-4a00-8aec-2bf713a4fa1b"
   },
   "outputs": [
    {
     "data": {
      "text/html": [
       "<div>\n",
       "<style scoped>\n",
       "    .dataframe tbody tr th:only-of-type {\n",
       "        vertical-align: middle;\n",
       "    }\n",
       "\n",
       "    .dataframe tbody tr th {\n",
       "        vertical-align: top;\n",
       "    }\n",
       "\n",
       "    .dataframe thead th {\n",
       "        text-align: right;\n",
       "    }\n",
       "</style>\n",
       "<table border=\"1\" class=\"dataframe\">\n",
       "  <thead>\n",
       "    <tr style=\"text-align: right;\">\n",
       "      <th></th>\n",
       "      <th>avg_prem</th>\n",
       "      <th>id</th>\n",
       "      <th>state</th>\n",
       "    </tr>\n",
       "    <tr>\n",
       "      <th>StateID_Geo</th>\n",
       "      <th></th>\n",
       "      <th></th>\n",
       "      <th></th>\n",
       "    </tr>\n",
       "  </thead>\n",
       "  <tbody>\n",
       "    <tr>\n",
       "      <th>1</th>\n",
       "      <td>24.666</td>\n",
       "      <td>1</td>\n",
       "      <td>Alabama</td>\n",
       "    </tr>\n",
       "    <tr>\n",
       "      <th>2</th>\n",
       "      <td>51.935</td>\n",
       "      <td>2</td>\n",
       "      <td>Alaska</td>\n",
       "    </tr>\n",
       "    <tr>\n",
       "      <th>3</th>\n",
       "      <td>nan</td>\n",
       "      <td>3</td>\n",
       "      <td>NaN</td>\n",
       "    </tr>\n",
       "    <tr>\n",
       "      <th>4</th>\n",
       "      <td>29.909</td>\n",
       "      <td>4</td>\n",
       "      <td>Arizona</td>\n",
       "    </tr>\n",
       "    <tr>\n",
       "      <th>5</th>\n",
       "      <td>27.296</td>\n",
       "      <td>5</td>\n",
       "      <td>Arkansas</td>\n",
       "    </tr>\n",
       "    <tr>\n",
       "      <th>6</th>\n",
       "      <td>nan</td>\n",
       "      <td>6</td>\n",
       "      <td>California</td>\n",
       "    </tr>\n",
       "    <tr>\n",
       "      <th>7</th>\n",
       "      <td>nan</td>\n",
       "      <td>7</td>\n",
       "      <td>NaN</td>\n",
       "    </tr>\n",
       "    <tr>\n",
       "      <th>8</th>\n",
       "      <td>nan</td>\n",
       "      <td>8</td>\n",
       "      <td>Colorado</td>\n",
       "    </tr>\n",
       "    <tr>\n",
       "      <th>9</th>\n",
       "      <td>nan</td>\n",
       "      <td>9</td>\n",
       "      <td>Connecticut</td>\n",
       "    </tr>\n",
       "    <tr>\n",
       "      <th>10</th>\n",
       "      <td>26.880</td>\n",
       "      <td>10</td>\n",
       "      <td>Delaware</td>\n",
       "    </tr>\n",
       "    <tr>\n",
       "      <th>11</th>\n",
       "      <td>nan</td>\n",
       "      <td>11</td>\n",
       "      <td>District of Columbia</td>\n",
       "    </tr>\n",
       "    <tr>\n",
       "      <th>12</th>\n",
       "      <td>23.725</td>\n",
       "      <td>12</td>\n",
       "      <td>Florida</td>\n",
       "    </tr>\n",
       "    <tr>\n",
       "      <th>13</th>\n",
       "      <td>28.420</td>\n",
       "      <td>13</td>\n",
       "      <td>Georgia</td>\n",
       "    </tr>\n",
       "    <tr>\n",
       "      <th>14</th>\n",
       "      <td>nan</td>\n",
       "      <td>14</td>\n",
       "      <td>NaN</td>\n",
       "    </tr>\n",
       "    <tr>\n",
       "      <th>15</th>\n",
       "      <td>nan</td>\n",
       "      <td>15</td>\n",
       "      <td>Hawaii</td>\n",
       "    </tr>\n",
       "    <tr>\n",
       "      <th>16</th>\n",
       "      <td>nan</td>\n",
       "      <td>16</td>\n",
       "      <td>Idaho</td>\n",
       "    </tr>\n",
       "    <tr>\n",
       "      <th>17</th>\n",
       "      <td>28.225</td>\n",
       "      <td>17</td>\n",
       "      <td>Illinois</td>\n",
       "    </tr>\n",
       "    <tr>\n",
       "      <th>18</th>\n",
       "      <td>28.309</td>\n",
       "      <td>18</td>\n",
       "      <td>Indiana</td>\n",
       "    </tr>\n",
       "    <tr>\n",
       "      <th>19</th>\n",
       "      <td>31.654</td>\n",
       "      <td>19</td>\n",
       "      <td>Iowa</td>\n",
       "    </tr>\n",
       "    <tr>\n",
       "      <th>20</th>\n",
       "      <td>28.117</td>\n",
       "      <td>20</td>\n",
       "      <td>Kansas</td>\n",
       "    </tr>\n",
       "    <tr>\n",
       "      <th>21</th>\n",
       "      <td>21.986</td>\n",
       "      <td>21</td>\n",
       "      <td>Kentucky</td>\n",
       "    </tr>\n",
       "    <tr>\n",
       "      <th>22</th>\n",
       "      <td>29.072</td>\n",
       "      <td>22</td>\n",
       "      <td>Louisiana</td>\n",
       "    </tr>\n",
       "    <tr>\n",
       "      <th>23</th>\n",
       "      <td>32.365</td>\n",
       "      <td>23</td>\n",
       "      <td>Maine</td>\n",
       "    </tr>\n",
       "    <tr>\n",
       "      <th>24</th>\n",
       "      <td>nan</td>\n",
       "      <td>24</td>\n",
       "      <td>Maryland</td>\n",
       "    </tr>\n",
       "    <tr>\n",
       "      <th>25</th>\n",
       "      <td>nan</td>\n",
       "      <td>25</td>\n",
       "      <td>Massachusetts</td>\n",
       "    </tr>\n",
       "    <tr>\n",
       "      <th>26</th>\n",
       "      <td>28.651</td>\n",
       "      <td>26</td>\n",
       "      <td>Michigan</td>\n",
       "    </tr>\n",
       "    <tr>\n",
       "      <th>27</th>\n",
       "      <td>nan</td>\n",
       "      <td>27</td>\n",
       "      <td>Minnesota</td>\n",
       "    </tr>\n",
       "    <tr>\n",
       "      <th>28</th>\n",
       "      <td>28.022</td>\n",
       "      <td>28</td>\n",
       "      <td>Mississippi</td>\n",
       "    </tr>\n",
       "    <tr>\n",
       "      <th>29</th>\n",
       "      <td>27.027</td>\n",
       "      <td>29</td>\n",
       "      <td>Missouri</td>\n",
       "    </tr>\n",
       "    <tr>\n",
       "      <th>30</th>\n",
       "      <td>39.449</td>\n",
       "      <td>30</td>\n",
       "      <td>Montana</td>\n",
       "    </tr>\n",
       "    <tr>\n",
       "      <th>31</th>\n",
       "      <td>27.404</td>\n",
       "      <td>31</td>\n",
       "      <td>Nebraska</td>\n",
       "    </tr>\n",
       "    <tr>\n",
       "      <th>32</th>\n",
       "      <td>32.105</td>\n",
       "      <td>32</td>\n",
       "      <td>Nevada</td>\n",
       "    </tr>\n",
       "    <tr>\n",
       "      <th>33</th>\n",
       "      <td>35.012</td>\n",
       "      <td>33</td>\n",
       "      <td>New Hampshire</td>\n",
       "    </tr>\n",
       "    <tr>\n",
       "      <th>34</th>\n",
       "      <td>31.211</td>\n",
       "      <td>34</td>\n",
       "      <td>New Jersey</td>\n",
       "    </tr>\n",
       "    <tr>\n",
       "      <th>35</th>\n",
       "      <td>24.643</td>\n",
       "      <td>35</td>\n",
       "      <td>New Mexico</td>\n",
       "    </tr>\n",
       "    <tr>\n",
       "      <th>36</th>\n",
       "      <td>nan</td>\n",
       "      <td>36</td>\n",
       "      <td>New York</td>\n",
       "    </tr>\n",
       "    <tr>\n",
       "      <th>37</th>\n",
       "      <td>33.107</td>\n",
       "      <td>37</td>\n",
       "      <td>North Carolina</td>\n",
       "    </tr>\n",
       "    <tr>\n",
       "      <th>38</th>\n",
       "      <td>31.062</td>\n",
       "      <td>38</td>\n",
       "      <td>North Dakota</td>\n",
       "    </tr>\n",
       "    <tr>\n",
       "      <th>39</th>\n",
       "      <td>25.610</td>\n",
       "      <td>39</td>\n",
       "      <td>Ohio</td>\n",
       "    </tr>\n",
       "    <tr>\n",
       "      <th>40</th>\n",
       "      <td>28.903</td>\n",
       "      <td>40</td>\n",
       "      <td>Oklahoma</td>\n",
       "    </tr>\n",
       "    <tr>\n",
       "      <th>41</th>\n",
       "      <td>34.966</td>\n",
       "      <td>41</td>\n",
       "      <td>Oregon</td>\n",
       "    </tr>\n",
       "    <tr>\n",
       "      <th>42</th>\n",
       "      <td>24.046</td>\n",
       "      <td>42</td>\n",
       "      <td>Pennsylvania</td>\n",
       "    </tr>\n",
       "    <tr>\n",
       "      <th>43</th>\n",
       "      <td>nan</td>\n",
       "      <td>43</td>\n",
       "      <td>NaN</td>\n",
       "    </tr>\n",
       "    <tr>\n",
       "      <th>44</th>\n",
       "      <td>nan</td>\n",
       "      <td>44</td>\n",
       "      <td>Rhode Island</td>\n",
       "    </tr>\n",
       "    <tr>\n",
       "      <th>45</th>\n",
       "      <td>27.022</td>\n",
       "      <td>45</td>\n",
       "      <td>South Carolina</td>\n",
       "    </tr>\n",
       "    <tr>\n",
       "      <th>46</th>\n",
       "      <td>29.572</td>\n",
       "      <td>46</td>\n",
       "      <td>South Dakota</td>\n",
       "    </tr>\n",
       "    <tr>\n",
       "      <th>47</th>\n",
       "      <td>25.248</td>\n",
       "      <td>47</td>\n",
       "      <td>Tennessee</td>\n",
       "    </tr>\n",
       "    <tr>\n",
       "      <th>48</th>\n",
       "      <td>27.530</td>\n",
       "      <td>48</td>\n",
       "      <td>Texas</td>\n",
       "    </tr>\n",
       "    <tr>\n",
       "      <th>49</th>\n",
       "      <td>26.614</td>\n",
       "      <td>49</td>\n",
       "      <td>Utah</td>\n",
       "    </tr>\n",
       "    <tr>\n",
       "      <th>50</th>\n",
       "      <td>nan</td>\n",
       "      <td>50</td>\n",
       "      <td>Vermont</td>\n",
       "    </tr>\n",
       "    <tr>\n",
       "      <th>51</th>\n",
       "      <td>26.141</td>\n",
       "      <td>51</td>\n",
       "      <td>Virginia</td>\n",
       "    </tr>\n",
       "    <tr>\n",
       "      <th>52</th>\n",
       "      <td>nan</td>\n",
       "      <td>52</td>\n",
       "      <td>NaN</td>\n",
       "    </tr>\n",
       "    <tr>\n",
       "      <th>53</th>\n",
       "      <td>nan</td>\n",
       "      <td>53</td>\n",
       "      <td>Washington</td>\n",
       "    </tr>\n",
       "    <tr>\n",
       "      <th>54</th>\n",
       "      <td>22.755</td>\n",
       "      <td>54</td>\n",
       "      <td>West Virginia</td>\n",
       "    </tr>\n",
       "    <tr>\n",
       "      <th>55</th>\n",
       "      <td>32.009</td>\n",
       "      <td>55</td>\n",
       "      <td>Wisconsin</td>\n",
       "    </tr>\n",
       "    <tr>\n",
       "      <th>56</th>\n",
       "      <td>33.757</td>\n",
       "      <td>56</td>\n",
       "      <td>Wyoming</td>\n",
       "    </tr>\n",
       "  </tbody>\n",
       "</table>\n",
       "</div>"
      ],
      "text/plain": [
       "             avg_prem  id                 state\n",
       "StateID_Geo                                    \n",
       "1              24.666   1               Alabama\n",
       "2              51.935   2                Alaska\n",
       "3                 nan   3                   NaN\n",
       "4              29.909   4               Arizona\n",
       "5              27.296   5              Arkansas\n",
       "6                 nan   6            California\n",
       "7                 nan   7                   NaN\n",
       "8                 nan   8              Colorado\n",
       "9                 nan   9           Connecticut\n",
       "10             26.880  10              Delaware\n",
       "11                nan  11  District of Columbia\n",
       "12             23.725  12               Florida\n",
       "13             28.420  13               Georgia\n",
       "14                nan  14                   NaN\n",
       "15                nan  15                Hawaii\n",
       "16                nan  16                 Idaho\n",
       "17             28.225  17              Illinois\n",
       "18             28.309  18               Indiana\n",
       "19             31.654  19                  Iowa\n",
       "20             28.117  20                Kansas\n",
       "21             21.986  21              Kentucky\n",
       "22             29.072  22             Louisiana\n",
       "23             32.365  23                 Maine\n",
       "24                nan  24              Maryland\n",
       "25                nan  25         Massachusetts\n",
       "26             28.651  26              Michigan\n",
       "27                nan  27             Minnesota\n",
       "28             28.022  28           Mississippi\n",
       "29             27.027  29              Missouri\n",
       "30             39.449  30               Montana\n",
       "31             27.404  31              Nebraska\n",
       "32             32.105  32                Nevada\n",
       "33             35.012  33         New Hampshire\n",
       "34             31.211  34            New Jersey\n",
       "35             24.643  35            New Mexico\n",
       "36                nan  36              New York\n",
       "37             33.107  37        North Carolina\n",
       "38             31.062  38          North Dakota\n",
       "39             25.610  39                  Ohio\n",
       "40             28.903  40              Oklahoma\n",
       "41             34.966  41                Oregon\n",
       "42             24.046  42          Pennsylvania\n",
       "43                nan  43                   NaN\n",
       "44                nan  44          Rhode Island\n",
       "45             27.022  45        South Carolina\n",
       "46             29.572  46          South Dakota\n",
       "47             25.248  47             Tennessee\n",
       "48             27.530  48                 Texas\n",
       "49             26.614  49                  Utah\n",
       "50                nan  50               Vermont\n",
       "51             26.141  51              Virginia\n",
       "52                nan  52                   NaN\n",
       "53                nan  53            Washington\n",
       "54             22.755  54         West Virginia\n",
       "55             32.009  55             Wisconsin\n",
       "56             33.757  56               Wyoming"
      ]
     },
     "execution_count": 12,
     "metadata": {},
     "output_type": "execute_result"
    }
   ],
   "source": [
    "state_prem_df"
   ]
  },
  {
   "cell_type": "code",
   "execution_count": 13,
   "metadata": {
    "colab": {
     "base_uri": "https://localhost:8080/",
     "height": 235
    },
    "colab_type": "code",
    "id": "swTO7nQSbq_f",
    "outputId": "6721f414-26de-47e3-9567-c51917dc4144"
   },
   "outputs": [
    {
     "data": {
      "text/html": [
       "<div>\n",
       "<style scoped>\n",
       "    .dataframe tbody tr th:only-of-type {\n",
       "        vertical-align: middle;\n",
       "    }\n",
       "\n",
       "    .dataframe tbody tr th {\n",
       "        vertical-align: top;\n",
       "    }\n",
       "\n",
       "    .dataframe thead th {\n",
       "        text-align: right;\n",
       "    }\n",
       "</style>\n",
       "<table border=\"1\" class=\"dataframe\">\n",
       "  <thead>\n",
       "    <tr style=\"text-align: right;\">\n",
       "      <th></th>\n",
       "      <th>avg_prem</th>\n",
       "      <th>id</th>\n",
       "    </tr>\n",
       "    <tr>\n",
       "      <th>FIPS County Code</th>\n",
       "      <th></th>\n",
       "      <th></th>\n",
       "    </tr>\n",
       "  </thead>\n",
       "  <tbody>\n",
       "    <tr>\n",
       "      <th>1001</th>\n",
       "      <td>24.580</td>\n",
       "      <td>1001</td>\n",
       "    </tr>\n",
       "    <tr>\n",
       "      <th>1003</th>\n",
       "      <td>24.660</td>\n",
       "      <td>1003</td>\n",
       "    </tr>\n",
       "    <tr>\n",
       "      <th>1005</th>\n",
       "      <td>24.660</td>\n",
       "      <td>1005</td>\n",
       "    </tr>\n",
       "    <tr>\n",
       "      <th>1007</th>\n",
       "      <td>24.881</td>\n",
       "      <td>1007</td>\n",
       "    </tr>\n",
       "    <tr>\n",
       "      <th>1009</th>\n",
       "      <td>24.881</td>\n",
       "      <td>1009</td>\n",
       "    </tr>\n",
       "  </tbody>\n",
       "</table>\n",
       "</div>"
      ],
      "text/plain": [
       "                  avg_prem    id\n",
       "FIPS County Code                \n",
       "1001                24.580  1001\n",
       "1003                24.660  1003\n",
       "1005                24.660  1005\n",
       "1007                24.881  1007\n",
       "1009                24.881  1009"
      ]
     },
     "execution_count": 13,
     "metadata": {},
     "output_type": "execute_result"
    }
   ],
   "source": [
    "county_prem_df = feature_by_premium('FIPS County Code')\n",
    "county_prem_df.head()"
   ]
  },
  {
   "cell_type": "markdown",
   "metadata": {
    "colab_type": "text",
    "id": "TlnViPVdgi8S"
   },
   "source": [
    "# Visualizations - Maps\n",
    "\n",
    "* [Choropleth Maps Altair](https://www.districtdatalabs.com/altair-choropleth-viz)\n",
    "\n",
    "Note: These images will not render on Github."
   ]
  },
  {
   "cell_type": "code",
   "execution_count": 14,
   "metadata": {
    "colab": {
     "base_uri": "https://localhost:8080/",
     "height": 408
    },
    "colab_type": "code",
    "id": "O5ZkHOtZ81QL",
    "outputId": "d4634b92-c95d-4609-e394-18ce8cd62bce"
   },
   "outputs": [
    {
     "data": {
      "application/vnd.vegalite.v2+json": {
       "$schema": "https://vega.github.io/schema/vega-lite/v2.6.0.json",
       "config": {
        "background": "white",
        "legend": {
         "titleColor": "black",
         "titleFontSize": 14
        },
        "title": {
         "anchor": "middle",
         "fontSize": 20
        },
        "view": {
         "height": 300,
         "width": 400
        }
       },
       "datasets": {
        "data-d2c7b872d01dc47779718c97fb842f02": [
         {
          "avg_prem": 24.666137874981494,
          "id": 1,
          "state": "Alabama"
         },
         {
          "avg_prem": 51.93522493188914,
          "id": 2,
          "state": "Alaska"
         },
         {
          "avg_prem": null,
          "id": 3,
          "state": null
         },
         {
          "avg_prem": 29.908524492898728,
          "id": 4,
          "state": "Arizona"
         },
         {
          "avg_prem": 27.296255169820775,
          "id": 5,
          "state": "Arkansas"
         },
         {
          "avg_prem": null,
          "id": 6,
          "state": "California"
         },
         {
          "avg_prem": null,
          "id": 7,
          "state": null
         },
         {
          "avg_prem": null,
          "id": 8,
          "state": "Colorado"
         },
         {
          "avg_prem": null,
          "id": 9,
          "state": "Connecticut"
         },
         {
          "avg_prem": 26.879752475247525,
          "id": 10,
          "state": "Delaware"
         },
         {
          "avg_prem": null,
          "id": 11,
          "state": "District of Columbia"
         },
         {
          "avg_prem": 23.724885119487116,
          "id": 12,
          "state": "Florida"
         },
         {
          "avg_prem": 28.419528838506842,
          "id": 13,
          "state": "Georgia"
         },
         {
          "avg_prem": null,
          "id": 14,
          "state": null
         },
         {
          "avg_prem": null,
          "id": 15,
          "state": "Hawaii"
         },
         {
          "avg_prem": null,
          "id": 16,
          "state": "Idaho"
         },
         {
          "avg_prem": 28.22496391859381,
          "id": 17,
          "state": "Illinois"
         },
         {
          "avg_prem": 28.309138652343908,
          "id": 18,
          "state": "Indiana"
         },
         {
          "avg_prem": 31.65401621980381,
          "id": 19,
          "state": "Iowa"
         },
         {
          "avg_prem": 28.11684830526862,
          "id": 20,
          "state": "Kansas"
         },
         {
          "avg_prem": 21.98635196515332,
          "id": 21,
          "state": "Kentucky"
         },
         {
          "avg_prem": 29.072459047733993,
          "id": 22,
          "state": "Louisiana"
         },
         {
          "avg_prem": 32.36490806223478,
          "id": 23,
          "state": "Maine"
         },
         {
          "avg_prem": null,
          "id": 24,
          "state": "Maryland"
         },
         {
          "avg_prem": null,
          "id": 25,
          "state": "Massachusetts"
         },
         {
          "avg_prem": 28.651147190190684,
          "id": 26,
          "state": "Michigan"
         },
         {
          "avg_prem": null,
          "id": 27,
          "state": "Minnesota"
         },
         {
          "avg_prem": 28.021774055454394,
          "id": 28,
          "state": "Mississippi"
         },
         {
          "avg_prem": 27.02652671668558,
          "id": 29,
          "state": "Missouri"
         },
         {
          "avg_prem": 39.448855885588465,
          "id": 30,
          "state": "Montana"
         },
         {
          "avg_prem": 27.404370960137488,
          "id": 31,
          "state": "Nebraska"
         },
         {
          "avg_prem": 32.104766797434465,
          "id": 32,
          "state": "Nevada"
         },
         {
          "avg_prem": 35.011801980198015,
          "id": 33,
          "state": "New Hampshire"
         },
         {
          "avg_prem": 31.211290936785986,
          "id": 34,
          "state": "New Jersey"
         },
         {
          "avg_prem": 24.643188193819327,
          "id": 35,
          "state": "New Mexico"
         },
         {
          "avg_prem": null,
          "id": 36,
          "state": "New York"
         },
         {
          "avg_prem": 33.10694873300898,
          "id": 37,
          "state": "North Carolina"
         },
         {
          "avg_prem": 31.062101313904957,
          "id": 38,
          "state": "North Dakota"
         },
         {
          "avg_prem": 25.609605184801804,
          "id": 39,
          "state": "Ohio"
         },
         {
          "avg_prem": 28.903445415970054,
          "id": 40,
          "state": "Oklahoma"
         },
         {
          "avg_prem": 34.96608012185838,
          "id": 41,
          "state": "Oregon"
         },
         {
          "avg_prem": 24.0461578657865,
          "id": 42,
          "state": "Pennsylvania"
         },
         {
          "avg_prem": null,
          "id": 43,
          "state": null
         },
         {
          "avg_prem": null,
          "id": 44,
          "state": "Rhode Island"
         },
         {
          "avg_prem": 27.02237523752378,
          "id": 45,
          "state": "South Carolina"
         },
         {
          "avg_prem": 29.571698169816976,
          "id": 46,
          "state": "South Dakota"
         },
         {
          "avg_prem": 25.248268716842976,
          "id": 47,
          "state": "Tennessee"
         },
         {
          "avg_prem": 27.530167964923976,
          "id": 48,
          "state": "Texas"
         },
         {
          "avg_prem": 26.614494576778597,
          "id": 49,
          "state": "Utah"
         },
         {
          "avg_prem": null,
          "id": 50,
          "state": "Vermont"
         },
         {
          "avg_prem": 26.140740827023727,
          "id": 51,
          "state": "Virginia"
         },
         {
          "avg_prem": null,
          "id": 52,
          "state": null
         },
         {
          "avg_prem": null,
          "id": 53,
          "state": "Washington"
         },
         {
          "avg_prem": 22.75522832283231,
          "id": 54,
          "state": "West Virginia"
         },
         {
          "avg_prem": 32.00931504167374,
          "id": 55,
          "state": "Wisconsin"
         },
         {
          "avg_prem": 33.75711221122116,
          "id": 56,
          "state": "Wyoming"
         }
        ]
       },
       "layer": [
        {
         "data": {
          "format": {
           "feature": "states",
           "type": "topojson"
          },
          "url": "https://vega.github.io/vega-datasets/data/us-10m.json"
         },
         "height": 350,
         "mark": {
          "fill": "lightgray",
          "stroke": "black",
          "type": "geoshape"
         },
         "projection": {
          "type": "albersUsa"
         },
         "width": 700
        },
        {
         "data": {
          "format": {
           "feature": "states",
           "type": "topojson"
          },
          "url": "https://vega.github.io/vega-datasets/data/us-10m.json"
         },
         "encoding": {
          "color": {
           "field": "avg_prem",
           "legend": {
            "tickCount": 6,
            "title": "Avr Premium"
           },
           "scale": {
            "scheme": "viridis"
           },
           "sort": "descending",
           "type": "quantitative"
          }
         },
         "height": 350,
         "mark": {
          "stroke": "black",
          "type": "geoshape"
         },
         "projection": {
          "type": "albersUsa"
         },
         "title": "Average Dental Insurance Premium by State",
         "transform": [
          {
           "from": {
            "data": {
             "name": "data-d2c7b872d01dc47779718c97fb842f02"
            },
            "fields": [
             "avg_prem"
            ],
            "key": "id"
           },
           "lookup": "id"
          }
         ],
         "width": 700
        }
       ]
      },
      "image/png": "[encoded data removed]",
      "text/plain": [
       "<VegaLite 2 object>\n",
       "\n",
       "If you see this message, it means the renderer has not been properly enabled\n",
       "for the frontend that you are using. For more information, see\n",
       "https://altair-viz.github.io/user_guide/troubleshooting.html\n"
      ]
     },
     "execution_count": 14,
     "metadata": {},
     "output_type": "execute_result"
    }
   ],
   "source": [
    "states = alt.topo_feature(data.us_10m.url, 'states')\n",
    "source = state_prem_df\n",
    "\n",
    "foreground = alt.Chart(states).mark_geoshape(stroke='black').encode(\n",
    "    color=alt.Color('avg_prem:Q', sort=\"descending\",  scale=alt.Scale(scheme='viridis'), legend=alt.Legend(title=\"Avr Premium\", tickCount=6))\n",
    ").transform_lookup(\n",
    "    lookup='id',\n",
    "    from_=alt.LookupData(source, 'id', ['avg_prem'])\n",
    ").project(\n",
    "    type='albersUsa'\n",
    ").properties(\n",
    "    title=\"Average Dental Insurance Premium by State\", \n",
    "    width=700,\n",
    "    height=350\n",
    ")  \n",
    "\n",
    "\n",
    "background = alt.Chart(states).mark_geoshape(\n",
    "    fill='lightgray',\n",
    "    stroke='black'\n",
    ").properties(\n",
    "    width=700,\n",
    "    height=350\n",
    ").project('albersUsa')\n",
    "\n",
    "config = alt.layer(background, foreground).configure_title(fontSize=20, anchor=\"middle\").configure_legend(titleColor='black', titleFontSize=14) \n",
    "\n",
    "config"
   ]
  },
  {
   "cell_type": "code",
   "execution_count": 15,
   "metadata": {
    "colab": {
     "base_uri": "https://localhost:8080/",
     "height": 381
    },
    "colab_type": "code",
    "id": "7MS8lm_hK3-C",
    "outputId": "f840df74-a686-4eff-bd7f-417a79a32893"
   },
   "outputs": [
    {
     "data": {
      "application/vnd.vegalite.v2+json": {
       "$schema": "https://vega.github.io/schema/vega-lite/v2.6.0.json",
       "config": {
        "background": "white",
        "legend": {
         "titleColor": "black",
         "titleFontSize": 14
        },
        "title": {
         "anchor": "middle",
         "fontSize": 20
        },
        "view": {
         "height": 300,
         "width": 400
        }
       },
       "datasets": {
        "data-a4cceaff734985c29e9fd5b5bc5947af": [
         {
          "avg_prem": 24.58040594059406,
          "id": 1001
         },
         {
          "avg_prem": 24.660455445544557,
          "id": 1003
         },
         {
          "avg_prem": 24.660455445544557,
          "id": 1005
         },
         {
          "avg_prem": 24.881108910891093,
          "id": 1007
         },
         {
          "avg_prem": 24.881108910891093,
          "id": 1009
         },
         {
          "avg_prem": 24.660455445544557,
          "id": 1011
         },
         {
          "avg_prem": 24.660455445544557,
          "id": 1013
         },
         {
          "avg_prem": 24.282574257425743,
          "id": 1015
         },
         {
          "avg_prem": 24.660455445544557,
          "id": 1017
         },
         {
          "avg_prem": 24.660455445544557,
          "id": 1019
         },
         {
          "avg_prem": 24.881108910891093,
          "id": 1021
         },
         {
          "avg_prem": 24.660455445544557,
          "id": 1023
         },
         {
          "avg_prem": 24.660455445544557,
          "id": 1025
         },
         {
          "avg_prem": 24.660455445544557,
          "id": 1027
         },
         {
          "avg_prem": 24.660455445544557,
          "id": 1029
         },
         {
          "avg_prem": 24.660455445544557,
          "id": 1031
         },
         {
          "avg_prem": 24.77583168316832,
          "id": 1033
         },
         {
          "avg_prem": 24.660455445544557,
          "id": 1035
         },
         {
          "avg_prem": 24.660455445544557,
          "id": 1037
         },
         {
          "avg_prem": 24.660455445544557,
          "id": 1039
         },
         {
          "avg_prem": 24.660455445544557,
          "id": 1041
         },
         {
          "avg_prem": 24.660455445544557,
          "id": 1043
         },
         {
          "avg_prem": 24.660455445544557,
          "id": 1045
         },
         {
          "avg_prem": 24.660455445544557,
          "id": 1047
         },
         {
          "avg_prem": 24.660455445544557,
          "id": 1049
         },
         {
          "avg_prem": 24.58040594059406,
          "id": 1051
         },
         {
          "avg_prem": 24.660455445544557,
          "id": 1053
         },
         {
          "avg_prem": 24.703247524752477,
          "id": 1055
         },
         {
          "avg_prem": 24.660455445544557,
          "id": 1057
         },
         {
          "avg_prem": 24.660455445544557,
          "id": 1059
         },
         {
          "avg_prem": 24.282574257425743,
          "id": 1061
         },
         {
          "avg_prem": 24.77031683168317,
          "id": 1063
         },
         {
          "avg_prem": 24.77031683168317,
          "id": 1065
         },
         {
          "avg_prem": 24.282574257425743,
          "id": 1067
         },
         {
          "avg_prem": 24.282574257425743,
          "id": 1069
         },
         {
          "avg_prem": 24.660455445544557,
          "id": 1071
         },
         {
          "avg_prem": 24.881108910891093,
          "id": 1073
         },
         {
          "avg_prem": 24.660455445544557,
          "id": 1075
         },
         {
          "avg_prem": 24.77583168316832,
          "id": 1077
         },
         {
          "avg_prem": 24.77583168316832,
          "id": 1079
         },
         {
          "avg_prem": 24.282574257425743,
          "id": 1081
         },
         {
          "avg_prem": 24.827960396039607,
          "id": 1083
         },
         {
          "avg_prem": 24.58040594059406,
          "id": 1085
         },
         {
          "avg_prem": 24.660455445544557,
          "id": 1087
         },
         {
          "avg_prem": 24.827960396039607,
          "id": 1089
         },
         {
          "avg_prem": 24.660455445544557,
          "id": 1091
         },
         {
          "avg_prem": 24.660455445544557,
          "id": 1093
         },
         {
          "avg_prem": 24.660455445544557,
          "id": 1095
         },
         {
          "avg_prem": 24.915198019801984,
          "id": 1097
         },
         {
          "avg_prem": 24.660455445544557,
          "id": 1099
         },
         {
          "avg_prem": 24.58040594059406,
          "id": 1101
         },
         {
          "avg_prem": 24.77583168316832,
          "id": 1103
         },
         {
          "avg_prem": 24.660455445544557,
          "id": 1105
         },
         {
          "avg_prem": 24.660455445544557,
          "id": 1107
         },
         {
          "avg_prem": 24.660455445544557,
          "id": 1109
         },
         {
          "avg_prem": 24.660455445544557,
          "id": 1111
         },
         {
          "avg_prem": 24.282574257425743,
          "id": 1113
         },
         {
          "avg_prem": 24.881108910891093,
          "id": 1115
         },
         {
          "avg_prem": 24.881108910891093,
          "id": 1117
         },
         {
          "avg_prem": 24.660455445544557,
          "id": 1119
         },
         {
          "avg_prem": 24.660455445544557,
          "id": 1121
         },
         {
          "avg_prem": 24.660455445544557,
          "id": 1123
         },
         {
          "avg_prem": 24.77031683168317,
          "id": 1125
         },
         {
          "avg_prem": 24.881108910891093,
          "id": 1127
         },
         {
          "avg_prem": 24.660455445544557,
          "id": 1129
         },
         {
          "avg_prem": 24.660455445544557,
          "id": 1131
         },
         {
          "avg_prem": 24.660455445544557,
          "id": 1133
         },
         {
          "avg_prem": 52.536831683168316,
          "id": 2013
         },
         {
          "avg_prem": 52.536831683168316,
          "id": 2016
         },
         {
          "avg_prem": 48.66916548797737,
          "id": 2020
         },
         {
          "avg_prem": 52.536831683168316,
          "id": 2050
         },
         {
          "avg_prem": 52.536831683168316,
          "id": 2060
         },
         {
          "avg_prem": 52.536831683168316,
          "id": 2068
         },
         {
          "avg_prem": 52.536831683168316,
          "id": 2070
         },
         {
          "avg_prem": 52.536831683168316,
          "id": 2090
         },
         {
          "avg_prem": 51.748118811881184,
          "id": 2100
         },
         {
          "avg_prem": 51.748118811881184,
          "id": 2105
         },
         {
          "avg_prem": 51.748118811881184,
          "id": 2110
         },
         {
          "avg_prem": 52.536831683168316,
          "id": 2122
         },
         {
          "avg_prem": 51.748118811881184,
          "id": 2130
         },
         {
          "avg_prem": 52.536831683168316,
          "id": 2150
         },
         {
          "avg_prem": 52.536831683168316,
          "id": 2164
         },
         {
          "avg_prem": 48.66916548797737,
          "id": 2170
         },
         {
          "avg_prem": 52.536831683168316,
          "id": 2180
         },
         {
          "avg_prem": 52.536831683168316,
          "id": 2185
         },
         {
          "avg_prem": 52.536831683168316,
          "id": 2188
         },
         {
          "avg_prem": 51.748118811881184,
          "id": 2195
         },
         {
          "avg_prem": 51.748118811881184,
          "id": 2198
         },
         {
          "avg_prem": 51.748118811881184,
          "id": 2220
         },
         {
          "avg_prem": 51.748118811881184,
          "id": 2230
         },
         {
          "avg_prem": 52.536831683168316,
          "id": 2240
         },
         {
          "avg_prem": 52.536831683168316,
          "id": 2261
         },
         {
          "avg_prem": 52.536831683168316,
          "id": 2270
         },
         {
          "avg_prem": 51.748118811881184,
          "id": 2275
         },
         {
          "avg_prem": 52.536831683168316,
          "id": 2282
         },
         {
          "avg_prem": 52.536831683168316,
          "id": 2290
         },
         {
          "avg_prem": 29.828491555037857,
          "id": 4001
         },
         {
          "avg_prem": 29.978283828382832,
          "id": 4003
         },
         {
          "avg_prem": 29.828491555037857,
          "id": 4005
         },
         {
          "avg_prem": 29.432266226622662,
          "id": 4007
         },
         {
          "avg_prem": 29.978283828382832,
          "id": 4009
         },
         {
          "avg_prem": 29.978283828382832,
          "id": 4011
         },
         {
          "avg_prem": 30.08498349834984,
          "id": 4012
         },
         {
          "avg_prem": 30.7564301430143,
          "id": 4013
         },
         {
          "avg_prem": 29.779592959295925,
          "id": 4015
         },
         {
          "avg_prem": 29.828491555037857,
          "id": 4017
         },
         {
          "avg_prem": 30.231826182618263,
          "id": 4019
         },
         {
          "avg_prem": 29.432266226622662,
          "id": 4021
         },
         {
          "avg_prem": 30.231826182618263,
          "id": 4023
         },
         {
          "avg_prem": 29.160027502750275,
          "id": 4025
         },
         {
          "avg_prem": 30.08498349834984,
          "id": 4027
         },
         {
          "avg_prem": 26.260019801980196,
          "id": 5001
         },
         {
          "avg_prem": 26.260019801980196,
          "id": 5003
         },
         {
          "avg_prem": 28.29932673267326,
          "id": 5005
         },
         {
          "avg_prem": 28.29932673267326,
          "id": 5007
         },
         {
          "avg_prem": 28.29932673267326,
          "id": 5009
         },
         {
          "avg_prem": 26.260019801980196,
          "id": 5011
         },
         {
          "avg_prem": 26.260019801980196,
          "id": 5013
         },
         {
          "avg_prem": 28.29932673267326,
          "id": 5015
         },
         {
          "avg_prem": 26.260019801980196,
          "id": 5017
         },
         {
          "avg_prem": 27.055069306930694,
          "id": 5019
         },
         {
          "avg_prem": 27.69362376237624,
          "id": 5021
         },
         {
          "avg_prem": 28.05476897689769,
          "id": 5023
         },
         {
          "avg_prem": 26.260019801980196,
          "id": 5025
         },
         {
          "avg_prem": 26.260019801980196,
          "id": 5027
         },
         {
          "avg_prem": 28.05476897689769,
          "id": 5029
         },
         {
          "avg_prem": 27.69362376237624,
          "id": 5031
         },
         {
          "avg_prem": 27.112904290429043,
          "id": 5033
         },
         {
          "avg_prem": 27.69362376237624,
          "id": 5035
         },
         {
          "avg_prem": 27.69362376237624,
          "id": 5037
         },
         {
          "avg_prem": 26.260019801980196,
          "id": 5039
         },
         {
          "avg_prem": 26.260019801980196,
          "id": 5041
         },
         {
          "avg_prem": 26.260019801980196,
          "id": 5043
         },
         {
          "avg_prem": 28.05476897689769,
          "id": 5045
         },
         {
          "avg_prem": 27.112904290429043,
          "id": 5047
         },
         {
          "avg_prem": 27.69362376237624,
          "id": 5049
         },
         {
          "avg_prem": 27.055069306930694,
          "id": 5051
         },
         {
          "avg_prem": 28.05476897689769,
          "id": 5053
         },
         {
          "avg_prem": 27.69362376237624,
          "id": 5055
         },
         {
          "avg_prem": 26.260019801980196,
          "id": 5057
         },
         {
          "avg_prem": 27.055069306930694,
          "id": 5059
         },
         {
          "avg_prem": 26.260019801980196,
          "id": 5061
         },
         {
          "avg_prem": 27.69362376237624,
          "id": 5063
         },
         {
          "avg_prem": 27.69362376237624,
          "id": 5065
         },
         {
          "avg_prem": 27.69362376237624,
          "id": 5067
         },
         {
          "avg_prem": 26.260019801980196,
          "id": 5069
         },
         {
          "avg_prem": 27.112904290429043,
          "id": 5071
         },
         {
          "avg_prem": 26.260019801980196,
          "id": 5073
         },
         {
          "avg_prem": 27.69362376237624,
          "id": 5075
         },
         {
          "avg_prem": 26.260019801980196,
          "id": 5077
         },
         {
          "avg_prem": 26.260019801980196,
          "id": 5079
         },
         {
          "avg_prem": 26.260019801980196,
          "id": 5081
         },
         {
          "avg_prem": 27.112904290429043,
          "id": 5083
         },
         {
          "avg_prem": 28.05476897689769,
          "id": 5085
         },
         {
          "avg_prem": 28.29932673267326,
          "id": 5087
         },
         {
          "avg_prem": 28.29932673267326,
          "id": 5089
         },
         {
          "avg_prem": 26.260019801980196,
          "id": 5091
         },
         {
          "avg_prem": 27.69362376237624,
          "id": 5093
         },
         {
          "avg_prem": 26.260019801980196,
          "id": 5095
         },
         {
          "avg_prem": 27.055069306930694,
          "id": 5097
         },
         {
          "avg_prem": 26.260019801980196,
          "id": 5099
         },
         {
          "avg_prem": 28.29932673267326,
          "id": 5101
         },
         {
          "avg_prem": 26.260019801980196,
          "id": 5103
         },
         {
          "avg_prem": 28.05476897689769,
          "id": 5105
         },
         {
          "avg_prem": 26.260019801980196,
          "id": 5107
         },
         {
          "avg_prem": 27.055069306930694,
          "id": 5109
         },
         {
          "avg_prem": 27.69362376237624,
          "id": 5111
         },
         {
          "avg_prem": 27.112904290429043,
          "id": 5113
         },
         {
          "avg_prem": 28.05476897689769,
          "id": 5115
         },
         {
          "avg_prem": 28.05476897689769,
          "id": 5117
         },
         {
          "avg_prem": 28.05476897689769,
          "id": 5119
         },
         {
          "avg_prem": 27.69362376237624,
          "id": 5121
         },
         {
          "avg_prem": 27.69362376237624,
          "id": 5123
         },
         {
          "avg_prem": 28.05476897689769,
          "id": 5125
         },
         {
          "avg_prem": 27.112904290429043,
          "id": 5127
         },
         {
          "avg_prem": 28.29932673267326,
          "id": 5129
         },
         {
          "avg_prem": 27.112904290429043,
          "id": 5131
         },
         {
          "avg_prem": 26.260019801980196,
          "id": 5133
         },
         {
          "avg_prem": 27.69362376237624,
          "id": 5135
         },
         {
          "avg_prem": 27.69362376237624,
          "id": 5137
         },
         {
          "avg_prem": 26.260019801980196,
          "id": 5139
         },
         {
          "avg_prem": 28.05476897689769,
          "id": 5141
         },
         {
          "avg_prem": 28.29932673267326,
          "id": 5143
         },
         {
          "avg_prem": 28.05476897689769,
          "id": 5145
         },
         {
          "avg_prem": 27.69362376237624,
          "id": 5147
         },
         {
          "avg_prem": 28.05476897689769,
          "id": 5149
         },
         {
          "avg_prem": 26.879752475247518,
          "id": 10001
         },
         {
          "avg_prem": 26.879752475247525,
          "id": 10003
         },
         {
          "avg_prem": 26.879752475247525,
          "id": 10005
         },
         {
          "avg_prem": 23.318432343234324,
          "id": 12001
         },
         {
          "avg_prem": 23.93101485148515,
          "id": 12003
         },
         {
          "avg_prem": 24.100034438226427,
          "id": 12005
         },
         {
          "avg_prem": 23.836963696369637,
          "id": 12007
         },
         {
          "avg_prem": 23.560831683168317,
          "id": 12009
         },
         {
          "avg_prem": 24.103153084539223,
          "id": 12011
         },
         {
          "avg_prem": 24.100034438226427,
          "id": 12013
         },
         {
          "avg_prem": 23.36447524752475,
          "id": 12015
         },
         {
          "avg_prem": 22.77373465346535,
          "id": 12017
         },
         {
          "avg_prem": 23.021540594059406,
          "id": 12019
         },
         {
          "avg_prem": 23.730128712871284,
          "id": 12021
         },
         {
          "avg_prem": 23.836963696369637,
          "id": 12023
         },
         {
          "avg_prem": 23.80119224422442,
          "id": 12027
         },
         {
          "avg_prem": 24.162928608650333,
          "id": 12029
         },
         {
          "avg_prem": 23.354760396039605,
          "id": 12031
         },
         {
          "avg_prem": 24.293555746879036,
          "id": 12033
         },
         {
          "avg_prem": 23.356245874587458,
          "id": 12035
         },
         {
          "avg_prem": 24.174735002912048,
          "id": 12037
         },
         {
          "avg_prem": 23.721503150315026,
          "id": 12039
         },
         {
          "avg_prem": 24.300172191132155,
          "id": 12041
         },
         {
          "avg_prem": 24.41434818481848,
          "id": 12043
         },
         {
          "avg_prem": 24.32280056577086,
          "id": 12045
         },
         {
          "avg_prem": 24.251562634524316,
          "id": 12047
         },
         {
          "avg_prem": 23.000241584158417,
          "id": 12049
         },
         {
          "avg_prem": 24.550610561056104,
          "id": 12051
         },
         {
          "avg_prem": 23.193508910891087,
          "id": 12053
         },
         {
          "avg_prem": 23.588712871287125,
          "id": 12055
         },
         {
          "avg_prem": 22.878709063214014,
          "id": 12057
         },
         {
          "avg_prem": 24.100034438226427,
          "id": 12059
         },
         {
          "avg_prem": 23.5876198019802,
          "id": 12061
         },
         {
          "avg_prem": 24.100034438226427,
          "id": 12063
         },
         {
          "avg_prem": 24.341051390853362,
          "id": 12065
         },
         {
          "avg_prem": 24.104085461177693,
          "id": 12067
         },
         {
          "avg_prem": 23.0609504950495,
          "id": 12069
         },
         {
          "avg_prem": 23.36447524752475,
          "id": 12071
         },
         {
          "avg_prem": 23.28891989198919,
          "id": 12073
         },
         {
          "avg_prem": 24.162928608650333,
          "id": 12075
         },
         {
          "avg_prem": 24.174735002912048,
          "id": 12077
         },
         {
          "avg_prem": 24.32280056577086,
          "id": 12079
         },
         {
          "avg_prem": 23.292914851485147,
          "id": 12081
         },
         {
          "avg_prem": 22.829465346534654,
          "id": 12083
         },
         {
          "avg_prem": 23.775841584158414,
          "id": 12085
         },
         {
          "avg_prem": 25.030171363290176,
          "id": 12086
         },
         {
          "avg_prem": 25.60498543972044,
          "id": 12087
         },
         {
          "avg_prem": 23.021540594059406,
          "id": 12089
         },
         {
          "avg_prem": 24.293555746879036,
          "id": 12091
         },
         {
          "avg_prem": 24.62516914191419,
          "id": 12093
         },
         {
          "avg_prem": 22.820148514851482,
          "id": 12095
         },
         {
          "avg_prem": 22.81531226199543,
          "id": 12097
         },
         {
          "avg_prem": 23.995609291698397,
          "id": 12099
         },
         {
          "avg_prem": 23.156229702970293,
          "id": 12101
         },
         {
          "avg_prem": 22.87870906321401,
          "id": 12103
         },
         {
          "avg_prem": 22.36405178979436,
          "id": 12105
         },
         {
          "avg_prem": 23.752780528052806,
          "id": 12107
         },
         {
          "avg_prem": 23.55927805280528,
          "id": 12109
         },
         {
          "avg_prem": 24.083932673267327,
          "id": 12111
         },
         {
          "avg_prem": 24.29355574687903,
          "id": 12113
         },
         {
          "avg_prem": 23.292914851485143,
          "id": 12115
         },
         {
          "avg_prem": 22.820148514851482,
          "id": 12117
         },
         {
          "avg_prem": 23.954377062706268,
          "id": 12119
         },
         {
          "avg_prem": 24.427473095135596,
          "id": 12121
         },
         {
          "avg_prem": 24.174735002912048,
          "id": 12123
         },
         {
          "avg_prem": 23.836963696369637,
          "id": 12125
         },
         {
          "avg_prem": 22.983908910891092,
          "id": 12127
         },
         {
          "avg_prem": 24.32280056577086,
          "id": 12129
         },
         {
          "avg_prem": 24.188101592767968,
          "id": 12131
         },
         {
          "avg_prem": 24.100034438226427,
          "id": 12133
         },
         {
          "avg_prem": 27.93543204320432,
          "id": 13001
         },
         {
          "avg_prem": 28.29677722772277,
          "id": 13003
         },
         {
          "avg_prem": 27.826152115211517,
          "id": 13005
         },
         {
          "avg_prem": 27.820108010801075,
          "id": 13007
         },
         {
          "avg_prem": 27.90448244824482,
          "id": 13009
         },
         {
          "avg_prem": 28.606264626462643,
          "id": 13011
         },
         {
          "avg_prem": 28.41393339333933,
          "id": 13013
         },
         {
          "avg_prem": 30.068555355535555,
          "id": 13015
         },
         {
          "avg_prem": 28.136782178217818,
          "id": 13017
         },
         {
          "avg_prem": 28.136782178217818,
          "id": 13019
         },
         {
          "avg_prem": 27.832016201620153,
          "id": 13021
         },
         {
          "avg_prem": 28.057069306930693,
          "id": 13023
         },
         {
          "avg_prem": 27.826152115211517,
          "id": 13025
         },
         {
          "avg_prem": 28.136782178217818,
          "id": 13027
         },
         {
          "avg_prem": 27.93543204320432,
          "id": 13029
         },
         {
          "avg_prem": 27.93543204320432,
          "id": 13031
         },
         {
          "avg_prem": 28.086570657065703,
          "id": 13033
         },
         {
          "avg_prem": 30.068555355535555,
          "id": 13035
         },
         {
          "avg_prem": 27.820108010801075,
          "id": 13037
         },
         {
          "avg_prem": 27.826152115211517,
          "id": 13039
         },
         {
          "avg_prem": 27.93543204320432,
          "id": 13043
         },
         {
          "avg_prem": 29.838199819981995,
          "id": 13045
         },
         {
          "avg_prem": 27.46497749774977,
          "id": 13047
         },
         {
          "avg_prem": 27.826152115211517,
          "id": 13049
         },
         {
          "avg_prem": 27.93543204320432,
          "id": 13051
         },
         {
          "avg_prem": 28.228532853285323,
          "id": 13053
         },
         {
          "avg_prem": 29.018595859585957,
          "id": 13055
         },
         {
          "avg_prem": 30.068555355535555,
          "id": 13057
         },
         {
          "avg_prem": 28.41393339333933,
          "id": 13059
         },
         {
          "avg_prem": 27.820108010801075,
          "id": 13061
         },
         {
          "avg_prem": 30.068555355535555,
          "id": 13063
         },
         {
          "avg_prem": 27.807668766876688,
          "id": 13065
         },
         {
          "avg_prem": 30.068555355535555,
          "id": 13067
         },
         {
          "avg_prem": 28.29677722772277,
          "id": 13069
         },
         {
          "avg_prem": 28.136782178217818,
          "id": 13071
         },
         {
          "avg_prem": 28.086570657065703,
          "id": 13073
         },
         {
          "avg_prem": 28.136782178217818,
          "id": 13075
         },
         {
          "avg_prem": 30.068555355535555,
          "id": 13077
         },
         {
          "avg_prem": 27.832016201620153,
          "id": 13079
         },
         {
          "avg_prem": 28.136782178217818,
          "id": 13081
         },
         {
          "avg_prem": 27.46497749774977,
          "id": 13083
         },
         {
          "avg_prem": 28.606264626462643,
          "id": 13085
         },
         {
          "avg_prem": 27.807668766876688,
          "id": 13087
         },
         {
          "avg_prem": 30.068555355535555,
          "id": 13089
         },
         {
          "avg_prem": 28.057069306930693,
          "id": 13091
         },
         {
          "avg_prem": 28.057069306930693,
          "id": 13093
         },
         {
          "avg_prem": 28.136782178217818,
          "id": 13095
         },
         {
          "avg_prem": 30.068555355535555,
          "id": 13097
         },
         {
          "avg_prem": 27.807668766876688,
          "id": 13099
         },
         {
          "avg_prem": 27.807668766876688,
          "id": 13101
         },
         {
          "avg_prem": 27.93543204320432,
          "id": 13103
         },
         {
          "avg_prem": 28.49941584158416,
          "id": 13105
         },
         {
          "avg_prem": 28.086570657065703,
          "id": 13107
         },
         {
          "avg_prem": 27.93543204320432,
          "id": 13109
         },
         {
          "avg_prem": 27.8048604860486,
          "id": 13111
         },
         {
          "avg_prem": 30.068555355535555,
          "id": 13113
         },
         {
          "avg_prem": 29.018595859585957,
          "id": 13115
         },
         {
          "avg_prem": 30.068555355535555,
          "id": 13117
         },
         {
          "avg_prem": 28.606264626462643,
          "id": 13119
         },
         {
          "avg_prem": 30.068555355535555,
          "id": 13121
         },
         {
          "avg_prem": 29.018595859585957,
          "id": 13123
         },
         {
          "avg_prem": 28.086570657065703,
          "id": 13125
         },
         {
          "avg_prem": 27.826152115211517,
          "id": 13127
         },
         {
          "avg_prem": 29.018595859585957,
          "id": 13129
         },
         {
          "avg_prem": 28.136782178217818,
          "id": 13131
         },
         {
          "avg_prem": 28.41393339333933,
          "id": 13133
         },
         {
          "avg_prem": 30.068555355535555,
          "id": 13135
         },
         {
          "avg_prem": 28.606264626462643,
          "id": 13137
         },
         {
          "avg_prem": 28.606264626462643,
          "id": 13139
         },
         {
          "avg_prem": 27.90448244824482,
          "id": 13141
         },
         {
          "avg_prem": 29.838199819981995,
          "id": 13143
         },
         {
          "avg_prem": 28.228532853285323,
          "id": 13145
         },
         {
          "avg_prem": 28.606264626462643,
          "id": 13147
         },
         {
          "avg_prem": 29.838199819981995,
          "id": 13149
         },
         {
          "avg_prem": 30.068555355535555,
          "id": 13151
         },
         {
          "avg_prem": 27.832016201620153,
          "id": 13153
         },
         {
          "avg_prem": 28.136782178217818,
          "id": 13155
         },
         {
          "avg_prem": 28.41393339333933,
          "id": 13157
         },
         {
          "avg_prem": 30.068555355535555,
          "id": 13159
         },
         {
          "avg_prem": 27.88094959495949,
          "id": 13161
         },
         {
          "avg_prem": 28.086570657065703,
          "id": 13163
         },
         {
          "avg_prem": 28.086570657065703,
          "id": 13165
         },
         {
          "avg_prem": 27.88094959495949,
          "id": 13167
         },
         {
          "avg_prem": 27.832016201620153,
          "id": 13169
         },
         {
          "avg_prem": 30.068555355535555,
          "id": 13171
         },
         {
          "avg_prem": 28.136782178217818,
          "id": 13173
         },
         {
          "avg_prem": 28.29677722772277,
          "id": 13175
         },
         {
          "avg_prem": 28.136782178217818,
          "id": 13177
         },
         {
          "avg_prem": 27.93543204320432,
          "id": 13179
         },
         {
          "avg_prem": 28.086570657065703,
          "id": 13181
         },
         {
          "avg_prem": 27.93543204320432,
          "id": 13183
         },
         {
          "avg_prem": 28.136782178217818,
          "id": 13185
         },
         {
          "avg_prem": 28.606264626462643,
          "id": 13187
         },
         {
          "avg_prem": 28.086570657065703,
          "id": 13189
         },
         {
          "avg_prem": 27.826152115211517,
          "id": 13191
         },
         {
          "avg_prem": 28.228532853285323,
          "id": 13193
         },
         {
          "avg_prem": 28.41393339333933,
          "id": 13195
         },
         {
          "avg_prem": 28.228532853285323,
          "id": 13197
         },
         {
          "avg_prem": 28.228532853285323,
          "id": 13199
         },
         {
          "avg_prem": 27.807668766876688,
          "id": 13201
         },
         {
          "avg_prem": 28.136782178217818,
          "id": 13205
         },
         {
          "avg_prem": 27.832016201620153,
          "id": 13207
         },
         {
          "avg_prem": 27.88094959495949,
          "id": 13209
         },
         {
          "avg_prem": 28.41393339333933,
          "id": 13211
         },
         {
          "avg_prem": 27.8048604860486,
          "id": 13213
         },
         {
          "avg_prem": 28.228532853285323,
          "id": 13215
         },
         {
          "avg_prem": 30.068555355535555,
          "id": 13217
         },
         {
          "avg_prem": 28.41393339333933,
          "id": 13219
         },
         {
          "avg_prem": 28.41393339333933,
          "id": 13221
         },
         {
          "avg_prem": 30.068555355535555,
          "id": 13223
         },
         {
          "avg_prem": 27.832016201620153,
          "id": 13225
         },
         {
          "avg_prem": 29.018595859585957,
          "id": 13227
         },
         {
          "avg_prem": 27.826152115211517,
          "id": 13229
         },
         {
          "avg_prem": 30.068555355535555,
          "id": 13231
         },
         {
          "avg_prem": 29.018595859585957,
          "id": 13233
         },
         {
          "avg_prem": 28.057069306930693,
          "id": 13235
         },
         {
          "avg_prem": 27.832016201620153,
          "id": 13237
         },
         {
          "avg_prem": 28.228532853285323,
          "id": 13239
         },
         {
          "avg_prem": 28.606264626462643,
          "id": 13241
         },
         {
          "avg_prem": 27.820108010801075,
          "id": 13243
         },
         {
          "avg_prem": 28.086570657065703,
          "id": 13245
         },
         {
          "avg_prem": 30.068555355535555,
          "id": 13247
         },
         {
          "avg_prem": 27.820108010801075,
          "id": 13249
         },
         {
          "avg_prem": 27.93543204320432,
          "id": 13251
         },
         {
          "avg_prem": 27.807668766876688,
          "id": 13253
         },
         {
          "avg_prem": 30.068555355535555,
          "id": 13255
         },
         {
          "avg_prem": 28.606264626462643,
          "id": 13257
         },
         {
          "avg_prem": 28.228532853285323,
          "id": 13259
         },
         {
          "avg_prem": 28.136782178217818,
          "id": 13261
         },
         {
          "avg_prem": 28.228532853285323,
          "id": 13263
         },
         {
          "avg_prem": 28.086570657065703,
          "id": 13265
         },
         {
          "avg_prem": 27.93543204320432,
          "id": 13267
         },
         {
          "avg_prem": 28.228532853285323,
          "id": 13269
         },
         {
          "avg_prem": 28.29677722772277,
          "id": 13271
         },
         {
          "avg_prem": 28.136782178217818,
          "id": 13273
         },
         {
          "avg_prem": 28.136782178217818,
          "id": 13275
         },
         {
          "avg_prem": 28.136782178217818,
          "id": 13277
         },
         {
          "avg_prem": 27.88094959495949,
          "id": 13279
         },
         {
          "avg_prem": 28.606264626462643,
          "id": 13281
         },
         {
          "avg_prem": 27.88094959495949,
          "id": 13283
         },
         {
          "avg_prem": 28.228532853285323,
          "id": 13285
         },
         {
          "avg_prem": 28.136782178217818,
          "id": 13287
         },
         {
          "avg_prem": 27.832016201620153,
          "id": 13289
         },
         {
          "avg_prem": 28.606264626462643,
          "id": 13291
         },
         {
          "avg_prem": 28.228532853285323,
          "id": 13293
         },
         {
          "avg_prem": 27.46497749774977,
          "id": 13295
         },
         {
          "avg_prem": 30.068555355535555,
          "id": 13297
         },
         {
          "avg_prem": 27.826152115211517,
          "id": 13299
         },
         {
          "avg_prem": 28.086570657065703,
          "id": 13301
         },
         {
          "avg_prem": 27.90448244824482,
          "id": 13303
         },
         {
          "avg_prem": 27.826152115211517,
          "id": 13305
         },
         {
          "avg_prem": 28.55445544554455,
          "id": 13307
         },
         {
          "avg_prem": 28.29677722772277,
          "id": 13309
         },
         {
          "avg_prem": 28.606264626462643,
          "id": 13311
         },
         {
          "avg_prem": 27.8048604860486,
          "id": 13313
         },
         {
          "avg_prem": 28.057069306930693,
          "id": 13315
         },
         {
          "avg_prem": 28.086570657065703,
          "id": 13317
         },
         {
          "avg_prem": 27.90448244824482,
          "id": 13319
         },
         {
          "avg_prem": 28.136782178217818,
          "id": 13321
         },
         {
          "avg_prem": 28.155178217821778,
          "id": 17001
         },
         {
          "avg_prem": 27.738990099009904,
          "id": 17003
         },
         {
          "avg_prem": 27.389199669967,
          "id": 17005
         },
         {
          "avg_prem": 28.287739273927397,
          "id": 17007
         },
         {
          "avg_prem": 28.155178217821778,
          "id": 17009
         },
         {
          "avg_prem": 28.362227722772282,
          "id": 17011
         },
         {
          "avg_prem": 27.389199669967,
          "id": 17013
         },
         {
          "avg_prem": 29.189663366336635,
          "id": 17015
         },
         {
          "avg_prem": 28.155178217821778,
          "id": 17017
         },
         {
          "avg_prem": 27.32220522052205,
          "id": 17019
         },
         {
          "avg_prem": 28.155178217821778,
          "id": 17021
         },
         {
          "avg_prem": 28.270564356435642,
          "id": 17023
         },
         {
          "avg_prem": 27.738990099009904,
          "id": 17025
         },
         {
          "avg_prem": 27.389199669967,
          "id": 17027
         },
         {
          "avg_prem": 28.270564356435642,
          "id": 17029
         },
         {
          "avg_prem": 30.185204207920794,
          "id": 17031
         },
         {
          "avg_prem": 27.738990099009904,
          "id": 17033
         },
         {
          "avg_prem": 28.270564356435642,
          "id": 17035
         },
         {
          "avg_prem": 28.287739273927397,
          "id": 17037
         },
         {
          "avg_prem": 28.758881188118814,
          "id": 17039
         },
         {
          "avg_prem": 28.270564356435642,
          "id": 17041
         },
         {
          "avg_prem": 30.116930693069303,
          "id": 17043
         },
         {
          "avg_prem": 28.270564356435642,
          "id": 17045
         },
         {
          "avg_prem": 27.738990099009904,
          "id": 17047
         },
         {
          "avg_prem": 27.738990099009904,
          "id": 17049
         },
         {
          "avg_prem": 27.738990099009904,
          "id": 17051
         },
         {
          "avg_prem": 28.270564356435642,
          "id": 17053
         },
         {
          "avg_prem": 27.738990099009904,
          "id": 17055
         },
         {
          "avg_prem": 28.475831683168316,
          "id": 17057
         },
         {
          "avg_prem": 27.738990099009904,
          "id": 17059
         },
         {
          "avg_prem": 27.389199669967,
          "id": 17061
         },
         {
          "avg_prem": 29.014828636709822,
          "id": 17063
         },
         {
          "avg_prem": 27.738990099009904,
          "id": 17065
         },
         {
          "avg_prem": 28.362227722772282,
          "id": 17067
         },
         {
          "avg_prem": 27.738990099009904,
          "id": 17069
         },
         {
          "avg_prem": 28.362227722772282,
          "id": 17071
         },
         {
          "avg_prem": 28.362227722772282,
          "id": 17073
         },
         {
          "avg_prem": 28.270564356435642,
          "id": 17075
         },
         {
          "avg_prem": 27.738990099009904,
          "id": 17077
         },
         {
          "avg_prem": 27.738990099009904,
          "id": 17079
         },
         {
          "avg_prem": 27.738990099009904,
          "id": 17081
         },
         {
          "avg_prem": 27.389199669967,
          "id": 17083
         },
         {
          "avg_prem": 29.189663366336635,
          "id": 17085
         },
         {
          "avg_prem": 27.738990099009904,
          "id": 17087
         },
         {
          "avg_prem": 30.116930693069303,
          "id": 17089
         },
         {
          "avg_prem": 29.014828636709822,
          "id": 17091
         },
         {
          "avg_prem": 29.014828636709822,
          "id": 17093
         },
         {
          "avg_prem": 28.475831683168316,
          "id": 17095
         },
         {
          "avg_prem": 30.401936881188117,
          "id": 17097
         },
         {
          "avg_prem": 27.429925742574255,
          "id": 17099
         },
         {
          "avg_prem": 27.738990099009904,
          "id": 17101
         },
         {
          "avg_prem": 28.287739273927397,
          "id": 17103
         },
         {
          "avg_prem": 28.758881188118814,
          "id": 17105
         },
         {
          "avg_prem": 28.155178217821778,
          "id": 17107
         },
         {
          "avg_prem": 28.475831683168316,
          "id": 17109
         },
         {
          "avg_prem": 30.950632140137095,
          "id": 17111
         },
         {
          "avg_prem": 28.758881188118814,
          "id": 17113
         },
         {
          "avg_prem": 28.155178217821778,
          "id": 17115
         },
         {
          "avg_prem": 28.520029702970298,
          "id": 17117
         },
         {
          "avg_prem": 26.756336633663366,
          "id": 17119
         },
         {
          "avg_prem": 27.738990099009904,
          "id": 17121
         },
         {
          "avg_prem": 28.475831683168316,
          "id": 17123
         },
         {
          "avg_prem": 28.155178217821778,
          "id": 17125
         },
         {
          "avg_prem": 27.738990099009904,
          "id": 17127
         },
         {
          "avg_prem": 28.155178217821778,
          "id": 17129
         },
         {
          "avg_prem": 28.362227722772282,
          "id": 17131
         },
         {
          "avg_prem": 27.4994801980198,
          "id": 17133
         },
         {
          "avg_prem": 28.520029702970298,
          "id": 17135
         },
         {
          "avg_prem": 28.155178217821778,
          "id": 17137
         },
         {
          "avg_prem": 28.155178217821778,
          "id": 17139
         },
         {
          "avg_prem": 28.287739273927397,
          "id": 17141
         },
         {
          "avg_prem": 27.508811881188116,
          "id": 17143
         },
         {
          "avg_prem": 27.738990099009904,
          "id": 17145
         },
         {
          "avg_prem": 28.270564356435642,
          "id": 17147
         },
         {
          "avg_prem": 28.155178217821778,
          "id": 17149
         },
         {
          "avg_prem": 27.738990099009904,
          "id": 17151
         },
         {
          "avg_prem": 27.738990099009904,
          "id": 17153
         },
         {
          "avg_prem": 28.475831683168316,
          "id": 17155
         },
         {
          "avg_prem": 27.389199669967,
          "id": 17157
         },
         {
          "avg_prem": 27.738990099009904,
          "id": 17159
         },
         {
          "avg_prem": 28.362227722772282,
          "id": 17161
         },
         {
          "avg_prem": 27.4994801980198,
          "id": 17163
         },
         {
          "avg_prem": 27.738990099009904,
          "id": 17165
         },
         {
          "avg_prem": 27.217308730873082,
          "id": 17167
         },
         {
          "avg_prem": 28.155178217821778,
          "id": 17169
         },
         {
          "avg_prem": 28.155178217821778,
          "id": 17171
         },
         {
          "avg_prem": 28.155178217821778,
          "id": 17173
         },
         {
          "avg_prem": 28.475831683168316,
          "id": 17175
         },
         {
          "avg_prem": 28.287739273927397,
          "id": 17177
         },
         {
          "avg_prem": 28.475831683168316,
          "id": 17179
         },
         {
          "avg_prem": 27.738990099009904,
          "id": 17181
         },
         {
          "avg_prem": 28.270564356435642,
          "id": 17183
         },
         {
          "avg_prem": 27.738990099009904,
          "id": 17185
         },
         {
          "avg_prem": 28.362227722772282,
          "id": 17187
         },
         {
          "avg_prem": 28.520029702970298,
          "id": 17189
         },
         {
          "avg_prem": 27.738990099009904,
          "id": 17191
         },
         {
          "avg_prem": 27.738990099009904,
          "id": 17193
         },
         {
          "avg_prem": 28.362227722772282,
          "id": 17195
         },
         {
          "avg_prem": 28.82909653465346,
          "id": 17197
         },
         {
          "avg_prem": 27.738990099009904,
          "id": 17199
         },
         {
          "avg_prem": 27.483960396039606,
          "id": 17201
         },
         {
          "avg_prem": 28.475831683168316,
          "id": 17203
         },
         {
          "avg_prem": 29.244775771694815,
          "id": 18001
         },
         {
          "avg_prem": 29.653791496796742,
          "id": 18003
         },
         {
          "avg_prem": 27.89891089108911,
          "id": 18005
         },
         {
          "avg_prem": 28.31686138613862,
          "id": 18007
         },
         {
          "avg_prem": 28.422965346534653,
          "id": 18009
         },
         {
          "avg_prem": 29.210173267326734,
          "id": 18011
         },
         {
          "avg_prem": 28.202990099009902,
          "id": 18013
         },
         {
          "avg_prem": 28.677277227722776,
          "id": 18015
         },
         {
          "avg_prem": 28.835599009900996,
          "id": 18017
         },
         {
          "avg_prem": 27.16025742574257,
          "id": 18019
         },
         {
          "avg_prem": 27.048148514851484,
          "id": 18021
         },
         {
          "avg_prem": 28.677277227722776,
          "id": 18023
         },
         {
          "avg_prem": 27.16025742574257,
          "id": 18025
         },
         {
          "avg_prem": 28.24274315666861,
          "id": 18027
         },
         {
          "avg_prem": 27.668188118811884,
          "id": 18029
         },
         {
          "avg_prem": 27.89891089108911,
          "id": 18031
         },
         {
          "avg_prem": 29.244775771694815,
          "id": 18033
         },
         {
          "avg_prem": 28.422965346534653,
          "id": 18035
         },
         {
          "avg_prem": 27.6020198019802,
          "id": 18037
         },
         {
          "avg_prem": 28.410559405940592,
          "id": 18039
         },
         {
          "avg_prem": 28.85726732673267,
          "id": 18041
         },
         {
          "avg_prem": 27.16025742574257,
          "id": 18043
         },
         {
          "avg_prem": 28.677277227722776,
          "id": 18045
         },
         {
          "avg_prem": 27.668188118811884,
          "id": 18047
         },
         {
          "avg_prem": 28.835599009900996,
          "id": 18049
         },
         {
          "avg_prem": 28.170244612696564,
          "id": 18051
         },
         {
          "avg_prem": 28.422965346534653,
          "id": 18053
         },
         {
          "avg_prem": 28.24274315666861,
          "id": 18055
         },
         {
          "avg_prem": 29.210173267326734,
          "id": 18057
         },
         {
          "avg_prem": 28.85726732673267,
          "id": 18059
         },
         {
          "avg_prem": 27.16025742574257,
          "id": 18061
         },
         {
          "avg_prem": 29.210173267326734,
          "id": 18063
         },
         {
          "avg_prem": 28.85726732673267,
          "id": 18065
         },
         {
          "avg_prem": 28.835599009900996,
          "id": 18067
         },
         {
          "avg_prem": 28.596227722772284,
          "id": 18069
         },
         {
          "avg_prem": 27.89891089108911,
          "id": 18071
         },
         {
          "avg_prem": 28.31686138613862,
          "id": 18073
         },
         {
          "avg_prem": 28.422965346534653,
          "id": 18075
         },
         {
          "avg_prem": 27.16025742574257,
          "id": 18077
         },
         {
          "avg_prem": 27.89891089108911,
          "id": 18079
         },
         {
          "avg_prem": 28.202990099009902,
          "id": 18081
         },
         {
          "avg_prem": 28.24274315666861,
          "id": 18083
         },
         {
          "avg_prem": 28.410559405940592,
          "id": 18085
         },
         {
          "avg_prem": 28.596227722772284,
          "id": 18087
         },
         {
          "avg_prem": 29.457866336633668,
          "id": 18089
         },
         {
          "avg_prem": 29.457866336633668,
          "id": 18091
         },
         {
          "avg_prem": 28.202990099009902,
          "id": 18093
         },
         {
          "avg_prem": 28.85726732673267,
          "id": 18095
         },
         {
          "avg_prem": 29.210173267326734,
          "id": 18097
         },
         {
          "avg_prem": 28.410559405940592,
          "id": 18099
         },
         {
          "avg_prem": 27.6020198019802,
          "id": 18101
         },
         {
          "avg_prem": 28.835599009900996,
          "id": 18103
         },
         {
          "avg_prem": 28.202990099009902,
          "id": 18105
         },
         {
          "avg_prem": 28.677277227722776,
          "id": 18107
         },
         {
          "avg_prem": 29.210173267326734,
          "id": 18109
         },
         {
          "avg_prem": 28.31686138613862,
          "id": 18111
         },
         {
          "avg_prem": 29.244775771694815,
          "id": 18113
         },
         {
          "avg_prem": 27.668188118811884,
          "id": 18115
         },
         {
          "avg_prem": 27.6020198019802,
          "id": 18117
         },
         {
          "avg_prem": 28.202990099009902,
          "id": 18119
         },
         {
          "avg_prem": 27.048148514851484,
          "id": 18121
         },
         {
          "avg_prem": 27.6020198019802,
          "id": 18123
         },
         {
          "avg_prem": 28.24274315666861,
          "id": 18125
         },
         {
          "avg_prem": 29.457866336633668,
          "id": 18127
         },
         {
          "avg_prem": 28.170244612696564,
          "id": 18129
         },
         {
          "avg_prem": 28.835599009900996,
          "id": 18131
         },
         {
          "avg_prem": 28.677277227722776,
          "id": 18133
         },
         {
          "avg_prem": 28.422965346534653,
          "id": 18135
         },
         {
          "avg_prem": 27.668188118811884,
          "id": 18137
         },
         {
          "avg_prem": 27.89891089108911,
          "id": 18139
         },
         {
          "avg_prem": 28.410559405940592,
          "id": 18141
         },
         {
          "avg_prem": 27.16025742574257,
          "id": 18143
         },
         {
          "avg_prem": 29.210173267326734,
          "id": 18145
         },
         {
          "avg_prem": 28.24274315666861,
          "id": 18147
         },
         {
          "avg_prem": 28.410559405940592,
          "id": 18149
         },
         {
          "avg_prem": 28.596227722772284,
          "id": 18151
         },
         {
          "avg_prem": 27.048148514851484,
          "id": 18153
         },
         {
          "avg_prem": 27.668188118811884,
          "id": 18155
         },
         {
          "avg_prem": 28.677277227722776,
          "id": 18157
         },
         {
          "avg_prem": 28.677277227722776,
          "id": 18159
         },
         {
          "avg_prem": 28.85726732673267,
          "id": 18161
         },
         {
          "avg_prem": 28.170244612696564,
          "id": 18163
         },
         {
          "avg_prem": 27.048148514851484,
          "id": 18165
         },
         {
          "avg_prem": 27.048148514851484,
          "id": 18167
         },
         {
          "avg_prem": 28.596227722772284,
          "id": 18169
         },
         {
          "avg_prem": 28.31686138613862,
          "id": 18171
         },
         {
          "avg_prem": 28.170244612696564,
          "id": 18173
         },
         {
          "avg_prem": 27.16025742574257,
          "id": 18175
         },
         {
          "avg_prem": 28.85726732673267,
          "id": 18177
         },
         {
          "avg_prem": 28.596227722772284,
          "id": 18179
         },
         {
          "avg_prem": 28.31686138613862,
          "id": 18181
         },
         {
          "avg_prem": 28.596227722772284,
          "id": 18183
         },
         {
          "avg_prem": 31.601359135913587,
          "id": 19001
         },
         {
          "avg_prem": 31.601359135913587,
          "id": 19003
         },
         {
          "avg_prem": 31.085085508550854,
          "id": 19005
         },
         {
          "avg_prem": 32.14941494149415,
          "id": 19007
         },
         {
          "avg_prem": 31.601359135913587,
          "id": 19009
         },
         {
          "avg_prem": 31.67562556255626,
          "id": 19011
         },
         {
          "avg_prem": 31.67562556255626,
          "id": 19013
         },
         {
          "avg_prem": 32.128235823582365,
          "id": 19015
         },
         {
          "avg_prem": 31.085085508550854,
          "id": 19017
         },
         {
          "avg_prem": 31.67562556255626,
          "id": 19019
         },
         {
          "avg_prem": 30.941134113411337,
          "id": 19021
         },
         {
          "avg_prem": 31.085085508550854,
          "id": 19023
         },
         {
          "avg_prem": 32.128235823582365,
          "id": 19025
         },
         {
          "avg_prem": 32.128235823582365,
          "id": 19027
         },
         {
          "avg_prem": 31.601359135913587,
          "id": 19029
         },
         {
          "avg_prem": 31.67562556255626,
          "id": 19031
         },
         {
          "avg_prem": 31.085085508550854,
          "id": 19033
         },
         {
          "avg_prem": 30.941134113411337,
          "id": 19035
         },
         {
          "avg_prem": 31.085085508550854,
          "id": 19037
         },
         {
          "avg_prem": 31.601359135913587,
          "id": 19039
         },
         {
          "avg_prem": 30.941134113411337,
          "id": 19041
         },
         {
          "avg_prem": 31.67562556255626,
          "id": 19043
         },
         {
          "avg_prem": 31.67562556255626,
          "id": 19045
         },
         {
          "avg_prem": 30.941134113411337,
          "id": 19047
         },
         {
          "avg_prem": 33.091098109810986,
          "id": 19049
         },
         {
          "avg_prem": 32.14941494149415,
          "id": 19051
         },
         {
          "avg_prem": 31.601359135913587,
          "id": 19053
         },
         {
          "avg_prem": 31.67562556255626,
          "id": 19055
         },
         {
          "avg_prem": 32.14941494149415,
          "id": 19057
         },
         {
          "avg_prem": 30.941134113411337,
          "id": 19059
         },
         {
          "avg_prem": 31.67562556255626,
          "id": 19061
         },
         {
          "avg_prem": 31.085085508550854,
          "id": 19063
         },
         {
          "avg_prem": 31.085085508550854,
          "id": 19065
         },
         {
          "avg_prem": 31.085085508550854,
          "id": 19067
         },
         {
          "avg_prem": 31.085085508550854,
          "id": 19069
         },
         {
          "avg_prem": 31.601359135913587,
          "id": 19071
         },
         {
          "avg_prem": 32.128235823582365,
          "id": 19073
         },
         {
          "avg_prem": 32.128235823582365,
          "id": 19075
         },
         {
          "avg_prem": 31.601359135913587,
          "id": 19077
         },
         {
          "avg_prem": 32.128235823582365,
          "id": 19079
         },
         {
          "avg_prem": 31.085085508550854,
          "id": 19081
         },
         {
          "avg_prem": 32.128235823582365,
          "id": 19083
         },
         {
          "avg_prem": 31.601359135913587,
          "id": 19085
         },
         {
          "avg_prem": 32.14941494149415,
          "id": 19087
         },
         {
          "avg_prem": 31.085085508550854,
          "id": 19089
         },
         {
          "avg_prem": 31.085085508550854,
          "id": 19091
         },
         {
          "avg_prem": 30.941134113411337,
          "id": 19093
         },
         {
          "avg_prem": 31.67562556255626,
          "id": 19095
         },
         {
          "avg_prem": 31.67562556255626,
          "id": 19097
         },
         {
          "avg_prem": 33.091098109810986,
          "id": 19099
         },
         {
          "avg_prem": 32.14941494149415,
          "id": 19101
         },
         {
          "avg_prem": 31.67562556255626,
          "id": 19103
         },
         {
          "avg_prem": 31.67562556255626,
          "id": 19105
         },
         {
          "avg_prem": 32.14941494149415,
          "id": 19107
         },
         {
          "avg_prem": 31.085085508550854,
          "id": 19109
         },
         {
          "avg_prem": 32.14941494149415,
          "id": 19111
         },
         {
          "avg_prem": 31.67562556255626,
          "id": 19113
         },
         {
          "avg_prem": 32.14941494149415,
          "id": 19115
         },
         {
          "avg_prem": 32.14941494149415,
          "id": 19117
         },
         {
          "avg_prem": 30.941134113411337,
          "id": 19119
         },
         {
          "avg_prem": 33.091098109810986,
          "id": 19121
         },
         {
          "avg_prem": 32.14941494149415,
          "id": 19123
         },
         {
          "avg_prem": 33.091098109810986,
          "id": 19125
         },
         {
          "avg_prem": 32.128235823582365,
          "id": 19127
         },
         {
          "avg_prem": 31.601359135913587,
          "id": 19129
         },
         {
          "avg_prem": 31.085085508550854,
          "id": 19131
         },
         {
          "avg_prem": 30.941134113411337,
          "id": 19133
         },
         {
          "avg_prem": 32.14941494149415,
          "id": 19135
         },
         {
          "avg_prem": 31.601359135913587,
          "id": 19137
         },
         {
          "avg_prem": 32.14941494149415,
          "id": 19139
         },
         {
          "avg_prem": 30.941134113411337,
          "id": 19141
         },
         {
          "avg_prem": 30.941134113411337,
          "id": 19143
         },
         {
          "avg_prem": 31.601359135913587,
          "id": 19145
         },
         {
          "avg_prem": 30.941134113411337,
          "id": 19147
         },
         {
          "avg_prem": 30.941134113411337,
          "id": 19149
         },
         {
          "avg_prem": 30.941134113411337,
          "id": 19151
         },
         {
          "avg_prem": 33.091098109810986,
          "id": 19153
         },
         {
          "avg_prem": 31.601359135913587,
          "id": 19155
         },
         {
          "avg_prem": 32.128235823582365,
          "id": 19157
         },
         {
          "avg_prem": 31.601359135913587,
          "id": 19159
         },
         {
          "avg_prem": 30.941134113411337,
          "id": 19161
         },
         {
          "avg_prem": 31.67562556255626,
          "id": 19163
         },
         {
          "avg_prem": 31.601359135913587,
          "id": 19165
         },
         {
          "avg_prem": 30.941134113411337,
          "id": 19167
         },
         {
          "avg_prem": 32.128235823582365,
          "id": 19169
         },
         {
          "avg_prem": 32.128235823582365,
          "id": 19171
         },
         {
          "avg_prem": 31.601359135913587,
          "id": 19173
         },
         {
          "avg_prem": 31.601359135913587,
          "id": 19175
         },
         {
          "avg_prem": 32.14941494149415,
          "id": 19177
         },
         {
          "avg_prem": 32.14941494149415,
          "id": 19179
         },
         {
          "avg_prem": 33.091098109810986,
          "id": 19181
         },
         {
          "avg_prem": 32.14941494149415,
          "id": 19183
         },
         {
          "avg_prem": 32.14941494149415,
          "id": 19185
         },
         {
          "avg_prem": 32.128235823582365,
          "id": 19187
         },
         {
          "avg_prem": 31.085085508550854,
          "id": 19189
         },
         {
          "avg_prem": 31.085085508550854,
          "id": 19191
         },
         {
          "avg_prem": 30.941134113411337,
          "id": 19193
         },
         {
          "avg_prem": 31.085085508550854,
          "id": 19195
         },
         {
          "avg_prem": 31.085085508550854,
          "id": 19197
         },
         {
          "avg_prem": 27.409001650165013,
          "id": 20001
         },
         {
          "avg_prem": 28.200148514851488,
          "id": 20003
         },
         {
          "avg_prem": 28.361227722772277,
          "id": 20005
         },
         {
          "avg_prem": 28.115881188118813,
          "id": 20007
         },
         {
          "avg_prem": 28.115881188118813,
          "id": 20009
         },
         {
          "avg_prem": 27.409001650165013,
          "id": 20011
         },
         {
          "avg_prem": 28.361227722772277,
          "id": 20013
         },
         {
          "avg_prem": 27.99325907590759,
          "id": 20015
         },
         {
          "avg_prem": 27.911425742574256,
          "id": 20017
         },
         {
          "avg_prem": 27.911425742574256,
          "id": 20019
         },
         {
          "avg_prem": 27.409001650165013,
          "id": 20021
         },
         {
          "avg_prem": 28.115881188118813,
          "id": 20023
         },
         {
          "avg_prem": 28.115881188118813,
          "id": 20025
         },
         {
          "avg_prem": 28.06629702970297,
          "id": 20027
         },
         {
          "avg_prem": 28.06629702970297,
          "id": 20029
         },
         {
          "avg_prem": 28.200148514851488,
          "id": 20031
         },
         {
          "avg_prem": 28.115881188118813,
          "id": 20033
         },
         {
          "avg_prem": 27.911425742574256,
          "id": 20035
         },
         {
          "avg_prem": 27.409001650165013,
          "id": 20037
         },
         {
          "avg_prem": 28.115881188118813,
          "id": 20039
         },
         {
          "avg_prem": 28.06629702970297,
          "id": 20041
         },
         {
          "avg_prem": 28.361227722772277,
          "id": 20043
         },
         {
          "avg_prem": 28.200148514851488,
          "id": 20045
         },
         {
          "avg_prem": 28.115881188118813,
          "id": 20047
         },
         {
          "avg_prem": 27.99325907590759,
          "id": 20049
         },
         {
          "avg_prem": 28.115881188118813,
          "id": 20051
         },
         {
          "avg_prem": 28.06629702970297,
          "id": 20053
         },
         {
          "avg_prem": 28.115881188118813,
          "id": 20055
         },
         {
          "avg_prem": 28.115881188118813,
          "id": 20057
         },
         {
          "avg_prem": 28.200148514851488,
          "id": 20059
         },
         {
          "avg_prem": 28.06629702970297,
          "id": 20061
         },
         {
          "avg_prem": 28.115881188118813,
          "id": 20063
         },
         {
          "avg_prem": 28.115881188118813,
          "id": 20065
         },
         {
          "avg_prem": 28.115881188118813,
          "id": 20067
         },
         {
          "avg_prem": 28.115881188118813,
          "id": 20069
         },
         {
          "avg_prem": 28.115881188118813,
          "id": 20071
         },
         {
          "avg_prem": 27.99325907590759,
          "id": 20073
         },
         {
          "avg_prem": 28.115881188118813,
          "id": 20075
         },
         {
          "avg_prem": 27.911425742574256,
          "id": 20077
         },
         {
          "avg_prem": 27.99325907590759,
          "id": 20079
         },
         {
          "avg_prem": 28.115881188118813,
          "id": 20081
         },
         {
          "avg_prem": 28.115881188118813,
          "id": 20083
         },
         {
          "avg_prem": 28.361227722772277,
          "id": 20085
         },
         {
          "avg_prem": 28.361227722772277,
          "id": 20087
         },
         {
          "avg_prem": 28.06629702970297,
          "id": 20089
         },
         {
          "avg_prem": 29.441460396039602,
          "id": 20091
         },
         {
          "avg_prem": 28.115881188118813,
          "id": 20093
         },
         {
          "avg_prem": 27.911425742574256,
          "id": 20095
         },
         {
          "avg_prem": 28.115881188118813,
          "id": 20097
         },
         {
          "avg_prem": 27.409001650165013,
          "id": 20099
         },
         {
          "avg_prem": 28.115881188118813,
          "id": 20101
         },
         {
          "avg_prem": 29.441460396039602,
          "id": 20103
         },
         {
          "avg_prem": 28.06629702970297,
          "id": 20105
         },
         {
          "avg_prem": 28.200148514851488,
          "id": 20107
         },
         {
          "avg_prem": 28.115881188118813,
          "id": 20109
         },
         {
          "avg_prem": 28.361227722772277,
          "id": 20111
         },
         {
          "avg_prem": 27.911425742574256,
          "id": 20113
         },
         {
          "avg_prem": 27.911425742574256,
          "id": 20115
         },
         {
          "avg_prem": 28.361227722772277,
          "id": 20117
         },
         {
          "avg_prem": 28.115881188118813,
          "id": 20119
         },
         {
          "avg_prem": 29.441460396039602,
          "id": 20121
         },
         {
          "avg_prem": 28.06629702970297,
          "id": 20123
         },
         {
          "avg_prem": 27.99325907590759,
          "id": 20125
         },
         {
          "avg_prem": 28.06629702970297,
          "id": 20127
         },
         {
          "avg_prem": 28.115881188118813,
          "id": 20129
         },
         {
          "avg_prem": 28.361227722772277,
          "id": 20131
         },
         {
          "avg_prem": 27.409001650165013,
          "id": 20133
         },
         {
          "avg_prem": 28.115881188118813,
          "id": 20135
         },
         {
          "avg_prem": 28.115881188118813,
          "id": 20137
         },
         {
          "avg_prem": 28.361227722772277,
          "id": 20139
         },
         {
          "avg_prem": 28.115881188118813,
          "id": 20141
         },
         {
          "avg_prem": 28.06629702970297,
          "id": 20143
         },
         {
          "avg_prem": 28.115881188118813,
          "id": 20145
         },
         {
          "avg_prem": 28.115881188118813,
          "id": 20147
         },
         {
          "avg_prem": 28.361227722772277,
          "id": 20149
         },
         {
          "avg_prem": 28.115881188118813,
          "id": 20151
         },
         {
          "avg_prem": 28.115881188118813,
          "id": 20153
         },
         {
          "avg_prem": 27.911425742574256,
          "id": 20155
         },
         {
          "avg_prem": 28.06629702970297,
          "id": 20157
         },
         {
          "avg_prem": 27.911425742574256,
          "id": 20159
         },
         {
          "avg_prem": 28.06629702970297,
          "id": 20161
         },
         {
          "avg_prem": 28.115881188118813,
          "id": 20163
         },
         {
          "avg_prem": 28.115881188118813,
          "id": 20165
         },
         {
          "avg_prem": 28.115881188118813,
          "id": 20167
         },
         {
          "avg_prem": 28.06629702970297,
          "id": 20169
         },
         {
          "avg_prem": 28.115881188118813,
          "id": 20171
         },
         {
          "avg_prem": 27.99325907590759,
          "id": 20173
         },
         {
          "avg_prem": 28.115881188118813,
          "id": 20175
         },
         {
          "avg_prem": 28.361227722772277,
          "id": 20177
         },
         {
          "avg_prem": 28.115881188118813,
          "id": 20179
         },
         {
          "avg_prem": 28.115881188118813,
          "id": 20181
         },
         {
          "avg_prem": 28.115881188118813,
          "id": 20183
         },
         {
          "avg_prem": 28.115881188118813,
          "id": 20185
         },
         {
          "avg_prem": 28.115881188118813,
          "id": 20187
         },
         {
          "avg_prem": 28.115881188118813,
          "id": 20189
         },
         {
          "avg_prem": 27.911425742574256,
          "id": 20191
         },
         {
          "avg_prem": 28.115881188118813,
          "id": 20193
         },
         {
          "avg_prem": 28.115881188118813,
          "id": 20195
         },
         {
          "avg_prem": 28.361227722772277,
          "id": 20197
         },
         {
          "avg_prem": 28.115881188118813,
          "id": 20199
         },
         {
          "avg_prem": 28.06629702970297,
          "id": 20201
         },
         {
          "avg_prem": 28.115881188118813,
          "id": 20203
         },
         {
          "avg_prem": 27.99325907590759,
          "id": 20205
         },
         {
          "avg_prem": 27.409001650165013,
          "id": 20207
         },
         {
          "avg_prem": 29.441460396039602,
          "id": 20209
         },
         {
          "avg_prem": 21.430585058505855,
          "id": 21001
         },
         {
          "avg_prem": 22.304607260726073,
          "id": 21003
         },
         {
          "avg_prem": 23.061709570957092,
          "id": 21005
         },
         {
          "avg_prem": 20.793006300630058,
          "id": 21007
         },
         {
          "avg_prem": 22.304607260726073,
          "id": 21009
         },
         {
          "avg_prem": 23.09778217821782,
          "id": 21011
         },
         {
          "avg_prem": 20.590770077007697,
          "id": 21013
         },
         {
          "avg_prem": 23.253343488194975,
          "id": 21015
         },
         {
          "avg_prem": 23.061709570957092,
          "id": 21017
         },
         {
          "avg_prem": 22.245562556255628,
          "id": 21019
         },
         {
          "avg_prem": 22.755491241431834,
          "id": 21021
         },
         {
          "avg_prem": 22.59366336633663,
          "id": 21023
         },
         {
          "avg_prem": 20.590770077007697,
          "id": 21025
         },
         {
          "avg_prem": 21.79291529152915,
          "id": 21027
         },
         {
          "avg_prem": 23.113801980198012,
          "id": 21029
         },
         {
          "avg_prem": 19.94016973125884,
          "id": 21031
         },
         {
          "avg_prem": 20.793006300630065,
          "id": 21033
         },
         {
          "avg_prem": 18.938260254596887,
          "id": 21035
         },
         {
          "avg_prem": 23.253343488194975,
          "id": 21037
         },
         {
          "avg_prem": 20.793006300630058,
          "id": 21039
         },
         {
          "avg_prem": 21.885940594059406,
          "id": 21041
         },
         {
          "avg_prem": 20.500848656294202,
          "id": 21043
         },
         {
          "avg_prem": 21.430585058505855,
          "id": 21045
         },
         {
          "avg_prem": 20.483875530410184,
          "id": 21047
         },
         {
          "avg_prem": 23.061709570957092,
          "id": 21049
         },
         {
          "avg_prem": 21.65170601675552,
          "id": 21051
         },
         {
          "avg_prem": 21.430585058505855,
          "id": 21053
         },
         {
          "avg_prem": 20.793006300630065,
          "id": 21055
         },
         {
          "avg_prem": 21.430585058505848,
          "id": 21057
         },
         {
          "avg_prem": 21.776579657965797,
          "id": 21059
         },
         {
          "avg_prem": 22.304607260726073,
          "id": 21061
         },
         {
          "avg_prem": 22.245562556255628,
          "id": 21063
         },
         {
          "avg_prem": 22.755491241431834,
          "id": 21065
         },
         {
          "avg_prem": 23.061709570957092,
          "id": 21067
         },
         {
          "avg_prem": 22.880792079207918,
          "id": 21069
         },
         {
          "avg_prem": 20.590770077007697,
          "id": 21071
         },
         {
          "avg_prem": 22.039504950495047,
          "id": 21073
         },
         {
          "avg_prem": 18.938260254596884,
          "id": 21075
         },
         {
          "avg_prem": 23.253343488194975,
          "id": 21077
         },
         {
          "avg_prem": 23.061709570957092,
          "id": 21079
         },
         {
          "avg_prem": 23.66950495049505,
          "id": 21081
         },
         {
          "avg_prem": 20.793006300630065,
          "id": 21083
         },
         {
          "avg_prem": 22.576496572734193,
          "id": 21085
         },
         {
          "avg_prem": 22.19119573495811,
          "id": 21087
         },
         {
          "avg_prem": 20.5008486562942,
          "id": 21089
         },
         {
          "avg_prem": 21.776579657965797,
          "id": 21091
         },
         {
          "avg_prem": 23.113801980198012,
          "id": 21093
         },
         {
          "avg_prem": 20.590770077007697,
          "id": 21095
         },
         {
          "avg_prem": 22.755491241431834,
          "id": 21097
         },
         {
          "avg_prem": 22.304607260726073,
          "id": 21099
         },
         {
          "avg_prem": 20.483875530410184,
          "id": 21101
         },
         {
          "avg_prem": 22.576496572734193,
          "id": 21103
         },
         {
          "avg_prem": 18.938260254596887,
          "id": 21105
         },
         {
          "avg_prem": 20.483875530410184,
          "id": 21107
         },
         {
          "avg_prem": 22.755491241431834,
          "id": 21109
         },
         {
          "avg_prem": 23.113801980198012,
          "id": 21111
         },
         {
          "avg_prem": 23.061709570957092,
          "id": 21113
         },
         {
          "avg_prem": 18.938260254596884,
          "id": 21115
         },
         {
          "avg_prem": 23.253343488194975,
          "id": 21117
         },
         {
          "avg_prem": 20.590770077007697,
          "id": 21119
         },
         {
          "avg_prem": 21.65170601675552,
          "id": 21121
         },
         {
          "avg_prem": 23.113801980198012,
          "id": 21123
         },
         {
          "avg_prem": 20.793006300630065,
          "id": 21125
         },
         {
          "avg_prem": 20.500848656294202,
          "id": 21127
         },
         {
          "avg_prem": 18.938260254596887,
          "id": 21129
         },
         {
          "avg_prem": 20.590770077007697,
          "id": 21131
         },
         {
          "avg_prem": 20.590770077007697,
          "id": 21133
         },
         {
          "avg_prem": 20.500848656294202,
          "id": 21135
         },
         {
          "avg_prem": 22.0974797479748,
          "id": 21137
         },
         {
          "avg_prem": 20.793006300630058,
          "id": 21139
         },
         {
          "avg_prem": 19.94016973125884,
          "id": 21141
         },
         {
          "avg_prem": 20.793006300630065,
          "id": 21143
         },
         {
          "avg_prem": 20.793006300630065,
          "id": 21145
         },
         {
          "avg_prem": 21.430585058505855,
          "id": 21147
         },
         {
          "avg_prem": 21.776579657965797,
          "id": 21149
         },
         {
          "avg_prem": 22.755491241431834,
          "id": 21151
         },
         {
          "avg_prem": 20.590770077007697,
          "id": 21153
         },
         {
          "avg_prem": 22.576496572734193,
          "id": 21155
         },
         {
          "avg_prem": 20.793006300630065,
          "id": 21157
         },
         {
          "avg_prem": 18.938260254596887,
          "id": 21159
         },
         {
          "avg_prem": 22.59366336633663,
          "id": 21161
         },
         {
          "avg_prem": 23.113801980198012,
          "id": 21163
         },
         {
          "avg_prem": 22.880792079207918,
          "id": 21165
         },
         {
          "avg_prem": 23.061709570957092,
          "id": 21167
         },
         {
          "avg_prem": 21.678461538461537,
          "id": 21169
         },
         {
          "avg_prem": 21.678461538461537,
          "id": 21171
         },
         {
          "avg_prem": 22.755491241431834,
          "id": 21173
         },
         {
          "avg_prem": 20.500848656294202,
          "id": 21175
         },
         {
          "avg_prem": 20.483875530410184,
          "id": 21177
         },
         {
          "avg_prem": 23.113801980198012,
          "id": 21179
         },
         {
          "avg_prem": 22.755491241431834,
          "id": 21181
         },
         {
          "avg_prem": 20.483875530410184,
          "id": 21183
         },
         {
          "avg_prem": 23.113801980198012,
          "id": 21185
         },
         {
          "avg_prem": 22.755491241431834,
          "id": 21187
         },
         {
          "avg_prem": 20.590770077007697,
          "id": 21189
         },
         {
          "avg_prem": 22.646003600360036,
          "id": 21191
         },
         {
          "avg_prem": 20.590770077007697,
          "id": 21193
         },
         {
          "avg_prem": 20.590770077007697,
          "id": 21195
         },
         {
          "avg_prem": 22.755491241431834,
          "id": 21197
         },
         {
          "avg_prem": 21.430585058505848,
          "id": 21199
         },
         {
          "avg_prem": 22.59366336633663,
          "id": 21201
         },
         {
          "avg_prem": 22.0974797479748,
          "id": 21203
         },
         {
          "avg_prem": 22.880792079207918,
          "id": 21205
         },
         {
          "avg_prem": 21.430585058505848,
          "id": 21207
         },
         {
          "avg_prem": 23.061709570957092,
          "id": 21209
         },
         {
          "avg_prem": 23.113801980198012,
          "id": 21211
         },
         {
          "avg_prem": 21.430585058505855,
          "id": 21213
         },
         {
          "avg_prem": 23.113801980198012,
          "id": 21215
         },
         {
          "avg_prem": 22.19119573495811,
          "id": 21217
         },
         {
          "avg_prem": 20.483875530410184,
          "id": 21219
         },
         {
          "avg_prem": 21.776579657965797,
          "id": 21221
         },
         {
          "avg_prem": 23.113801980198012,
          "id": 21223
         },
         {
          "avg_prem": 21.776579657965797,
          "id": 21225
         },
         {
          "avg_prem": 22.304607260726073,
          "id": 21227
         },
         {
          "avg_prem": 22.576496572734193,
          "id": 21229
         },
         {
          "avg_prem": 21.430585058505855,
          "id": 21231
         },
         {
          "avg_prem": 21.776579657965797,
          "id": 21233
         },
         {
          "avg_prem": 21.65170601675552,
          "id": 21235
         },
         {
          "avg_prem": 20.590770077007697,
          "id": 21237
         },
         {
          "avg_prem": 23.061709570957092,
          "id": 21239
         },
         {
          "avg_prem": 29.2376547029703,
          "id": 22001
         },
         {
          "avg_prem": 29.082988861386138,
          "id": 22003
         },
         {
          "avg_prem": 29.203137376237624,
          "id": 22005
         },
         {
          "avg_prem": 29.06677599009901,
          "id": 22007
         },
         {
          "avg_prem": 28.352271039603963,
          "id": 22009
         },
         {
          "avg_prem": 29.082988861386138,
          "id": 22011
         },
         {
          "avg_prem": 28.903875530410186,
          "id": 22013
         },
         {
          "avg_prem": 28.903875530410186,
          "id": 22015
         },
         {
          "avg_prem": 28.903875530410186,
          "id": 22017
         },
         {
          "avg_prem": 29.082988861386138,
          "id": 22019
         },
         {
          "avg_prem": 28.898140028288545,
          "id": 22021
         },
         {
          "avg_prem": 29.082988861386138,
          "id": 22023
         },
         {
          "avg_prem": 28.946145685997173,
          "id": 22025
         },
         {
          "avg_prem": 28.903875530410186,
          "id": 22027
         },
         {
          "avg_prem": 28.946145685997173,
          "id": 22029
         },
         {
          "avg_prem": 28.903875530410186,
          "id": 22031
         },
         {
          "avg_prem": 29.203137376237624,
          "id": 22033
         },
         {
          "avg_prem": 28.567172029702974,
          "id": 22035
         },
         {
          "avg_prem": 29.203137376237624,
          "id": 22037
         },
         {
          "avg_prem": 29.2376547029703,
          "id": 22039
         },
         {
          "avg_prem": 28.567172029702974,
          "id": 22041
         },
         {
          "avg_prem": 28.352271039603963,
          "id": 22043
         },
         {
          "avg_prem": 29.2376547029703,
          "id": 22045
         },
         {
          "avg_prem": 29.203137376237624,
          "id": 22047
         },
         {
          "avg_prem": 28.898140028288545,
          "id": 22049
         },
         {
          "avg_prem": 29.785816831683167,
          "id": 22051
         },
         {
          "avg_prem": 29.082988861386138,
          "id": 22053
         },
         {
          "avg_prem": 29.2376547029703,
          "id": 22055
         },
         {
          "avg_prem": 29.06677599009901,
          "id": 22057
         },
         {
          "avg_prem": 28.946145685997173,
          "id": 22059
         },
         {
          "avg_prem": 28.898140028288545,
          "id": 22061
         },
         {
          "avg_prem": 29.203137376237624,
          "id": 22063
         },
         {
          "avg_prem": 28.567172029702974,
          "id": 22065
         },
         {
          "avg_prem": 28.898140028288545,
          "id": 22067
         },
         {
          "avg_prem": 28.903875530410186,
          "id": 22069
         },
         {
          "avg_prem": 29.785816831683167,
          "id": 22071
         },
         {
          "avg_prem": 28.898140028288545,
          "id": 22073
         },
         {
          "avg_prem": 29.785816831683167,
          "id": 22075
         },
         {
          "avg_prem": 29.203137376237624,
          "id": 22077
         },
         {
          "avg_prem": 28.352271039603963,
          "id": 22079
         },
         {
          "avg_prem": 28.903875530410186,
          "id": 22081
         },
         {
          "avg_prem": 28.898140028288545,
          "id": 22083
         },
         {
          "avg_prem": 28.903875530410186,
          "id": 22085
         },
         {
          "avg_prem": 29.785816831683167,
          "id": 22087
         },
         {
          "avg_prem": 29.785816831683167,
          "id": 22089
         },
         {
          "avg_prem": 29.203137376237624,
          "id": 22091
         },
         {
          "avg_prem": 29.785816831683167,
          "id": 22093
         },
         {
          "avg_prem": 29.785816831683167,
          "id": 22095
         },
         {
          "avg_prem": 29.2376547029703,
          "id": 22097
         },
         {
          "avg_prem": 29.2376547029703,
          "id": 22099
         },
         {
          "avg_prem": 29.2376547029703,
          "id": 22101
         },
         {
          "avg_prem": 29.785816831683167,
          "id": 22103
         },
         {
          "avg_prem": 29.203137376237624,
          "id": 22105
         },
         {
          "avg_prem": 28.567172029702974,
          "id": 22107
         },
         {
          "avg_prem": 29.06677599009901,
          "id": 22109
         },
         {
          "avg_prem": 28.898140028288545,
          "id": 22111
         },
         {
          "avg_prem": 29.2376547029703,
          "id": 22113
         },
         {
          "avg_prem": 28.352271039603963,
          "id": 22115
         },
         {
          "avg_prem": 29.203137376237624,
          "id": 22117
         },
         {
          "avg_prem": 28.903875530410186,
          "id": 22119
         },
         {
          "avg_prem": 29.203137376237624,
          "id": 22121
         },
         {
          "avg_prem": 28.898140028288545,
          "id": 22123
         },
         {
          "avg_prem": 29.203137376237624,
          "id": 22125
         },
         {
          "avg_prem": 28.352271039603963,
          "id": 22127
         },
         {
          "avg_prem": 32.3649080622348,
          "id": 23001
         },
         {
          "avg_prem": 32.3649080622348,
          "id": 23003
         },
         {
          "avg_prem": 32.3649080622348,
          "id": 23005
         },
         {
          "avg_prem": 32.3649080622348,
          "id": 23007
         },
         {
          "avg_prem": 32.3649080622348,
          "id": 23009
         },
         {
          "avg_prem": 32.3649080622348,
          "id": 23011
         },
         {
          "avg_prem": 32.3649080622348,
          "id": 23013
         },
         {
          "avg_prem": 32.3649080622348,
          "id": 23015
         },
         {
          "avg_prem": 32.3649080622348,
          "id": 23017
         },
         {
          "avg_prem": 32.3649080622348,
          "id": 23019
         },
         {
          "avg_prem": 32.3649080622348,
          "id": 23021
         },
         {
          "avg_prem": 32.3649080622348,
          "id": 23023
         },
         {
          "avg_prem": 32.3649080622348,
          "id": 23025
         },
         {
          "avg_prem": 32.3649080622348,
          "id": 23027
         },
         {
          "avg_prem": 32.3649080622348,
          "id": 23029
         },
         {
          "avg_prem": 32.3649080622348,
          "id": 23031
         },
         {
          "avg_prem": 28.332162985529326,
          "id": 26001
         },
         {
          "avg_prem": 27.74747905559787,
          "id": 26003
         },
         {
          "avg_prem": 28.47286367098248,
          "id": 26005
         },
         {
          "avg_prem": 28.332162985529326,
          "id": 26007
         },
         {
          "avg_prem": 29.18838943894389,
          "id": 26009
         },
         {
          "avg_prem": 28.799421172886518,
          "id": 26011
         },
         {
          "avg_prem": 27.74747905559787,
          "id": 26013
         },
         {
          "avg_prem": 28.232204620462042,
          "id": 26015
         },
         {
          "avg_prem": 28.799421172886518,
          "id": 26017
         },
         {
          "avg_prem": 29.18838943894389,
          "id": 26019
         },
         {
          "avg_prem": 27.68435643564357,
          "id": 26021
         },
         {
          "avg_prem": 27.72990099009901,
          "id": 26023
         },
         {
          "avg_prem": 27.89328255902514,
          "id": 26025
         },
         {
          "avg_prem": 27.68435643564357,
          "id": 26027
         },
         {
          "avg_prem": 29.18838943894389,
          "id": 26029
         },
         {
          "avg_prem": 26.994851485148516,
          "id": 26031
         },
         {
          "avg_prem": 28.332162985529326,
          "id": 26033
         },
         {
          "avg_prem": 28.169794364051786,
          "id": 26035
         },
         {
          "avg_prem": 28.901346534653463,
          "id": 26037
         },
         {
          "avg_prem": 28.110264026402643,
          "id": 26039
         },
         {
          "avg_prem": 27.74747905559787,
          "id": 26041
         },
         {
          "avg_prem": 27.74747905559787,
          "id": 26043
         },
         {
          "avg_prem": 28.901346534653463,
          "id": 26045
         },
         {
          "avg_prem": 29.576153846153844,
          "id": 26047
         },
         {
          "avg_prem": 28.490448150078166,
          "id": 26049
         },
         {
          "avg_prem": 28.169794364051786,
          "id": 26051
         },
         {
          "avg_prem": 27.74747905559787,
          "id": 26053
         },
         {
          "avg_prem": 29.18838943894389,
          "id": 26055
         },
         {
          "avg_prem": 28.528818481848184,
          "id": 26057
         },
         {
          "avg_prem": 28.901346534653463,
          "id": 26059
         },
         {
          "avg_prem": 27.74747905559787,
          "id": 26061
         },
         {
          "avg_prem": 28.35105864432597,
          "id": 26063
         },
         {
          "avg_prem": 28.077775189283635,
          "id": 26065
         },
         {
          "avg_prem": 29.178583396801216,
          "id": 26067
         },
         {
          "avg_prem": 28.332162985529326,
          "id": 26069
         },
         {
          "avg_prem": 22.088132956152766,
          "id": 26071
         },
         {
          "avg_prem": 28.169794364051786,
          "id": 26073
         },
         {
          "avg_prem": 28.936313785224677,
          "id": 26075
         },
         {
          "avg_prem": 27.89328255902514,
          "id": 26077
         },
         {
          "avg_prem": 29.18838943894389,
          "id": 26079
         },
         {
          "avg_prem": 28.95222442244224,
          "id": 26081
         },
         {
          "avg_prem": 28.687615511551154,
          "id": 26083
         },
         {
          "avg_prem": 28.95222442244224,
          "id": 26085
         },
         {
          "avg_prem": 29.196369636963695,
          "id": 26087
         },
         {
          "avg_prem": 29.18838943894389,
          "id": 26089
         },
         {
          "avg_prem": 30.031744097486676,
          "id": 26091
         },
         {
          "avg_prem": 30.079775577557758,
          "id": 26093
         },
         {
          "avg_prem": 27.74747905559787,
          "id": 26095
         },
         {
          "avg_prem": 25.50729372937294,
          "id": 26097
         },
         {
          "avg_prem": 30.867656765676564,
          "id": 26099
         },
         {
          "avg_prem": 29.18838943894389,
          "id": 26101
         },
         {
          "avg_prem": 27.74747905559787,
          "id": 26103
         },
         {
          "avg_prem": 29.178583396801216,
          "id": 26105
         },
         {
          "avg_prem": 28.95222442244224,
          "id": 26107
         },
         {
          "avg_prem": 27.74747905559787,
          "id": 26109
         },
         {
          "avg_prem": 28.169794364051786,
          "id": 26111
         },
         {
          "avg_prem": 29.18838943894389,
          "id": 26113
         },
         {
          "avg_prem": 30.926796738497373,
          "id": 26115
         },
         {
          "avg_prem": 28.95222442244224,
          "id": 26117
         },
         {
          "avg_prem": 28.332162985529326,
          "id": 26119
         },
         {
          "avg_prem": 29.178583396801216,
          "id": 26121
         },
         {
          "avg_prem": 28.95222442244224,
          "id": 26123
         },
         {
          "avg_prem": 30.867656765676564,
          "id": 26125
         },
         {
          "avg_prem": 28.95222442244224,
          "id": 26127
         },
         {
          "avg_prem": 28.332162985529326,
          "id": 26129
         },
         {
          "avg_prem": 27.74747905559787,
          "id": 26131
         },
         {
          "avg_prem": 29.178583396801216,
          "id": 26133
         },
         {
          "avg_prem": 28.332162985529326,
          "id": 26135
         },
         {
          "avg_prem": 28.110264026402643,
          "id": 26137
         },
         {
          "avg_prem": 29.178583396801216,
          "id": 26139
         },
         {
          "avg_prem": 28.332162985529326,
          "id": 26141
         },
         {
          "avg_prem": 28.110264026402643,
          "id": 26143
         },
         {
          "avg_prem": 28.799421172886518,
          "id": 26145
         },
         {
          "avg_prem": 30.084760091393754,
          "id": 26147
         },
         {
          "avg_prem": 27.68435643564357,
          "id": 26149
         },
         {
          "avg_prem": 28.15448184818482,
          "id": 26151
         },
         {
          "avg_prem": 28.126244224422447,
          "id": 26153
         },
         {
          "avg_prem": 29.196369636963695,
          "id": 26155
         },
         {
          "avg_prem": 28.15448184818482,
          "id": 26157
         },
         {
          "avg_prem": 27.68435643564357,
          "id": 26159
         },
         {
          "avg_prem": 30.079775577557758,
          "id": 26161
         },
         {
          "avg_prem": 30.150452616690234,
          "id": 26163
         },
         {
          "avg_prem": 29.18838943894389,
          "id": 26165
         },
         {
          "avg_prem": 27.961431143114318,
          "id": 28001
         },
         {
          "avg_prem": 27.961431143114318,
          "id": 28003
         },
         {
          "avg_prem": 27.961431143114318,
          "id": 28005
         },
         {
          "avg_prem": 27.961431143114318,
          "id": 28007
         },
         {
          "avg_prem": 27.94592259225923,
          "id": 28009
         },
         {
          "avg_prem": 27.961431143114318,
          "id": 28011
         },
         {
          "avg_prem": 27.961431143114318,
          "id": 28013
         },
         {
          "avg_prem": 27.961431143114318,
          "id": 28015
         },
         {
          "avg_prem": 27.961431143114318,
          "id": 28017
         },
         {
          "avg_prem": 27.961431143114318,
          "id": 28019
         },
         {
          "avg_prem": 27.961431143114318,
          "id": 28021
         },
         {
          "avg_prem": 27.961431143114318,
          "id": 28023
         },
         {
          "avg_prem": 27.961431143114318,
          "id": 28025
         },
         {
          "avg_prem": 27.961431143114318,
          "id": 28027
         },
         {
          "avg_prem": 28.371206120612065,
          "id": 28029
         },
         {
          "avg_prem": 27.961431143114318,
          "id": 28031
         },
         {
          "avg_prem": 27.94592259225923,
          "id": 28033
         },
         {
          "avg_prem": 28.201845184518458,
          "id": 28035
         },
         {
          "avg_prem": 27.961431143114318,
          "id": 28037
         },
         {
          "avg_prem": 28.201845184518458,
          "id": 28039
         },
         {
          "avg_prem": 28.201845184518458,
          "id": 28041
         },
         {
          "avg_prem": 27.961431143114318,
          "id": 28043
         },
         {
          "avg_prem": 28.201845184518458,
          "id": 28045
         },
         {
          "avg_prem": 28.201845184518458,
          "id": 28047
         },
         {
          "avg_prem": 28.371206120612065,
          "id": 28049
         },
         {
          "avg_prem": 27.961431143114318,
          "id": 28051
         },
         {
          "avg_prem": 27.961431143114318,
          "id": 28053
         },
         {
          "avg_prem": 27.961431143114318,
          "id": 28055
         },
         {
          "avg_prem": 27.94592259225923,
          "id": 28057
         },
         {
          "avg_prem": 28.201845184518458,
          "id": 28059
         },
         {
          "avg_prem": 27.961431143114318,
          "id": 28061
         },
         {
          "avg_prem": 27.961431143114318,
          "id": 28063
         },
         {
          "avg_prem": 27.961431143114318,
          "id": 28065
         },
         {
          "avg_prem": 28.201845184518458,
          "id": 28067
         },
         {
          "avg_prem": 27.961431143114318,
          "id": 28069
         },
         {
          "avg_prem": 27.961431143114318,
          "id": 28071
         },
         {
          "avg_prem": 28.201845184518458,
          "id": 28073
         },
         {
          "avg_prem": 27.961431143114318,
          "id": 28075
         },
         {
          "avg_prem": 27.961431143114318,
          "id": 28077
         },
         {
          "avg_prem": 27.961431143114318,
          "id": 28079
         },
         {
          "avg_prem": 27.94592259225923,
          "id": 28081
         },
         {
          "avg_prem": 27.961431143114318,
          "id": 28083
         },
         {
          "avg_prem": 27.961431143114318,
          "id": 28085
         },
         {
          "avg_prem": 27.961431143114318,
          "id": 28087
         },
         {
          "avg_prem": 28.371206120612065,
          "id": 28089
         },
         {
          "avg_prem": 27.961431143114318,
          "id": 28091
         },
         {
          "avg_prem": 27.94592259225923,
          "id": 28093
         },
         {
          "avg_prem": 27.961431143114318,
          "id": 28095
         },
         {
          "avg_prem": 27.961431143114318,
          "id": 28097
         },
         {
          "avg_prem": 27.961431143114318,
          "id": 28099
         },
         {
          "avg_prem": 27.961431143114318,
          "id": 28101
         },
         {
          "avg_prem": 27.961431143114318,
          "id": 28103
         },
         {
          "avg_prem": 27.961431143114318,
          "id": 28105
         },
         {
          "avg_prem": 27.961431143114318,
          "id": 28107
         },
         {
          "avg_prem": 28.201845184518458,
          "id": 28109
         },
         {
          "avg_prem": 28.201845184518458,
          "id": 28111
         },
         {
          "avg_prem": 27.961431143114318,
          "id": 28113
         },
         {
          "avg_prem": 27.94592259225923,
          "id": 28115
         },
         {
          "avg_prem": 27.961431143114318,
          "id": 28117
         },
         {
          "avg_prem": 27.961431143114318,
          "id": 28119
         },
         {
          "avg_prem": 28.371206120612065,
          "id": 28121
         },
         {
          "avg_prem": 27.961431143114318,
          "id": 28123
         },
         {
          "avg_prem": 27.961431143114318,
          "id": 28125
         },
         {
          "avg_prem": 28.371206120612065,
          "id": 28127
         },
         {
          "avg_prem": 27.961431143114318,
          "id": 28129
         },
         {
          "avg_prem": 28.201845184518458,
          "id": 28131
         },
         {
          "avg_prem": 27.961431143114318,
          "id": 28133
         },
         {
          "avg_prem": 27.961431143114318,
          "id": 28135
         },
         {
          "avg_prem": 27.94592259225923,
          "id": 28137
         },
         {
          "avg_prem": 27.94592259225923,
          "id": 28139
         },
         {
          "avg_prem": 27.961431143114318,
          "id": 28141
         },
         {
          "avg_prem": 27.94592259225923,
          "id": 28143
         },
         {
          "avg_prem": 27.94592259225923,
          "id": 28145
         },
         {
          "avg_prem": 27.961431143114318,
          "id": 28147
         },
         {
          "avg_prem": 28.371206120612065,
          "id": 28149
         },
         {
          "avg_prem": 27.961431143114318,
          "id": 28151
         },
         {
          "avg_prem": 27.961431143114318,
          "id": 28153
         },
         {
          "avg_prem": 27.961431143114318,
          "id": 28155
         },
         {
          "avg_prem": 27.961431143114318,
          "id": 28157
         },
         {
          "avg_prem": 27.961431143114318,
          "id": 28159
         },
         {
          "avg_prem": 27.961431143114318,
          "id": 28161
         },
         {
          "avg_prem": 27.961431143114318,
          "id": 28163
         },
         {
          "avg_prem": 27.265516265912307,
          "id": 29001
         },
         {
          "avg_prem": 26.597729372937295,
          "id": 29003
         },
         {
          "avg_prem": 26.786961157654225,
          "id": 29005
         },
         {
          "avg_prem": 26.63098391089109,
          "id": 29007
         },
         {
          "avg_prem": 26.587933168316834,
          "id": 29009
         },
         {
          "avg_prem": 27.004243281471002,
          "id": 29011
         },
         {
          "avg_prem": 27.09455445544555,
          "id": 29013
         },
         {
          "avg_prem": 27.49856054836253,
          "id": 29015
         },
         {
          "avg_prem": 26.903889674681754,
          "id": 29017
         },
         {
          "avg_prem": 26.933132956152757,
          "id": 29019
         },
         {
          "avg_prem": 27.153358720487436,
          "id": 29021
         },
         {
          "avg_prem": 26.903889674681754,
          "id": 29023
         },
         {
          "avg_prem": 26.597729372937295,
          "id": 29025
         },
         {
          "avg_prem": 26.933132956152757,
          "id": 29027
         },
         {
          "avg_prem": 26.63098391089109,
          "id": 29029
         },
         {
          "avg_prem": 26.903889674681754,
          "id": 29031
         },
         {
          "avg_prem": 26.597729372937295,
          "id": 29033
         },
         {
          "avg_prem": 26.815190947666196,
          "id": 29035
         },
         {
          "avg_prem": 28.706831683168318,
          "id": 29037
         },
         {
          "avg_prem": 26.731951909476663,
          "id": 29039
         },
         {
          "avg_prem": 27.147252475247523,
          "id": 29041
         },
         {
          "avg_prem": 26.775866336633666,
          "id": 29043
         },
         {
          "avg_prem": 27.265516265912307,
          "id": 29045
         },
         {
          "avg_prem": 28.706831683168318,
          "id": 29047
         },
         {
          "avg_prem": 26.597729372937295,
          "id": 29049
         },
         {
          "avg_prem": 26.933132956152757,
          "id": 29051
         },
         {
          "avg_prem": 27.147252475247523,
          "id": 29053
         },
         {
          "avg_prem": 25.871225247524755,
          "id": 29055
         },
         {
          "avg_prem": 26.775866336633666,
          "id": 29057
         },
         {
          "avg_prem": 26.642970297029706,
          "id": 29059
         },
         {
          "avg_prem": 26.597729372937295,
          "id": 29061
         },
         {
          "avg_prem": 26.597729372937295,
          "id": 29063
         },
         {
          "avg_prem": 25.871225247524755,
          "id": 29065
         },
         {
          "avg_prem": 26.731951909476663,
          "id": 29067
         },
         {
          "avg_prem": 26.903889674681754,
          "id": 29069
         },
         {
          "avg_prem": 28.52174504950495,
          "id": 29071
         },
         {
          "avg_prem": 26.854884488448842,
          "id": 29073
         },
         {
          "avg_prem": 26.597729372937295,
          "id": 29075
         },
         {
          "avg_prem": 26.775866336633666,
          "id": 29077
         },
         {
          "avg_prem": 27.153358720487436,
          "id": 29079
         },
         {
          "avg_prem": 27.153358720487436,
          "id": 29081
         },
         {
          "avg_prem": 27.09455445544555,
          "id": 29083
         },
         {
          "avg_prem": 26.731951909476663,
          "id": 29085
         },
         {
          "avg_prem": 26.786961157654225,
          "id": 29087
         },
         {
          "avg_prem": 27.147252475247523,
          "id": 29089
         },
         {
          "avg_prem": 26.815190947666196,
          "id": 29091
         },
         {
          "avg_prem": 26.815190947666196,
          "id": 29093
         },
         {
          "avg_prem": 28.706831683168318,
          "id": 29095
         },
         {
          "avg_prem": 27.004243281471002,
          "id": 29097
         },
         {
          "avg_prem": 28.41962596259626,
          "id": 29099
         },
         {
          "avg_prem": 27.09455445544555,
          "id": 29101
         },
         {
          "avg_prem": 27.265516265912307,
          "id": 29103
         },
         {
          "avg_prem": 26.587933168316834,
          "id": 29105
         },
         {
          "avg_prem": 27.09455445544555,
          "id": 29107
         },
         {
          "avg_prem": 26.775866336633666,
          "id": 29109
         },
         {
          "avg_prem": 27.265516265912307,
          "id": 29111
         },
         {
          "avg_prem": 28.41962596259626,
          "id": 29113
         },
         {
          "avg_prem": 27.076491336633666,
          "id": 29115
         },
         {
          "avg_prem": 27.153358720487436,
          "id": 29117
         },
         {
          "avg_prem": 26.729950495049504,
          "id": 29119
         },
         {
          "avg_prem": 27.265516265912307,
          "id": 29121
         },
         {
          "avg_prem": 26.903889674681754,
          "id": 29123
         },
         {
          "avg_prem": 26.63098391089109,
          "id": 29125
         },
         {
          "avg_prem": 27.265516265912307,
          "id": 29127
         },
         {
          "avg_prem": 26.597729372937295,
          "id": 29129
         },
         {
          "avg_prem": 26.63098391089109,
          "id": 29131
         },
         {
          "avg_prem": 26.903889674681754,
          "id": 29133
         },
         {
          "avg_prem": 26.63098391089109,
          "id": 29135
         },
         {
          "avg_prem": 26.933132956152757,
          "id": 29137
         },
         {
          "avg_prem": 26.854884488448842,
          "id": 29139
         },
         {
          "avg_prem": 26.63098391089109,
          "id": 29141
         },
         {
          "avg_prem": 26.903889674681754,
          "id": 29143
         },
         {
          "avg_prem": 26.729950495049504,
          "id": 29145
         },
         {
          "avg_prem": 27.153358720487436,
          "id": 29147
         },
         {
          "avg_prem": 26.815190947666196,
          "id": 29149
         },
         {
          "avg_prem": 26.63098391089109,
          "id": 29151
         },
         {
          "avg_prem": 26.731951909476663,
          "id": 29153
         },
         {
          "avg_prem": 25.94883663366337,
          "id": 29155
         },
         {
          "avg_prem": 25.94883663366337,
          "id": 29157
         },
         {
          "avg_prem": 27.49856054836253,
          "id": 29159
         },
         {
          "avg_prem": 26.815190947666196,
          "id": 29161
         },
         {
          "avg_prem": 26.759323432343237,
          "id": 29163
         },
         {
          "avg_prem": 28.706831683168318,
          "id": 29165
         },
         {
          "avg_prem": 26.775866336633666,
          "id": 29167
         },
         {
          "avg_prem": 25.871225247524755,
          "id": 29169
         },
         {
          "avg_prem": 27.076491336633666,
          "id": 29171
         },
         {
          "avg_prem": 27.265516265912307,
          "id": 29173
         },
         {
          "avg_prem": 27.147252475247523,
          "id": 29175
         },
         {
          "avg_prem": 26.597729372937295,
          "id": 29177
         },
         {
          "avg_prem": 25.871225247524755,
          "id": 29179
         },
         {
          "avg_prem": 26.815190947666196,
          "id": 29181
         },
         {
          "avg_prem": 28.41962596259626,
          "id": 29183
         },
         {
          "avg_prem": 27.668334833483353,
          "id": 29185
         },
         {
          "avg_prem": 27.980272277227723,
          "id": 29186
         },
         {
          "avg_prem": 28.52174504950495,
          "id": 29187
         },
         {
          "avg_prem": 27.628191766545072,
          "id": 29189
         },
         {
          "avg_prem": 27.09455445544555,
          "id": 29195
         },
         {
          "avg_prem": 27.265516265912307,
          "id": 29197
         },
         {
          "avg_prem": 27.265516265912307,
          "id": 29199
         },
         {
          "avg_prem": 26.903889674681754,
          "id": 29201
         },
         {
          "avg_prem": 25.871225247524755,
          "id": 29203
         },
         {
          "avg_prem": 27.265516265912307,
          "id": 29205
         },
         {
          "avg_prem": 26.903889674681754,
          "id": 29207
         },
         {
          "avg_prem": 26.775866336633666,
          "id": 29209
         },
         {
          "avg_prem": 27.265516265912307,
          "id": 29211
         },
         {
          "avg_prem": 26.775866336633666,
          "id": 29213
         },
         {
          "avg_prem": 25.871225247524755,
          "id": 29215
         },
         {
          "avg_prem": 27.668334833483353,
          "id": 29217
         },
         {
          "avg_prem": 28.41962596259626,
          "id": 29219
         },
         {
          "avg_prem": 28.41962596259626,
          "id": 29221
         },
         {
          "avg_prem": 26.903889674681754,
          "id": 29223
         },
         {
          "avg_prem": 26.775866336633666,
          "id": 29225
         },
         {
          "avg_prem": 26.597729372937295,
          "id": 29227
         },
         {
          "avg_prem": 26.587933168316834,
          "id": 29229
         },
         {
          "avg_prem": 27.628191766545072,
          "id": 29510
         },
         {
          "avg_prem": 39.426149614961496,
          "id": 30001
         },
         {
          "avg_prem": 39.426149614961496,
          "id": 30003
         },
         {
          "avg_prem": 39.426149614961496,
          "id": 30005
         },
         {
          "avg_prem": 39.303333333333335,
          "id": 30007
         },
         {
          "avg_prem": 39.76702970297029,
          "id": 30009
         },
         {
          "avg_prem": 39.426149614961496,
          "id": 30011
         },
         {
          "avg_prem": 39.303333333333335,
          "id": 30013
         },
         {
          "avg_prem": 39.303333333333335,
          "id": 30015
         },
         {
          "avg_prem": 39.426149614961496,
          "id": 30017
         },
         {
          "avg_prem": 39.426149614961496,
          "id": 30019
         },
         {
          "avg_prem": 39.426149614961496,
          "id": 30021
         },
         {
          "avg_prem": 39.303333333333335,
          "id": 30023
         },
         {
          "avg_prem": 39.426149614961496,
          "id": 30025
         },
         {
          "avg_prem": 39.426149614961496,
          "id": 30027
         },
         {
          "avg_prem": 39.69125412541254,
          "id": 30029
         },
         {
          "avg_prem": 39.303333333333335,
          "id": 30031
         },
         {
          "avg_prem": 39.426149614961496,
          "id": 30033
         },
         {
          "avg_prem": 39.426149614961496,
          "id": 30035
         },
         {
          "avg_prem": 39.426149614961496,
          "id": 30037
         },
         {
          "avg_prem": 39.426149614961496,
          "id": 30039
         },
         {
          "avg_prem": 39.426149614961496,
          "id": 30041
         },
         {
          "avg_prem": 39.303333333333335,
          "id": 30043
         },
         {
          "avg_prem": 39.303333333333335,
          "id": 30045
         },
         {
          "avg_prem": 39.69125412541254,
          "id": 30047
         },
         {
          "avg_prem": 39.303333333333335,
          "id": 30049
         },
         {
          "avg_prem": 39.426149614961496,
          "id": 30051
         },
         {
          "avg_prem": 39.426149614961496,
          "id": 30053
         },
         {
          "avg_prem": 39.426149614961496,
          "id": 30055
         },
         {
          "avg_prem": 39.426149614961496,
          "id": 30057
         },
         {
          "avg_prem": 39.426149614961496,
          "id": 30059
         },
         {
          "avg_prem": 39.426149614961496,
          "id": 30061
         },
         {
          "avg_prem": 39.69125412541254,
          "id": 30063
         },
         {
          "avg_prem": 39.76702970297029,
          "id": 30065
         },
         {
          "avg_prem": 39.426149614961496,
          "id": 30067
         },
         {
          "avg_prem": 39.426149614961496,
          "id": 30069
         },
         {
          "avg_prem": 39.426149614961496,
          "id": 30071
         },
         {
          "avg_prem": 39.426149614961496,
          "id": 30073
         },
         {
          "avg_prem": 39.426149614961496,
          "id": 30075
         },
         {
          "avg_prem": 39.426149614961496,
          "id": 30077
         },
         {
          "avg_prem": 39.426149614961496,
          "id": 30079
         },
         {
          "avg_prem": 39.426149614961496,
          "id": 30081
         },
         {
          "avg_prem": 39.426149614961496,
          "id": 30083
         },
         {
          "avg_prem": 39.426149614961496,
          "id": 30085
         },
         {
          "avg_prem": 39.426149614961496,
          "id": 30087
         },
         {
          "avg_prem": 39.426149614961496,
          "id": 30089
         },
         {
          "avg_prem": 39.426149614961496,
          "id": 30091
         },
         {
          "avg_prem": 39.303333333333335,
          "id": 30093
         },
         {
          "avg_prem": 39.76702970297029,
          "id": 30095
         },
         {
          "avg_prem": 39.76702970297029,
          "id": 30097
         },
         {
          "avg_prem": 39.303333333333335,
          "id": 30099
         },
         {
          "avg_prem": 39.426149614961496,
          "id": 30101
         },
         {
          "avg_prem": 39.426149614961496,
          "id": 30103
         },
         {
          "avg_prem": 39.426149614961496,
          "id": 30105
         },
         {
          "avg_prem": 39.426149614961496,
          "id": 30107
         },
         {
          "avg_prem": 39.426149614961496,
          "id": 30109
         },
         {
          "avg_prem": 39.76702970297029,
          "id": 30111
         },
         {
          "avg_prem": 27.19509900990099,
          "id": 31001
         },
         {
          "avg_prem": 27.19509900990099,
          "id": 31003
         },
         {
          "avg_prem": 27.19509900990099,
          "id": 31005
         },
         {
          "avg_prem": 27.19509900990099,
          "id": 31007
         },
         {
          "avg_prem": 27.19509900990099,
          "id": 31009
         },
         {
          "avg_prem": 27.19509900990099,
          "id": 31011
         },
         {
          "avg_prem": 27.19509900990099,
          "id": 31013
         },
         {
          "avg_prem": 27.19509900990099,
          "id": 31015
         },
         {
          "avg_prem": 27.19509900990099,
          "id": 31017
         },
         {
          "avg_prem": 27.19509900990099,
          "id": 31019
         },
         {
          "avg_prem": 28.499257425742574,
          "id": 31021
         },
         {
          "avg_prem": 27.19509900990099,
          "id": 31023
         },
         {
          "avg_prem": 28.499257425742574,
          "id": 31025
         },
         {
          "avg_prem": 27.19509900990099,
          "id": 31027
         },
         {
          "avg_prem": 27.19509900990099,
          "id": 31029
         },
         {
          "avg_prem": 27.19509900990099,
          "id": 31031
         },
         {
          "avg_prem": 27.19509900990099,
          "id": 31033
         },
         {
          "avg_prem": 27.19509900990099,
          "id": 31035
         },
         {
          "avg_prem": 27.19509900990099,
          "id": 31037
         },
         {
          "avg_prem": 27.19509900990099,
          "id": 31039
         },
         {
          "avg_prem": 27.19509900990099,
          "id": 31041
         },
         {
          "avg_prem": 27.19509900990099,
          "id": 31043
         },
         {
          "avg_prem": 27.19509900990099,
          "id": 31045
         },
         {
          "avg_prem": 27.19509900990099,
          "id": 31047
         },
         {
          "avg_prem": 27.19509900990099,
          "id": 31049
         },
         {
          "avg_prem": 27.19509900990099,
          "id": 31051
         },
         {
          "avg_prem": 28.499257425742574,
          "id": 31053
         },
         {
          "avg_prem": 28.499257425742574,
          "id": 31055
         },
         {
          "avg_prem": 27.19509900990099,
          "id": 31057
         },
         {
          "avg_prem": 27.88963932107496,
          "id": 31059
         },
         {
          "avg_prem": 27.19509900990099,
          "id": 31061
         },
         {
          "avg_prem": 27.19509900990099,
          "id": 31063
         },
         {
          "avg_prem": 27.19509900990099,
          "id": 31065
         },
         {
          "avg_prem": 27.88963932107496,
          "id": 31067
         },
         {
          "avg_prem": 27.19509900990099,
          "id": 31069
         },
         {
          "avg_prem": 27.19509900990099,
          "id": 31071
         },
         {
          "avg_prem": 27.19509900990099,
          "id": 31073
         },
         {
          "avg_prem": 27.19509900990099,
          "id": 31075
         },
         {
          "avg_prem": 27.19509900990099,
          "id": 31077
         },
         {
          "avg_prem": 27.19509900990099,
          "id": 31079
         },
         {
          "avg_prem": 27.19509900990099,
          "id": 31081
         },
         {
          "avg_prem": 27.19509900990099,
          "id": 31083
         },
         {
          "avg_prem": 27.19509900990099,
          "id": 31085
         },
         {
          "avg_prem": 27.19509900990099,
          "id": 31087
         },
         {
          "avg_prem": 27.19509900990099,
          "id": 31089
         },
         {
          "avg_prem": 27.19509900990099,
          "id": 31091
         },
         {
          "avg_prem": 27.19509900990099,
          "id": 31093
         },
         {
          "avg_prem": 27.88963932107496,
          "id": 31095
         },
         {
          "avg_prem": 27.88963932107496,
          "id": 31097
         },
         {
          "avg_prem": 27.19509900990099,
          "id": 31099
         },
         {
          "avg_prem": 27.19509900990099,
          "id": 31101
         },
         {
          "avg_prem": 27.19509900990099,
          "id": 31103
         },
         {
          "avg_prem": 27.19509900990099,
          "id": 31105
         },
         {
          "avg_prem": 27.19509900990099,
          "id": 31107
         },
         {
          "avg_prem": 27.88963932107496,
          "id": 31109
         },
         {
          "avg_prem": 27.19509900990099,
          "id": 31111
         },
         {
          "avg_prem": 27.19509900990099,
          "id": 31113
         },
         {
          "avg_prem": 27.19509900990099,
          "id": 31115
         },
         {
          "avg_prem": 27.19509900990099,
          "id": 31117
         },
         {
          "avg_prem": 27.19509900990099,
          "id": 31119
         },
         {
          "avg_prem": 27.19509900990099,
          "id": 31121
         },
         {
          "avg_prem": 27.19509900990099,
          "id": 31123
         },
         {
          "avg_prem": 27.19509900990099,
          "id": 31125
         },
         {
          "avg_prem": 27.88963932107496,
          "id": 31127
         },
         {
          "avg_prem": 27.19509900990099,
          "id": 31129
         },
         {
          "avg_prem": 27.88963932107496,
          "id": 31131
         },
         {
          "avg_prem": 27.88963932107496,
          "id": 31133
         },
         {
          "avg_prem": 27.19509900990099,
          "id": 31135
         },
         {
          "avg_prem": 27.19509900990099,
          "id": 31137
         },
         {
          "avg_prem": 27.19509900990099,
          "id": 31139
         },
         {
          "avg_prem": 27.19509900990099,
          "id": 31141
         },
         {
          "avg_prem": 27.19509900990099,
          "id": 31143
         },
         {
          "avg_prem": 27.19509900990099,
          "id": 31145
         },
         {
          "avg_prem": 27.88963932107496,
          "id": 31147
         },
         {
          "avg_prem": 27.19509900990099,
          "id": 31149
         },
         {
          "avg_prem": 27.88963932107496,
          "id": 31151
         },
         {
          "avg_prem": 28.499257425742574,
          "id": 31153
         },
         {
          "avg_prem": 28.499257425742574,
          "id": 31155
         },
         {
          "avg_prem": 27.19509900990099,
          "id": 31157
         },
         {
          "avg_prem": 27.88963932107496,
          "id": 31159
         },
         {
          "avg_prem": 27.19509900990099,
          "id": 31161
         },
         {
          "avg_prem": 27.19509900990099,
          "id": 31163
         },
         {
          "avg_prem": 27.19509900990099,
          "id": 31165
         },
         {
          "avg_prem": 27.19509900990099,
          "id": 31167
         },
         {
          "avg_prem": 27.88963932107496,
          "id": 31169
         },
         {
          "avg_prem": 27.19509900990099,
          "id": 31171
         },
         {
          "avg_prem": 28.499257425742574,
          "id": 31173
         },
         {
          "avg_prem": 27.19509900990099,
          "id": 31175
         },
         {
          "avg_prem": 28.499257425742574,
          "id": 31177
         },
         {
          "avg_prem": 27.19509900990099,
          "id": 31179
         },
         {
          "avg_prem": 27.19509900990099,
          "id": 31181
         },
         {
          "avg_prem": 27.19509900990099,
          "id": 31183
         },
         {
          "avg_prem": 27.88963932107496,
          "id": 31185
         },
         {
          "avg_prem": 32.889592959295925,
          "id": 32001
         },
         {
          "avg_prem": 26.67357335733573,
          "id": 32003
         },
         {
          "avg_prem": 33.465566556655666,
          "id": 32005
         },
         {
          "avg_prem": 32.889592959295925,
          "id": 32007
         },
         {
          "avg_prem": 32.889592959295925,
          "id": 32009
         },
         {
          "avg_prem": 32.889592959295925,
          "id": 32011
         },
         {
          "avg_prem": 32.889592959295925,
          "id": 32013
         },
         {
          "avg_prem": 32.889592959295925,
          "id": 32015
         },
         {
          "avg_prem": 32.889592959295925,
          "id": 32017
         },
         {
          "avg_prem": 33.465566556655666,
          "id": 32019
         },
         {
          "avg_prem": 32.889592959295925,
          "id": 32021
         },
         {
          "avg_prem": 26.67357335733573,
          "id": 32023
         },
         {
          "avg_prem": 32.889592959295925,
          "id": 32027
         },
         {
          "avg_prem": 33.465566556655666,
          "id": 32029
         },
         {
          "avg_prem": 32.092322232223225,
          "id": 32031
         },
         {
          "avg_prem": 32.889592959295925,
          "id": 32033
         },
         {
          "avg_prem": 33.465566556655666,
          "id": 32510
         },
         {
          "avg_prem": 35.01180198019802,
          "id": 33001
         },
         {
          "avg_prem": 35.01180198019802,
          "id": 33003
         },
         {
          "avg_prem": 35.01180198019802,
          "id": 33005
         },
         {
          "avg_prem": 35.01180198019802,
          "id": 33007
         },
         {
          "avg_prem": 35.01180198019802,
          "id": 33009
         },
         {
          "avg_prem": 35.01180198019802,
          "id": 33011
         },
         {
          "avg_prem": 35.01180198019802,
          "id": 33013
         },
         {
          "avg_prem": 35.01180198019802,
          "id": 33015
         },
         {
          "avg_prem": 35.01180198019802,
          "id": 33017
         },
         {
          "avg_prem": 35.01180198019802,
          "id": 33019
         },
         {
          "avg_prem": 31.824983498349827,
          "id": 34001
         },
         {
          "avg_prem": 30.822345773038837,
          "id": 34003
         },
         {
          "avg_prem": 31.824983498349827,
          "id": 34005
         },
         {
          "avg_prem": 30.822345773038837,
          "id": 34007
         },
         {
          "avg_prem": 31.824983498349827,
          "id": 34009
         },
         {
          "avg_prem": 31.824983498349827,
          "id": 34011
         },
         {
          "avg_prem": 30.822345773038837,
          "id": 34013
         },
         {
          "avg_prem": 31.824983498349827,
          "id": 34015
         },
         {
          "avg_prem": 30.822345773038837,
          "id": 34017
         },
         {
          "avg_prem": 31.824983498349827,
          "id": 34019
         },
         {
          "avg_prem": 30.822345773038837,
          "id": 34021
         },
         {
          "avg_prem": 30.822345773038837,
          "id": 34023
         },
         {
          "avg_prem": 30.822345773038837,
          "id": 34025
         },
         {
          "avg_prem": 30.822345773038837,
          "id": 34027
         },
         {
          "avg_prem": 30.822345773038837,
          "id": 34029
         },
         {
          "avg_prem": 30.822345773038837,
          "id": 34031
         },
         {
          "avg_prem": 31.824983498349827,
          "id": 34033
         },
         {
          "avg_prem": 30.496930693069306,
          "id": 34035
         },
         {
          "avg_prem": 31.667554455445543,
          "id": 34037
         },
         {
          "avg_prem": 30.822345773038837,
          "id": 34039
         },
         {
          "avg_prem": 31.824983498349827,
          "id": 34041
         },
         {
          "avg_prem": 26.848329207920788,
          "id": 35001
         },
         {
          "avg_prem": 24.20243811881188,
          "id": 35003
         },
         {
          "avg_prem": 24.20243811881188,
          "id": 35005
         },
         {
          "avg_prem": 24.20243811881188,
          "id": 35006
         },
         {
          "avg_prem": 24.20243811881188,
          "id": 35007
         },
         {
          "avg_prem": 24.20243811881188,
          "id": 35009
         },
         {
          "avg_prem": 24.20243811881188,
          "id": 35011
         },
         {
          "avg_prem": 23.325495049504955,
          "id": 35013
         },
         {
          "avg_prem": 24.20243811881188,
          "id": 35015
         },
         {
          "avg_prem": 24.20243811881188,
          "id": 35017
         },
         {
          "avg_prem": 24.20243811881188,
          "id": 35019
         },
         {
          "avg_prem": 24.20243811881188,
          "id": 35021
         },
         {
          "avg_prem": 24.20243811881188,
          "id": 35023
         },
         {
          "avg_prem": 24.20243811881188,
          "id": 35025
         },
         {
          "avg_prem": 24.20243811881188,
          "id": 35027
         },
         {
          "avg_prem": 24.20243811881188,
          "id": 35028
         },
         {
          "avg_prem": 24.20243811881188,
          "id": 35029
         },
         {
          "avg_prem": 24.20243811881188,
          "id": 35031
         },
         {
          "avg_prem": 24.20243811881188,
          "id": 35033
         },
         {
          "avg_prem": 24.20243811881188,
          "id": 35035
         },
         {
          "avg_prem": 24.20243811881188,
          "id": 35037
         },
         {
          "avg_prem": 24.20243811881188,
          "id": 35039
         },
         {
          "avg_prem": 24.20243811881188,
          "id": 35041
         },
         {
          "avg_prem": 26.848329207920788,
          "id": 35043
         },
         {
          "avg_prem": 26.288155940594063,
          "id": 35045
         },
         {
          "avg_prem": 24.20243811881188,
          "id": 35047
         },
         {
          "avg_prem": 26.95485148514852,
          "id": 35049
         },
         {
          "avg_prem": 24.20243811881188,
          "id": 35051
         },
         {
          "avg_prem": 24.20243811881188,
          "id": 35053
         },
         {
          "avg_prem": 24.20243811881188,
          "id": 35055
         },
         {
          "avg_prem": 26.848329207920788,
          "id": 35057
         },
         {
          "avg_prem": 24.20243811881188,
          "id": 35059
         },
         {
          "avg_prem": 26.848329207920788,
          "id": 35061
         },
         {
          "avg_prem": 34.18075247524753,
          "id": 37001
         },
         {
          "avg_prem": 31.849643564356438,
          "id": 37003
         },
         {
          "avg_prem": 31.76552475247525,
          "id": 37005
         },
         {
          "avg_prem": 34.25989108910891,
          "id": 37007
         },
         {
          "avg_prem": 34.045742574257424,
          "id": 37009
         },
         {
          "avg_prem": 34.14613861386139,
          "id": 37011
         },
         {
          "avg_prem": 33.77545792079208,
          "id": 37013
         },
         {
          "avg_prem": 30.839960396039608,
          "id": 37015
         },
         {
          "avg_prem": 32.334306930693074,
          "id": 37017
         },
         {
          "avg_prem": 34.010754950495055,
          "id": 37019
         },
         {
          "avg_prem": 34.14613861386139,
          "id": 37021
         },
         {
          "avg_prem": 34.08547029702971,
          "id": 37023
         },
         {
          "avg_prem": 34.25989108910891,
          "id": 37025
         },
         {
          "avg_prem": 34.08547029702971,
          "id": 37027
         },
         {
          "avg_prem": 30.839960396039608,
          "id": 37029
         },
         {
          "avg_prem": 33.77545792079208,
          "id": 37031
         },
         {
          "avg_prem": 34.18075247524753,
          "id": 37033
         },
         {
          "avg_prem": 31.849643564356438,
          "id": 37035
         },
         {
          "avg_prem": 34.18075247524753,
          "id": 37037
         },
         {
          "avg_prem": 32.17671287128714,
          "id": 37039
         },
         {
          "avg_prem": 33.24388613861387,
          "id": 37041
         },
         {
          "avg_prem": 32.17671287128714,
          "id": 37043
         },
         {
          "avg_prem": 35.07394801980198,
          "id": 37045
         },
         {
          "avg_prem": 32.32351485148515,
          "id": 37047
         },
         {
          "avg_prem": 33.77545792079208,
          "id": 37049
         },
         {
          "avg_prem": 32.334306930693074,
          "id": 37051
         },
         {
          "avg_prem": 30.839960396039608,
          "id": 37053
         },
         {
          "avg_prem": 33.77545792079208,
          "id": 37055
         },
         {
          "avg_prem": 33.13823762376238,
          "id": 37057
         },
         {
          "avg_prem": 33.13823762376238,
          "id": 37059
         },
         {
          "avg_prem": 32.32351485148515,
          "id": 37061
         },
         {
          "avg_prem": 34.18075247524753,
          "id": 37063
         },
         {
          "avg_prem": 31.032930693069307,
          "id": 37065
         },
         {
          "avg_prem": 33.13823762376238,
          "id": 37067
         },
         {
          "avg_prem": 34.46858415841585,
          "id": 37069
         },
         {
          "avg_prem": 35.07394801980198,
          "id": 37071
         },
         {
          "avg_prem": 30.839960396039608,
          "id": 37073
         },
         {
          "avg_prem": 32.17671287128714,
          "id": 37075
         },
         {
          "avg_prem": 33.44778217821782,
          "id": 37077
         },
         {
          "avg_prem": 31.032930693069307,
          "id": 37079
         },
         {
          "avg_prem": 33.58867326732674,
          "id": 37081
         },
         {
          "avg_prem": 33.24388613861387,
          "id": 37083
         },
         {
          "avg_prem": 32.334306930693074,
          "id": 37085
         },
         {
          "avg_prem": 34.14613861386139,
          "id": 37087
         },
         {
          "avg_prem": 34.14613861386139,
          "id": 37089
         },
         {
          "avg_prem": 33.24388613861387,
          "id": 37091
         },
         {
          "avg_prem": 32.334306930693074,
          "id": 37093
         },
         {
          "avg_prem": 33.77545792079208,
          "id": 37095
         },
         {
          "avg_prem": 31.849643564356438,
          "id": 37097
         },
         {
          "avg_prem": 34.14613861386139,
          "id": 37099
         },
         {
          "avg_prem": 34.46858415841585,
          "id": 37101
         },
         {
          "avg_prem": 31.709217821782183,
          "id": 37103
         },
         {
          "avg_prem": 34.18075247524753,
          "id": 37105
         },
         {
          "avg_prem": 33.77545792079208,
          "id": 37107
         },
         {
          "avg_prem": 32.86313861386139,
          "id": 37109
         },
         {
          "avg_prem": 34.14613861386139,
          "id": 37111
         },
         {
          "avg_prem": 34.14613861386139,
          "id": 37113
         },
         {
          "avg_prem": 34.14613861386139,
          "id": 37115
         },
         {
          "avg_prem": 33.24388613861387,
          "id": 37117
         },
         {
          "avg_prem": 36.358378712871286,
          "id": 37119
         },
         {
          "avg_prem": 34.14613861386139,
          "id": 37121
         },
         {
          "avg_prem": 32.33857425742575,
          "id": 37123
         },
         {
          "avg_prem": 32.33857425742575,
          "id": 37125
         },
         {
          "avg_prem": 31.032930693069307,
          "id": 37127
         },
         {
          "avg_prem": 34.010754950495055,
          "id": 37129
         },
         {
          "avg_prem": 30.839960396039608,
          "id": 37131
         },
         {
          "avg_prem": 34.010754950495055,
          "id": 37133
         },
         {
          "avg_prem": 34.18075247524753,
          "id": 37135
         },
         {
          "avg_prem": 33.77545792079208,
          "id": 37137
         },
         {
          "avg_prem": 30.839960396039608,
          "id": 37139
         },
         {
          "avg_prem": 34.010754950495055,
          "id": 37141
         },
         {
          "avg_prem": 30.839960396039608,
          "id": 37143
         },
         {
          "avg_prem": 34.18075247524753,
          "id": 37145
         },
         {
          "avg_prem": 33.45157425742575,
          "id": 37147
         },
         {
          "avg_prem": 32.17671287128714,
          "id": 37149
         },
         {
          "avg_prem": 33.82339108910891,
          "id": 37151
         },
         {
          "avg_prem": 32.81987623762377,
          "id": 37153
         },
         {
          "avg_prem": 32.334306930693074,
          "id": 37155
         },
         {
          "avg_prem": 33.58867326732674,
          "id": 37157
         },
         {
          "avg_prem": 34.945231023102316,
          "id": 37159
         },
         {
          "avg_prem": 34.14613861386139,
          "id": 37161
         },
         {
          "avg_prem": 32.334306930693074,
          "id": 37163
         },
         {
          "avg_prem": 32.334306930693074,
          "id": 37165
         },
         {
          "avg_prem": 34.25989108910891,
          "id": 37167
         },
         {
          "avg_prem": 33.13823762376238,
          "id": 37169
         },
         {
          "avg_prem": 35.34054455445544,
          "id": 37171
         },
         {
          "avg_prem": 32.17671287128714,
          "id": 37173
         },
         {
          "avg_prem": 32.17671287128714,
          "id": 37175
         },
         {
          "avg_prem": 31.709217821782183,
          "id": 37177
         },
         {
          "avg_prem": 34.945231023102316,
          "id": 37179
         },
         {
          "avg_prem": 34.1514603960396,
          "id": 37181
         },
         {
          "avg_prem": 35.08780528052806,
          "id": 37183
         },
         {
          "avg_prem": 33.44778217821782,
          "id": 37185
         },
         {
          "avg_prem": 31.709217821782183,
          "id": 37187
         },
         {
          "avg_prem": 34.045742574257424,
          "id": 37189
         },
         {
          "avg_prem": 31.032930693069307,
          "id": 37191
         },
         {
          "avg_prem": 31.76552475247525,
          "id": 37193
         },
         {
          "avg_prem": 31.032930693069307,
          "id": 37195
         },
         {
          "avg_prem": 33.13823762376238,
          "id": 37197
         },
         {
          "avg_prem": 34.14613861386139,
          "id": 37199
         },
         {
          "avg_prem": 31.02711221122112,
          "id": 38001
         },
         {
          "avg_prem": 31.02711221122112,
          "id": 38003
         },
         {
          "avg_prem": 31.02711221122112,
          "id": 38005
         },
         {
          "avg_prem": 31.02711221122112,
          "id": 38007
         },
         {
          "avg_prem": 31.02711221122112,
          "id": 38009
         },
         {
          "avg_prem": 31.02711221122112,
          "id": 38011
         },
         {
          "avg_prem": 31.02711221122112,
          "id": 38013
         },
         {
          "avg_prem": 31.338465346534658,
          "id": 38015
         },
         {
          "avg_prem": 32.55843234323432,
          "id": 38017
         },
         {
          "avg_prem": 31.02711221122112,
          "id": 38019
         },
         {
          "avg_prem": 31.02711221122112,
          "id": 38021
         },
         {
          "avg_prem": 31.02711221122112,
          "id": 38023
         },
         {
          "avg_prem": 31.02711221122112,
          "id": 38025
         },
         {
          "avg_prem": 31.02711221122112,
          "id": 38027
         },
         {
          "avg_prem": 31.02711221122112,
          "id": 38029
         },
         {
          "avg_prem": 31.02711221122112,
          "id": 38031
         },
         {
          "avg_prem": 31.02711221122112,
          "id": 38033
         },
         {
          "avg_prem": 30.727508250825082,
          "id": 38035
         },
         {
          "avg_prem": 31.02711221122112,
          "id": 38037
         },
         {
          "avg_prem": 31.02711221122112,
          "id": 38039
         },
         {
          "avg_prem": 31.02711221122112,
          "id": 38041
         },
         {
          "avg_prem": 31.02711221122112,
          "id": 38043
         },
         {
          "avg_prem": 31.02711221122112,
          "id": 38045
         },
         {
          "avg_prem": 31.02711221122112,
          "id": 38047
         },
         {
          "avg_prem": 31.02711221122112,
          "id": 38049
         },
         {
          "avg_prem": 31.02711221122112,
          "id": 38051
         },
         {
          "avg_prem": 31.02711221122112,
          "id": 38053
         },
         {
          "avg_prem": 31.02711221122112,
          "id": 38055
         },
         {
          "avg_prem": 31.02711221122112,
          "id": 38057
         },
         {
          "avg_prem": 31.338465346534658,
          "id": 38059
         },
         {
          "avg_prem": 31.02711221122112,
          "id": 38061
         },
         {
          "avg_prem": 31.02711221122112,
          "id": 38063
         },
         {
          "avg_prem": 31.02711221122112,
          "id": 38065
         },
         {
          "avg_prem": 31.02711221122112,
          "id": 38067
         },
         {
          "avg_prem": 31.02711221122112,
          "id": 38069
         },
         {
          "avg_prem": 31.02711221122112,
          "id": 38071
         },
         {
          "avg_prem": 31.02711221122112,
          "id": 38073
         },
         {
          "avg_prem": 31.02711221122112,
          "id": 38075
         },
         {
          "avg_prem": 31.02711221122112,
          "id": 38077
         },
         {
          "avg_prem": 31.02711221122112,
          "id": 38079
         },
         {
          "avg_prem": 31.02711221122112,
          "id": 38081
         },
         {
          "avg_prem": 31.02711221122112,
          "id": 38083
         },
         {
          "avg_prem": 31.02711221122112,
          "id": 38085
         },
         {
          "avg_prem": 31.02711221122112,
          "id": 38087
         },
         {
          "avg_prem": 31.02711221122112,
          "id": 38089
         },
         {
          "avg_prem": 31.02711221122112,
          "id": 38091
         },
         {
          "avg_prem": 31.02711221122112,
          "id": 38093
         },
         {
          "avg_prem": 31.02711221122112,
          "id": 38095
         },
         {
          "avg_prem": 31.02711221122112,
          "id": 38097
         },
         {
          "avg_prem": 31.02711221122112,
          "id": 38099
         },
         {
          "avg_prem": 31.02711221122112,
          "id": 38101
         },
         {
          "avg_prem": 31.02711221122112,
          "id": 38103
         },
         {
          "avg_prem": 31.02711221122112,
          "id": 38105
         },
         {
          "avg_prem": 25.97960396039604,
          "id": 39001
         },
         {
          "avg_prem": 25.005605060506053,
          "id": 39003
         },
         {
          "avg_prem": 26.70461574728901,
          "id": 39005
         },
         {
          "avg_prem": 27.0460396039604,
          "id": 39007
         },
         {
          "avg_prem": 25.030962596259624,
          "id": 39009
         },
         {
          "avg_prem": 25.005605060506053,
          "id": 39011
         },
         {
          "avg_prem": 24.47497249724973,
          "id": 39013
         },
         {
          "avg_prem": 25.97960396039604,
          "id": 39015
         },
         {
          "avg_prem": 26.476331918906176,
          "id": 39017
         },
         {
          "avg_prem": 25.51369165487977,
          "id": 39019
         },
         {
          "avg_prem": 25.654611032531825,
          "id": 39021
         },
         {
          "avg_prem": 25.760709570957097,
          "id": 39023
         },
         {
          "avg_prem": 25.97960396039604,
          "id": 39025
         },
         {
          "avg_prem": 25.97960396039604,
          "id": 39027
         },
         {
          "avg_prem": 24.306671381423854,
          "id": 39029
         },
         {
          "avg_prem": 23.973140028288544,
          "id": 39031
         },
         {
          "avg_prem": 24.75612446958981,
          "id": 39033
         },
         {
          "avg_prem": 27.0460396039604,
          "id": 39035
         },
         {
          "avg_prem": 25.654611032531825,
          "id": 39037
         },
         {
          "avg_prem": 26.304510451045108,
          "id": 39039
         },
         {
          "avg_prem": 27.546892975011787,
          "id": 39041
         },
         {
          "avg_prem": 25.37793965110797,
          "id": 39043
         },
         {
          "avg_prem": 27.546892975011787,
          "id": 39045
         },
         {
          "avg_prem": 27.546892975011787,
          "id": 39047
         },
         {
          "avg_prem": 27.546892975011787,
          "id": 39049
         },
         {
          "avg_prem": 26.25936350777935,
          "id": 39051
         },
         {
          "avg_prem": 24.723723872387243,
          "id": 39053
         },
         {
          "avg_prem": 27.0460396039604,
          "id": 39055
         },
         {
          "avg_prem": 25.760709570957097,
          "id": 39057
         },
         {
          "avg_prem": 23.973140028288544,
          "id": 39059
         },
         {
          "avg_prem": 26.476331918906176,
          "id": 39061
         },
         {
          "avg_prem": 25.005605060506053,
          "id": 39063
         },
         {
          "avg_prem": 24.514898632720413,
          "id": 39065
         },
         {
          "avg_prem": 23.973140028288544,
          "id": 39067
         },
         {
          "avg_prem": 26.25936350777935,
          "id": 39069
         },
         {
          "avg_prem": 25.97960396039604,
          "id": 39071
         },
         {
          "avg_prem": 24.55206034889203,
          "id": 39073
         },
         {
          "avg_prem": 25.14662423385196,
          "id": 39075
         },
         {
          "avg_prem": 25.37793965110797,
          "id": 39077
         },
         {
          "avg_prem": 24.2725506836398,
          "id": 39079
         },
         {
          "avg_prem": 24.47497249724973,
          "id": 39081
         },
         {
          "avg_prem": 27.65426292629263,
          "id": 39083
         },
         {
          "avg_prem": 27.0460396039604,
          "id": 39085
         },
         {
          "avg_prem": 24.723723872387243,
          "id": 39087
         },
         {
          "avg_prem": 27.546892975011787,
          "id": 39089
         },
         {
          "avg_prem": 27.546892975011787,
          "id": 39091
         },
         {
          "avg_prem": 27.0460396039604,
          "id": 39093
         },
         {
          "avg_prem": 26.25936350777935,
          "id": 39095
         },
         {
          "avg_prem": 27.546892975011787,
          "id": 39097
         },
         {
          "avg_prem": 24.306671381423854,
          "id": 39099
         },
         {
          "avg_prem": 25.022333804809055,
          "id": 39101
         },
         {
          "avg_prem": 26.70461574728901,
          "id": 39103
         },
         {
          "avg_prem": 25.030962596259624,
          "id": 39105
         },
         {
          "avg_prem": 25.005605060506053,
          "id": 39107
         },
         {
          "avg_prem": 25.760709570957097,
          "id": 39109
         },
         {
          "avg_prem": 23.973140028288544,
          "id": 39111
         },
         {
          "avg_prem": 25.760709570957097,
          "id": 39113
         },
         {
          "avg_prem": 23.973140028288544,
          "id": 39115
         },
         {
          "avg_prem": 25.022333804809055,
          "id": 39117
         },
         {
          "avg_prem": 24.47497249724973,
          "id": 39119
         },
         {
          "avg_prem": 23.973140028288544,
          "id": 39121
         },
         {
          "avg_prem": 25.37793965110797,
          "id": 39123
         },
         {
          "avg_prem": 24.514898632720413,
          "id": 39125
         },
         {
          "avg_prem": 23.973140028288544,
          "id": 39127
         },
         {
          "avg_prem": 27.546892975011787,
          "id": 39129
         },
         {
          "avg_prem": 24.2725506836398,
          "id": 39131
         },
         {
          "avg_prem": 26.70461574728901,
          "id": 39133
         },
         {
          "avg_prem": 25.654611032531825,
          "id": 39135
         },
         {
          "avg_prem": 24.514898632720413,
          "id": 39137
         },
         {
          "avg_prem": 24.75612446958981,
          "id": 39139
         },
         {
          "avg_prem": 24.723723872387243,
          "id": 39141
         },
         {
          "avg_prem": 25.37793965110797,
          "id": 39143
         },
         {
          "avg_prem": 24.723723872387243,
          "id": 39145
         },
         {
          "avg_prem": 25.767607260726077,
          "id": 39147
         },
         {
          "avg_prem": 25.654611032531825,
          "id": 39149
         },
         {
          "avg_prem": 25.51369165487977,
          "id": 39151
         },
         {
          "avg_prem": 26.70461574728901,
          "id": 39153
         },
         {
          "avg_prem": 24.306671381423854,
          "id": 39155
         },
         {
          "avg_prem": 24.47497249724973,
          "id": 39157
         },
         {
          "avg_prem": 27.546892975011787,
          "id": 39159
         },
         {
          "avg_prem": 25.005605060506053,
          "id": 39161
         },
         {
          "avg_prem": 24.2725506836398,
          "id": 39163
         },
         {
          "avg_prem": 26.476331918906176,
          "id": 39165
         },
         {
          "avg_prem": 25.030962596259624,
          "id": 39167
         },
         {
          "avg_prem": 25.14662423385196,
          "id": 39169
         },
         {
          "avg_prem": 26.25936350777935,
          "id": 39171
         },
         {
          "avg_prem": 26.25936350777935,
          "id": 39173
         },
         {
          "avg_prem": 25.37793965110797,
          "id": 39175
         },
         {
          "avg_prem": 28.728790664780767,
          "id": 40001
         },
         {
          "avg_prem": 28.728790664780767,
          "id": 40003
         },
         {
          "avg_prem": 28.728790664780767,
          "id": 40005
         },
         {
          "avg_prem": 28.728790664780767,
          "id": 40007
         },
         {
          "avg_prem": 28.728790664780767,
          "id": 40009
         },
         {
          "avg_prem": 28.728790664780767,
          "id": 40011
         },
         {
          "avg_prem": 28.728790664780767,
          "id": 40013
         },
         {
          "avg_prem": 28.728790664780767,
          "id": 40015
         },
         {
          "avg_prem": 30.248380480905237,
          "id": 40017
         },
         {
          "avg_prem": 28.728790664780767,
          "id": 40019
         },
         {
          "avg_prem": 28.728790664780767,
          "id": 40021
         },
         {
          "avg_prem": 28.728790664780767,
          "id": 40023
         },
         {
          "avg_prem": 28.728790664780767,
          "id": 40025
         },
         {
          "avg_prem": 30.248380480905237,
          "id": 40027
         },
         {
          "avg_prem": 28.728790664780767,
          "id": 40029
         },
         {
          "avg_prem": 28.562574257425744,
          "id": 40031
         },
         {
          "avg_prem": 28.728790664780767,
          "id": 40033
         },
         {
          "avg_prem": 28.728790664780767,
          "id": 40035
         },
         {
          "avg_prem": 29.41592644978784,
          "id": 40037
         },
         {
          "avg_prem": 28.728790664780767,
          "id": 40039
         },
         {
          "avg_prem": 28.728790664780767,
          "id": 40041
         },
         {
          "avg_prem": 28.728790664780767,
          "id": 40043
         },
         {
          "avg_prem": 28.728790664780767,
          "id": 40045
         },
         {
          "avg_prem": 28.728790664780767,
          "id": 40047
         },
         {
          "avg_prem": 28.728790664780767,
          "id": 40049
         },
         {
          "avg_prem": 30.248380480905237,
          "id": 40051
         },
         {
          "avg_prem": 28.728790664780767,
          "id": 40053
         },
         {
          "avg_prem": 28.728790664780767,
          "id": 40055
         },
         {
          "avg_prem": 28.728790664780767,
          "id": 40057
         },
         {
          "avg_prem": 28.728790664780767,
          "id": 40059
         },
         {
          "avg_prem": 28.728790664780767,
          "id": 40061
         },
         {
          "avg_prem": 28.728790664780767,
          "id": 40063
         },
         {
          "avg_prem": 28.728790664780767,
          "id": 40065
         },
         {
          "avg_prem": 28.728790664780767,
          "id": 40067
         },
         {
          "avg_prem": 28.728790664780767,
          "id": 40069
         },
         {
          "avg_prem": 28.728790664780767,
          "id": 40071
         },
         {
          "avg_prem": 28.728790664780767,
          "id": 40073
         },
         {
          "avg_prem": 28.728790664780767,
          "id": 40075
         },
         {
          "avg_prem": 28.728790664780767,
          "id": 40077
         },
         {
          "avg_prem": 27.81256718528996,
          "id": 40079
         },
         {
          "avg_prem": 30.248380480905237,
          "id": 40081
         },
         {
          "avg_prem": 30.248380480905237,
          "id": 40083
         },
         {
          "avg_prem": 28.728790664780767,
          "id": 40085
         },
         {
          "avg_prem": 30.248380480905237,
          "id": 40087
         },
         {
          "avg_prem": 28.728790664780767,
          "id": 40089
         },
         {
          "avg_prem": 28.728790664780767,
          "id": 40091
         },
         {
          "avg_prem": 28.728790664780767,
          "id": 40093
         },
         {
          "avg_prem": 28.728790664780767,
          "id": 40095
         },
         {
          "avg_prem": 28.728790664780767,
          "id": 40097
         },
         {
          "avg_prem": 28.728790664780767,
          "id": 40099
         },
         {
          "avg_prem": 28.728790664780767,
          "id": 40101
         },
         {
          "avg_prem": 28.728790664780767,
          "id": 40103
         },
         {
          "avg_prem": 28.728790664780767,
          "id": 40105
         },
         {
          "avg_prem": 28.728790664780767,
          "id": 40107
         },
         {
          "avg_prem": 30.248380480905237,
          "id": 40109
         },
         {
          "avg_prem": 29.41592644978784,
          "id": 40111
         },
         {
          "avg_prem": 29.41592644978784,
          "id": 40113
         },
         {
          "avg_prem": 28.728790664780767,
          "id": 40115
         },
         {
          "avg_prem": 29.41592644978784,
          "id": 40117
         },
         {
          "avg_prem": 28.728790664780767,
          "id": 40119
         },
         {
          "avg_prem": 28.728790664780767,
          "id": 40121
         },
         {
          "avg_prem": 28.728790664780767,
          "id": 40123
         },
         {
          "avg_prem": 28.728790664780767,
          "id": 40125
         },
         {
          "avg_prem": 28.728790664780767,
          "id": 40127
         },
         {
          "avg_prem": 28.728790664780767,
          "id": 40129
         },
         {
          "avg_prem": 29.41592644978784,
          "id": 40131
         },
         {
          "avg_prem": 28.728790664780767,
          "id": 40133
         },
         {
          "avg_prem": 27.81256718528996,
          "id": 40135
         },
         {
          "avg_prem": 28.728790664780767,
          "id": 40137
         },
         {
          "avg_prem": 28.728790664780767,
          "id": 40139
         },
         {
          "avg_prem": 28.728790664780767,
          "id": 40141
         },
         {
          "avg_prem": 29.41592644978784,
          "id": 40143
         },
         {
          "avg_prem": 29.41592644978784,
          "id": 40145
         },
         {
          "avg_prem": 28.728790664780767,
          "id": 40147
         },
         {
          "avg_prem": 28.728790664780767,
          "id": 40149
         },
         {
          "avg_prem": 28.728790664780767,
          "id": 40151
         },
         {
          "avg_prem": 28.728790664780767,
          "id": 40153
         },
         {
          "avg_prem": 36.89402640264026,
          "id": 41001
         },
         {
          "avg_prem": 33.49049504950496,
          "id": 41003
         },
         {
          "avg_prem": 33.518826025459695,
          "id": 41005
         },
         {
          "avg_prem": 37.256419141914186,
          "id": 41007
         },
         {
          "avg_prem": 33.489413012729855,
          "id": 41009
         },
         {
          "avg_prem": 37.256419141914186,
          "id": 41011
         },
         {
          "avg_prem": 36.89402640264026,
          "id": 41013
         },
         {
          "avg_prem": 37.256419141914186,
          "id": 41015
         },
         {
          "avg_prem": 33.752133213321336,
          "id": 41017
         },
         {
          "avg_prem": 33.80827182718272,
          "id": 41019
         },
         {
          "avg_prem": 36.89402640264026,
          "id": 41021
         },
         {
          "avg_prem": 36.89402640264026,
          "id": 41023
         },
         {
          "avg_prem": 36.89402640264026,
          "id": 41025
         },
         {
          "avg_prem": 32.33220297029703,
          "id": 41027
         },
         {
          "avg_prem": 37.41087871287128,
          "id": 41029
         },
         {
          "avg_prem": 37.50689356435643,
          "id": 41031
         },
         {
          "avg_prem": 33.80827182718272,
          "id": 41033
         },
         {
          "avg_prem": 36.66308580858085,
          "id": 41035
         },
         {
          "avg_prem": 36.66308580858085,
          "id": 41037
         },
         {
          "avg_prem": 34.077146714671464,
          "id": 41039
         },
         {
          "avg_prem": 37.778688118811885,
          "id": 41041
         },
         {
          "avg_prem": 33.49049504950496,
          "id": 41043
         },
         {
          "avg_prem": 36.89402640264026,
          "id": 41045
         },
         {
          "avg_prem": 33.49049504950496,
          "id": 41047
         },
         {
          "avg_prem": 36.89402640264026,
          "id": 41049
         },
         {
          "avg_prem": 33.518826025459695,
          "id": 41051
         },
         {
          "avg_prem": 33.49049504950496,
          "id": 41053
         },
         {
          "avg_prem": 36.89402640264026,
          "id": 41055
         },
         {
          "avg_prem": 37.778688118811885,
          "id": 41057
         },
         {
          "avg_prem": 36.89402640264026,
          "id": 41059
         },
         {
          "avg_prem": 36.89402640264026,
          "id": 41061
         },
         {
          "avg_prem": 36.89402640264026,
          "id": 41063
         },
         {
          "avg_prem": 32.663124312431236,
          "id": 41065
         },
         {
          "avg_prem": 33.518826025459695,
          "id": 41067
         },
         {
          "avg_prem": 36.89402640264026,
          "id": 41069
         },
         {
          "avg_prem": 33.518826025459695,
          "id": 41071
         },
         {
          "avg_prem": 26.073047304730476,
          "id": 42001
         },
         {
          "avg_prem": 23.55456912357902,
          "id": 42003
         },
         {
          "avg_prem": 24.11616111611161,
          "id": 42005
         },
         {
          "avg_prem": 23.55456912357902,
          "id": 42007
         },
         {
          "avg_prem": 23.56080108010801,
          "id": 42009
         },
         {
          "avg_prem": 24.494390576988735,
          "id": 42011
         },
         {
          "avg_prem": 23.56080108010801,
          "id": 42013
         },
         {
          "avg_prem": 22.977907290729075,
          "id": 42015
         },
         {
          "avg_prem": 27.145474880821418,
          "id": 42017
         },
         {
          "avg_prem": 23.55456912357902,
          "id": 42019
         },
         {
          "avg_prem": 23.1020535386872,
          "id": 42021
         },
         {
          "avg_prem": 22.74857309260338,
          "id": 42023
         },
         {
          "avg_prem": 23.801623762376238,
          "id": 42025
         },
         {
          "avg_prem": 23.619490282361568,
          "id": 42027
         },
         {
          "avg_prem": 27.145474880821418,
          "id": 42029
         },
         {
          "avg_prem": 23.092668316831684,
          "id": 42031
         },
         {
          "avg_prem": 23.483845752996356,
          "id": 42033
         },
         {
          "avg_prem": 22.977907290729075,
          "id": 42035
         },
         {
          "avg_prem": 23.619490282361568,
          "id": 42037
         },
         {
          "avg_prem": 22.69084752475247,
          "id": 42039
         },
         {
          "avg_prem": 24.99975445544554,
          "id": 42041
         },
         {
          "avg_prem": 24.99975445544554,
          "id": 42043
         },
         {
          "avg_prem": 27.145474880821418,
          "id": 42045
         },
         {
          "avg_prem": 22.74857309260338,
          "id": 42047
         },
         {
          "avg_prem": 22.944198753208656,
          "id": 42049
         },
         {
          "avg_prem": 23.55456912357902,
          "id": 42051
         },
         {
          "avg_prem": 23.041310425160166,
          "id": 42053
         },
         {
          "avg_prem": 25.978801980198018,
          "id": 42055
         },
         {
          "avg_prem": 24.53303330333033,
          "id": 42057
         },
         {
          "avg_prem": 23.55456912357902,
          "id": 42059
         },
         {
          "avg_prem": 23.184775771694817,
          "id": 42061
         },
         {
          "avg_prem": 23.244308910891093,
          "id": 42063
         },
         {
          "avg_prem": 23.483845752996356,
          "id": 42065
         },
         {
          "avg_prem": 24.903411716171618,
          "id": 42067
         },
         {
          "avg_prem": 23.56818848551522,
          "id": 42069
         },
         {
          "avg_prem": 24.494390576988735,
          "id": 42071
         },
         {
          "avg_prem": 23.244308910891093,
          "id": 42073
         },
         {
          "avg_prem": 25.64560506050605,
          "id": 42075
         },
         {
          "avg_prem": 23.893543871628545,
          "id": 42077
         },
         {
          "avg_prem": 23.56818848551522,
          "id": 42079
         },
         {
          "avg_prem": 22.977907290729075,
          "id": 42081
         },
         {
          "avg_prem": 23.041310425160166,
          "id": 42083
         },
         {
          "avg_prem": 22.69084752475247,
          "id": 42085
         },
         {
          "avg_prem": 24.02797290255341,
          "id": 42087
         },
         {
          "avg_prem": 24.132875787578758,
          "id": 42089
         },
         {
          "avg_prem": 27.145474880821418,
          "id": 42091
         },
         {
          "avg_prem": 23.619490282361568,
          "id": 42093
         },
         {
          "avg_prem": 23.893543871628545,
          "id": 42095
         },
         {
          "avg_prem": 24.195837083708366,
          "id": 42097
         },
         {
          "avg_prem": 24.53303330333033,
          "id": 42099
         },
         {
          "avg_prem": 27.145474880821418,
          "id": 42101
         },
         {
          "avg_prem": 23.801623762376238,
          "id": 42103
         },
         {
          "avg_prem": 22.74857309260338,
          "id": 42105
         },
         {
          "avg_prem": 23.893543871628545,
          "id": 42107
         },
         {
          "avg_prem": 24.195837083708366,
          "id": 42109
         },
         {
          "avg_prem": 23.1020535386872,
          "id": 42111
         },
         {
          "avg_prem": 23.535066977285965,
          "id": 42113
         },
         {
          "avg_prem": 23.801623762376238,
          "id": 42115
         },
         {
          "avg_prem": 22.977907290729075,
          "id": 42117
         },
         {
          "avg_prem": 24.02797290255341,
          "id": 42119
         },
         {
          "avg_prem": 23.041310425160166,
          "id": 42121
         },
         {
          "avg_prem": 23.041310425160166,
          "id": 42123
         },
         {
          "avg_prem": 23.55456912357902,
          "id": 42125
         },
         {
          "avg_prem": 23.801623762376238,
          "id": 42127
         },
         {
          "avg_prem": 23.55456912357902,
          "id": 42129
         },
         {
          "avg_prem": 23.801623762376238,
          "id": 42131
         },
         {
          "avg_prem": 26.340683168316833,
          "id": 42133
         },
         {
          "avg_prem": 26.575291529152913,
          "id": 45001
         },
         {
          "avg_prem": 27.72013201320132,
          "id": 45003
         },
         {
          "avg_prem": 27.571936193619358,
          "id": 45005
         },
         {
          "avg_prem": 28.495160891089103,
          "id": 45007
         },
         {
          "avg_prem": 26.00321232123212,
          "id": 45009
         },
         {
          "avg_prem": 27.571936193619358,
          "id": 45011
         },
         {
          "avg_prem": 25.806963696369635,
          "id": 45013
         },
         {
          "avg_prem": 27.100605060506048,
          "id": 45015
         },
         {
          "avg_prem": 26.003212321232116,
          "id": 45017
         },
         {
          "avg_prem": 27.100605060506048,
          "id": 45019
         },
         {
          "avg_prem": 27.72013201320132,
          "id": 45021
         },
         {
          "avg_prem": 27.26580858085809,
          "id": 45023
         },
         {
          "avg_prem": 26.406182618261823,
          "id": 45025
         },
         {
          "avg_prem": 27.72013201320132,
          "id": 45027
         },
         {
          "avg_prem": 27.100605060506048,
          "id": 45029
         },
         {
          "avg_prem": 27.72013201320132,
          "id": 45031
         },
         {
          "avg_prem": 25.297821782178215,
          "id": 45033
         },
         {
          "avg_prem": 27.100605060506048,
          "id": 45035
         },
         {
          "avg_prem": 28.86617161716171,
          "id": 45037
         },
         {
          "avg_prem": 26.00321232123212,
          "id": 45039
         },
         {
          "avg_prem": 27.72013201320132,
          "id": 45041
         },
         {
          "avg_prem": 28.86617161716171,
          "id": 45043
         },
         {
          "avg_prem": 26.575291529152913,
          "id": 45045
         },
         {
          "avg_prem": 27.72013201320132,
          "id": 45047
         },
         {
          "avg_prem": 25.806963696369635,
          "id": 45049
         },
         {
          "avg_prem": 27.72013201320132,
          "id": 45051
         },
         {
          "avg_prem": 25.806963696369635,
          "id": 45053
         },
         {
          "avg_prem": 26.00321232123212,
          "id": 45055
         },
         {
          "avg_prem": 27.72013201320132,
          "id": 45057
         },
         {
          "avg_prem": 26.575291529152913,
          "id": 45059
         },
         {
          "avg_prem": 26.8007200720072,
          "id": 45061
         },
         {
          "avg_prem": 26.865373537353733,
          "id": 45063
         },
         {
          "avg_prem": 27.571936193619358,
          "id": 45065
         },
         {
          "avg_prem": 25.297821782178215,
          "id": 45067
         },
         {
          "avg_prem": 25.821503150315028,
          "id": 45069
         },
         {
          "avg_prem": 26.8007200720072,
          "id": 45071
         },
         {
          "avg_prem": 28.495160891089103,
          "id": 45073
         },
         {
          "avg_prem": 26.8007200720072,
          "id": 45075
         },
         {
          "avg_prem": 28.495160891089103,
          "id": 45077
         },
         {
          "avg_prem": 27.85295229522952,
          "id": 45079
         },
         {
          "avg_prem": 26.8007200720072,
          "id": 45081
         },
         {
          "avg_prem": 28.30607673267326,
          "id": 45083
         },
         {
          "avg_prem": 28.38747524752475,
          "id": 45085
         },
         {
          "avg_prem": 26.82067506750675,
          "id": 45087
         },
         {
          "avg_prem": 25.821503150315028,
          "id": 45089
         },
         {
          "avg_prem": 29.16560643564356,
          "id": 45091
         },
         {
          "avg_prem": 29.545247524752476,
          "id": 46003
         },
         {
          "avg_prem": 29.545247524752476,
          "id": 46005
         },
         {
          "avg_prem": 29.545247524752476,
          "id": 46007
         },
         {
          "avg_prem": 29.545247524752476,
          "id": 46009
         },
         {
          "avg_prem": 29.545247524752476,
          "id": 46011
         },
         {
          "avg_prem": 29.545247524752476,
          "id": 46013
         },
         {
          "avg_prem": 29.545247524752476,
          "id": 46015
         },
         {
          "avg_prem": 29.545247524752476,
          "id": 46017
         },
         {
          "avg_prem": 29.545247524752476,
          "id": 46019
         },
         {
          "avg_prem": 29.545247524752476,
          "id": 46021
         },
         {
          "avg_prem": 29.545247524752476,
          "id": 46023
         },
         {
          "avg_prem": 29.545247524752476,
          "id": 46025
         },
         {
          "avg_prem": 29.76346534653465,
          "id": 46027
         },
         {
          "avg_prem": 29.545247524752476,
          "id": 46029
         },
         {
          "avg_prem": 29.545247524752476,
          "id": 46031
         },
         {
          "avg_prem": 29.545247524752476,
          "id": 46033
         },
         {
          "avg_prem": 29.545247524752476,
          "id": 46035
         },
         {
          "avg_prem": 29.545247524752476,
          "id": 46037
         },
         {
          "avg_prem": 29.545247524752476,
          "id": 46039
         },
         {
          "avg_prem": 29.545247524752476,
          "id": 46041
         },
         {
          "avg_prem": 29.545247524752476,
          "id": 46043
         },
         {
          "avg_prem": 29.545247524752476,
          "id": 46045
         },
         {
          "avg_prem": 29.545247524752476,
          "id": 46047
         },
         {
          "avg_prem": 29.545247524752476,
          "id": 46049
         },
         {
          "avg_prem": 29.545247524752476,
          "id": 46051
         },
         {
          "avg_prem": 29.545247524752476,
          "id": 46053
         },
         {
          "avg_prem": 29.545247524752476,
          "id": 46055
         },
         {
          "avg_prem": 29.545247524752476,
          "id": 46057
         },
         {
          "avg_prem": 29.545247524752476,
          "id": 46059
         },
         {
          "avg_prem": 29.545247524752476,
          "id": 46061
         },
         {
          "avg_prem": 29.545247524752476,
          "id": 46063
         },
         {
          "avg_prem": 29.545247524752476,
          "id": 46065
         },
         {
          "avg_prem": 29.545247524752476,
          "id": 46067
         },
         {
          "avg_prem": 29.545247524752476,
          "id": 46069
         },
         {
          "avg_prem": 29.545247524752476,
          "id": 46071
         },
         {
          "avg_prem": 29.545247524752476,
          "id": 46073
         },
         {
          "avg_prem": 29.545247524752476,
          "id": 46075
         },
         {
          "avg_prem": 29.545247524752476,
          "id": 46077
         },
         {
          "avg_prem": 29.76346534653465,
          "id": 46079
         },
         {
          "avg_prem": 29.545247524752476,
          "id": 46081
         },
         {
          "avg_prem": 29.76346534653465,
          "id": 46083
         },
         {
          "avg_prem": 29.545247524752476,
          "id": 46085
         },
         {
          "avg_prem": 29.76346534653465,
          "id": 46087
         },
         {
          "avg_prem": 29.545247524752476,
          "id": 46089
         },
         {
          "avg_prem": 29.545247524752476,
          "id": 46091
         },
         {
          "avg_prem": 29.545247524752476,
          "id": 46093
         },
         {
          "avg_prem": 29.545247524752476,
          "id": 46095
         },
         {
          "avg_prem": 29.545247524752476,
          "id": 46097
         },
         {
          "avg_prem": 29.76346534653465,
          "id": 46099
         },
         {
          "avg_prem": 29.76346534653465,
          "id": 46101
         },
         {
          "avg_prem": 29.545247524752476,
          "id": 46103
         },
         {
          "avg_prem": 29.545247524752476,
          "id": 46105
         },
         {
          "avg_prem": 29.545247524752476,
          "id": 46107
         },
         {
          "avg_prem": 29.545247524752476,
          "id": 46109
         },
         {
          "avg_prem": 29.545247524752476,
          "id": 46111
         },
         {
          "avg_prem": 29.545247524752476,
          "id": 46113
         },
         {
          "avg_prem": 29.545247524752476,
          "id": 46115
         },
         {
          "avg_prem": 29.545247524752476,
          "id": 46117
         },
         {
          "avg_prem": 29.545247524752476,
          "id": 46119
         },
         {
          "avg_prem": 29.545247524752476,
          "id": 46121
         },
         {
          "avg_prem": 29.545247524752476,
          "id": 46123
         },
         {
          "avg_prem": 29.76346534653465,
          "id": 46125
         },
         {
          "avg_prem": 29.76346534653465,
          "id": 46127
         },
         {
          "avg_prem": 29.545247524752476,
          "id": 46129
         },
         {
          "avg_prem": 29.545247524752476,
          "id": 46135
         },
         {
          "avg_prem": 29.545247524752476,
          "id": 46137
         },
         {
          "avg_prem": 25.59907797029703,
          "id": 47001
         },
         {
          "avg_prem": 25.365549765502863,
          "id": 47003
         },
         {
          "avg_prem": 24.38206878582595,
          "id": 47005
         },
         {
          "avg_prem": 25.130078165711307,
          "id": 47007
         },
         {
          "avg_prem": 25.075570609692544,
          "id": 47009
         },
         {
          "avg_prem": 25.130078165711307,
          "id": 47011
         },
         {
          "avg_prem": 25.075570609692544,
          "id": 47013
         },
         {
          "avg_prem": 25.22122459614382,
          "id": 47015
         },
         {
          "avg_prem": 24.38206878582595,
          "id": 47017
         },
         {
          "avg_prem": 25.46569925742574,
          "id": 47019
         },
         {
          "avg_prem": 26.467743616466908,
          "id": 47021
         },
         {
          "avg_prem": 24.38206878582595,
          "id": 47023
         },
         {
          "avg_prem": 25.599077970297028,
          "id": 47025
         },
         {
          "avg_prem": 25.22122459614382,
          "id": 47027
         },
         {
          "avg_prem": 25.075570609692544,
          "id": 47029
         },
         {
          "avg_prem": 25.365549765502863,
          "id": 47031
         },
         {
          "avg_prem": 24.38206878582595,
          "id": 47033
         },
         {
          "avg_prem": 25.22122459614382,
          "id": 47035
         },
         {
          "avg_prem": 26.467743616466908,
          "id": 47037
         },
         {
          "avg_prem": 24.38206878582595,
          "id": 47039
         },
         {
          "avg_prem": 25.22122459614382,
          "id": 47041
         },
         {
          "avg_prem": 25.942196782178215,
          "id": 47043
         },
         {
          "avg_prem": 24.38206878582595,
          "id": 47045
         },
         {
          "avg_prem": 25.067274622199058,
          "id": 47047
         },
         {
          "avg_prem": 25.22122459614382,
          "id": 47049
         },
         {
          "avg_prem": 25.130078165711307,
          "id": 47051
         },
         {
          "avg_prem": 24.38206878582595,
          "id": 47053
         },
         {
          "avg_prem": 25.365549765502863,
          "id": 47055
         },
         {
          "avg_prem": 25.599077970297028,
          "id": 47057
         },
         {
          "avg_prem": 25.46569925742574,
          "id": 47059
         },
         {
          "avg_prem": 25.130078165711307,
          "id": 47061
         },
         {
          "avg_prem": 25.599077970297028,
          "id": 47063
         },
         {
          "avg_prem": 25.130078165711307,
          "id": 47065
         },
         {
          "avg_prem": 25.46569925742574,
          "id": 47067
         },
         {
          "avg_prem": 24.38206878582595,
          "id": 47069
         },
         {
          "avg_prem": 24.38206878582595,
          "id": 47071
         },
         {
          "avg_prem": 25.46569925742574,
          "id": 47073
         },
         {
          "avg_prem": 25.067274622199058,
          "id": 47075
         },
         {
          "avg_prem": 24.38206878582595,
          "id": 47077
         },
         {
          "avg_prem": 25.167679455445544,
          "id": 47079
         },
         {
          "avg_prem": 25.365549765502863,
          "id": 47081
         },
         {
          "avg_prem": 25.365549765502863,
          "id": 47083
         },
         {
          "avg_prem": 25.365549765502863,
          "id": 47085
         },
         {
          "avg_prem": 25.22122459614382,
          "id": 47087
         },
         {
          "avg_prem": 25.599077970297028,
          "id": 47089
         },
         {
          "avg_prem": 25.465699257425744,
          "id": 47091
         },
         {
          "avg_prem": 25.075570609692544,
          "id": 47093
         },
         {
          "avg_prem": 24.38206878582595,
          "id": 47095
         },
         {
          "avg_prem": 25.067274622199058,
          "id": 47097
         },
         {
          "avg_prem": 25.365549765502863,
          "id": 47099
         },
         {
          "avg_prem": 25.365549765502866,
          "id": 47101
         },
         {
          "avg_prem": 25.365549765502863,
          "id": 47103
         },
         {
          "avg_prem": 25.075570609692544,
          "id": 47105
         },
         {
          "avg_prem": 25.37595915841584,
          "id": 47107
         },
         {
          "avg_prem": 24.38206878582595,
          "id": 47109
         },
         {
          "avg_prem": 25.22122459614382,
          "id": 47111
         },
         {
          "avg_prem": 24.38206878582595,
          "id": 47113
         },
         {
          "avg_prem": 25.130078165711307,
          "id": 47115
         },
         {
          "avg_prem": 25.365549765502863,
          "id": 47117
         },
         {
          "avg_prem": 25.365549765502863,
          "id": 47119
         },
         {
          "avg_prem": 25.130078165711307,
          "id": 47121
         },
         {
          "avg_prem": 25.075570609692544,
          "id": 47123
         },
         {
          "avg_prem": 26.445414603960394,
          "id": 47125
         },
         {
          "avg_prem": 25.365549765502863,
          "id": 47127
         },
         {
          "avg_prem": 25.075570609692544,
          "id": 47129
         },
         {
          "avg_prem": 24.38206878582595,
          "id": 47131
         },
         {
          "avg_prem": 25.22122459614382,
          "id": 47133
         },
         {
          "avg_prem": 25.365549765502863,
          "id": 47135
         },
         {
          "avg_prem": 25.22122459614382,
          "id": 47137
         },
         {
          "avg_prem": 25.130078165711307,
          "id": 47139
         },
         {
          "avg_prem": 25.22122459614382,
          "id": 47141
         },
         {
          "avg_prem": 25.130078165711307,
          "id": 47143
         },
         {
          "avg_prem": 25.599077970297028,
          "id": 47145
         },
         {
          "avg_prem": 26.467743616466908,
          "id": 47147
         },
         {
          "avg_prem": 26.467743616466908,
          "id": 47149
         },
         {
          "avg_prem": 25.075570609692548,
          "id": 47151
         },
         {
          "avg_prem": 25.130078165711307,
          "id": 47153
         },
         {
          "avg_prem": 25.599077970297028,
          "id": 47155
         },
         {
          "avg_prem": 25.067274622199058,
          "id": 47157
         },
         {
          "avg_prem": 25.22122459614382,
          "id": 47159
         },
         {
          "avg_prem": 25.365549765502863,
          "id": 47161
         },
         {
          "avg_prem": 25.46569925742574,
          "id": 47163
         },
         {
          "avg_prem": 26.467743616466908,
          "id": 47165
         },
         {
          "avg_prem": 25.428644801980195,
          "id": 47167
         },
         {
          "avg_prem": 26.467743616466908,
          "id": 47169
         },
         {
          "avg_prem": 25.46569925742574,
          "id": 47171
         },
         {
          "avg_prem": 25.075570609692544,
          "id": 47173
         },
         {
          "avg_prem": 25.22122459614382,
          "id": 47175
         },
         {
          "avg_prem": 25.22122459614382,
          "id": 47177
         },
         {
          "avg_prem": 25.46569925742574,
          "id": 47179
         },
         {
          "avg_prem": 25.365549765502863,
          "id": 47181
         },
         {
          "avg_prem": 24.38206878582595,
          "id": 47183
         },
         {
          "avg_prem": 25.22122459614382,
          "id": 47185
         },
         {
          "avg_prem": 26.467743616466908,
          "id": 47187
         },
         {
          "avg_prem": 26.467743616466908,
          "id": 47189
         },
         {
          "avg_prem": 27.561203960396043,
          "id": 48001
         },
         {
          "avg_prem": 27.561203960396043,
          "id": 48003
         },
         {
          "avg_prem": 27.561203960396043,
          "id": 48005
         },
         {
          "avg_prem": 26.36289504950496,
          "id": 48007
         },
         {
          "avg_prem": 29.208807576409814,
          "id": 48009
         },
         {
          "avg_prem": 27.725733964700815,
          "id": 48011
         },
         {
          "avg_prem": 25.810540746382337,
          "id": 48013
         },
         {
          "avg_prem": 27.720658796648895,
          "id": 48015
         },
         {
          "avg_prem": 27.908118811881184,
          "id": 48017
         },
         {
          "avg_prem": 25.810540746382337,
          "id": 48019
         },
         {
          "avg_prem": 28.34921553693831,
          "id": 48021
         },
         {
          "avg_prem": 27.561203960396043,
          "id": 48023
         },
         {
          "avg_prem": 27.561203960396043,
          "id": 48025
         },
         {
          "avg_prem": 26.734021325209447,
          "id": 48027
         },
         {
          "avg_prem": 25.810540746382337,
          "id": 48029
         },
         {
          "avg_prem": 27.561203960396043,
          "id": 48031
         },
         {
          "avg_prem": 27.908118811881184,
          "id": 48033
         },
         {
          "avg_prem": 27.561203960396043,
          "id": 48035
         },
         {
          "avg_prem": 27.312178217821785,
          "id": 48037
         },
         {
          "avg_prem": 27.7206587966489,
          "id": 48039
         },
         {
          "avg_prem": 27.42059405940594,
          "id": 48041
         },
         {
          "avg_prem": 27.85246624662467,
          "id": 48043
         },
         {
          "avg_prem": 27.908118811881184,
          "id": 48045
         },
         {
          "avg_prem": 27.561203960396043,
          "id": 48047
         },
         {
          "avg_prem": 27.495734323432345,
          "id": 48049
         },
         {
          "avg_prem": 27.42059405940594,
          "id": 48051
         },
         {
          "avg_prem": 27.561203960396043,
          "id": 48053
         },
         {
          "avg_prem": 28.34921553693831,
          "id": 48055
         },
         {
          "avg_prem": 27.142574257425736,
          "id": 48057
         },
         {
          "avg_prem": 26.866938613861393,
          "id": 48059
         },
         {
          "avg_prem": 26.326459405940597,
          "id": 48061
         },
         {
          "avg_prem": 27.561203960396043,
          "id": 48063
         },
         {
          "avg_prem": 27.725733964700815,
          "id": 48065
         },
         {
          "avg_prem": 27.561203960396043,
          "id": 48067
         },
         {
          "avg_prem": 27.908118811881184,
          "id": 48069
         },
         {
          "avg_prem": 27.720658796648895,
          "id": 48071
         },
         {
          "avg_prem": 27.561203960396043,
          "id": 48073
         },
         {
          "avg_prem": 27.495734323432345,
          "id": 48075
         },
         {
          "avg_prem": 29.208807576409814,
          "id": 48077
         },
         {
          "avg_prem": 27.908118811881184,
          "id": 48079
         },
         {
          "avg_prem": 27.908118811881184,
          "id": 48081
         },
         {
          "avg_prem": 27.561203960396043,
          "id": 48083
         },
         {
          "avg_prem": 28.18980578827113,
          "id": 48085
         },
         {
          "avg_prem": 27.908118811881184,
          "id": 48087
         },
         {
          "avg_prem": 27.561203960396043,
          "id": 48089
         },
         {
          "avg_prem": 25.810540746382337,
          "id": 48091
         },
         {
          "avg_prem": 27.495734323432345,
          "id": 48093
         },
         {
          "avg_prem": 27.908118811881184,
          "id": 48095
         },
         {
          "avg_prem": 27.561203960396043,
          "id": 48097
         },
         {
          "avg_prem": 26.734021325209447,
          "id": 48099
         },
         {
          "avg_prem": 27.495734323432345,
          "id": 48101
         },
         {
          "avg_prem": 27.561203960396043,
          "id": 48103
         },
         {
          "avg_prem": 27.495734323432345,
          "id": 48105
         },
         {
          "avg_prem": 26.98769108910891,
          "id": 48107
         },
         {
          "avg_prem": 27.85246624662467,
          "id": 48109
         },
         {
          "avg_prem": 27.908118811881184,
          "id": 48111
         },
         {
          "avg_prem": 28.18980578827113,
          "id": 48113
         },
         {
          "avg_prem": 27.561203960396043,
          "id": 48115
         },
         {
          "avg_prem": 27.561203960396043,
          "id": 48117
         },
         {
          "avg_prem": 28.883370297029707,
          "id": 48119
         },
         {
          "avg_prem": 28.18980578827113,
          "id": 48121
         },
         {
          "avg_prem": 27.908118811881184,
          "id": 48123
         },
         {
          "avg_prem": 27.908118811881184,
          "id": 48125
         },
         {
          "avg_prem": 27.561203960396043,
          "id": 48127
         },
         {
          "avg_prem": 27.908118811881184,
          "id": 48129
         },
         {
          "avg_prem": 27.908118811881184,
          "id": 48131
         },
         {
          "avg_prem": 27.561203960396043,
          "id": 48133
         },
         {
          "avg_prem": 26.857639603960397,
          "id": 48135
         },
         {
          "avg_prem": 27.85246624662467,
          "id": 48137
         },
         {
          "avg_prem": 28.18980578827113,
          "id": 48139
         },
         {
          "avg_prem": 26.804261386138624,
          "id": 48141
         },
         {
          "avg_prem": 27.561203960396043,
          "id": 48143
         },
         {
          "avg_prem": 26.918492003046463,
          "id": 48145
         },
         {
          "avg_prem": 27.561203960396043,
          "id": 48147
         },
         {
          "avg_prem": 27.561203960396043,
          "id": 48149
         },
         {
          "avg_prem": 27.561203960396043,
          "id": 48151
         },
         {
          "avg_prem": 27.561203960396043,
          "id": 48153
         },
         {
          "avg_prem": 27.85246624662467,
          "id": 48155
         },
         {
          "avg_prem": 27.720658796648895,
          "id": 48157
         },
         {
          "avg_prem": 27.561203960396043,
          "id": 48159
         },
         {
          "avg_prem": 27.561203960396043,
          "id": 48161
         },
         {
          "avg_prem": 27.561203960396043,
          "id": 48163
         },
         {
          "avg_prem": 27.561203960396043,
          "id": 48165
         },
         {
          "avg_prem": 27.720658796648895,
          "id": 48167
         },
         {
          "avg_prem": 27.561203960396043,
          "id": 48169
         },
         {
          "avg_prem": 27.561203960396043,
          "id": 48171
         },
         {
          "avg_prem": 27.908118811881184,
          "id": 48173
         },
         {
          "avg_prem": 27.222170297029706,
          "id": 48175
         },
         {
          "avg_prem": 27.561203960396043,
          "id": 48177
         },
         {
          "avg_prem": 27.561203960396043,
          "id": 48179
         },
         {
          "avg_prem": 28.562460015232293,
          "id": 48181
         },
         {
          "avg_prem": 27.171394059405948,
          "id": 48183
         },
         {
          "avg_prem": 27.561203960396043,
          "id": 48185
         },
         {
          "avg_prem": 25.810540746382337,
          "id": 48187
         },
         {
          "avg_prem": 27.561203960396043,
          "id": 48189
         },
         {
          "avg_prem": 27.908118811881184,
          "id": 48191
         },
         {
          "avg_prem": 27.561203960396043,
          "id": 48193
         },
         {
          "avg_prem": 27.908118811881184,
          "id": 48195
         },
         {
          "avg_prem": 27.495734323432345,
          "id": 48197
         },
         {
          "avg_prem": 25.64587585681645,
          "id": 48199
         },
         {
          "avg_prem": 27.720658796648895,
          "id": 48201
         },
         {
          "avg_prem": 27.561203960396043,
          "id": 48203
         },
         {
          "avg_prem": 27.908118811881184,
          "id": 48205
         },
         {
          "avg_prem": 27.561203960396043,
          "id": 48207
         },
         {
          "avg_prem": 28.34921553693831,
          "id": 48209
         },
         {
          "avg_prem": 27.908118811881184,
          "id": 48211
         },
         {
          "avg_prem": 27.561203960396043,
          "id": 48213
         },
         {
          "avg_prem": 26.326459405940604,
          "id": 48215
         },
         {
          "avg_prem": 27.561203960396043,
          "id": 48217
         },
         {
          "avg_prem": 27.561203960396043,
          "id": 48219
         },
         {
          "avg_prem": 26.918492003046463,
          "id": 48221
         },
         {
          "avg_prem": 27.561203960396043,
          "id": 48223
         },
         {
          "avg_prem": 27.561203960396043,
          "id": 48225
         },
         {
          "avg_prem": 27.561203960396043,
          "id": 48227
         },
         {
          "avg_prem": 27.908118811881184,
          "id": 48229
         },
         {
          "avg_prem": 28.883370297029696,
          "id": 48231
         },
         {
          "avg_prem": 27.561203960396043,
          "id": 48233
         },
         {
          "avg_prem": 27.40824795523031,
          "id": 48235
         },
         {
          "avg_prem": 27.561203960396043,
          "id": 48237
         },
         {
          "avg_prem": 27.495734323432345,
          "id": 48239
         },
         {
          "avg_prem": 27.495734323432345,
          "id": 48241
         },
         {
          "avg_prem": 27.85246624662467,
          "id": 48243
         },
         {
          "avg_prem": 25.64587585681645,
          "id": 48245
         },
         {
          "avg_prem": 27.561203960396043,
          "id": 48247
         },
         {
          "avg_prem": 27.561203960396043,
          "id": 48249
         },
         {
          "avg_prem": 28.18980578827113,
          "id": 48251
         },
         {
          "avg_prem": 26.866938613861393,
          "id": 48253
         },
         {
          "avg_prem": 27.561203960396043,
          "id": 48255
         },
         {
          "avg_prem": 28.18980578827113,
          "id": 48257
         },
         {
          "avg_prem": 25.810540746382337,
          "id": 48259
         },
         {
          "avg_prem": 27.561203960396043,
          "id": 48261
         },
         {
          "avg_prem": 27.908118811881184,
          "id": 48263
         },
         {
          "avg_prem": 27.561203960396043,
          "id": 48265
         },
         {
          "avg_prem": 27.561203960396043,
          "id": 48267
         },
         {
          "avg_prem": 27.908118811881184,
          "id": 48269
         },
         {
          "avg_prem": 27.85246624662467,
          "id": 48271
         },
         {
          "avg_prem": 27.561203960396043,
          "id": 48273
         },
         {
          "avg_prem": 27.908118811881184,
          "id": 48275
         },
         {
          "avg_prem": 27.561203960396043,
          "id": 48277
         },
         {
          "avg_prem": 27.561203960396043,
          "id": 48279
         },
         {
          "avg_prem": 26.734021325209447,
          "id": 48281
         },
         {
          "avg_prem": 27.561203960396043,
          "id": 48283
         },
         {
          "avg_prem": 27.561203960396043,
          "id": 48285
         },
         {
          "avg_prem": 27.561203960396043,
          "id": 48287
         },
         {
          "avg_prem": 27.561203960396043,
          "id": 48289
         },
         {
          "avg_prem": 27.720658796648895,
          "id": 48291
         },
         {
          "avg_prem": 27.561203960396043,
          "id": 48293
         },
         {
          "avg_prem": 27.85246624662467,
          "id": 48295
         },
         {
          "avg_prem": 27.561203960396043,
          "id": 48297
         },
         {
          "avg_prem": 27.561203960396043,
          "id": 48299
         },
         {
          "avg_prem": 27.908118811881184,
          "id": 48301
         },
         {
          "avg_prem": 26.98769108910891,
          "id": 48303
         },
         {
          "avg_prem": 27.561203960396043,
          "id": 48305
         },
         {
          "avg_prem": 27.908118811881184,
          "id": 48307
         },
         {
          "avg_prem": 25.80316450875857,
          "id": 48309
         },
         {
          "avg_prem": 27.561203960396043,
          "id": 48311
         },
         {
          "avg_prem": 27.561203960396043,
          "id": 48313
         },
         {
          "avg_prem": 27.561203960396043,
          "id": 48315
         },
         {
          "avg_prem": 27.561203960396043,
          "id": 48317
         },
         {
          "avg_prem": 27.561203960396043,
          "id": 48319
         },
         {
          "avg_prem": 27.561203960396043,
          "id": 48321
         },
         {
          "avg_prem": 27.495734323432345,
          "id": 48323
         },
         {
          "avg_prem": 25.810540746382337,
          "id": 48325
         },
         {
          "avg_prem": 27.908118811881184,
          "id": 48327
         },
         {
          "avg_prem": 26.857639603960408,
          "id": 48329
         },
         {
          "avg_prem": 27.561203960396043,
          "id": 48331
         },
         {
          "avg_prem": 27.561203960396043,
          "id": 48333
         },
         {
          "avg_prem": 27.561203960396043,
          "id": 48335
         },
         {
          "avg_prem": 27.561203960396043,
          "id": 48337
         },
         {
          "avg_prem": 27.720658796648895,
          "id": 48339
         },
         {
          "avg_prem": 27.561203960396043,
          "id": 48341
         },
         {
          "avg_prem": 27.561203960396043,
          "id": 48343
         },
         {
          "avg_prem": 27.908118811881184,
          "id": 48345
         },
         {
          "avg_prem": 27.561203960396043,
          "id": 48347
         },
         {
          "avg_prem": 26.918492003046463,
          "id": 48349
         },
         {
          "avg_prem": 27.495734323432345,
          "id": 48351
         },
         {
          "avg_prem": 27.561203960396043,
          "id": 48353
         },
         {
          "avg_prem": 26.36289504950496,
          "id": 48355
         },
         {
          "avg_prem": 27.85246624662467,
          "id": 48357
         },
         {
          "avg_prem": 27.908118811881184,
          "id": 48359
         },
         {
          "avg_prem": 26.11706683168316,
          "id": 48361
         },
         {
          "avg_prem": 26.918492003046463,
          "id": 48363
         },
         {
          "avg_prem": 27.561203960396043,
          "id": 48365
         },
         {
          "avg_prem": 28.18980578827113,
          "id": 48367
         },
         {
          "avg_prem": 27.495734323432345,
          "id": 48369
         },
         {
          "avg_prem": 27.908118811881184,
          "id": 48371
         },
         {
          "avg_prem": 27.561203960396043,
          "id": 48373
         },
         {
          "avg_prem": 27.3934099009901,
          "id": 48375
         },
         {
          "avg_prem": 27.85246624662467,
          "id": 48377
         },
         {
          "avg_prem": 27.561203960396043,
          "id": 48379
         },
         {
          "avg_prem": 27.3934099009901,
          "id": 48381
         },
         {
          "avg_prem": 27.908118811881184,
          "id": 48383
         },
         {
          "avg_prem": 27.561203960396043,
          "id": 48385
         },
         {
          "avg_prem": 27.561203960396043,
          "id": 48387
         },
         {
          "avg_prem": 27.908118811881184,
          "id": 48389
         },
         {
          "avg_prem": 27.561203960396043,
          "id": 48391
         },
         {
          "avg_prem": 27.908118811881184,
          "id": 48393
         },
         {
          "avg_prem": 27.42059405940594,
          "id": 48395
         },
         {
          "avg_prem": 28.18980578827113,
          "id": 48397
         },
         {
          "avg_prem": 27.561203960396043,
          "id": 48399
         },
         {
          "avg_prem": 27.171394059405948,
          "id": 48401
         },
         {
          "avg_prem": 27.495734323432345,
          "id": 48403
         },
         {
          "avg_prem": 27.561203960396043,
          "id": 48405
         },
         {
          "avg_prem": 27.720658796648895,
          "id": 48407
         },
         {
          "avg_prem": 26.36289504950496,
          "id": 48409
         },
         {
          "avg_prem": 27.561203960396043,
          "id": 48411
         },
         {
          "avg_prem": 27.85246624662467,
          "id": 48413
         },
         {
          "avg_prem": 27.495734323432345,
          "id": 48415
         },
         {
          "avg_prem": 27.908118811881184,
          "id": 48417
         },
         {
          "avg_prem": 27.561203960396043,
          "id": 48419
         },
         {
          "avg_prem": 27.908118811881184,
          "id": 48421
         },
         {
          "avg_prem": 27.171394059405948,
          "id": 48423
         },
         {
          "avg_prem": 26.918492003046463,
          "id": 48425
         },
         {
          "avg_prem": 27.561203960396043,
          "id": 48427
         },
         {
          "avg_prem": 27.561203960396043,
          "id": 48429
         },
         {
          "avg_prem": 27.908118811881184,
          "id": 48431
         },
         {
          "avg_prem": 27.908118811881184,
          "id": 48433
         },
         {
          "avg_prem": 27.85246624662467,
          "id": 48435
         },
         {
          "avg_prem": 27.561203960396043,
          "id": 48437
         },
         {
          "avg_prem": 28.18980578827113,
          "id": 48439
         },
         {
          "avg_prem": 26.866938613861393,
          "id": 48441
         },
         {
          "avg_prem": 27.85246624662467,
          "id": 48443
         },
         {
          "avg_prem": 27.561203960396043,
          "id": 48445
         },
         {
          "avg_prem": 27.908118811881184,
          "id": 48447
         },
         {
          "avg_prem": 27.561203960396043,
          "id": 48449
         },
         {
          "avg_prem": 27.32987398739873,
          "id": 48451
         },
         {
          "avg_prem": 28.34921553693831,
          "id": 48453
         },
         {
          "avg_prem": 27.561203960396043,
          "id": 48455
         },
         {
          "avg_prem": 27.561203960396043,
          "id": 48457
         },
         {
          "avg_prem": 27.171394059405948,
          "id": 48459
         },
         {
          "avg_prem": 27.908118811881184,
          "id": 48461
         },
         {
          "avg_prem": 27.561203960396043,
          "id": 48463
         },
         {
          "avg_prem": 27.85246624662467,
          "id": 48465
         },
         {
          "avg_prem": 27.561203960396043,
          "id": 48467
         },
         {
          "avg_prem": 27.142574257425736,
          "id": 48469
         },
         {
          "avg_prem": 27.561203960396043,
          "id": 48471
         },
         {
          "avg_prem": 27.720658796648895,
          "id": 48473
         },
         {
          "avg_prem": 27.561203960396043,
          "id": 48475
         },
         {
          "avg_prem": 27.561203960396043,
          "id": 48477
         },
         {
          "avg_prem": 26.990249504950498,
          "id": 48479
         },
         {
          "avg_prem": 27.561203960396043,
          "id": 48481
         },
         {
          "avg_prem": 27.908118811881184,
          "id": 48483
         },
         {
          "avg_prem": 28.75783762376238,
          "id": 48485
         },
         {
          "avg_prem": 27.495734323432345,
          "id": 48487
         },
         {
          "avg_prem": 27.561203960396043,
          "id": 48489
         },
         {
          "avg_prem": 28.34921553693831,
          "id": 48491
         },
         {
          "avg_prem": 25.810540746382337,
          "id": 48493
         },
         {
          "avg_prem": 27.561203960396043,
          "id": 48495
         },
         {
          "avg_prem": 28.883370297029696,
          "id": 48497
         },
         {
          "avg_prem": 27.561203960396043,
          "id": 48499
         },
         {
          "avg_prem": 27.495734323432345,
          "id": 48501
         },
         {
          "avg_prem": 27.561203960396043,
          "id": 48503
         },
         {
          "avg_prem": 27.561203960396043,
          "id": 48505
         },
         {
          "avg_prem": 27.908118811881184,
          "id": 48507
         },
         {
          "avg_prem": 26.273110561056104,
          "id": 49001
         },
         {
          "avg_prem": 26.77721249047982,
          "id": 49003
         },
         {
          "avg_prem": 27.05517136329017,
          "id": 49005
         },
         {
          "avg_prem": 26.42511805026657,
          "id": 49007
         },
         {
          "avg_prem": 26.273110561056104,
          "id": 49009
         },
         {
          "avg_prem": 27.057960396039604,
          "id": 49011
         },
         {
          "avg_prem": 26.42511805026657,
          "id": 49013
         },
         {
          "avg_prem": 26.42511805026657,
          "id": 49015
         },
         {
          "avg_prem": 26.273110561056104,
          "id": 49017
         },
         {
          "avg_prem": 26.273110561056104,
          "id": 49019
         },
         {
          "avg_prem": 26.227638994668702,
          "id": 49021
         },
         {
          "avg_prem": 26.42511805026657,
          "id": 49023
         },
         {
          "avg_prem": 26.273110561056104,
          "id": 49025
         },
         {
          "avg_prem": 26.42511805026657,
          "id": 49027
         },
         {
          "avg_prem": 26.77721249047982,
          "id": 49029
         },
         {
          "avg_prem": 26.273110561056104,
          "id": 49031
         },
         {
          "avg_prem": 27.05517136329017,
          "id": 49033
         },
         {
          "avg_prem": 27.057960396039604,
          "id": 49035
         },
         {
          "avg_prem": 26.273110561056104,
          "id": 49037
         },
         {
          "avg_prem": 26.42511805026657,
          "id": 49039
         },
         {
          "avg_prem": 26.42511805026657,
          "id": 49041
         },
         {
          "avg_prem": 27.953412033511047,
          "id": 49043
         },
         {
          "avg_prem": 27.953412033511047,
          "id": 49045
         },
         {
          "avg_prem": 26.42511805026657,
          "id": 49047
         },
         {
          "avg_prem": 25.944818481848188,
          "id": 49049
         },
         {
          "avg_prem": 27.953412033511047,
          "id": 49051
         },
         {
          "avg_prem": 26.227638994668702,
          "id": 49053
         },
         {
          "avg_prem": 26.273110561056104,
          "id": 49055
         },
         {
          "avg_prem": 26.038587458745877,
          "id": 49057
         },
         {
          "avg_prem": 25.627475247524753,
          "id": 51001
         },
         {
          "avg_prem": 25.824592173503074,
          "id": 51003
         },
         {
          "avg_prem": 26.030829797265444,
          "id": 51005
         },
         {
          "avg_prem": 25.943943894389445,
          "id": 51007
         },
         {
          "avg_prem": 25.551315417256017,
          "id": 51009
         },
         {
          "avg_prem": 25.248320957095718,
          "id": 51011
         },
         {
          "avg_prem": 27.178661213947482,
          "id": 51013
         },
         {
          "avg_prem": 26.030829797265444,
          "id": 51015
         },
         {
          "avg_prem": 25.627475247524757,
          "id": 51017
         },
         {
          "avg_prem": 25.55131541725602,
          "id": 51019
         },
         {
          "avg_prem": 26.94774882751434,
          "id": 51021
         },
         {
          "avg_prem": 25.859915134370585,
          "id": 51023
         },
         {
          "avg_prem": 25.627475247524757,
          "id": 51025
         },
         {
          "avg_prem": 26.382691269126916,
          "id": 51027
         },
         {
          "avg_prem": 25.627475247524757,
          "id": 51029
         },
         {
          "avg_prem": 27.780118811881195,
          "id": 51031
         },
         {
          "avg_prem": 25.943943894389445,
          "id": 51033
         },
         {
          "avg_prem": 28.451438943894395,
          "id": 51035
         },
         {
          "avg_prem": 25.943943894389445,
          "id": 51036
         },
         {
          "avg_prem": 25.627475247524757,
          "id": 51037
         },
         {
          "avg_prem": 25.943943894389445,
          "id": 51041
         },
         {
          "avg_prem": 26.52378712871287,
          "id": 51043
         },
         {
          "avg_prem": 25.859915134370578,
          "id": 51045
         },
         {
          "avg_prem": 25.627475247524757,
          "id": 51047
         },
         {
          "avg_prem": 25.943943894389445,
          "id": 51049
         },
         {
          "avg_prem": 26.382691269126916,
          "id": 51051
         },
         {
          "avg_prem": 25.943943894389445,
          "id": 51053
         },
         {
          "avg_prem": 25.627475247524757,
          "id": 51057
         },
         {
          "avg_prem": 27.310468392993148,
          "id": 51059
         },
         {
          "avg_prem": 26.52378712871287,
          "id": 51061
         },
         {
          "avg_prem": 27.510198019801987,
          "id": 51063
         },
         {
          "avg_prem": 25.385028877887795,
          "id": 51065
         },
         {
          "avg_prem": 28.21215841584159,
          "id": 51067
         },
         {
          "avg_prem": 25.916848184818488,
          "id": 51069
         },
         {
          "avg_prem": 28.20179537953796,
          "id": 51071
         },
         {
          "avg_prem": 25.56076320132014,
          "id": 51073
         },
         {
          "avg_prem": 25.943943894389445,
          "id": 51075
         },
         {
          "avg_prem": 28.45143894389439,
          "id": 51077
         },
         {
          "avg_prem": 25.385028877887795,
          "id": 51079
         },
         {
          "avg_prem": 25.627475247524757,
          "id": 51081
         },
         {
          "avg_prem": 25.627475247524757,
          "id": 51083
         },
         {
          "avg_prem": 25.943943894389445,
          "id": 51085
         },
         {
          "avg_prem": 25.943943894389445,
          "id": 51087
         },
         {
          "avg_prem": 28.451438943894395,
          "id": 51089
         },
         {
          "avg_prem": 25.627475247524757,
          "id": 51091
         },
         {
          "avg_prem": 25.56076320132014,
          "id": 51093
         },
         {
          "avg_prem": 25.56076320132014,
          "id": 51095
         },
         {
          "avg_prem": 25.943943894389445,
          "id": 51097
         },
         {
          "avg_prem": 25.627475247524757,
          "id": 51099
         },
         {
          "avg_prem": 25.943943894389445,
          "id": 51101
         },
         {
          "avg_prem": 25.627475247524757,
          "id": 51103
         },
         {
          "avg_prem": 26.94774882751434,
          "id": 51105
         },
         {
          "avg_prem": 27.310468392993148,
          "id": 51107
         },
         {
          "avg_prem": 25.943943894389445,
          "id": 51109
         },
         {
          "avg_prem": 25.627475247524757,
          "id": 51111
         },
         {
          "avg_prem": 25.627475247524757,
          "id": 51113
         },
         {
          "avg_prem": 25.560763201320132,
          "id": 51115
         },
         {
          "avg_prem": 25.627475247524757,
          "id": 51117
         },
         {
          "avg_prem": 25.627475247524757,
          "id": 51119
         },
         {
          "avg_prem": 28.20179537953796,
          "id": 51121
         },
         {
          "avg_prem": 25.385028877887795,
          "id": 51125
         },
         {
          "avg_prem": 25.943943894389445,
          "id": 51127
         },
         {
          "avg_prem": 25.627475247524757,
          "id": 51131
         },
         {
          "avg_prem": 25.627475247524757,
          "id": 51133
         },
         {
          "avg_prem": 25.627475247524757,
          "id": 51135
         },
         {
          "avg_prem": 25.627475247524757,
          "id": 51137
         },
         {
          "avg_prem": 25.627475247524746,
          "id": 51139
         },
         {
          "avg_prem": 27.510198019801987,
          "id": 51141
         },
         {
          "avg_prem": 26.393486190724342,
          "id": 51143
         },
         {
          "avg_prem": 25.943943894389445,
          "id": 51145
         },
         {
          "avg_prem": 25.627475247524757,
          "id": 51147
         },
         {
          "avg_prem": 25.943943894389445,
          "id": 51149
         },
         {
          "avg_prem": 27.310468392993148,
          "id": 51153
         },
         {
          "avg_prem": 28.20179537953796,
          "id": 51155
         },
         {
          "avg_prem": 25.627475247524757,
          "id": 51157
         },
         {
          "avg_prem": 25.627475247524757,
          "id": 51159
         },
         {
          "avg_prem": 28.21215841584159,
          "id": 51161
         },
         {
          "avg_prem": 26.030829797265444,
          "id": 51163
         },
         {
          "avg_prem": 25.455899339934003,
          "id": 51165
         },
         {
          "avg_prem": 26.382691269126916,
          "id": 51167
         },
         {
          "avg_prem": 25.628172817281733,
          "id": 51169
         },
         {
          "avg_prem": 25.627475247524757,
          "id": 51171
         },
         {
          "avg_prem": 26.94774882751434,
          "id": 51173
         },
         {
          "avg_prem": 25.627475247524757,
          "id": 51175
         },
         {
          "avg_prem": 26.52378712871287,
          "id": 51177
         },
         {
          "avg_prem": 26.52378712871287,
          "id": 51179
         },
         {
          "avg_prem": 25.56076320132014,
          "id": 51181
         },
         {
          "avg_prem": 25.943943894389438,
          "id": 51183
         },
         {
          "avg_prem": 26.94774882751434,
          "id": 51185
         },
         {
          "avg_prem": 26.52378712871287,
          "id": 51187
         },
         {
          "avg_prem": 26.15397602918187,
          "id": 51191
         },
         {
          "avg_prem": 25.627475247524757,
          "id": 51193
         },
         {
          "avg_prem": 26.382691269126916,
          "id": 51195
         },
         {
          "avg_prem": 28.451438943894395,
          "id": 51197
         },
         {
          "avg_prem": 25.56076320132014,
          "id": 51199
         },
         {
          "avg_prem": 27.178661213947482,
          "id": 51510
         },
         {
          "avg_prem": 25.55131541725602,
          "id": 51515
         },
         {
          "avg_prem": 26.15397602918187,
          "id": 51520
         },
         {
          "avg_prem": 26.030829797265444,
          "id": 51530
         },
         {
          "avg_prem": 25.385028877887795,
          "id": 51540
         },
         {
          "avg_prem": 25.56076320132014,
          "id": 51550
         },
         {
          "avg_prem": 25.943943894389445,
          "id": 51570
         },
         {
          "avg_prem": 26.030829797265444,
          "id": 51580
         },
         {
          "avg_prem": 25.94810531053106,
          "id": 51590
         },
         {
          "avg_prem": 25.627475247524757,
          "id": 51595
         },
         {
          "avg_prem": 27.178661213947482,
          "id": 51600
         },
         {
          "avg_prem": 27.178661213947482,
          "id": 51610
         },
         {
          "avg_prem": 25.627475247524757,
          "id": 51620
         },
         {
          "avg_prem": 26.52378712871287,
          "id": 51630
         },
         {
          "avg_prem": 27.510198019801987,
          "id": 51640
         },
         {
          "avg_prem": 25.56076320132014,
          "id": 51650
         },
         {
          "avg_prem": 26.67996352266806,
          "id": 51660
         },
         {
          "avg_prem": 25.943943894389445,
          "id": 51670
         },
         {
          "avg_prem": 26.030829797265444,
          "id": 51678
         },
         {
          "avg_prem": 25.55131541725602,
          "id": 51680
         },
         {
          "avg_prem": 26.52378712871287,
          "id": 51683
         },
         {
          "avg_prem": 26.52378712871287,
          "id": 51685
         },
         {
          "avg_prem": 28.451438943894395,
          "id": 51690
         },
         {
          "avg_prem": 25.56076320132014,
          "id": 51700
         },
         {
          "avg_prem": 25.56076320132014,
          "id": 51710
         },
         {
          "avg_prem": 26.382691269126916,
          "id": 51720
         },
         {
          "avg_prem": 25.943943894389445,
          "id": 51730
         },
         {
          "avg_prem": 25.56076320132014,
          "id": 51735
         },
         {
          "avg_prem": 25.56076320132014,
          "id": 51740
         },
         {
          "avg_prem": 28.20179537953796,
          "id": 51750
         },
         {
          "avg_prem": 25.943943894389445,
          "id": 51760
         },
         {
          "avg_prem": 28.21215841584159,
          "id": 51770
         },
         {
          "avg_prem": 28.21215841584159,
          "id": 51775
         },
         {
          "avg_prem": 26.030829797265444,
          "id": 51790
         },
         {
          "avg_prem": 25.56076320132014,
          "id": 51800
         },
         {
          "avg_prem": 25.56076320132014,
          "id": 51810
         },
         {
          "avg_prem": 26.030829797265444,
          "id": 51820
         },
         {
          "avg_prem": 25.56076320132014,
          "id": 51830
         },
         {
          "avg_prem": 25.916848184818488,
          "id": 51840
         },
         {
          "avg_prem": 22.042260726072602,
          "id": 54001
         },
         {
          "avg_prem": 25.14886138613861,
          "id": 54003
         },
         {
          "avg_prem": 22.809125412541253,
          "id": 54005
         },
         {
          "avg_prem": 22.69206270627063,
          "id": 54007
         },
         {
          "avg_prem": 25.14886138613861,
          "id": 54009
         },
         {
          "avg_prem": 22.54570957095709,
          "id": 54011
         },
         {
          "avg_prem": 22.69206270627063,
          "id": 54013
         },
         {
          "avg_prem": 22.69206270627063,
          "id": 54015
         },
         {
          "avg_prem": 21.88343234323432,
          "id": 54017
         },
         {
          "avg_prem": 22.69206270627063,
          "id": 54019
         },
         {
          "avg_prem": 21.88343234323432,
          "id": 54021
         },
         {
          "avg_prem": 22.369306930693067,
          "id": 54023
         },
         {
          "avg_prem": 22.69206270627063,
          "id": 54025
         },
         {
          "avg_prem": 22.369306930693067,
          "id": 54027
         },
         {
          "avg_prem": 25.14886138613861,
          "id": 54029
         },
         {
          "avg_prem": 22.369306930693067,
          "id": 54031
         },
         {
          "avg_prem": 22.042260726072602,
          "id": 54033
         },
         {
          "avg_prem": 22.128465346534654,
          "id": 54035
         },
         {
          "avg_prem": 25.14886138613861,
          "id": 54037
         },
         {
          "avg_prem": 23.784158415841574,
          "id": 54039
         },
         {
          "avg_prem": 21.88343234323432,
          "id": 54041
         },
         {
          "avg_prem": 22.809125412541253,
          "id": 54043
         },
         {
          "avg_prem": 22.809125412541253,
          "id": 54045
         },
         {
          "avg_prem": 22.809125412541253,
          "id": 54047
         },
         {
          "avg_prem": 21.88343234323432,
          "id": 54049
         },
         {
          "avg_prem": 25.14886138613861,
          "id": 54051
         },
         {
          "avg_prem": 22.54570957095709,
          "id": 54053
         },
         {
          "avg_prem": 23.577656765676565,
          "id": 54055
         },
         {
          "avg_prem": 22.369306930693067,
          "id": 54057
         },
         {
          "avg_prem": 22.809125412541253,
          "id": 54059
         },
         {
          "avg_prem": 21.88343234323432,
          "id": 54061
         },
         {
          "avg_prem": 23.577656765676565,
          "id": 54063
         },
         {
          "avg_prem": 22.369306930693067,
          "id": 54065
         },
         {
          "avg_prem": 22.69206270627063,
          "id": 54067
         },
         {
          "avg_prem": 25.14886138613861,
          "id": 54069
         },
         {
          "avg_prem": 22.369306930693067,
          "id": 54071
         },
         {
          "avg_prem": 22.128465346534654,
          "id": 54073
         },
         {
          "avg_prem": 22.042260726072602,
          "id": 54075
         },
         {
          "avg_prem": 22.042260726072602,
          "id": 54077
         },
         {
          "avg_prem": 22.54570957095709,
          "id": 54079
         },
         {
          "avg_prem": 23.577656765676565,
          "id": 54081
         },
         {
          "avg_prem": 22.042260726072602,
          "id": 54083
         },
         {
          "avg_prem": 22.128465346534654,
          "id": 54085
         },
         {
          "avg_prem": 22.69206270627063,
          "id": 54087
         },
         {
          "avg_prem": 23.577656765676565,
          "id": 54089
         },
         {
          "avg_prem": 22.042260726072602,
          "id": 54091
         },
         {
          "avg_prem": 22.042260726072602,
          "id": 54093
         },
         {
          "avg_prem": 22.128465346534654,
          "id": 54095
         },
         {
          "avg_prem": 22.042260726072602,
          "id": 54097
         },
         {
          "avg_prem": 22.54570957095709,
          "id": 54099
         },
         {
          "avg_prem": 22.042260726072602,
          "id": 54101
         },
         {
          "avg_prem": 21.88343234323432,
          "id": 54103
         },
         {
          "avg_prem": 22.128465346534654,
          "id": 54105
         },
         {
          "avg_prem": 22.128465346534654,
          "id": 54107
         },
         {
          "avg_prem": 22.809125412541253,
          "id": 54109
         },
         {
          "avg_prem": 31.823199257425742,
          "id": 55001
         },
         {
          "avg_prem": 31.6158644325971,
          "id": 55003
         },
         {
          "avg_prem": 31.84474485910129,
          "id": 55005
         },
         {
          "avg_prem": 31.6158644325971,
          "id": 55007
         },
         {
          "avg_prem": 32.385216584158414,
          "id": 55009
         },
         {
          "avg_prem": 31.72492764661081,
          "id": 55011
         },
         {
          "avg_prem": 31.405247524752472,
          "id": 55013
         },
         {
          "avg_prem": 32.41139232673267,
          "id": 55015
         },
         {
          "avg_prem": 32.004661081492756,
          "id": 55017
         },
         {
          "avg_prem": 31.61612004950495,
          "id": 55019
         },
         {
          "avg_prem": 31.99194925742574,
          "id": 55021
         },
         {
          "avg_prem": 31.77688499619192,
          "id": 55023
         },
         {
          "avg_prem": 32.28891707920792,
          "id": 55025
         },
         {
          "avg_prem": 32.796709824828625,
          "id": 55027
         },
         {
          "avg_prem": 32.79132520944401,
          "id": 55029
         },
         {
          "avg_prem": 31.6158644325971,
          "id": 55031
         },
         {
          "avg_prem": 31.721144801980195,
          "id": 55033
         },
         {
          "avg_prem": 32.004661081492756,
          "id": 55035
         },
         {
          "avg_prem": 31.811850247524752,
          "id": 55037
         },
         {
          "avg_prem": 32.41139232673267,
          "id": 55039
         },
         {
          "avg_prem": 31.811850247524752,
          "id": 55041
         },
         {
          "avg_prem": 31.77688499619192,
          "id": 55043
         },
         {
          "avg_prem": 31.99194925742574,
          "id": 55045
         },
         {
          "avg_prem": 31.823199257425742,
          "id": 55047
         },
         {
          "avg_prem": 30.787308168316827,
          "id": 55049
         },
         {
          "avg_prem": 32.08564356435643,
          "id": 55051
         },
         {
          "avg_prem": 31.72492764661081,
          "id": 55053
         },
         {
          "avg_prem": 31.99194925742574,
          "id": 55055
         },
         {
          "avg_prem": 31.823199257425742,
          "id": 55057
         },
         {
          "avg_prem": 32.16029084158416,
          "id": 55059
         },
         {
          "avg_prem": 32.385216584158414,
          "id": 55061
         },
         {
          "avg_prem": 31.72492764661081,
          "id": 55063
         },
         {
          "avg_prem": 30.787308168316827,
          "id": 55065
         },
         {
          "avg_prem": 32.08564356435643,
          "id": 55067
         },
         {
          "avg_prem": 32.27252856054835,
          "id": 55069
         },
         {
          "avg_prem": 32.79132520944401,
          "id": 55071
         },
         {
          "avg_prem": 32.27252856054835,
          "id": 55073
         },
         {
          "avg_prem": 32.79132520944401,
          "id": 55075
         },
         {
          "avg_prem": 31.823199257425742,
          "id": 55077
         },
         {
          "avg_prem": 32.385216584158414,
          "id": 55078
         },
         {
          "avg_prem": 31.483638613861384,
          "id": 55079
         },
         {
          "avg_prem": 31.72492764661081,
          "id": 55081
         },
         {
          "avg_prem": 32.385216584158414,
          "id": 55083
         },
         {
          "avg_prem": 32.08564356435643,
          "id": 55085
         },
         {
          "avg_prem": 32.41139232673267,
          "id": 55087
         },
         {
          "avg_prem": 31.85971534653465,
          "id": 55089
         },
         {
          "avg_prem": 31.721144801980195,
          "id": 55091
         },
         {
          "avg_prem": 32.620779702970296,
          "id": 55093
         },
         {
          "avg_prem": 32.620779702970296,
          "id": 55095
         },
         {
          "avg_prem": 31.96369430693069,
          "id": 55097
         },
         {
          "avg_prem": 31.84474485910129,
          "id": 55099
         },
         {
          "avg_prem": 32.16029084158416,
          "id": 55101
         },
         {
          "avg_prem": 31.823199257425742,
          "id": 55103
         },
         {
          "avg_prem": 31.99194925742574,
          "id": 55105
         },
         {
          "avg_prem": 31.84474485910129,
          "id": 55107
         },
         {
          "avg_prem": 32.620779702970296,
          "id": 55109
         },
         {
          "avg_prem": 31.823199257425742,
          "id": 55111
         },
         {
          "avg_prem": 31.6158644325971,
          "id": 55113
         },
         {
          "avg_prem": 32.385216584158414,
          "id": 55115
         },
         {
          "avg_prem": 32.796709824828625,
          "id": 55117
         },
         {
          "avg_prem": 31.84474485910129,
          "id": 55119
         },
         {
          "avg_prem": 31.72492764661081,
          "id": 55121
         },
         {
          "avg_prem": 31.77688499619192,
          "id": 55123
         },
         {
          "avg_prem": 32.08564356435643,
          "id": 55125
         },
         {
          "avg_prem": 31.99194925742574,
          "id": 55127
         },
         {
          "avg_prem": 31.405247524752472,
          "id": 55129
         },
         {
          "avg_prem": 31.85971534653465,
          "id": 55131
         },
         {
          "avg_prem": 31.85971534653465,
          "id": 55133
         },
         {
          "avg_prem": 32.41139232673267,
          "id": 55135
         },
         {
          "avg_prem": 32.41139232673267,
          "id": 55137
         },
         {
          "avg_prem": 32.41139232673267,
          "id": 55139
         },
         {
          "avg_prem": 32.27252856054835,
          "id": 55141
         },
         {
          "avg_prem": 33.75711221122112,
          "id": 56001
         },
         {
          "avg_prem": 33.75711221122112,
          "id": 56003
         },
         {
          "avg_prem": 33.75711221122112,
          "id": 56005
         },
         {
          "avg_prem": 33.75711221122112,
          "id": 56007
         },
         {
          "avg_prem": 33.75711221122112,
          "id": 56009
         },
         {
          "avg_prem": 33.75711221122112,
          "id": 56011
         },
         {
          "avg_prem": 33.75711221122112,
          "id": 56013
         },
         {
          "avg_prem": 33.75711221122112,
          "id": 56015
         },
         {
          "avg_prem": 33.75711221122112,
          "id": 56017
         },
         {
          "avg_prem": 33.75711221122112,
          "id": 56019
         },
         {
          "avg_prem": 33.75711221122112,
          "id": 56021
         },
         {
          "avg_prem": 33.75711221122112,
          "id": 56023
         },
         {
          "avg_prem": 33.75711221122112,
          "id": 56025
         },
         {
          "avg_prem": 33.75711221122112,
          "id": 56027
         },
         {
          "avg_prem": 33.75711221122112,
          "id": 56029
         },
         {
          "avg_prem": 33.75711221122112,
          "id": 56031
         },
         {
          "avg_prem": 33.75711221122112,
          "id": 56033
         },
         {
          "avg_prem": 33.75711221122112,
          "id": 56035
         },
         {
          "avg_prem": 33.75711221122112,
          "id": 56037
         },
         {
          "avg_prem": 33.75711221122112,
          "id": 56039
         },
         {
          "avg_prem": 33.75711221122112,
          "id": 56041
         },
         {
          "avg_prem": 33.75711221122112,
          "id": 56043
         },
         {
          "avg_prem": 33.75711221122112,
          "id": 56045
         }
        ]
       },
       "layer": [
        {
         "data": {
          "format": {
           "feature": "states",
           "type": "topojson"
          },
          "url": "https://vega.github.io/vega-datasets/data/us-10m.json"
         },
         "height": 350,
         "mark": {
          "fill": "lightgray",
          "stroke": "black",
          "type": "geoshape"
         },
         "projection": {
          "type": "albersUsa"
         },
         "width": 700
        },
        {
         "data": {
          "format": {
           "feature": "counties",
           "type": "topojson"
          },
          "url": "https://vega.github.io/vega-datasets/data/us-10m.json"
         },
         "encoding": {
          "color": {
           "field": "avg_prem",
           "legend": {
            "tickCount": 6,
            "title": "Avr Premium"
           },
           "scale": {
            "scheme": "plasma"
           },
           "sort": "descending",
           "type": "quantitative"
          }
         },
         "height": 300,
         "mark": "geoshape",
         "projection": {
          "type": "albersUsa"
         },
         "title": "Average Dental Insurance Premium by County",
         "transform": [
          {
           "from": {
            "data": {
             "name": "data-a4cceaff734985c29e9fd5b5bc5947af"
            },
            "fields": [
             "avg_prem"
            ],
            "key": "id"
           },
           "lookup": "id"
          }
         ],
         "width": 500
        }
       ]
      },
      "image/png": "[encoded data removed]",
      "text/plain": [
       "<VegaLite 2 object>\n",
       "\n",
       "If you see this message, it means the renderer has not been properly enabled\n",
       "for the frontend that you are using. For more information, see\n",
       "https://altair-viz.github.io/user_guide/troubleshooting.html\n"
      ]
     },
     "execution_count": 15,
     "metadata": {},
     "output_type": "execute_result"
    }
   ],
   "source": [
    "counties = alt.topo_feature(data.us_10m.url, 'counties')\n",
    "county_source = county_prem_df\n",
    "\n",
    "foreground = alt.Chart(counties).mark_geoshape(\n",
    "    ).encode(\n",
    "    color=alt.Color('avg_prem:Q', sort=\"descending\",  scale=alt.Scale(scheme='plasma'), legend=alt.Legend(title=\"Avr Premium\", tickCount=6))\n",
    ").transform_lookup(\n",
    "    lookup='id',\n",
    "    from_=alt.LookupData(county_source, 'id', ['avg_prem'])\n",
    ").project(\n",
    "    type='albersUsa'\n",
    ").properties(\n",
    "    title=\"Average Dental Insurance Premium by County\",\n",
    "    width=500,\n",
    "    height=300\n",
    ")\n",
    "\n",
    "background = alt.Chart(states).mark_geoshape(\n",
    "    fill='lightgray',\n",
    "    stroke='black'\n",
    ").properties(\n",
    "    width=700,\n",
    "    height=350\n",
    ").project('albersUsa')\n",
    "\n",
    "config = alt.layer(background, foreground).configure_title(fontSize=20, anchor=\"middle\").configure_legend(titleColor='black', titleFontSize=14) \n",
    "\n",
    "config"
   ]
  },
  {
   "cell_type": "markdown",
   "metadata": {
    "colab_type": "text",
    "id": "fTIJR9myscgi"
   },
   "source": [
    "# Visualizations - Charts"
   ]
  },
  {
   "cell_type": "code",
   "execution_count": 23,
   "metadata": {
    "colab": {
     "base_uri": "https://localhost:8080/",
     "height": 816
    },
    "colab_type": "code",
    "id": "75GPSrIMlgu9",
    "outputId": "84ab7bf4-98a0-4d84-d619-4dbc093417a7"
   },
   "outputs": [
    {
     "data": {
      "text/plain": [
       "Index(['State Code', 'FIPS County Code', 'County Name', 'Metal Level',\n",
       "       'Issuer Name', 'HIOS Issuer ID', 'Plan ID (Standard Component)',\n",
       "       'Plan Marketing Name', 'Plan Type', 'Rating Area',\n",
       "       'Routine Dental Services - Adult (Coverage)',\n",
       "       'Basic Dental Care - Adult (Coverage)',\n",
       "       'Major Dental Care - Adult (Coverage)',\n",
       "       'Orthodontia - Adult (Coverage)',\n",
       "       'Dental Check-Up for Children (Coverage)',\n",
       "       'Basic Dental Care - Child (Coverage)',\n",
       "       'Major Dental Care - Child (Coverage)',\n",
       "       'Orthodontia - Child (Coverage)', 'Premium Child',\n",
       "       'Premium Adult Individual Age 21', 'Premium Adult Individual Age 27',\n",
       "       'Premium Adult Individual Age 30 ', 'Premium Adult Individual Age 40 ',\n",
       "       'Premium Adult Individual Age 50 ', 'Premium Adult Individual Age 60 ',\n",
       "       'Premium Couple 21  ', 'Premium Couple 30 ', 'Premium Couple 40 ',\n",
       "       'Premium Couple 50 ', 'Premium Couple 60 ', 'Couple+1 child, Age 21',\n",
       "       'Couple+1 child, Age 30 ', 'Couple+1 child, Age 40 ',\n",
       "       'Couple+1 child, Age 50 ', 'Couple+2 children, Age 21',\n",
       "       'Couple+2 children, Age 30 ', 'Couple+2 children, Age 40 ',\n",
       "       'Couple+2 children, Age 50', 'Couple+3 or more Children, Age 21',\n",
       "       'Couple+3 or more Children, Age 30',\n",
       "       'Couple+3 or more Children, Age 40',\n",
       "       'Couple+3 or more Children, Age 50', 'Individual+1 child, Age 21',\n",
       "       'Individual+1 child, Age 30', 'Individual+1 child, Age 40',\n",
       "       'Individual+1 child, Age 50', 'Individual+2 children, Age 21',\n",
       "       'Individual+2 children, Age 30', 'Individual+2 children, Age 40',\n",
       "       'Individual+2 children, Age 50',\n",
       "       'Individual+3 or more children, Age 21',\n",
       "       'Individual+3 or more children, Age 30',\n",
       "       'Individual+3 or more children, Age 40',\n",
       "       'Individual+3 or more children, Age 50',\n",
       "       'Dental Deductible - Individual - Standard',\n",
       "       'Dental Deductible - Family - Standard',\n",
       "       'Dental Deductible - Family (Per Person) - Standard',\n",
       "       'Dental Maximum Out of Pocket - Individual - Standard',\n",
       "       'Dental Maximum Out of Pocket - Family - Standard',\n",
       "       'Dental Maximum Out of Pocket - Family (Per Person) - Standard',\n",
       "       'Routine Dental Services - Adult', 'Basic Dental Care - Adult',\n",
       "       'Major Dental Care - Adult', 'Orthodontia - Adult',\n",
       "       'Dental Check-Up for Children', 'Basic Dental Care - Child',\n",
       "       'Major Dental Care - Child', 'Orthodontia - Child', 'StateID',\n",
       "       'StateFreq', 'State', 'StateID_Geo', 'Pop Density', 'Population',\n",
       "       'Area', 'CountyID', 'IssuerID', 'PlanMarketingID', 'PlanID Encoded',\n",
       "       'SERFF', 'Avg Premium', 'PlansPer100K', 'Issuer_MP', 'State_MP',\n",
       "       'County_MP', 'RatingArea_MP', 'PlansPer100K_MP', 'MarketingID_MP',\n",
       "       'PopDensity_MP', 'PopDensityBins', 'PopDensityBin_MP'],\n",
       "      dtype='object')"
      ]
     },
     "execution_count": 23,
     "metadata": {},
     "output_type": "execute_result"
    }
   ],
   "source": [
    "df.columns"
   ]
  },
  {
   "cell_type": "code",
   "execution_count": 24,
   "metadata": {
    "colab": {},
    "colab_type": "code",
    "id": "ai4xpeFawXA8"
   },
   "outputs": [],
   "source": [
    "# issuer dataframe\n",
    "inv_issuer_dict = pd.Series(df['Issuer Name'].values,index=df['IssuerID']).to_dict()\n",
    "issuer_prem_df = feature_by_premium('IssuerID')\n",
    "issuer_prem_df = issuer_prem_df[:20]\n",
    "issuer_prem_df['Issuer Name'] = issuer_prem_df['id'].map(inv_issuer_dict)\n",
    "issuer_prem_df = issuer_prem_df.sort_values('avg_prem')"
   ]
  },
  {
   "cell_type": "code",
   "execution_count": 25,
   "metadata": {
    "colab": {
     "base_uri": "https://localhost:8080/",
     "height": 357
    },
    "colab_type": "code",
    "id": "7laXeSyfuU90",
    "outputId": "3a5b8d3f-ee58-48b1-9d00-cf4dd89f15fc"
   },
   "outputs": [
    {
     "data": {
      "text/plain": [
       "['Dominion Dental Services, Inc.',\n",
       " 'Humana Insurance Company',\n",
       " 'Alpha Dental Programs, Inc.',\n",
       " 'DentaQuest USA Insurance Company, Inc.',\n",
       " 'Blue Cross and Blue Shield of Georgia, Inc.',\n",
       " 'Dental Care Plus, Inc.',\n",
       " 'DSM USA Insurance Company, Inc.',\n",
       " 'Guardian Life Insurance Company of America',\n",
       " 'Cigna Health and Life Insurance Company',\n",
       " 'Blue Cross Blue Shield of Texas',\n",
       " 'DSM USA Insurance Company Inc',\n",
       " 'The Guardian Life Insurance Company',\n",
       " 'Delta Dental of Nebraska',\n",
       " 'Educators Health Plans Life, Accident, and Health,',\n",
       " 'Delta Dental Insurance Company',\n",
       " 'Renaissance Life & Health Insurance Company of America',\n",
       " 'Dentegra Insurance Company',\n",
       " 'BEST Life and Health Insurance Company',\n",
       " 'Delta Dental of Minnesota',\n",
       " 'TRUASSURE INSURANCE COMPANY']"
      ]
     },
     "execution_count": 25,
     "metadata": {},
     "output_type": "execute_result"
    }
   ],
   "source": [
    "issuer_prem_order_list = issuer_prem_df['Issuer Name'].tolist()\n",
    "issuer_prem_order_list"
   ]
  },
  {
   "cell_type": "code",
   "execution_count": 26,
   "metadata": {
    "colab": {
     "base_uri": "https://localhost:8080/",
     "height": 390
    },
    "colab_type": "code",
    "id": "G0yCw3qllkaG",
    "outputId": "24c28032-34d2-40c6-f797-a8bb49811b2b"
   },
   "outputs": [
    {
     "data": {
      "text/html": [
       "<div>\n",
       "<style scoped>\n",
       "    .dataframe tbody tr th:only-of-type {\n",
       "        vertical-align: middle;\n",
       "    }\n",
       "\n",
       "    .dataframe tbody tr th {\n",
       "        vertical-align: top;\n",
       "    }\n",
       "\n",
       "    .dataframe thead th {\n",
       "        text-align: right;\n",
       "    }\n",
       "</style>\n",
       "<table border=\"1\" class=\"dataframe\">\n",
       "  <thead>\n",
       "    <tr style=\"text-align: right;\">\n",
       "      <th></th>\n",
       "      <th>avg_prem</th>\n",
       "      <th>id</th>\n",
       "      <th>bin</th>\n",
       "    </tr>\n",
       "    <tr>\n",
       "      <th>PopDensityBins</th>\n",
       "      <th></th>\n",
       "      <th></th>\n",
       "      <th></th>\n",
       "    </tr>\n",
       "  </thead>\n",
       "  <tbody>\n",
       "    <tr>\n",
       "      <th>0</th>\n",
       "      <td>30.574</td>\n",
       "      <td>0</td>\n",
       "      <td>0 - 37</td>\n",
       "    </tr>\n",
       "    <tr>\n",
       "      <th>1</th>\n",
       "      <td>30.410</td>\n",
       "      <td>1</td>\n",
       "      <td>37 - 58</td>\n",
       "    </tr>\n",
       "    <tr>\n",
       "      <th>2</th>\n",
       "      <td>27.144</td>\n",
       "      <td>2</td>\n",
       "      <td>58 - 90</td>\n",
       "    </tr>\n",
       "    <tr>\n",
       "      <th>3</th>\n",
       "      <td>28.016</td>\n",
       "      <td>3</td>\n",
       "      <td>90 - 110</td>\n",
       "    </tr>\n",
       "    <tr>\n",
       "      <th>4</th>\n",
       "      <td>23.983</td>\n",
       "      <td>4</td>\n",
       "      <td>110 - 165</td>\n",
       "    </tr>\n",
       "    <tr>\n",
       "      <th>5</th>\n",
       "      <td>28.363</td>\n",
       "      <td>5</td>\n",
       "      <td>165 - 185</td>\n",
       "    </tr>\n",
       "    <tr>\n",
       "      <th>6</th>\n",
       "      <td>28.309</td>\n",
       "      <td>6</td>\n",
       "      <td>185 - 210</td>\n",
       "    </tr>\n",
       "    <tr>\n",
       "      <th>7</th>\n",
       "      <td>27.819</td>\n",
       "      <td>7</td>\n",
       "      <td>210 - 220</td>\n",
       "    </tr>\n",
       "    <tr>\n",
       "      <th>8</th>\n",
       "      <td>26.608</td>\n",
       "      <td>8</td>\n",
       "      <td>220 - 286</td>\n",
       "    </tr>\n",
       "    <tr>\n",
       "      <th>9</th>\n",
       "      <td>24.461</td>\n",
       "      <td>9</td>\n",
       "      <td>286+</td>\n",
       "    </tr>\n",
       "  </tbody>\n",
       "</table>\n",
       "</div>"
      ],
      "text/plain": [
       "                avg_prem id        bin\n",
       "PopDensityBins                        \n",
       "0                 30.574  0     0 - 37\n",
       "1                 30.410  1    37 - 58\n",
       "2                 27.144  2    58 - 90\n",
       "3                 28.016  3   90 - 110\n",
       "4                 23.983  4  110 - 165\n",
       "5                 28.363  5  165 - 185\n",
       "6                 28.309  6  185 - 210\n",
       "7                 27.819  7  210 - 220\n",
       "8                 26.608  8  220 - 286\n",
       "9                 24.461  9       286+"
      ]
     },
     "execution_count": 26,
     "metadata": {},
     "output_type": "execute_result"
    }
   ],
   "source": [
    "pop_density_dict = {0: '0 - 37', 1: '37 - 58', 2: '58 - 90', 3: '90 - 110', 4: '110 - 165', 5: '165 - 185', \n",
    "                    6: '185 - 210', 7: '210 - 220', 8: '220 - 286', 9: '286+'}\n",
    "\n",
    "pop_density_order_list = list(pop_density_dict.values())\n",
    "\n",
    "pop_density_df = feature_by_premium('PopDensityBins')\n",
    "pop_density_df['bin'] = pop_density_df['id'].map(pop_density_dict)\n",
    "pop_density_df"
   ]
  },
  {
   "cell_type": "code",
   "execution_count": null,
   "metadata": {
    "colab": {},
    "colab_type": "code",
    "id": "-5JWBvmDmfSg"
   },
   "outputs": [],
   "source": []
  },
  {
   "cell_type": "code",
   "execution_count": 27,
   "metadata": {
    "colab": {},
    "colab_type": "code",
    "id": "qkO479pvurv5"
   },
   "outputs": [],
   "source": [
    "# set seaborn style to white background\n",
    "sns.set(style=\"white\")"
   ]
  },
  {
   "cell_type": "code",
   "execution_count": 28,
   "metadata": {
    "colab": {
     "base_uri": "https://localhost:8080/",
     "height": 519
    },
    "colab_type": "code",
    "id": "Ga1KLASFur1l",
    "outputId": "fc553e2b-ca86-4d33-850f-242772db8889"
   },
   "outputs": [
    {
     "data": {
      "image/png": "[encoded data removed]",
      "text/plain": [
       "<Figure size 864x576 with 1 Axes>"
      ]
     },
     "metadata": {},
     "output_type": "display_data"
    }
   ],
   "source": [
    "# average dental insurance nontly premium sorted by least expensive\n",
    "plt.figure(figsize=(12,8))\n",
    "sns.barplot(y='Issuer Name', x='avg_prem', data=issuer_prem_df.sort_values('avg_prem', ascending = True));\n",
    "\n",
    "plt.ylabel('')\n",
    "plt.xlabel('Average Premium')\n",
    "plt.title('Average Dental Insurance Monthly Premium by Issuer', fontsize=22);"
   ]
  },
  {
   "cell_type": "code",
   "execution_count": 29,
   "metadata": {
    "colab": {
     "base_uri": "https://localhost:8080/",
     "height": 547
    },
    "colab_type": "code",
    "id": "BwgSARNRx9Fd",
    "outputId": "b3694485-8466-4864-ae88-5f27eb28dd8c"
   },
   "outputs": [
    {
     "data": {
      "application/vnd.vegalite.v2+json": {
       "$schema": "https://vega.github.io/schema/vega-lite/v2.6.0.json",
       "config": {
        "axis": {
         "labelFontSize": 12,
         "titleFontSize": 12
        },
        "background": "white",
        "title": {
         "fontSize": 24
        },
        "view": {
         "height": 300,
         "width": 400
        }
       },
       "data": {
        "name": "data-5154c1bf113ab62849c03ee7f9cee9a7"
       },
       "datasets": {
        "data-5154c1bf113ab62849c03ee7f9cee9a7": [
         {
          "Issuer Name": "Dominion Dental Services, Inc.",
          "avg_prem": 18.747045738472163,
          "id": 7
         },
         {
          "Issuer Name": "Humana Insurance Company",
          "avg_prem": 20.36539080240055,
          "id": 6
         },
         {
          "Issuer Name": "Alpha Dental Programs, Inc.",
          "avg_prem": 21.5663285512226,
          "id": 19
         },
         {
          "Issuer Name": "DentaQuest USA Insurance Company, Inc.",
          "avg_prem": 23.006562030128386,
          "id": 13
         },
         {
          "Issuer Name": "Blue Cross and Blue Shield of Georgia, Inc.",
          "avg_prem": 23.195445544554484,
          "id": 16
         },
         {
          "Issuer Name": "Dental Care Plus, Inc.",
          "avg_prem": 23.38502048703577,
          "id": 5
         },
         {
          "Issuer Name": "DSM USA Insurance Company, Inc.",
          "avg_prem": 23.581647270966496,
          "id": 14
         },
         {
          "Issuer Name": "Guardian Life Insurance Company of America",
          "avg_prem": 24.389577732607716,
          "id": 9
         },
         {
          "Issuer Name": "Cigna Health and Life Insurance Company",
          "avg_prem": 24.465415451057737,
          "id": 17
         },
         {
          "Issuer Name": "Blue Cross Blue Shield of Texas",
          "avg_prem": 24.471469816272943,
          "id": 10
         },
         {
          "Issuer Name": "DSM USA Insurance Company Inc",
          "avg_prem": 24.94762268030102,
          "id": 15
         },
         {
          "Issuer Name": "The Guardian Life Insurance Company",
          "avg_prem": 25.221208911862615,
          "id": 8
         },
         {
          "Issuer Name": "Delta Dental of Nebraska",
          "avg_prem": 26.17896039603955,
          "id": 12
         },
         {
          "Issuer Name": "Educators Health Plans Life, Accident, and Health,",
          "avg_prem": 26.71848184818485,
          "id": 11
         },
         {
          "Issuer Name": "Delta Dental Insurance Company",
          "avg_prem": 27.380486434954197,
          "id": 4
         },
         {
          "Issuer Name": "Renaissance Life & Health Insurance Company of America",
          "avg_prem": 29.140460771732048,
          "id": 3
         },
         {
          "Issuer Name": "Dentegra Insurance Company",
          "avg_prem": 29.772956925918127,
          "id": 2
         },
         {
          "Issuer Name": "BEST Life and Health Insurance Company",
          "avg_prem": 31.09336734806068,
          "id": 0
         },
         {
          "Issuer Name": "Delta Dental of Minnesota",
          "avg_prem": 32.36410891089103,
          "id": 18
         },
         {
          "Issuer Name": "TRUASSURE INSURANCE COMPANY",
          "avg_prem": 32.81077906429991,
          "id": 1
         }
        ]
       },
       "encoding": {
        "color": {
         "field": "avg_prem",
         "legend": null,
         "scale": {
          "scheme": "viridis"
         },
         "sort": "descending",
         "type": "quantitative"
        },
        "x": {
         "field": "avg_prem",
         "title": "Average Monthly Premium",
         "type": "quantitative"
        },
        "y": {
         "field": "Issuer Name",
         "sort": [
          "Dominion Dental Services, Inc.",
          "Humana Insurance Company",
          "Alpha Dental Programs, Inc.",
          "DentaQuest USA Insurance Company, Inc.",
          "Blue Cross and Blue Shield of Georgia, Inc.",
          "Dental Care Plus, Inc.",
          "DSM USA Insurance Company, Inc.",
          "Guardian Life Insurance Company of America",
          "Cigna Health and Life Insurance Company",
          "Blue Cross Blue Shield of Texas",
          "DSM USA Insurance Company Inc",
          "The Guardian Life Insurance Company",
          "Delta Dental of Nebraska",
          "Educators Health Plans Life, Accident, and Health,",
          "Delta Dental Insurance Company",
          "Renaissance Life & Health Insurance Company of America",
          "Dentegra Insurance Company",
          "BEST Life and Health Insurance Company",
          "Delta Dental of Minnesota",
          "TRUASSURE INSURANCE COMPANY"
         ],
         "title": "",
         "type": "nominal"
        }
       },
       "height": 450,
       "mark": "bar",
       "title": "Average Dental Insurance Premium by Issuer",
       "width": 900
      },
      "image/png": "[encoded data removed]",
      "text/plain": [
       "<VegaLite 2 object>\n",
       "\n",
       "If you see this message, it means the renderer has not been properly enabled\n",
       "for the frontend that you are using. For more information, see\n",
       "https://altair-viz.github.io/user_guide/troubleshooting.html\n"
      ]
     },
     "execution_count": 29,
     "metadata": {},
     "output_type": "execute_result"
    }
   ],
   "source": [
    "bar = alt.Chart(issuer_prem_df, title='Average Dental Insurance Premium by Issuer', height=450, width=900).configure_title(fontSize=24).mark_bar().encode(\n",
    "        x = 'avg_prem', \n",
    "        y = alt.Y('Issuer Name', sort=issuer_prem_order_list),\n",
    "        color = alt.Color('avg_prem', sort=\"descending\", legend=None, scale=alt.Scale(scheme='viridis'))).configure_axis(\n",
    "    labelFontSize=12,\n",
    "    titleFontSize=12\n",
    ")\n",
    "\n",
    "bar.encoding.x.title = 'Average Monthly Premium'\n",
    "bar.encoding.y.title = ''\n",
    "bar"
   ]
  },
  {
   "cell_type": "code",
   "execution_count": 30,
   "metadata": {
    "colab": {
     "base_uri": "https://localhost:8080/",
     "height": 550
    },
    "colab_type": "code",
    "id": "ZmFiQp_l5UfE",
    "outputId": "7f87e47f-681d-4614-81a2-c9e9e331dde8"
   },
   "outputs": [
    {
     "data": {
      "application/vnd.vegalite.v2+json": {
       "$schema": "https://vega.github.io/schema/vega-lite/v2.6.0.json",
       "config": {
        "axis": {
         "labelFontSize": 12,
         "titleFontSize": 12
        },
        "background": "white",
        "title": {
         "fontSize": 24
        },
        "view": {
         "height": 300,
         "width": 400
        }
       },
       "data": {
        "name": "data-d2c7b872d01dc47779718c97fb842f02"
       },
       "datasets": {
        "data-d2c7b872d01dc47779718c97fb842f02": [
         {
          "avg_prem": 24.666137874981494,
          "id": 1,
          "state": "Alabama"
         },
         {
          "avg_prem": 51.93522493188914,
          "id": 2,
          "state": "Alaska"
         },
         {
          "avg_prem": null,
          "id": 3,
          "state": null
         },
         {
          "avg_prem": 29.908524492898728,
          "id": 4,
          "state": "Arizona"
         },
         {
          "avg_prem": 27.296255169820775,
          "id": 5,
          "state": "Arkansas"
         },
         {
          "avg_prem": null,
          "id": 6,
          "state": "California"
         },
         {
          "avg_prem": null,
          "id": 7,
          "state": null
         },
         {
          "avg_prem": null,
          "id": 8,
          "state": "Colorado"
         },
         {
          "avg_prem": null,
          "id": 9,
          "state": "Connecticut"
         },
         {
          "avg_prem": 26.879752475247525,
          "id": 10,
          "state": "Delaware"
         },
         {
          "avg_prem": null,
          "id": 11,
          "state": "District of Columbia"
         },
         {
          "avg_prem": 23.724885119487116,
          "id": 12,
          "state": "Florida"
         },
         {
          "avg_prem": 28.419528838506842,
          "id": 13,
          "state": "Georgia"
         },
         {
          "avg_prem": null,
          "id": 14,
          "state": null
         },
         {
          "avg_prem": null,
          "id": 15,
          "state": "Hawaii"
         },
         {
          "avg_prem": null,
          "id": 16,
          "state": "Idaho"
         },
         {
          "avg_prem": 28.22496391859381,
          "id": 17,
          "state": "Illinois"
         },
         {
          "avg_prem": 28.309138652343908,
          "id": 18,
          "state": "Indiana"
         },
         {
          "avg_prem": 31.65401621980381,
          "id": 19,
          "state": "Iowa"
         },
         {
          "avg_prem": 28.11684830526862,
          "id": 20,
          "state": "Kansas"
         },
         {
          "avg_prem": 21.98635196515332,
          "id": 21,
          "state": "Kentucky"
         },
         {
          "avg_prem": 29.072459047733993,
          "id": 22,
          "state": "Louisiana"
         },
         {
          "avg_prem": 32.36490806223478,
          "id": 23,
          "state": "Maine"
         },
         {
          "avg_prem": null,
          "id": 24,
          "state": "Maryland"
         },
         {
          "avg_prem": null,
          "id": 25,
          "state": "Massachusetts"
         },
         {
          "avg_prem": 28.651147190190684,
          "id": 26,
          "state": "Michigan"
         },
         {
          "avg_prem": null,
          "id": 27,
          "state": "Minnesota"
         },
         {
          "avg_prem": 28.021774055454394,
          "id": 28,
          "state": "Mississippi"
         },
         {
          "avg_prem": 27.02652671668558,
          "id": 29,
          "state": "Missouri"
         },
         {
          "avg_prem": 39.448855885588465,
          "id": 30,
          "state": "Montana"
         },
         {
          "avg_prem": 27.404370960137488,
          "id": 31,
          "state": "Nebraska"
         },
         {
          "avg_prem": 32.104766797434465,
          "id": 32,
          "state": "Nevada"
         },
         {
          "avg_prem": 35.011801980198015,
          "id": 33,
          "state": "New Hampshire"
         },
         {
          "avg_prem": 31.211290936785986,
          "id": 34,
          "state": "New Jersey"
         },
         {
          "avg_prem": 24.643188193819327,
          "id": 35,
          "state": "New Mexico"
         },
         {
          "avg_prem": null,
          "id": 36,
          "state": "New York"
         },
         {
          "avg_prem": 33.10694873300898,
          "id": 37,
          "state": "North Carolina"
         },
         {
          "avg_prem": 31.062101313904957,
          "id": 38,
          "state": "North Dakota"
         },
         {
          "avg_prem": 25.609605184801804,
          "id": 39,
          "state": "Ohio"
         },
         {
          "avg_prem": 28.903445415970054,
          "id": 40,
          "state": "Oklahoma"
         },
         {
          "avg_prem": 34.96608012185838,
          "id": 41,
          "state": "Oregon"
         },
         {
          "avg_prem": 24.0461578657865,
          "id": 42,
          "state": "Pennsylvania"
         },
         {
          "avg_prem": null,
          "id": 43,
          "state": null
         },
         {
          "avg_prem": null,
          "id": 44,
          "state": "Rhode Island"
         },
         {
          "avg_prem": 27.02237523752378,
          "id": 45,
          "state": "South Carolina"
         },
         {
          "avg_prem": 29.571698169816976,
          "id": 46,
          "state": "South Dakota"
         },
         {
          "avg_prem": 25.248268716842976,
          "id": 47,
          "state": "Tennessee"
         },
         {
          "avg_prem": 27.530167964923976,
          "id": 48,
          "state": "Texas"
         },
         {
          "avg_prem": 26.614494576778597,
          "id": 49,
          "state": "Utah"
         },
         {
          "avg_prem": null,
          "id": 50,
          "state": "Vermont"
         },
         {
          "avg_prem": 26.140740827023727,
          "id": 51,
          "state": "Virginia"
         },
         {
          "avg_prem": null,
          "id": 52,
          "state": null
         },
         {
          "avg_prem": null,
          "id": 53,
          "state": "Washington"
         },
         {
          "avg_prem": 22.75522832283231,
          "id": 54,
          "state": "West Virginia"
         },
         {
          "avg_prem": 32.00931504167374,
          "id": 55,
          "state": "Wisconsin"
         },
         {
          "avg_prem": 33.75711221122116,
          "id": 56,
          "state": "Wyoming"
         }
        ]
       },
       "encoding": {
        "color": {
         "field": "avg_prem",
         "legend": null,
         "scale": {
          "scheme": "viridis"
         },
         "sort": "descending",
         "type": "quantitative"
        },
        "x": {
         "field": "avg_prem",
         "title": "Average premium per month",
         "type": "quantitative"
        },
        "y": {
         "field": "state",
         "title": "State",
         "type": "nominal"
        }
       },
       "height": 450,
       "mark": "bar",
       "title": "Average Monthly Dental Insurance Premium by State",
       "width": 900
      },
      "image/png": "[encoded data removed]",
      "text/plain": [
       "<VegaLite 2 object>\n",
       "\n",
       "If you see this message, it means the renderer has not been properly enabled\n",
       "for the frontend that you are using. For more information, see\n",
       "https://altair-viz.github.io/user_guide/troubleshooting.html\n"
      ]
     },
     "execution_count": 30,
     "metadata": {},
     "output_type": "execute_result"
    }
   ],
   "source": [
    "bar = alt.Chart(state_prem_df, title='Average Monthly Dental Insurance Premium by State', height=450, width=900).configure_title(fontSize=24).mark_bar().encode(\n",
    "        x = 'avg_prem', \n",
    "        y = 'state',\n",
    "        color = alt.Color('avg_prem', sort=\"descending\", legend=None, scale=alt.Scale(scheme='viridis'))).configure_axis(\n",
    "    labelFontSize=12,\n",
    "    titleFontSize=12\n",
    ")\n",
    "\n",
    "bar.encoding.x.title = 'Average premium per month'\n",
    "bar.encoding.y.title = 'State'\n",
    "bar"
   ]
  },
  {
   "cell_type": "code",
   "execution_count": 31,
   "metadata": {
    "colab": {
     "base_uri": "https://localhost:8080/",
     "height": 606
    },
    "colab_type": "code",
    "id": "oDmE1mcVxdwc",
    "outputId": "1766ba47-92f2-4720-a434-a4ec2c321786"
   },
   "outputs": [
    {
     "data": {
      "application/vnd.vegalite.v2+json": {
       "$schema": "https://vega.github.io/schema/vega-lite/v2.6.0.json",
       "config": {
        "axis": {
         "labelFontSize": 16,
         "titleFontSize": 14
        },
        "background": "white",
        "title": {
         "fontSize": 24
        },
        "view": {
         "height": 300,
         "width": 400
        }
       },
       "data": {
        "name": "data-14ad89cccf0b9ebd351633d4459ac0ed"
       },
       "datasets": {
        "data-14ad89cccf0b9ebd351633d4459ac0ed": [
         {
          "avg_prem": 30.573691147040073,
          "bin": "0 - 37",
          "id": 0
         },
         {
          "avg_prem": 30.409811479302615,
          "bin": "37 - 58",
          "id": 1
         },
         {
          "avg_prem": 27.143544741499188,
          "bin": "58 - 90",
          "id": 2
         },
         {
          "avg_prem": 28.016172033294904,
          "bin": "90 - 110",
          "id": 3
         },
         {
          "avg_prem": 23.982989432087816,
          "bin": "110 - 165",
          "id": 4
         },
         {
          "avg_prem": 28.36286500738919,
          "bin": "165 - 185",
          "id": 5
         },
         {
          "avg_prem": 28.309138652343908,
          "bin": "185 - 210",
          "id": 6
         },
         {
          "avg_prem": 27.818745487204918,
          "bin": "210 - 220",
          "id": 7
         },
         {
          "avg_prem": 26.608312359380566,
          "bin": "220 - 286",
          "id": 8
         },
         {
          "avg_prem": 24.46143396666605,
          "bin": "286+",
          "id": 9
         }
        ]
       },
       "encoding": {
        "color": {
         "field": "avg_prem",
         "legend": null,
         "scale": {
          "scheme": "viridis"
         },
         "sort": "descending",
         "type": "quantitative"
        },
        "x": {
         "field": "bin",
         "sort": [
          "0 - 37",
          "37 - 58",
          "58 - 90",
          "90 - 110",
          "110 - 165",
          "165 - 185",
          "185 - 210",
          "210 - 220",
          "220 - 286",
          "286+"
         ],
         "title": "Population density per square mile",
         "type": "nominal"
        },
        "y": {
         "field": "avg_prem",
         "title": "Average monthly premium",
         "type": "quantitative"
        }
       },
       "height": 450,
       "mark": "bar",
       "title": "Average Monthly Dental Insurance Premium by Population Density",
       "width": 900
      },
      "image/png": "[encoded data removed]",
      "text/plain": [
       "<VegaLite 2 object>\n",
       "\n",
       "If you see this message, it means the renderer has not been properly enabled\n",
       "for the frontend that you are using. For more information, see\n",
       "https://altair-viz.github.io/user_guide/troubleshooting.html\n"
      ]
     },
     "execution_count": 31,
     "metadata": {},
     "output_type": "execute_result"
    }
   ],
   "source": [
    "bar = alt.Chart(pop_density_df, title='Average Monthly Dental Insurance Premium by Population Density', height=450, width=900).configure_title(fontSize=24).mark_bar().encode(\n",
    "        x = alt.X('bin', sort=pop_density_order_list),  \n",
    "        y = 'avg_prem',\n",
    "        color = alt.Color('avg_prem', legend=None, sort=\"descending\", scale=alt.Scale(scheme='viridis') )).configure_axis(\n",
    "    labelFontSize=16,\n",
    "    titleFontSize=14\n",
    ")\n",
    "\n",
    "bar.encoding.x.title = 'Population density per square mile'\n",
    "bar.encoding.y.title = 'Average monthly premium'\n",
    "bar"
   ]
  },
  {
   "cell_type": "code",
   "execution_count": 32,
   "metadata": {
    "colab": {},
    "colab_type": "code",
    "id": "Ogq0NfcL1LXI"
   },
   "outputs": [],
   "source": [
    "# find correlations between average premium and other metrics\n",
    "num_df = df._get_numeric_data()\n",
    "num_df = num_df[['Avg Premium', 'StateFreq', 'StateID_Geo', 'Pop Density', 'Population',\n",
    "       'Area', 'CountyID', 'IssuerID', 'PlanMarketingID', 'PlanID Encoded',\n",
    "       'SERFF', 'PlansPer100K', 'Issuer_MP', 'State_MP',\n",
    "       'County_MP', 'RatingArea_MP', 'PlansPer100K_MP', 'MarketingID_MP',\n",
    "       'PopDensity_MP', 'PopDensityBin_MP']]\n",
    "\n",
    "corr = num_df.corr()"
   ]
  },
  {
   "cell_type": "code",
   "execution_count": 33,
   "metadata": {
    "colab": {
     "base_uri": "https://localhost:8080/",
     "height": 792
    },
    "colab_type": "code",
    "id": "VvYiN1c0lY3m",
    "outputId": "64aadc7d-b21e-4918-c087-4c93873763ce"
   },
   "outputs": [
    {
     "data": {
      "image/png": "[encoded data removed]",
      "text/plain": [
       "<Figure size 1152x864 with 2 Axes>"
      ]
     },
     "metadata": {},
     "output_type": "display_data"
    }
   ],
   "source": [
    "plt.figure(figsize = (16,12))\n",
    "plt.title(\"Correlations between Average Monthly Premium and Other Numeric Features\")\n",
    "sns.heatmap(corr);"
   ]
  },
  {
   "cell_type": "markdown",
   "metadata": {
    "colab_type": "text",
    "id": "qd_dXUhBLTg9"
   },
   "source": [
    "# Models"
   ]
  },
  {
   "cell_type": "code",
   "execution_count": 34,
   "metadata": {
    "colab": {},
    "colab_type": "code",
    "id": "OJgsdvTXLUcl"
   },
   "outputs": [],
   "source": [
    "# shuffle data for cross_val_score; function scores poor w/o it\n",
    "shuffle_df = df.reindex(np.random.permutation(df.index))\n",
    "\n",
    "# created modified dataframe of only numeric values\n",
    "mod_df = shuffle_df._get_numeric_data()\n",
    "\n",
    "# eliminate features with near 100% correlation with y-var\n",
    "mod_df = mod_df.drop(['Premium Child',\n",
    "       'Premium Adult Individual Age 21', 'Premium Adult Individual Age 27',\n",
    "       'Premium Adult Individual Age 30 ', 'Premium Adult Individual Age 40 ',\n",
    "       'Premium Adult Individual Age 50 ', 'Premium Adult Individual Age 60 ',\n",
    "       'Premium Couple 21  ', 'Premium Couple 30 ', 'Premium Couple 40 ',\n",
    "       'Premium Couple 50 ', 'Premium Couple 60 ', 'Couple+1 child, Age 21',\n",
    "       'Couple+1 child, Age 30 ', 'Couple+1 child, Age 40 ',\n",
    "       'Couple+1 child, Age 50 ', 'Couple+2 children, Age 21',\n",
    "       'Couple+2 children, Age 30 ', 'Couple+2 children, Age 40 ',\n",
    "       'Couple+2 children, Age 50', 'Couple+3 or more Children, Age 21',\n",
    "       'Couple+3 or more Children, Age 30',\n",
    "       'Couple+3 or more Children, Age 40',\n",
    "       'Couple+3 or more Children, Age 50', 'Individual+1 child, Age 21',\n",
    "       'Individual+1 child, Age 30', 'Individual+1 child, Age 40',\n",
    "       'Individual+1 child, Age 50', 'Individual+2 children, Age 21',\n",
    "       'Individual+2 children, Age 30', 'Individual+2 children, Age 40',\n",
    "       'Individual+2 children, Age 50',\n",
    "       'Individual+3 or more children, Age 21',\n",
    "       'Individual+3 or more children, Age 30',\n",
    "       'Individual+3 or more children, Age 40',\n",
    "       'Individual+3 or more children, Age 50'], axis=1)"
   ]
  },
  {
   "cell_type": "code",
   "execution_count": 35,
   "metadata": {
    "colab": {
     "base_uri": "https://localhost:8080/",
     "height": 374
    },
    "colab_type": "code",
    "id": "4XKQcI9kNEMt",
    "outputId": "cb919d80-93dc-4751-d4c7-c01e14093859"
   },
   "outputs": [
    {
     "data": {
      "text/plain": [
       "Index(['FIPS County Code', 'Metal Level', 'HIOS Issuer ID', 'Rating Area',\n",
       "       'Routine Dental Services - Adult (Coverage)',\n",
       "       'Basic Dental Care - Adult (Coverage)',\n",
       "       'Major Dental Care - Adult (Coverage)',\n",
       "       'Orthodontia - Adult (Coverage)',\n",
       "       'Dental Check-Up for Children (Coverage)',\n",
       "       'Basic Dental Care - Child (Coverage)',\n",
       "       'Major Dental Care - Child (Coverage)',\n",
       "       'Orthodontia - Child (Coverage)',\n",
       "       'Dental Deductible - Individual - Standard',\n",
       "       'Dental Deductible - Family - Standard',\n",
       "       'Dental Deductible - Family (Per Person) - Standard',\n",
       "       'Dental Maximum Out of Pocket - Individual - Standard',\n",
       "       'Dental Maximum Out of Pocket - Family - Standard',\n",
       "       'Dental Maximum Out of Pocket - Family (Per Person) - Standard',\n",
       "       'StateID', 'StateFreq', 'StateID_Geo', 'Pop Density', 'Population',\n",
       "       'Area', 'CountyID', 'IssuerID', 'PlanMarketingID', 'PlanID Encoded',\n",
       "       'SERFF', 'Avg Premium', 'PlansPer100K', 'Issuer_MP', 'State_MP',\n",
       "       'County_MP', 'RatingArea_MP', 'PlansPer100K_MP', 'MarketingID_MP',\n",
       "       'PopDensity_MP', 'PopDensityBin_MP'],\n",
       "      dtype='object')"
      ]
     },
     "execution_count": 35,
     "metadata": {},
     "output_type": "execute_result"
    }
   ],
   "source": [
    "mod_df.columns"
   ]
  },
  {
   "cell_type": "code",
   "execution_count": 36,
   "metadata": {
    "colab": {},
    "colab_type": "code",
    "id": "KRpWu7fYLtsi"
   },
   "outputs": [],
   "source": [
    "X = mod_df.drop(['Avg Premium'], axis=1)\n",
    "y = mod_df['Avg Premium']"
   ]
  },
  {
   "cell_type": "code",
   "execution_count": 37,
   "metadata": {
    "colab": {},
    "colab_type": "code",
    "id": "pFFuct4KMtcL"
   },
   "outputs": [],
   "source": [
    "X_train, X_test, y_train, y_test = train_test_split(X, y, test_size=0.33, random_state=99)"
   ]
  },
  {
   "cell_type": "code",
   "execution_count": 38,
   "metadata": {
    "colab": {},
    "colab_type": "code",
    "id": "YEU3mSedL9pi"
   },
   "outputs": [],
   "source": [
    "# Root Mean Squared Logarithmic Error (RMSLE)\n",
    "def rmsle(y_pred, y_test) : \n",
    "    if len(y_test) == len(y_pred):\n",
    "        return np.sqrt(np.mean((np.log(1+y_pred) - np.log(1+y_test))**2))\n",
    "      \n",
    "# Root mean squared error (RMSE)\n",
    "def rmse(y_pred, y_test):\n",
    "  return np.sqrt(mean_squared_error(y_test, y_pred))"
   ]
  },
  {
   "cell_type": "code",
   "execution_count": 39,
   "metadata": {
    "colab": {
     "base_uri": "https://localhost:8080/",
     "height": 374
    },
    "colab_type": "code",
    "id": "kAAkwfMPMmuE",
    "outputId": "d3fee5ce-8201-4d00-d181-f26889fbc613"
   },
   "outputs": [
    {
     "name": "stdout",
     "output_type": "stream",
     "text": [
      "=== Linear Regression ===\n",
      "R2: 0.8573233576834057\n",
      "RMSLE: 0.10091792933973855\n",
      "RMSE: 2.8417113635733777\n",
      "Mean RMSLE Score:  0.10107218528418777\n",
      "\n",
      "\n",
      "=== Random Forest Regression ===\n",
      "R2: 0.9966284943753448\n",
      "RMSLE: 0.017097606804110564\n",
      "RMSE: 0.43683302907884713\n",
      "Mean RMSLE Score:  0.016713019175490756\n",
      "\n",
      "\n",
      "=== Extra Trees Regression ===\n",
      "R2: 0.9977792495975321\n",
      "RMSLE: 0.01420019085757003\n",
      "RMSE: 0.35453033296604664\n",
      "Mean RMSLE Score:  0.013131686752060242\n",
      "\n",
      "\n"
     ]
    }
   ],
   "source": [
    "# Linear Regression\n",
    "lm = LinearRegression()\n",
    "model_lm = lm.fit(X_train,y_train)\n",
    "pred_lm = lm.predict(X_test)\n",
    "result_lm = model_lm.score(X_test, y_test)\n",
    "cv_scores_lm = cross_val_score(lm, X, y, cv=5, scoring='neg_mean_squared_log_error')\n",
    "lm_rmsle = np.sqrt(np.abs(cv_scores_lm.mean()))\n",
    "\n",
    "print(\"=== Linear Regression ===\")\n",
    "print(\"R2: \" + str(result_lm))\n",
    "print(\"RMSLE: \" + str(rmsle(pred_lm, y_test)))\n",
    "print(\"RMSE: \" + str(rmse(pred_lm, y_test)))\n",
    "print(\"Mean RMSLE Score: \", lm_rmsle.mean())\n",
    "print(\"\\n\")\n",
    "\n",
    "# # Random Forest Regression\n",
    "rfr = RandomForestRegressor()\n",
    "model_rfr = rfr.fit(X_train,y_train)\n",
    "pred_rfr = rfr.predict(X_test)\n",
    "result_rfr = model_rfr.score(X_test, y_test)\n",
    "cv_scores_rfr = cross_val_score(rfr, X, y, cv=5, scoring='neg_mean_squared_log_error')\n",
    "rfr_rmsle = np.sqrt(np.abs(cv_scores_rfr.mean()))\n",
    "\n",
    "\n",
    "print(\"=== Random Forest Regression ===\")\n",
    "print(\"R2: \" + str(result_rfr))\n",
    "print(\"RMSLE: \" + str(rmsle(pred_rfr, y_test)))\n",
    "print(\"RMSE: \" + str(rmse(pred_rfr, y_test)))\n",
    "print(\"Mean RMSLE Score: \", rfr_rmsle.mean())\n",
    "print(\"\\n\")\n",
    "\n",
    "# Extra Trees Regression\n",
    "etr = ExtraTreesRegressor()\n",
    "model_etr = etr.fit(X_train,y_train)\n",
    "pred_etr = etr.predict(X_test)\n",
    "result_etr = model_etr.score(X_test, y_test)\n",
    "cv_scores_etr = cross_val_score(etr, X, y, cv=5, scoring='neg_mean_squared_log_error')\n",
    "etr_rmsle = np.sqrt(np.abs(cv_scores_etr.mean()))\n",
    "\n",
    "print(\"=== Extra Trees Regression ===\")\n",
    "print(\"R2: \" + str(result_etr))\n",
    "print(\"RMSLE: \" + str(rmsle(pred_etr, y_test)))\n",
    "print(\"RMSE: \" + str(rmse(pred_etr, y_test)))\n",
    "print(\"Mean RMSLE Score: \", etr_rmsle.mean())\n",
    "print(\"\\n\")"
   ]
  },
  {
   "cell_type": "code",
   "execution_count": 40,
   "metadata": {
    "colab": {
     "base_uri": "https://localhost:8080/",
     "height": 680
    },
    "colab_type": "code",
    "id": "Zcwm_QnCqtzY",
    "outputId": "d46015c2-ff03-4161-9011-b902c82decfe"
   },
   "outputs": [
    {
     "name": "stdout",
     "output_type": "stream",
     "text": [
      "                                                    Feature Importance\n",
      "MarketingID_MP                                                   0.722\n",
      "County_MP                                                        0.051\n",
      "Issuer_MP                                                        0.031\n",
      "PopDensity_MP                                                    0.025\n",
      "PlanID Encoded                                                   0.025\n",
      "Population                                                       0.019\n",
      "State_MP                                                         0.017\n",
      "Metal Level                                                      0.017\n",
      "PlansPer100K_MP                                                  0.014\n",
      "HIOS Issuer ID                                                   0.012\n",
      "IssuerID                                                         0.010\n",
      "PlanMarketingID                                                  0.009\n",
      "CountyID                                                         0.007\n",
      "Pop Density                                                      0.007\n",
      "Dental Deductible - Individual - Standard                        0.006\n",
      "Area                                                             0.004\n",
      "PlansPer100K                                                     0.004\n",
      "Rating Area                                                      0.004\n",
      "FIPS County Code                                                 0.004\n",
      "StateFreq                                                        0.002\n",
      "RatingArea_MP                                                    0.002\n",
      "StateID                                                          0.002\n",
      "PopDensityBin_MP                                                 0.002\n",
      "Dental Deductible - Family (Per Person) - Standard               0.001\n",
      "Dental Deductible - Family - Standard                            0.001\n",
      "StateID_Geo                                                      0.001\n",
      "SERFF                                                            0.000\n",
      "Major Dental Care - Adult (Coverage)                             0.000\n",
      "Orthodontia - Child (Coverage)                                   0.000\n",
      "Orthodontia - Adult (Coverage)                                   0.000\n",
      "Dental Maximum Out of Pocket - Family (Per Pers...               0.000\n",
      "Basic Dental Care - Adult (Coverage)                             0.000\n",
      "Major Dental Care - Child (Coverage)                             0.000\n",
      "Basic Dental Care - Child (Coverage)                             0.000\n",
      "Dental Maximum Out of Pocket - Individual - Sta...               0.000\n",
      "Dental Maximum Out of Pocket - Family - Standard                 0.000\n",
      "Dental Check-Up for Children (Coverage)                          0.000\n",
      "Routine Dental Services - Adult (Coverage)                       0.000\n"
     ]
    }
   ],
   "source": [
    "# feature importance of random forest model\n",
    "rf_fi=RandomForestRegressor()\n",
    "rf_fi.fit(X, y)\n",
    "FI_rf = pd.DataFrame({\"Feature Importance\":rf_fi.feature_importances_}, index=X.columns)\n",
    "FI_rf_sorted = FI_rf.sort_values(\"Feature Importance\",ascending=False)\n",
    "print(FI_rf_sorted.to_string())"
   ]
  },
  {
   "cell_type": "code",
   "execution_count": null,
   "metadata": {
    "colab": {},
    "colab_type": "code",
    "id": "qTFDzAYgCa22"
   },
   "outputs": [],
   "source": []
  }
 ],
 "metadata": {
  "colab": {
   "name": "2017_QHP_Individual_Market_Dental.ipynb",
   "provenance": [],
   "version": "0.3.2"
  },
  "kernelspec": {
   "display_name": "Python 3",
   "language": "python",
   "name": "python3"
  },
  "language_info": {
   "codemirror_mode": {
    "name": "ipython",
    "version": 3
   },
   "file_extension": ".py",
   "mimetype": "text/x-python",
   "name": "python",
   "nbconvert_exporter": "python",
   "pygments_lexer": "ipython3",
   "version": "3.7.1"
  }
 },
 "nbformat": 4,
 "nbformat_minor": 2
}
