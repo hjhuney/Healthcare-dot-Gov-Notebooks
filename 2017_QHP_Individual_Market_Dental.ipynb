{
  "nbformat": 4,
  "nbformat_minor": 0,
  "metadata": {
    "colab": {
      "name": "2017_QHP_Individual_Market_Dental.ipynb",
      "version": "0.3.2",
      "provenance": []
    },
    "kernelspec": {
      "name": "python3",
      "display_name": "Python 3"
    }
  },
  "cells": [
    {
      "metadata": {
        "id": "dUmDcEblXFui",
        "colab_type": "text"
      },
      "cell_type": "markdown",
      "source": [
        "# 2017 QHP Individual Market Dental Insurance\n",
        "\n",
        "Data from [healthcare.gov](https://data.healthcare.gov/dataset/2017-QHP-Landscape-Individual-Market-Dental/gwq7-ribq). "
      ]
    },
    {
      "metadata": {
        "id": "tWJnf1_IXCXy",
        "colab_type": "text"
      },
      "cell_type": "markdown",
      "source": [
        "# Upload Data"
      ]
    },
    {
      "metadata": {
        "id": "SO0rrLHcWqTs",
        "colab_type": "code",
        "outputId": "92d51cf9-cf53-4279-af89-5d7467939e9d",
        "colab": {
          "resources": {
            "http://localhost:8080/nbextensions/google.colab/files.js": {
              "data": "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",
              "ok": true,
              "headers": [
                [
                  "content-type",
                  "application/javascript"
                ]
              ],
              "status": 200,
              "status_text": ""
            }
          },
          "base_uri": "https://localhost:8080/",
          "height": 128
        }
      },
      "cell_type": "code",
      "source": [
        "# upload csv\n",
        "from google.colab import files\n",
        "uploaded = files.upload()\n",
        "\n",
        "for fn in uploaded.keys():\n",
        "  print('User uploaded file \"{name}\" with length {length} bytes'.format(\n",
        "      name=fn, length=len(uploaded[fn])))"
      ],
      "execution_count": 2,
      "outputs": [
        {
          "output_type": "display_data",
          "data": {
            "text/html": [
              "\n",
              "     <input type=\"file\" id=\"files-500abd58-566f-464d-9cd1-3b32fa77d4da\" name=\"files[]\" multiple disabled />\n",
              "     <output id=\"result-500abd58-566f-464d-9cd1-3b32fa77d4da\">\n",
              "      Upload widget is only available when the cell has been executed in the\n",
              "      current browser session. Please rerun this cell to enable.\n",
              "      </output>\n",
              "      <script src=\"/nbextensions/google.colab/files.js\"></script> "
            ],
            "text/plain": [
              "<IPython.core.display.HTML object>"
            ]
          },
          "metadata": {
            "tags": []
          }
        },
        {
          "output_type": "stream",
          "text": [
            "Saving 2017_QHP_Landscape_Individual_Market_Dental.csv to 2017_QHP_Landscape_Individual_Market_Dental.csv\n",
            "User uploaded file \"2017_QHP_Landscape_Individual_Market_Dental.csv\" with length 31184456 bytes\n"
          ],
          "name": "stdout"
        }
      ]
    },
    {
      "metadata": {
        "id": "LOhhcp907ftA",
        "colab_type": "code",
        "outputId": "4fd678f6-0c2e-4555-ea21-166c89818577",
        "colab": {
          "resources": {
            "http://localhost:8080/nbextensions/google.colab/files.js": {
              "data": "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",
              "ok": true,
              "headers": [
                [
                  "content-type",
                  "application/javascript"
                ]
              ],
              "status": 200,
              "status_text": ""
            }
          },
          "base_uri": "https://localhost:8080/",
          "height": 108
        }
      },
      "cell_type": "code",
      "source": [
        "# upload population data\n",
        "from google.colab import files\n",
        "uploaded = files.upload()\n",
        "\n",
        "for fn in uploaded.keys():\n",
        "  print('User uploaded file \"{name}\" with length {length} bytes'.format(\n",
        "      name=fn, length=len(uploaded[fn])))"
      ],
      "execution_count": 1,
      "outputs": [
        {
          "output_type": "display_data",
          "data": {
            "text/html": [
              "\n",
              "     <input type=\"file\" id=\"files-52eed51e-c1a4-4d7d-aaf8-c844d27aadce\" name=\"files[]\" multiple disabled />\n",
              "     <output id=\"result-52eed51e-c1a4-4d7d-aaf8-c844d27aadce\">\n",
              "      Upload widget is only available when the cell has been executed in the\n",
              "      current browser session. Please rerun this cell to enable.\n",
              "      </output>\n",
              "      <script src=\"/nbextensions/google.colab/files.js\"></script> "
            ],
            "text/plain": [
              "<IPython.core.display.HTML object>"
            ]
          },
          "metadata": {
            "tags": []
          }
        },
        {
          "output_type": "stream",
          "text": [
            "Saving US_Population_Density_by_State.csv to US_Population_Density_by_State.csv\n",
            "User uploaded file \"US_Population_Density_by_State.csv\" with length 2161 bytes\n"
          ],
          "name": "stdout"
        }
      ]
    },
    {
      "metadata": {
        "id": "lErwXIxEWx4-",
        "colab_type": "code",
        "outputId": "a3a4f3ff-97ff-4097-c234-fb8676822e95",
        "colab": {
          "base_uri": "https://localhost:8080/",
          "height": 68
        }
      },
      "cell_type": "code",
      "source": [
        "!ls"
      ],
      "execution_count": 3,
      "outputs": [
        {
          "output_type": "stream",
          "text": [
            "2017_QHP_Landscape_Individual_Market_Dental.csv\n",
            "sample_data\n",
            "US_Population_Density_by_State.csv\n"
          ],
          "name": "stdout"
        }
      ]
    },
    {
      "metadata": {
        "id": "AGHC_NDBXrGk",
        "colab_type": "text"
      },
      "cell_type": "markdown",
      "source": [
        "# Imports and Load Data"
      ]
    },
    {
      "metadata": {
        "id": "QhvLJQlPXBnD",
        "colab_type": "code",
        "outputId": "48be139d-f228-4deb-cf04-f9340a17e930",
        "colab": {
          "base_uri": "https://localhost:8080/",
          "height": 34
        }
      },
      "cell_type": "code",
      "source": [
        "# standard libraries\n",
        "import pandas as pd\n",
        "import numpy as np\n",
        "import os\n",
        "\n",
        "# visualization libraries\n",
        "import seaborn as sns\n",
        "import matplotlib.pyplot as plt\n",
        "import altair as alt\n",
        "from vega_datasets import data\n",
        "\n",
        "# train-test split\n",
        "from sklearn.model_selection import train_test_split\n",
        "\n",
        "# linear regression models\n",
        "from sklearn.linear_model import LinearRegression, Ridge\n",
        "from sklearn.tree import DecisionTreeRegressor\n",
        "from sklearn.ensemble import GradientBoostingRegressor, AdaBoostRegressor\n",
        "from sklearn.ensemble import RandomForestRegressor, ExtraTreesRegressor\n",
        "from sklearn.linear_model import ElasticNet, Lasso,  BayesianRidge, LassoLarsIC\n",
        "from sklearn.kernel_ridge import KernelRidge\n",
        "from sklearn.svm import SVR, LinearSVR\n",
        "from xgboost import XGBRegressor\n",
        "\n",
        "# cross val, k-folds, scaler\n",
        "from sklearn.metrics import r2_score\n",
        "from sklearn.model_selection import GridSearchCV\n",
        "from sklearn.model_selection import RandomizedSearchCV\n",
        "from sklearn.model_selection import KFold\n",
        "from sklearn.model_selection import cross_val_score\n",
        "from sklearn.metrics import mean_squared_log_error\n",
        "from sklearn.metrics import mean_squared_error\n",
        "from sklearn.pipeline import make_pipeline\n",
        "from sklearn.preprocessing import RobustScaler\n",
        "\n",
        "# suppress scientific notation\n",
        "pd.set_option('display.float_format', lambda x: '%.3f' % x)\n",
        "\n",
        "# ignore warnings\n",
        "import warnings\n",
        "def ignore_warn(*args, **kwargs):\n",
        "    pass\n",
        "warnings.warn = ignore_warn\n",
        "warnings.filterwarnings(\"ignore\", category=Warning)\n",
        "print('Warnings will be ignored!')"
      ],
      "execution_count": 4,
      "outputs": [
        {
          "output_type": "stream",
          "text": [
            "Warnings will be ignored!\n"
          ],
          "name": "stdout"
        }
      ]
    },
    {
      "metadata": {
        "id": "ur92BYVR854F",
        "colab_type": "text"
      },
      "cell_type": "markdown",
      "source": [
        "# Population Stats"
      ]
    },
    {
      "metadata": {
        "id": "G7qR0BQTX9fU",
        "colab_type": "code",
        "colab": {}
      },
      "cell_type": "code",
      "source": [
        "# population stats df\n",
        "pop_df = pd.read_csv('US_Population_Density_by_State.csv')\n",
        "pop_df.columns = ['State', 'State Code', 'StateID_Geo', 'Pop Density', 'Population', 'Area']\n",
        "\n",
        "pop_df['Pop Density'] = pop_df['Pop Density'].str.replace(',', '')\n",
        "pop_df['Pop Density'] = pop_df['Pop Density'].astype('uint32')\n",
        "\n",
        "pop_df['Population'] = pop_df['Population'].str.replace(',', '')\n",
        "pop_df['Population'] = pop_df['Population'].astype('uint32')\n",
        "\n",
        "pop_df['Area'] = pop_df['Area'].str.replace(',', '')\n",
        "pop_df['Area'] = pop_df['Area'].astype('uint32')\n",
        "\n",
        "# pop_df['StateID'] = pop_df['State Code'].map(state_dict).fillna(39).astype('uint16')\n",
        "# pop_df = pop_df.drop(['State Code'], axis=1)"
      ],
      "execution_count": 0,
      "outputs": []
    },
    {
      "metadata": {
        "id": "2Ki7D2T8c9M4",
        "colab_type": "text"
      },
      "cell_type": "markdown",
      "source": [
        "# Data Cleaning + Feature Engineering"
      ]
    },
    {
      "metadata": {
        "id": "CoTGkiAfdVnE",
        "colab_type": "code",
        "colab": {}
      },
      "cell_type": "code",
      "source": [
        "# load data\n",
        "df = pd.read_csv('2017_QHP_Landscape_Individual_Market_Dental.csv')\n",
        "\n",
        "# remove child only offerings\n",
        "df = df[df['Child Only Offering'] == 'Allows Adult and Child-Only']\n",
        "\n",
        "# encode state names by frequency\n",
        "state_list = df['State Code'].value_counts().index.tolist()\n",
        "\n",
        "state_dict = dict()\n",
        "for x in range(0, (len(state_list))):\n",
        "    state_dict[state_list[x]] = x\n",
        "      \n",
        "df['StateID'] = df['State Code'].map(state_dict).astype('uint8')\n",
        "\n",
        "# state value counts\n",
        "df['StateFreq'] = df['State Code'].map(df['State Code'].value_counts())\n",
        "\n",
        "# merge with population data\n",
        "df = pd.merge(df, pop_df, on='State Code')\n",
        "\n",
        "# drop features with all nulls and unneeded features\n",
        "df = df.drop(['Premium Rates', 'Standard On Exchange', 'Child Only Offering'], axis=1)\n",
        "\n",
        "# drop phone number features\n",
        "df = df.drop(['Customer Service Phone Number Local', 'Customer Service Phone Number Toll Free', \n",
        "             'Customer Service Phone Number TTY'], axis=1)\n",
        "\n",
        "# reset index\n",
        "df = df.reset_index(drop=True)\n",
        "\n",
        "# county changed to county + state code\n",
        "df['County Name'] = df['County Name'] + \" \" + df['State Code']\n",
        "\n",
        "# encode county names by frequency\n",
        "county_list = df['County Name'].value_counts().index.tolist()\n",
        "\n",
        "county_dict = dict()\n",
        "for x in range(0, (len(county_list))):\n",
        "    county_dict[county_list[x]] = x\n",
        "    \n",
        "df['CountyID'] = df['County Name'].map(county_dict).astype('uint16')\n",
        "\n",
        "# encode issuers by frequency\n",
        "issuer_list = df['Issuer Name'].value_counts().index.tolist()\n",
        "\n",
        "issuer_dict = dict()\n",
        "for x in range(0, (len(issuer_list))):\n",
        "    issuer_dict[issuer_list[x]] = x\n",
        "    \n",
        "df['IssuerID'] = df['Issuer Name'].map(issuer_dict).astype('uint16')\n",
        "\n",
        "# encode marketing plans\n",
        "marketing_plan_list = df['Plan Marketing Name']\n",
        "\n",
        "marekting_plan_dict = dict()\n",
        "for x in range(0, (len(marketing_plan_list))):\n",
        "    marekting_plan_dict[marketing_plan_list[x]] = x\n",
        "    \n",
        "df['PlanMarketingID'] = df['Plan Marketing Name'].map(marekting_plan_dict).astype('uint16')\n",
        "\n",
        "# encode plan IDs\n",
        "plan_id_list = df['Plan ID (Standard Component)']\n",
        "\n",
        "plan_id_dict = dict()\n",
        "for x in range(0, (len(plan_id_list))):\n",
        "    plan_id_dict[plan_id_list[x]] = x\n",
        "    \n",
        "df['PlanID Encoded'] = df['Plan ID (Standard Component)'].map(plan_id_dict).astype('uint16')\n",
        "\n",
        "# 'Metal Level' turned into binomial\n",
        "# considering changing name to 'Hi Metal Level'\n",
        "df['Metal Level'] = df['Metal Level'].replace('Low', 0)\n",
        "df['Metal Level'] = df['Metal Level'].replace('High', 1)\n",
        "df['Metal Level'] = df['Metal Level'].astype('uint8')\n",
        "\n",
        "# turn 'Rating Area' into numeric value\n",
        "df['Rating Area'] = df['Rating Area'].str.replace('Rating Area ', '').astype('uint16')\n",
        "\n",
        "# replace nulls in coverage categories\n",
        "df['Routine Dental Services - Adult (Coverage)'] = df['Routine Dental Services - Adult (Coverage)'].fillna(0)\n",
        "df['Basic Dental Care - Adult (Coverage)'] = df['Basic Dental Care - Adult (Coverage)'].fillna(0)\n",
        "df['Major Dental Care - Adult (Coverage)'] = df['Major Dental Care - Adult (Coverage)'].fillna(0)\n",
        "df['Orthodontia - Adult (Coverage)'] = df['Orthodontia - Adult (Coverage)'].fillna(0)\n",
        "df['Dental Check-Up for Children (Coverage)'] = df['Dental Check-Up for Children (Coverage)'].fillna(0)\n",
        "df['Basic Dental Care - Child (Coverage)'] = df['Basic Dental Care - Child (Coverage)'].fillna(0)\n",
        "df['Major Dental Care - Child (Coverage)'] = df['Major Dental Care - Child (Coverage)'].fillna(0)\n",
        "df['Orthodontia - Child (Coverage)'] = df['Orthodontia - Child (Coverage)'].fillna(0)\n",
        "\n",
        "# turn coverage categories into binomials\n",
        "df['Routine Dental Services - Adult (Coverage)'] = df['Routine Dental Services - Adult (Coverage)'].replace('X', 1)\n",
        "df['Basic Dental Care - Adult (Coverage)'] = df['Basic Dental Care - Adult (Coverage)'].replace('X', 1)\n",
        "df['Major Dental Care - Adult (Coverage)'] = df['Major Dental Care - Adult (Coverage)'].replace('X', 1)\n",
        "df['Orthodontia - Adult (Coverage)'] = df['Orthodontia - Adult (Coverage)'].replace('X', 1)\n",
        "df['Dental Check-Up for Children (Coverage)'] = df['Dental Check-Up for Children (Coverage)'].replace('X', 1)\n",
        "df['Basic Dental Care - Child (Coverage)'] = df['Basic Dental Care - Child (Coverage)'].replace('X', 1)\n",
        "df['Major Dental Care - Child (Coverage)'] = df['Major Dental Care - Child (Coverage)'].replace('X', 1)\n",
        "df['Orthodontia - Child (Coverage)'] = df['Orthodontia - Child (Coverage)'].replace('X', 1)\n",
        "\n",
        "# convert coverage categories into 'uint8' data type\n",
        "df['Routine Dental Services - Adult (Coverage)'] = df['Routine Dental Services - Adult (Coverage)'].astype('uint8')\n",
        "df['Basic Dental Care - Adult (Coverage)'] = df['Basic Dental Care - Adult (Coverage)'].astype('uint8')\n",
        "df['Major Dental Care - Adult (Coverage)'] = df['Major Dental Care - Adult (Coverage)'].astype('uint8')\n",
        "df['Orthodontia - Adult (Coverage)'] = df['Orthodontia - Adult (Coverage)'].astype('uint8')\n",
        "df['Dental Check-Up for Children (Coverage)'] = df['Dental Check-Up for Children (Coverage)'].astype('uint8')\n",
        "df['Basic Dental Care - Child (Coverage)'] = df['Basic Dental Care - Child (Coverage)'].astype('uint8')\n",
        "df['Major Dental Care - Child (Coverage)'] = df['Major Dental Care - Child (Coverage)'].astype('uint8')\n",
        "df['Orthodontia - Child (Coverage)'] = df['Orthodontia - Child (Coverage)'].astype('uint8')\n",
        "\n",
        "# remove dollar signs and turn into 'uint16' / impute 'Not Applicable' values with .quantile(q=0.75) \n",
        "# NA does not mean zero; it typically means multiple deductibles; so expect higher than average\n",
        "\n",
        "df['Dental Deductible - Family (Per Person) - Standard'] = df['Dental Deductible - Family (Per Person) - Standard'].str.replace('$', '')\n",
        "df['Dental Deductible - Family (Per Person) - Standard'] = df['Dental Deductible - Family (Per Person) - Standard'].str.replace(' ', '')\n",
        "df['Dental Deductible - Family (Per Person) - Standard'] = pd.to_numeric(df['Dental Deductible - Family (Per Person) - Standard'], errors='coerce')\n",
        "df['Dental Deductible - Family (Per Person) - Standard'] = df['Dental Deductible - Family (Per Person) - Standard'].fillna(df['Dental Deductible - Family (Per Person) - Standard'].quantile(q=0.75))\n",
        "df['Dental Deductible - Family (Per Person) - Standard'] = df['Dental Deductible - Family (Per Person) - Standard'].astype('uint16')\n",
        "\n",
        "df['Dental Deductible - Individual - Standard'] = df['Dental Deductible - Individual - Standard'].str.replace('$', '')\n",
        "df['Dental Deductible - Individual - Standard'] = df['Dental Deductible - Individual - Standard'].str.replace(' ', '')\n",
        "df['Dental Deductible - Individual - Standard'] = pd.to_numeric(df['Dental Deductible - Individual - Standard'], errors='coerce')\n",
        "df['Dental Deductible - Individual - Standard'] = df['Dental Deductible - Individual - Standard'].fillna(df['Dental Deductible - Individual - Standard'].quantile(q=0.75))\n",
        "df['Dental Deductible - Individual - Standard'] = df['Dental Deductible - Individual - Standard'].astype('uint16')\n",
        "\n",
        "df['Dental Deductible - Family - Standard'] = df['Dental Deductible - Family - Standard'].str.replace('$', '')\n",
        "df['Dental Deductible - Family - Standard'] = df['Dental Deductible - Family - Standard'].str.replace(' ', '')\n",
        "df['Dental Deductible - Family - Standard'] = pd.to_numeric(df['Dental Deductible - Family - Standard'], errors='coerce')\n",
        "df['Dental Deductible - Family - Standard'] = df['Dental Deductible - Family - Standard'].fillna(df['Dental Deductible - Family - Standard'].quantile(q=0.75))\n",
        "df['Dental Deductible - Family - Standard'] = df['Dental Deductible - Family - Standard'].astype('uint16')\n",
        "\n",
        "df['Dental Maximum Out of Pocket - Individual - Standard'] = df['Dental Maximum Out of Pocket - Individual - Standard'].str.replace('$', '')\n",
        "df['Dental Maximum Out of Pocket - Individual - Standard'] = df['Dental Maximum Out of Pocket - Individual - Standard'].str.replace(' ', '')\n",
        "df['Dental Maximum Out of Pocket - Individual - Standard'] = df['Dental Maximum Out of Pocket - Individual - Standard'].astype('uint16')\n",
        "\n",
        "df['Dental Maximum Out of Pocket - Family - Standard'] = df['Dental Maximum Out of Pocket - Family - Standard'].str.replace('$', '')\n",
        "df['Dental Maximum Out of Pocket - Family - Standard'] = df['Dental Maximum Out of Pocket - Family - Standard'].str.replace(' ', '')\n",
        "df['Dental Maximum Out of Pocket - Family - Standard'] = df['Dental Maximum Out of Pocket - Family - Standard'].astype('uint16')\n",
        "\n",
        "df['Dental Maximum Out of Pocket - Family (Per Person) - Standard'] = df['Dental Maximum Out of Pocket - Family (Per Person) - Standard'].str.replace('$', '')\n",
        "df['Dental Maximum Out of Pocket - Family (Per Person) - Standard'] = df['Dental Maximum Out of Pocket - Family (Per Person) - Standard'].str.replace(' ', '')\n",
        "df['Dental Maximum Out of Pocket - Family (Per Person) - Standard'] = pd.to_numeric(df['Dental Maximum Out of Pocket - Family (Per Person) - Standard'], errors='coerce')\n",
        "df['Dental Maximum Out of Pocket - Family (Per Person) - Standard'] = df['Dental Maximum Out of Pocket - Family (Per Person) - Standard'].fillna(0)\n",
        "df['Dental Maximum Out of Pocket - Family (Per Person) - Standard'] = df['Dental Maximum Out of Pocket - Family (Per Person) - Standard'].astype('uint16')\n",
        "\n",
        "# turn 'Source' into binomial\n",
        "df['SERFF'] = df['Source']\n",
        "df['SERFF'] = df['SERFF'].replace('HIOS', 0)\n",
        "df['SERFF'] = df['SERFF'].replace('SERFF', 1)\n",
        "df['SERFF'] = df['SERFF'].astype('uint8')\n",
        "\n",
        "# create average premium per person metric as sum of all premiums divided by estimated # of individuals\n",
        "df['Avg Premium'] = df[['Premium Child','Premium Adult Individual Age 21', 'Premium Adult Individual Age 27',\n",
        "       'Premium Adult Individual Age 30 ', 'Premium Adult Individual Age 40 ',\n",
        "       'Premium Adult Individual Age 50 ', 'Premium Adult Individual Age 60 ',\n",
        "       'Premium Couple 21  ', 'Premium Couple 30 ', 'Premium Couple 40 ',\n",
        "       'Premium Couple 50 ', 'Premium Couple 60 ', 'Couple+1 child, Age 21',\n",
        "       'Couple+1 child, Age 30 ', 'Couple+1 child, Age 40 ',\n",
        "       'Couple+1 child, Age 50 ', 'Couple+2 children, Age 21',\n",
        "       'Couple+2 children, Age 30 ', 'Couple+2 children, Age 40 ',\n",
        "       'Couple+2 children, Age 50', 'Couple+3 or more Children, Age 21',\n",
        "       'Couple+3 or more Children, Age 30',\n",
        "       'Couple+3 or more Children, Age 40',\n",
        "       'Couple+3 or more Children, Age 50', 'Individual+1 child, Age 21',\n",
        "       'Individual+1 child, Age 30', 'Individual+1 child, Age 40',\n",
        "       'Individual+1 child, Age 50', 'Individual+2 children, Age 21',\n",
        "       'Individual+2 children, Age 30', 'Individual+2 children, Age 40',\n",
        "       'Individual+2 children, Age 50',\n",
        "       'Individual+3 or more children, Age 21',\n",
        "       'Individual+3 or more children, Age 30',\n",
        "       'Individual+3 or more children, Age 40',\n",
        "       'Individual+3 or more children, Age 50',]].sum(axis = 1, skipna = True) / 101\n",
        "\n",
        "# insurance plans per capita; measure of competition\n",
        "df['PlansPer100K'] = (df['StateFreq'] / df['Population']) * 100000\n",
        "\n",
        "def mean_premium_map(feature):\n",
        "    mean_premium = df.groupby(feature, as_index=True)['Avg Premium'].mean()\n",
        "    mean_premium_dict = dict(zip(mean_premium.index, mean_premium))\n",
        "    return mean_premium_dict\n",
        "\n",
        "# mean premium per provider\n",
        "df['Issuer_MP'] = df['IssuerID'].map(mean_premium_map(df['IssuerID'])).astype('float32')\n",
        "\n",
        "# mean premium by state\n",
        "df['State_MP'] = df['StateID'].map(mean_premium_map(df['StateID'])).astype('float32')\n",
        "\n",
        "# mean premium by county\n",
        "df['County_MP'] = df['CountyID'].map(mean_premium_map(df['CountyID'])).astype('float32')\n",
        "\n",
        "# mean premium by rating area\n",
        "df['RatingArea_MP'] = df['Rating Area'].map(mean_premium_map(df['Rating Area'])).astype('float32')\n",
        "\n",
        "# mean premium by plans per capita\n",
        "df['PlansPer100K_MP'] = df['PlansPer100K'].map(mean_premium_map(df['PlansPer100K'])).astype('float32')\n",
        "\n",
        "# mean premium by marketing id\n",
        "df['MarketingID_MP'] = df['PlanMarketingID'].map(mean_premium_map(df['PlanMarketingID'])).astype('float32')\n",
        "\n",
        "# mean premium by pop density\n",
        "df['PopDensity_MP'] = df['Pop Density'].map(mean_premium_map(df['Pop Density'])).astype('float32')\n",
        "\n",
        "# pop density bins\n",
        "df['PopDensityBins'] = pd.qcut(df['Pop Density'], q=11, labels=[0, 1, 2, 3, 4, 5, 6, 7, 8, 9], duplicates='drop')\n",
        "\n",
        "# mean premium by pop density bucket\n",
        "df['PopDensityBin_MP'] = df['PopDensityBins'].map(mean_premium_map(df['PopDensityBins'])).astype('float32')\n",
        "\n",
        "\n",
        "# drop some redundant columns\n",
        "df = df.drop(['Source'], axis=1)\n"
      ],
      "execution_count": 0,
      "outputs": []
    },
    {
      "metadata": {
        "id": "7J07VASsYCeU",
        "colab_type": "code",
        "colab": {}
      },
      "cell_type": "code",
      "source": [
        "# # print value counts for all 'objects'\n",
        "# def object_vcs_and_nulls(df):\n",
        "#   for i in df:\n",
        "#     if df[i].dtype == 'O':\n",
        "# #       if df[i].isnull().sum() > 0:\n",
        "#         print(df[i].value_counts())  \n",
        "#         print(\"Number of Null Values: \" + str(df[i].isnull().sum()))\n",
        "#         print(\"Percentage of Nulls = \" + str(np.round((df[i].isnull().sum() / df.shape[0] * 100), 2)) + \"%\")\n",
        "#         print(\"\\n\")\n",
        "      \n",
        "# object_vcs_and_nulls(df)"
      ],
      "execution_count": 0,
      "outputs": []
    },
    {
      "metadata": {
        "id": "uwMseFpupPmN",
        "colab_type": "code",
        "outputId": "784cf5e8-9432-488a-f846-c7eeb1be0aef",
        "colab": {
          "base_uri": "https://localhost:8080/",
          "height": 1669
        }
      },
      "cell_type": "code",
      "source": [
        "df.info()"
      ],
      "execution_count": 7,
      "outputs": [
        {
          "output_type": "stream",
          "text": [
            "<class 'pandas.core.frame.DataFrame'>\n",
            "RangeIndex: 40646 entries, 0 to 40645\n",
            "Data columns (total 91 columns):\n",
            "State Code                                                       40646 non-null object\n",
            "FIPS County Code                                                 40646 non-null int64\n",
            "County Name                                                      40646 non-null object\n",
            "Metal Level                                                      40646 non-null uint8\n",
            "Issuer Name                                                      40646 non-null object\n",
            "HIOS Issuer ID                                                   40646 non-null int64\n",
            "Plan ID (Standard Component)                                     40646 non-null object\n",
            "Plan Marketing Name                                              40646 non-null object\n",
            "Plan Type                                                        40646 non-null object\n",
            "Rating Area                                                      40646 non-null uint16\n",
            "Routine Dental Services - Adult (Coverage)                       40646 non-null uint8\n",
            "Basic Dental Care - Adult (Coverage)                             40646 non-null uint8\n",
            "Major Dental Care - Adult (Coverage)                             40646 non-null uint8\n",
            "Orthodontia - Adult (Coverage)                                   40646 non-null uint8\n",
            "Dental Check-Up for Children (Coverage)                          40646 non-null uint8\n",
            "Basic Dental Care - Child (Coverage)                             40646 non-null uint8\n",
            "Major Dental Care - Child (Coverage)                             40646 non-null uint8\n",
            "Orthodontia - Child (Coverage)                                   40646 non-null uint8\n",
            "Premium Child                                                    40646 non-null float64\n",
            "Premium Adult Individual Age 21                                  40646 non-null float64\n",
            "Premium Adult Individual Age 27                                  40646 non-null float64\n",
            "Premium Adult Individual Age 30                                  40646 non-null float64\n",
            "Premium Adult Individual Age 40                                  40646 non-null float64\n",
            "Premium Adult Individual Age 50                                  40646 non-null float64\n",
            "Premium Adult Individual Age 60                                  40646 non-null float64\n",
            "Premium Couple 21                                                40646 non-null float64\n",
            "Premium Couple 30                                                40646 non-null float64\n",
            "Premium Couple 40                                                40646 non-null float64\n",
            "Premium Couple 50                                                40646 non-null float64\n",
            "Premium Couple 60                                                40646 non-null float64\n",
            "Couple+1 child, Age 21                                           40646 non-null float64\n",
            "Couple+1 child, Age 30                                           40646 non-null float64\n",
            "Couple+1 child, Age 40                                           40646 non-null float64\n",
            "Couple+1 child, Age 50                                           40646 non-null float64\n",
            "Couple+2 children, Age 21                                        40646 non-null float64\n",
            "Couple+2 children, Age 30                                        40646 non-null float64\n",
            "Couple+2 children, Age 40                                        40646 non-null float64\n",
            "Couple+2 children, Age 50                                        40646 non-null float64\n",
            "Couple+3 or more Children, Age 21                                40646 non-null float64\n",
            "Couple+3 or more Children, Age 30                                40646 non-null float64\n",
            "Couple+3 or more Children, Age 40                                40646 non-null float64\n",
            "Couple+3 or more Children, Age 50                                40646 non-null float64\n",
            "Individual+1 child, Age 21                                       40646 non-null float64\n",
            "Individual+1 child, Age 30                                       40646 non-null float64\n",
            "Individual+1 child, Age 40                                       40646 non-null float64\n",
            "Individual+1 child, Age 50                                       40646 non-null float64\n",
            "Individual+2 children, Age 21                                    40646 non-null float64\n",
            "Individual+2 children, Age 30                                    40646 non-null float64\n",
            "Individual+2 children, Age 40                                    40646 non-null float64\n",
            "Individual+2 children, Age 50                                    40646 non-null float64\n",
            "Individual+3 or more children, Age 21                            40646 non-null float64\n",
            "Individual+3 or more children, Age 30                            40646 non-null float64\n",
            "Individual+3 or more children, Age 40                            40646 non-null float64\n",
            "Individual+3 or more children, Age 50                            40646 non-null float64\n",
            "Dental Deductible - Individual - Standard                        40646 non-null uint16\n",
            "Dental Deductible - Family - Standard                            40646 non-null uint16\n",
            "Dental Deductible - Family (Per Person) - Standard               40646 non-null uint16\n",
            "Dental Maximum Out of Pocket - Individual - Standard             40646 non-null uint16\n",
            "Dental Maximum Out of Pocket - Family - Standard                 40646 non-null uint16\n",
            "Dental Maximum Out of Pocket - Family (Per Person) - Standard    40646 non-null uint16\n",
            "Routine Dental Services - Adult                                  40646 non-null object\n",
            "Basic Dental Care - Adult                                        40646 non-null object\n",
            "Major Dental Care - Adult                                        40646 non-null object\n",
            "Orthodontia - Adult                                              40646 non-null object\n",
            "Dental Check-Up for Children                                     40646 non-null object\n",
            "Basic Dental Care - Child                                        40646 non-null object\n",
            "Major Dental Care - Child                                        40646 non-null object\n",
            "Orthodontia - Child                                              40646 non-null object\n",
            "StateID                                                          40646 non-null uint8\n",
            "StateFreq                                                        40646 non-null int64\n",
            "State                                                            40646 non-null object\n",
            "StateID_Geo                                                      40646 non-null int64\n",
            "Pop Density                                                      40646 non-null uint32\n",
            "Population                                                       40646 non-null uint32\n",
            "Area                                                             40646 non-null uint32\n",
            "CountyID                                                         40646 non-null uint16\n",
            "IssuerID                                                         40646 non-null uint16\n",
            "PlanMarketingID                                                  40646 non-null uint16\n",
            "PlanID Encoded                                                   40646 non-null uint16\n",
            "SERFF                                                            40646 non-null uint8\n",
            "Avg Premium                                                      40646 non-null float64\n",
            "PlansPer100K                                                     40646 non-null float64\n",
            "Issuer_MP                                                        40646 non-null float32\n",
            "State_MP                                                         40646 non-null float32\n",
            "County_MP                                                        40646 non-null float32\n",
            "RatingArea_MP                                                    40646 non-null float32\n",
            "PlansPer100K_MP                                                  40646 non-null float32\n",
            "MarketingID_MP                                                   40646 non-null float32\n",
            "PopDensity_MP                                                    40646 non-null float32\n",
            "PopDensityBins                                                   40646 non-null category\n",
            "PopDensityBin_MP                                                 40646 non-null float32\n",
            "dtypes: category(1), float32(8), float64(38), int64(4), object(15), uint16(11), uint32(3), uint8(11)\n",
            "memory usage: 20.7+ MB\n"
          ],
          "name": "stdout"
        }
      ]
    },
    {
      "metadata": {
        "id": "spkThqkQ8gKE",
        "colab_type": "code",
        "colab": {
          "base_uri": "https://localhost:8080/",
          "height": 610
        },
        "outputId": "fd552042-4155-4662-ed36-bdc8c39abd5f"
      },
      "cell_type": "code",
      "source": [
        "df.head()"
      ],
      "execution_count": 8,
      "outputs": [
        {
          "output_type": "execute_result",
          "data": {
            "text/html": [
              "<div>\n",
              "<style scoped>\n",
              "    .dataframe tbody tr th:only-of-type {\n",
              "        vertical-align: middle;\n",
              "    }\n",
              "\n",
              "    .dataframe tbody tr th {\n",
              "        vertical-align: top;\n",
              "    }\n",
              "\n",
              "    .dataframe thead th {\n",
              "        text-align: right;\n",
              "    }\n",
              "</style>\n",
              "<table border=\"1\" class=\"dataframe\">\n",
              "  <thead>\n",
              "    <tr style=\"text-align: right;\">\n",
              "      <th></th>\n",
              "      <th>State Code</th>\n",
              "      <th>FIPS County Code</th>\n",
              "      <th>County Name</th>\n",
              "      <th>Metal Level</th>\n",
              "      <th>Issuer Name</th>\n",
              "      <th>HIOS Issuer ID</th>\n",
              "      <th>Plan ID (Standard Component)</th>\n",
              "      <th>Plan Marketing Name</th>\n",
              "      <th>Plan Type</th>\n",
              "      <th>Rating Area</th>\n",
              "      <th>...</th>\n",
              "      <th>PlansPer100K</th>\n",
              "      <th>Issuer_MP</th>\n",
              "      <th>State_MP</th>\n",
              "      <th>County_MP</th>\n",
              "      <th>RatingArea_MP</th>\n",
              "      <th>PlansPer100K_MP</th>\n",
              "      <th>MarketingID_MP</th>\n",
              "      <th>PopDensity_MP</th>\n",
              "      <th>PopDensityBins</th>\n",
              "      <th>PopDensityBin_MP</th>\n",
              "    </tr>\n",
              "  </thead>\n",
              "  <tbody>\n",
              "    <tr>\n",
              "      <th>0</th>\n",
              "      <td>AK</td>\n",
              "      <td>2013</td>\n",
              "      <td>Aleutians East AK</td>\n",
              "      <td>0</td>\n",
              "      <td>Oregon Dental Service</td>\n",
              "      <td>21989</td>\n",
              "      <td>21989AK0030001</td>\n",
              "      <td>Delta Dental Premier Plan</td>\n",
              "      <td>Indemnity</td>\n",
              "      <td>2</td>\n",
              "      <td>...</td>\n",
              "      <td>20.188</td>\n",
              "      <td>41.132</td>\n",
              "      <td>51.935</td>\n",
              "      <td>52.537</td>\n",
              "      <td>28.597</td>\n",
              "      <td>51.935</td>\n",
              "      <td>41.426</td>\n",
              "      <td>51.935</td>\n",
              "      <td>0</td>\n",
              "      <td>30.574</td>\n",
              "    </tr>\n",
              "    <tr>\n",
              "      <th>1</th>\n",
              "      <td>AK</td>\n",
              "      <td>2013</td>\n",
              "      <td>Aleutians East AK</td>\n",
              "      <td>1</td>\n",
              "      <td>BEST Life and Health Insurance Company</td>\n",
              "      <td>74819</td>\n",
              "      <td>74819AK0020003</td>\n",
              "      <td>BESTOne Advantage Gold</td>\n",
              "      <td>PPO</td>\n",
              "      <td>2</td>\n",
              "      <td>...</td>\n",
              "      <td>20.188</td>\n",
              "      <td>31.093</td>\n",
              "      <td>51.935</td>\n",
              "      <td>52.537</td>\n",
              "      <td>28.597</td>\n",
              "      <td>51.935</td>\n",
              "      <td>36.629</td>\n",
              "      <td>51.935</td>\n",
              "      <td>0</td>\n",
              "      <td>30.574</td>\n",
              "    </tr>\n",
              "    <tr>\n",
              "      <th>2</th>\n",
              "      <td>AK</td>\n",
              "      <td>2013</td>\n",
              "      <td>Aleutians East AK</td>\n",
              "      <td>1</td>\n",
              "      <td>BEST Life and Health Insurance Company</td>\n",
              "      <td>74819</td>\n",
              "      <td>74819AK0020004</td>\n",
              "      <td>BESTOne Plus Gold</td>\n",
              "      <td>PPO</td>\n",
              "      <td>2</td>\n",
              "      <td>...</td>\n",
              "      <td>20.188</td>\n",
              "      <td>31.093</td>\n",
              "      <td>51.935</td>\n",
              "      <td>52.537</td>\n",
              "      <td>28.597</td>\n",
              "      <td>51.935</td>\n",
              "      <td>33.378</td>\n",
              "      <td>51.935</td>\n",
              "      <td>0</td>\n",
              "      <td>30.574</td>\n",
              "    </tr>\n",
              "    <tr>\n",
              "      <th>3</th>\n",
              "      <td>AK</td>\n",
              "      <td>2013</td>\n",
              "      <td>Aleutians East AK</td>\n",
              "      <td>0</td>\n",
              "      <td>BEST Life and Health Insurance Company</td>\n",
              "      <td>74819</td>\n",
              "      <td>74819AK0020005</td>\n",
              "      <td>BESTOne Plus Silver</td>\n",
              "      <td>PPO</td>\n",
              "      <td>2</td>\n",
              "      <td>...</td>\n",
              "      <td>20.188</td>\n",
              "      <td>31.093</td>\n",
              "      <td>51.935</td>\n",
              "      <td>52.537</td>\n",
              "      <td>28.597</td>\n",
              "      <td>51.935</td>\n",
              "      <td>29.578</td>\n",
              "      <td>51.935</td>\n",
              "      <td>0</td>\n",
              "      <td>30.574</td>\n",
              "    </tr>\n",
              "    <tr>\n",
              "      <th>4</th>\n",
              "      <td>AK</td>\n",
              "      <td>2013</td>\n",
              "      <td>Aleutians East AK</td>\n",
              "      <td>0</td>\n",
              "      <td>BEST Life and Health Insurance Company</td>\n",
              "      <td>74819</td>\n",
              "      <td>74819AK0020006</td>\n",
              "      <td>BESTOne Basic Silver</td>\n",
              "      <td>PPO</td>\n",
              "      <td>2</td>\n",
              "      <td>...</td>\n",
              "      <td>20.188</td>\n",
              "      <td>31.093</td>\n",
              "      <td>51.935</td>\n",
              "      <td>52.537</td>\n",
              "      <td>28.597</td>\n",
              "      <td>51.935</td>\n",
              "      <td>25.335</td>\n",
              "      <td>51.935</td>\n",
              "      <td>0</td>\n",
              "      <td>30.574</td>\n",
              "    </tr>\n",
              "  </tbody>\n",
              "</table>\n",
              "<p>5 rows × 91 columns</p>\n",
              "</div>"
            ],
            "text/plain": [
              "  State Code  FIPS County Code        County Name  Metal Level  \\\n",
              "0         AK              2013  Aleutians East AK            0   \n",
              "1         AK              2013  Aleutians East AK            1   \n",
              "2         AK              2013  Aleutians East AK            1   \n",
              "3         AK              2013  Aleutians East AK            0   \n",
              "4         AK              2013  Aleutians East AK            0   \n",
              "\n",
              "                              Issuer Name  HIOS Issuer ID  \\\n",
              "0                   Oregon Dental Service           21989   \n",
              "1  BEST Life and Health Insurance Company           74819   \n",
              "2  BEST Life and Health Insurance Company           74819   \n",
              "3  BEST Life and Health Insurance Company           74819   \n",
              "4  BEST Life and Health Insurance Company           74819   \n",
              "\n",
              "  Plan ID (Standard Component)        Plan Marketing Name  Plan Type  \\\n",
              "0               21989AK0030001  Delta Dental Premier Plan  Indemnity   \n",
              "1               74819AK0020003     BESTOne Advantage Gold        PPO   \n",
              "2               74819AK0020004          BESTOne Plus Gold        PPO   \n",
              "3               74819AK0020005        BESTOne Plus Silver        PPO   \n",
              "4               74819AK0020006       BESTOne Basic Silver        PPO   \n",
              "\n",
              "   Rating Area        ...         PlansPer100K  Issuer_MP  State_MP  \\\n",
              "0            2        ...               20.188     41.132    51.935   \n",
              "1            2        ...               20.188     31.093    51.935   \n",
              "2            2        ...               20.188     31.093    51.935   \n",
              "3            2        ...               20.188     31.093    51.935   \n",
              "4            2        ...               20.188     31.093    51.935   \n",
              "\n",
              "   County_MP  RatingArea_MP  PlansPer100K_MP  MarketingID_MP  PopDensity_MP  \\\n",
              "0     52.537         28.597           51.935          41.426         51.935   \n",
              "1     52.537         28.597           51.935          36.629         51.935   \n",
              "2     52.537         28.597           51.935          33.378         51.935   \n",
              "3     52.537         28.597           51.935          29.578         51.935   \n",
              "4     52.537         28.597           51.935          25.335         51.935   \n",
              "\n",
              "   PopDensityBins  PopDensityBin_MP  \n",
              "0               0            30.574  \n",
              "1               0            30.574  \n",
              "2               0            30.574  \n",
              "3               0            30.574  \n",
              "4               0            30.574  \n",
              "\n",
              "[5 rows x 91 columns]"
            ]
          },
          "metadata": {
            "tags": []
          },
          "execution_count": 8
        }
      ]
    },
    {
      "metadata": {
        "id": "SYnpXc6o7AyQ",
        "colab_type": "text"
      },
      "cell_type": "markdown",
      "source": [
        "# Create Visualization Dataframes"
      ]
    },
    {
      "metadata": {
        "id": "vOU7sbXi7GBh",
        "colab_type": "code",
        "colab": {}
      },
      "cell_type": "code",
      "source": [
        "# function to generate new dataframes for stats\n",
        "def feature_by_premium(feature):\n",
        "\n",
        "    new_df = pd.DataFrame()\n",
        "       \n",
        "    avg_prem_state = df.groupby(feature, as_index=True)['Avg Premium'].mean()\n",
        "    new_df['avg_prem'] = avg_prem_state\n",
        "    \n",
        "    new_df['id'] = new_df.index    \n",
        "  \n",
        "    return new_df"
      ],
      "execution_count": 0,
      "outputs": []
    },
    {
      "metadata": {
        "id": "ZqIUh0C5D0Vk",
        "colab_type": "code",
        "colab": {}
      },
      "cell_type": "code",
      "source": [
        "state_prem_df = feature_by_premium('StateID_Geo')"
      ],
      "execution_count": 0,
      "outputs": []
    },
    {
      "metadata": {
        "id": "9pFJo9yoBl8s",
        "colab_type": "code",
        "colab": {}
      },
      "cell_type": "code",
      "source": [
        "state_prem_df = state_prem_df.reindex(list(range(state_prem_df.index.min(),state_prem_df.index.max()+1)),fill_value=np.nan)"
      ],
      "execution_count": 0,
      "outputs": []
    },
    {
      "metadata": {
        "id": "TlnViPVdgi8S",
        "colab_type": "text"
      },
      "cell_type": "markdown",
      "source": [
        "# Map Visualizations\n",
        "\n",
        "* [Choropleth Maps Altair](https://www.districtdatalabs.com/altair-choropleth-viz)"
      ]
    },
    {
      "metadata": {
        "id": "Hq0hqJMM0qGz",
        "colab_type": "code",
        "colab": {
          "base_uri": "https://localhost:8080/",
          "height": 351
        },
        "outputId": "859302f8-d5f4-4266-c31d-ee27db65425d"
      },
      "cell_type": "code",
      "source": [
        "states = alt.topo_feature(data.us_10m.url, 'states')\n",
        "source = state_prem_df\n",
        "variable_list = ['avg_prem']\n",
        "\n",
        "alt.Chart(states,title='Average Premium by State').mark_geoshape().encode(\n",
        "    alt.Color(alt.repeat('row'), type='quantitative', sort= \"descending\", scale=alt.Scale(scheme='viridis'))\n",
        ").transform_lookup(\n",
        "    lookup='id',\n",
        "    from_=alt.LookupData(source, 'id', variable_list)\n",
        ").properties(\n",
        "    width=500,\n",
        "    height=300\n",
        ").project(\n",
        "    type='albersUsa'\n",
        ").repeat(\n",
        "    row=variable_list\n",
        ").resolve_scale(\n",
        "    color='independent'\n",
        ")\n",
        "\n",
        "# states = alt.topo_feature(data.us_10m.url, 'states')\n",
        "# source = state_prem_df\n",
        "# variable_list = ['avg_prem']\n",
        "\n",
        "# alt.Chart(states,title='Average Premium by State').configure_title(fontSize=24).mark_geoshape().encode(\n",
        "#     alt.Color(type='quantitative', sort= \"descending\", scale=alt.Scale(scheme='viridis'))\n",
        "# ).transform_lookup(\n",
        "#     lookup='id',\n",
        "#     from_=alt.LookupData(source, 'id', variable_list)\n",
        "# ).properties(\n",
        "#     width=500,\n",
        "#     height=300\n",
        "# ).project(\n",
        "#     type='albersUsa'\n",
        "# )"
      ],
      "execution_count": 81,
      "outputs": [
        {
          "output_type": "execute_result",
          "data": {
            "text/plain": [
              "RepeatChart({\n",
              "  repeat: Repeat({\n",
              "    row: ['avg_prem']\n",
              "  }),\n",
              "  resolve: Resolve({\n",
              "    scale: ScaleResolveMap({\n",
              "      color: 'independent'\n",
              "    })\n",
              "  }),\n",
              "  spec: Chart({\n",
              "    data: UrlData({\n",
              "      format: TopoDataFormat({\n",
              "        feature: 'states',\n",
              "        type: 'topojson'\n",
              "      }),\n",
              "      url: 'https://vega.github.io/vega-datasets/data/us-10m.json'\n",
              "    }),\n",
              "    encoding: EncodingWithFacet({\n",
              "      color: Color({\n",
              "        scale: Scale({\n",
              "          scheme: 'viridis'\n",
              "        }),\n",
              "        shorthand: RepeatRef({\n",
              "          repeat: 'row'\n",
              "        }),\n",
              "        sort: 'descending',\n",
              "        type: 'quantitative'\n",
              "      })\n",
              "    }),\n",
              "    height: 300,\n",
              "    mark: 'geoshape',\n",
              "    projection: Projection({\n",
              "      type: 'albersUsa'\n",
              "    }),\n",
              "    title: 'Average Premium by State',\n",
              "    transform: [LookupTransform({\n",
              "      from: LookupData({\n",
              "        data:              avg_prem  id\n",
              "        StateID_Geo              \n",
              "        1              24.666   1\n",
              "        2              51.935   2\n",
              "        4              29.909   4\n",
              "        5              27.296   5\n",
              "        10             26.880  10\n",
              "        12             23.725  12\n",
              "        13             28.420  13\n",
              "        17             28.225  17\n",
              "        18             28.309  18\n",
              "        19             31.654  19\n",
              "        20             28.117  20\n",
              "        21             21.986  21\n",
              "        22             29.072  22\n",
              "        23             32.365  23\n",
              "        26             28.651  26\n",
              "        28             28.022  28\n",
              "        29             27.027  29\n",
              "        30             39.449  30\n",
              "        31             27.404  31\n",
              "        32             32.105  32\n",
              "        33             35.012  33\n",
              "        34             31.211  34\n",
              "        35             24.643  35\n",
              "        37             33.107  37\n",
              "        38             31.062  38\n",
              "        39             25.610  39\n",
              "        40             28.903  40\n",
              "        41             34.966  41\n",
              "        42             24.046  42\n",
              "        45             27.022  45\n",
              "        46             29.572  46\n",
              "        47             25.248  47\n",
              "        48             27.530  48\n",
              "        49             26.614  49\n",
              "        51             26.141  51\n",
              "        54             22.755  54\n",
              "        55             32.009  55\n",
              "        56             33.757  56,\n",
              "        fields: ['avg_prem'],\n",
              "        key: 'id'\n",
              "      }),\n",
              "      lookup: 'id'\n",
              "    })],\n",
              "    width: 500\n",
              "  })\n",
              "})"
            ],
            "text/html": [
              "<!DOCTYPE html>\n",
              "<html>\n",
              "<head>\n",
              "  <style>\n",
              "    .vega-actions a {\n",
              "        margin-right: 12px;\n",
              "        color: #757575;\n",
              "        font-weight: normal;\n",
              "        font-size: 13px;\n",
              "    }\n",
              "    .error {\n",
              "        color: red;\n",
              "    }\n",
              "  </style>\n",
              "  <script type=\"text/javascript\" src=\"https://cdn.jsdelivr.net/npm//vega@4\"></script>\n",
              "  <script type=\"text/javascript\" src=\"https://cdn.jsdelivr.net/npm//vega-lite@2.6.0\"></script>\n",
              "  <script type=\"text/javascript\" src=\"https://cdn.jsdelivr.net/npm//vega-embed@3\"></script>\n",
              "</head>\n",
              "<body>\n",
              "  <div id=\"altair-viz\"></div>\n",
              "  <script>\n",
              "      var spec = {\"config\": {\"view\": {\"width\": 400, \"height\": 300}}, \"repeat\": {\"row\": [\"avg_prem\"]}, \"spec\": {\"data\": {\"url\": \"https://vega.github.io/vega-datasets/data/us-10m.json\", \"format\": {\"feature\": \"states\", \"type\": \"topojson\"}}, \"mark\": \"geoshape\", \"encoding\": {\"color\": {\"type\": \"quantitative\", \"field\": {\"repeat\": \"row\"}, \"scale\": {\"scheme\": \"viridis\"}, \"sort\": \"descending\"}}, \"height\": 300, \"projection\": {\"type\": \"albersUsa\"}, \"title\": \"Average Premium by State\", \"transform\": [{\"lookup\": \"id\", \"from\": {\"data\": {\"name\": \"data-ef5e515d9fa7625c49addaecd874023d\"}, \"key\": \"id\", \"fields\": [\"avg_prem\"]}}], \"width\": 500}, \"resolve\": {\"scale\": {\"color\": \"independent\"}}, \"$schema\": \"https://vega.github.io/schema/vega-lite/v2.6.0.json\", \"datasets\": {\"data-ef5e515d9fa7625c49addaecd874023d\": [{\"avg_prem\": 24.666137874981494, \"id\": 1}, {\"avg_prem\": 51.93522493188914, \"id\": 2}, {\"avg_prem\": 29.908524492898728, \"id\": 4}, {\"avg_prem\": 27.296255169820775, \"id\": 5}, {\"avg_prem\": 26.879752475247525, \"id\": 10}, {\"avg_prem\": 23.724885119487116, \"id\": 12}, {\"avg_prem\": 28.419528838506842, \"id\": 13}, {\"avg_prem\": 28.22496391859381, \"id\": 17}, {\"avg_prem\": 28.309138652343908, \"id\": 18}, {\"avg_prem\": 31.65401621980381, \"id\": 19}, {\"avg_prem\": 28.11684830526862, \"id\": 20}, {\"avg_prem\": 21.98635196515332, \"id\": 21}, {\"avg_prem\": 29.072459047733993, \"id\": 22}, {\"avg_prem\": 32.36490806223478, \"id\": 23}, {\"avg_prem\": 28.651147190190684, \"id\": 26}, {\"avg_prem\": 28.021774055454394, \"id\": 28}, {\"avg_prem\": 27.02652671668558, \"id\": 29}, {\"avg_prem\": 39.448855885588465, \"id\": 30}, {\"avg_prem\": 27.404370960137488, \"id\": 31}, {\"avg_prem\": 32.104766797434465, \"id\": 32}, {\"avg_prem\": 35.011801980198015, \"id\": 33}, {\"avg_prem\": 31.211290936785986, \"id\": 34}, {\"avg_prem\": 24.643188193819327, \"id\": 35}, {\"avg_prem\": 33.10694873300898, \"id\": 37}, {\"avg_prem\": 31.062101313904957, \"id\": 38}, {\"avg_prem\": 25.609605184801804, \"id\": 39}, {\"avg_prem\": 28.903445415970054, \"id\": 40}, {\"avg_prem\": 34.96608012185838, \"id\": 41}, {\"avg_prem\": 24.0461578657865, \"id\": 42}, {\"avg_prem\": 27.02237523752378, \"id\": 45}, {\"avg_prem\": 29.571698169816976, \"id\": 46}, {\"avg_prem\": 25.248268716842976, \"id\": 47}, {\"avg_prem\": 27.530167964923976, \"id\": 48}, {\"avg_prem\": 26.614494576778597, \"id\": 49}, {\"avg_prem\": 26.140740827023727, \"id\": 51}, {\"avg_prem\": 22.75522832283231, \"id\": 54}, {\"avg_prem\": 32.00931504167374, \"id\": 55}, {\"avg_prem\": 33.75711221122116, \"id\": 56}]}};\n",
              "      var embedOpt = {\"mode\": \"vega-lite\"};\n",
              "\n",
              "      function showError(el, error){\n",
              "          el.innerHTML = ('<div class=\"error\" style=\"color:red;\">'\n",
              "                          + '<p>JavaScript Error: ' + error.message + '</p>'\n",
              "                          + \"<p>This usually means there's a typo in your chart specification. \"\n",
              "                          + \"See the javascript console for the full traceback.</p>\"\n",
              "                          + '</div>');\n",
              "          throw error;\n",
              "      }\n",
              "      const el = document.getElementById('altair-viz');\n",
              "      vegaEmbed(\"#altair-viz\", spec, embedOpt)\n",
              "        .catch(error => showError(el, error));\n",
              "\n",
              "  </script>\n",
              "</body>\n",
              "</html>"
            ]
          },
          "metadata": {
            "tags": []
          },
          "execution_count": 81
        }
      ]
    },
    {
      "metadata": {
        "id": "obod_TyV81VQ",
        "colab_type": "code",
        "colab": {
          "base_uri": "https://localhost:8080/",
          "height": 530
        },
        "outputId": "cec713aa-e4e5-45c5-9224-06a83e4569ef"
      },
      "cell_type": "code",
      "source": [
        "states = alt.topo_feature(data.us_10m.url, 'states')\n",
        "source = state_prem_df\n",
        "\n",
        "\n",
        "alt.Chart(states, title=\"Average Dental Insurance Premium by State\").configure_title(fontSize=24).mark_geoshape().encode(\n",
        "    color=alt.Color('avg_prem:Q', sort=\"descending\",  scale=alt.Scale(scheme='viridis'))\n",
        ").transform_lookup(\n",
        "    lookup='id',\n",
        "    from_=alt.LookupData(source, 'id', ['avg_prem'])\n",
        ").project(\n",
        "    type='albersUsa'\n",
        ").properties(\n",
        "    width=700,\n",
        "    height=450\n",
        ")\n"
      ],
      "execution_count": 12,
      "outputs": [
        {
          "output_type": "execute_result",
          "data": {
            "text/plain": [
              "Chart({\n",
              "  config: Config({\n",
              "    title: VgTitleConfig({\n",
              "      fontSize: 24\n",
              "    })\n",
              "  }),\n",
              "  data: UrlData({\n",
              "    format: TopoDataFormat({\n",
              "      feature: 'states',\n",
              "      type: 'topojson'\n",
              "    }),\n",
              "    url: 'https://vega.github.io/vega-datasets/data/us-10m.json'\n",
              "  }),\n",
              "  encoding: EncodingWithFacet({\n",
              "    color: Color({\n",
              "      scale: Scale({\n",
              "        scheme: 'viridis'\n",
              "      }),\n",
              "      shorthand: 'avg_prem:Q',\n",
              "      sort: 'descending'\n",
              "    })\n",
              "  }),\n",
              "  height: 450,\n",
              "  mark: 'geoshape',\n",
              "  projection: Projection({\n",
              "    type: 'albersUsa'\n",
              "  }),\n",
              "  title: 'Average Dental Insurance Premium by State',\n",
              "  transform: [LookupTransform({\n",
              "    from: LookupData({\n",
              "      data:              avg_prem     id\n",
              "      StateID_Geo                 \n",
              "      1              24.666  1.000\n",
              "      2              51.935  2.000\n",
              "      3                 nan    nan\n",
              "      4              29.909  4.000\n",
              "      5              27.296  5.000\n",
              "      6                 nan    nan\n",
              "      7                 nan    nan\n",
              "      8                 nan    nan\n",
              "      9                 nan    nan\n",
              "      10             26.880 10.000\n",
              "      11                nan    nan\n",
              "      12             23.725 12.000\n",
              "      13             28.420 13.000\n",
              "      14                nan    nan\n",
              "      15                nan    nan\n",
              "      16                nan    nan\n",
              "      17             28.225 17.000\n",
              "      18             28.309 18.000\n",
              "      19             31.654 19.000\n",
              "      20             28.117 20.000\n",
              "      21             21.986 21.000\n",
              "      22             29.072 22.000\n",
              "      23             32.365 23.000\n",
              "      24                nan    nan\n",
              "      25                nan    nan\n",
              "      26             28.651 26.000\n",
              "      27                nan    nan\n",
              "      28             28.022 28.000\n",
              "      29             27.027 29.000\n",
              "      30             39.449 30.000\n",
              "      31             27.404 31.000\n",
              "      32             32.105 32.000\n",
              "      33             35.012 33.000\n",
              "      34             31.211 34.000\n",
              "      35             24.643 35.000\n",
              "      36                nan    nan\n",
              "      37             33.107 37.000\n",
              "      38             31.062 38.000\n",
              "      39             25.610 39.000\n",
              "      40             28.903 40.000\n",
              "      41             34.966 41.000\n",
              "      42             24.046 42.000\n",
              "      43                nan    nan\n",
              "      44                nan    nan\n",
              "      45             27.022 45.000\n",
              "      46             29.572 46.000\n",
              "      47             25.248 47.000\n",
              "      48             27.530 48.000\n",
              "      49             26.614 49.000\n",
              "      50                nan    nan\n",
              "      51             26.141 51.000\n",
              "      52                nan    nan\n",
              "      53                nan    nan\n",
              "      54             22.755 54.000\n",
              "      55             32.009 55.000\n",
              "      56             33.757 56.000,\n",
              "      fields: ['avg_prem'],\n",
              "      key: 'id'\n",
              "    }),\n",
              "    lookup: 'id'\n",
              "  })],\n",
              "  width: 700\n",
              "})"
            ],
            "text/html": [
              "<!DOCTYPE html>\n",
              "<html>\n",
              "<head>\n",
              "  <style>\n",
              "    .vega-actions a {\n",
              "        margin-right: 12px;\n",
              "        color: #757575;\n",
              "        font-weight: normal;\n",
              "        font-size: 13px;\n",
              "    }\n",
              "    .error {\n",
              "        color: red;\n",
              "    }\n",
              "  </style>\n",
              "  <script type=\"text/javascript\" src=\"https://cdn.jsdelivr.net/npm//vega@4\"></script>\n",
              "  <script type=\"text/javascript\" src=\"https://cdn.jsdelivr.net/npm//vega-lite@2.6.0\"></script>\n",
              "  <script type=\"text/javascript\" src=\"https://cdn.jsdelivr.net/npm//vega-embed@3\"></script>\n",
              "</head>\n",
              "<body>\n",
              "  <div id=\"altair-viz\"></div>\n",
              "  <script>\n",
              "      var spec = {\"config\": {\"view\": {\"width\": 400, \"height\": 300}, \"title\": {\"fontSize\": 24}}, \"data\": {\"url\": \"https://vega.github.io/vega-datasets/data/us-10m.json\", \"format\": {\"feature\": \"states\", \"type\": \"topojson\"}}, \"mark\": \"geoshape\", \"encoding\": {\"color\": {\"type\": \"quantitative\", \"field\": \"avg_prem\", \"scale\": {\"scheme\": \"viridis\"}, \"sort\": \"descending\"}}, \"height\": 450, \"projection\": {\"type\": \"albersUsa\"}, \"title\": \"Average Dental Insurance Premium by State\", \"transform\": [{\"lookup\": \"id\", \"from\": {\"data\": {\"name\": \"data-6434b176a2e40579f12d6c8a7c1783c4\"}, \"key\": \"id\", \"fields\": [\"avg_prem\"]}}], \"width\": 700, \"$schema\": \"https://vega.github.io/schema/vega-lite/v2.6.0.json\", \"datasets\": {\"data-6434b176a2e40579f12d6c8a7c1783c4\": [{\"avg_prem\": 24.666137874981494, \"id\": 1.0}, {\"avg_prem\": 51.93522493188914, \"id\": 2.0}, {\"avg_prem\": null, \"id\": null}, {\"avg_prem\": 29.908524492898728, \"id\": 4.0}, {\"avg_prem\": 27.296255169820775, \"id\": 5.0}, {\"avg_prem\": null, \"id\": null}, {\"avg_prem\": null, \"id\": null}, {\"avg_prem\": null, \"id\": null}, {\"avg_prem\": null, \"id\": null}, {\"avg_prem\": 26.879752475247525, \"id\": 10.0}, {\"avg_prem\": null, \"id\": null}, {\"avg_prem\": 23.724885119487116, \"id\": 12.0}, {\"avg_prem\": 28.419528838506842, \"id\": 13.0}, {\"avg_prem\": null, \"id\": null}, {\"avg_prem\": null, \"id\": null}, {\"avg_prem\": null, \"id\": null}, {\"avg_prem\": 28.22496391859381, \"id\": 17.0}, {\"avg_prem\": 28.309138652343908, \"id\": 18.0}, {\"avg_prem\": 31.65401621980381, \"id\": 19.0}, {\"avg_prem\": 28.11684830526862, \"id\": 20.0}, {\"avg_prem\": 21.98635196515332, \"id\": 21.0}, {\"avg_prem\": 29.072459047733993, \"id\": 22.0}, {\"avg_prem\": 32.36490806223478, \"id\": 23.0}, {\"avg_prem\": null, \"id\": null}, {\"avg_prem\": null, \"id\": null}, {\"avg_prem\": 28.651147190190684, \"id\": 26.0}, {\"avg_prem\": null, \"id\": null}, {\"avg_prem\": 28.021774055454394, \"id\": 28.0}, {\"avg_prem\": 27.02652671668558, \"id\": 29.0}, {\"avg_prem\": 39.448855885588465, \"id\": 30.0}, {\"avg_prem\": 27.404370960137488, \"id\": 31.0}, {\"avg_prem\": 32.104766797434465, \"id\": 32.0}, {\"avg_prem\": 35.011801980198015, \"id\": 33.0}, {\"avg_prem\": 31.211290936785986, \"id\": 34.0}, {\"avg_prem\": 24.643188193819327, \"id\": 35.0}, {\"avg_prem\": null, \"id\": null}, {\"avg_prem\": 33.10694873300898, \"id\": 37.0}, {\"avg_prem\": 31.062101313904957, \"id\": 38.0}, {\"avg_prem\": 25.609605184801804, \"id\": 39.0}, {\"avg_prem\": 28.903445415970054, \"id\": 40.0}, {\"avg_prem\": 34.96608012185838, \"id\": 41.0}, {\"avg_prem\": 24.0461578657865, \"id\": 42.0}, {\"avg_prem\": null, \"id\": null}, {\"avg_prem\": null, \"id\": null}, {\"avg_prem\": 27.02237523752378, \"id\": 45.0}, {\"avg_prem\": 29.571698169816976, \"id\": 46.0}, {\"avg_prem\": 25.248268716842976, \"id\": 47.0}, {\"avg_prem\": 27.530167964923976, \"id\": 48.0}, {\"avg_prem\": 26.614494576778597, \"id\": 49.0}, {\"avg_prem\": null, \"id\": null}, {\"avg_prem\": 26.140740827023727, \"id\": 51.0}, {\"avg_prem\": null, \"id\": null}, {\"avg_prem\": null, \"id\": null}, {\"avg_prem\": 22.75522832283231, \"id\": 54.0}, {\"avg_prem\": 32.00931504167374, \"id\": 55.0}, {\"avg_prem\": 33.75711221122116, \"id\": 56.0}]}};\n",
              "      var embedOpt = {\"mode\": \"vega-lite\"};\n",
              "\n",
              "      function showError(el, error){\n",
              "          el.innerHTML = ('<div class=\"error\" style=\"color:red;\">'\n",
              "                          + '<p>JavaScript Error: ' + error.message + '</p>'\n",
              "                          + \"<p>This usually means there's a typo in your chart specification. \"\n",
              "                          + \"See the javascript console for the full traceback.</p>\"\n",
              "                          + '</div>');\n",
              "          throw error;\n",
              "      }\n",
              "      const el = document.getElementById('altair-viz');\n",
              "      vegaEmbed(\"#altair-viz\", spec, embedOpt)\n",
              "        .catch(error => showError(el, error));\n",
              "\n",
              "  </script>\n",
              "</body>\n",
              "</html>"
            ]
          },
          "metadata": {
            "tags": []
          },
          "execution_count": 12
        }
      ]
    },
    {
      "metadata": {
        "id": "xGb6jzV681So",
        "colab_type": "code",
        "colab": {
          "base_uri": "https://localhost:8080/",
          "height": 471
        },
        "outputId": "e29ccd2e-d3c3-4e46-afe5-f5e5a6a1950f"
      },
      "cell_type": "code",
      "source": [
        "# US states background\n",
        "alt.Chart(states).mark_geoshape(\n",
        "    fill='lightgray',\n",
        "    stroke='white'\n",
        ").properties(\n",
        "    title='US State Capitols',\n",
        "    width=700,\n",
        "    height=400\n",
        ").project('albersUsa')\n",
        "\n"
      ],
      "execution_count": 15,
      "outputs": [
        {
          "output_type": "execute_result",
          "data": {
            "text/plain": [
              "Chart({\n",
              "  data: UrlData({\n",
              "    format: TopoDataFormat({\n",
              "      feature: 'states',\n",
              "      type: 'topojson'\n",
              "    }),\n",
              "    url: 'https://vega.github.io/vega-datasets/data/us-10m.json'\n",
              "  }),\n",
              "  height: 400,\n",
              "  mark: MarkDef({\n",
              "    fill: 'lightgray',\n",
              "    stroke: 'white',\n",
              "    type: 'geoshape'\n",
              "  }),\n",
              "  projection: Projection({\n",
              "    type: 'albersUsa'\n",
              "  }),\n",
              "  title: 'US State Capitols',\n",
              "  width: 700\n",
              "})"
            ],
            "text/html": [
              "<!DOCTYPE html>\n",
              "<html>\n",
              "<head>\n",
              "  <style>\n",
              "    .vega-actions a {\n",
              "        margin-right: 12px;\n",
              "        color: #757575;\n",
              "        font-weight: normal;\n",
              "        font-size: 13px;\n",
              "    }\n",
              "    .error {\n",
              "        color: red;\n",
              "    }\n",
              "  </style>\n",
              "  <script type=\"text/javascript\" src=\"https://cdn.jsdelivr.net/npm//vega@4\"></script>\n",
              "  <script type=\"text/javascript\" src=\"https://cdn.jsdelivr.net/npm//vega-lite@2.6.0\"></script>\n",
              "  <script type=\"text/javascript\" src=\"https://cdn.jsdelivr.net/npm//vega-embed@3\"></script>\n",
              "</head>\n",
              "<body>\n",
              "  <div id=\"altair-viz\"></div>\n",
              "  <script>\n",
              "      var spec = {\"config\": {\"view\": {\"width\": 400, \"height\": 300}}, \"data\": {\"url\": \"https://vega.github.io/vega-datasets/data/us-10m.json\", \"format\": {\"feature\": \"states\", \"type\": \"topojson\"}}, \"mark\": {\"type\": \"geoshape\", \"fill\": \"lightgray\", \"stroke\": \"white\"}, \"height\": 400, \"projection\": {\"type\": \"albersUsa\"}, \"title\": \"US State Capitols\", \"width\": 700, \"$schema\": \"https://vega.github.io/schema/vega-lite/v2.6.0.json\"};\n",
              "      var embedOpt = {\"mode\": \"vega-lite\"};\n",
              "\n",
              "      function showError(el, error){\n",
              "          el.innerHTML = ('<div class=\"error\" style=\"color:red;\">'\n",
              "                          + '<p>JavaScript Error: ' + error.message + '</p>'\n",
              "                          + \"<p>This usually means there's a typo in your chart specification. \"\n",
              "                          + \"See the javascript console for the full traceback.</p>\"\n",
              "                          + '</div>');\n",
              "          throw error;\n",
              "      }\n",
              "      const el = document.getElementById('altair-viz');\n",
              "      vegaEmbed(\"#altair-viz\", spec, embedOpt)\n",
              "        .catch(error => showError(el, error));\n",
              "\n",
              "  </script>\n",
              "</body>\n",
              "</html>"
            ]
          },
          "metadata": {
            "tags": []
          },
          "execution_count": 15
        }
      ]
    },
    {
      "metadata": {
        "id": "O5ZkHOtZ81QL",
        "colab_type": "code",
        "colab": {}
      },
      "cell_type": "code",
      "source": [
        ""
      ],
      "execution_count": 0,
      "outputs": []
    },
    {
      "metadata": {
        "id": "PmTYwkBVYJ07",
        "colab_type": "code",
        "colab": {}
      },
      "cell_type": "code",
      "source": [
        ""
      ],
      "execution_count": 0,
      "outputs": []
    },
    {
      "metadata": {
        "id": "fTIJR9myscgi",
        "colab_type": "text"
      },
      "cell_type": "markdown",
      "source": [
        "# Visualizations"
      ]
    },
    {
      "metadata": {
        "id": "_hAe6BYgvOub",
        "colab_type": "code",
        "colab": {}
      },
      "cell_type": "code",
      "source": [
        "# # function to generate new dataframes for stats\n",
        "# def feature_by_premium(feature):\n",
        "\n",
        "#     new_df = pd.DataFrame()\n",
        "       \n",
        "#     avg_prem_state = df.groupby(feature, as_index=True)['Avg Premium'].mean()\n",
        "#     new_df['avg_prem'] = avg_prem_state\n",
        "    \n",
        "#     new_df['id'] = new_df.index    \n",
        "  \n",
        "#     return new_df"
      ],
      "execution_count": 0,
      "outputs": []
    },
    {
      "metadata": {
        "id": "ai4xpeFawXA8",
        "colab_type": "code",
        "colab": {}
      },
      "cell_type": "code",
      "source": [
        "inv_issuer_dict = pd.Series(df['Issuer Name'].values,index=df['IssuerID']).to_dict()"
      ],
      "execution_count": 0,
      "outputs": []
    },
    {
      "metadata": {
        "id": "ql3L7yjMYJ8n",
        "colab_type": "code",
        "colab": {}
      },
      "cell_type": "code",
      "source": [
        "issuer_prem_df = feature_by_premium('IssuerID')\n",
        "issuer_prem_df = issuer_prem_df[:20]\n",
        "issuer_prem_df['Issuer Name'] = issuer_prem_df['id'].map(inv_issuer_dict)"
      ],
      "execution_count": 0,
      "outputs": []
    },
    {
      "metadata": {
        "id": "DvMkZOG-ubjb",
        "colab_type": "code",
        "colab": {
          "base_uri": "https://localhost:8080/",
          "height": 34
        },
        "outputId": "0ee2dd71-4f79-4dc5-dea8-d539f9973ae3"
      },
      "cell_type": "code",
      "source": [
        "issuer_prem_df.shape"
      ],
      "execution_count": 36,
      "outputs": [
        {
          "output_type": "execute_result",
          "data": {
            "text/plain": [
              "(20, 3)"
            ]
          },
          "metadata": {
            "tags": []
          },
          "execution_count": 36
        }
      ]
    },
    {
      "metadata": {
        "id": "pymZ5ApevBS4",
        "colab_type": "code",
        "colab": {
          "base_uri": "https://localhost:8080/",
          "height": 235
        },
        "outputId": "d24a0e09-58ee-4c37-e94f-cbc5ebab638a"
      },
      "cell_type": "code",
      "source": [
        "issuer_prem_df.head()"
      ],
      "execution_count": 37,
      "outputs": [
        {
          "output_type": "execute_result",
          "data": {
            "text/html": [
              "<div>\n",
              "<style scoped>\n",
              "    .dataframe tbody tr th:only-of-type {\n",
              "        vertical-align: middle;\n",
              "    }\n",
              "\n",
              "    .dataframe tbody tr th {\n",
              "        vertical-align: top;\n",
              "    }\n",
              "\n",
              "    .dataframe thead th {\n",
              "        text-align: right;\n",
              "    }\n",
              "</style>\n",
              "<table border=\"1\" class=\"dataframe\">\n",
              "  <thead>\n",
              "    <tr style=\"text-align: right;\">\n",
              "      <th></th>\n",
              "      <th>avg_prem</th>\n",
              "      <th>id</th>\n",
              "      <th>Issuer Name</th>\n",
              "    </tr>\n",
              "    <tr>\n",
              "      <th>IssuerID</th>\n",
              "      <th></th>\n",
              "      <th></th>\n",
              "      <th></th>\n",
              "    </tr>\n",
              "  </thead>\n",
              "  <tbody>\n",
              "    <tr>\n",
              "      <th>0</th>\n",
              "      <td>31.093</td>\n",
              "      <td>0</td>\n",
              "      <td>BEST Life and Health Insurance Company</td>\n",
              "    </tr>\n",
              "    <tr>\n",
              "      <th>1</th>\n",
              "      <td>32.811</td>\n",
              "      <td>1</td>\n",
              "      <td>TRUASSURE INSURANCE COMPANY</td>\n",
              "    </tr>\n",
              "    <tr>\n",
              "      <th>2</th>\n",
              "      <td>29.773</td>\n",
              "      <td>2</td>\n",
              "      <td>Dentegra Insurance Company</td>\n",
              "    </tr>\n",
              "    <tr>\n",
              "      <th>3</th>\n",
              "      <td>29.140</td>\n",
              "      <td>3</td>\n",
              "      <td>Renaissance Life &amp; Health Insurance Company of...</td>\n",
              "    </tr>\n",
              "    <tr>\n",
              "      <th>4</th>\n",
              "      <td>27.380</td>\n",
              "      <td>4</td>\n",
              "      <td>Delta Dental Insurance Company</td>\n",
              "    </tr>\n",
              "  </tbody>\n",
              "</table>\n",
              "</div>"
            ],
            "text/plain": [
              "          avg_prem  id                                        Issuer Name\n",
              "IssuerID                                                                 \n",
              "0           31.093   0             BEST Life and Health Insurance Company\n",
              "1           32.811   1                        TRUASSURE INSURANCE COMPANY\n",
              "2           29.773   2                         Dentegra Insurance Company\n",
              "3           29.140   3  Renaissance Life & Health Insurance Company of...\n",
              "4           27.380   4                     Delta Dental Insurance Company"
            ]
          },
          "metadata": {
            "tags": []
          },
          "execution_count": 37
        }
      ]
    },
    {
      "metadata": {
        "id": "qkO479pvurv5",
        "colab_type": "code",
        "colab": {}
      },
      "cell_type": "code",
      "source": [
        "sns.set(style=\"white\", context=\"talk\")"
      ],
      "execution_count": 0,
      "outputs": []
    },
    {
      "metadata": {
        "id": "Ga1KLASFur1l",
        "colab_type": "code",
        "colab": {
          "base_uri": "https://localhost:8080/",
          "height": 543
        },
        "outputId": "99524d0b-9577-42a4-b8b0-a7549b6a75ae"
      },
      "cell_type": "code",
      "source": [
        "# # Randomly reorder the data to make it qualitative\n",
        "# y3 = rs.choice(y1, len(y1), replace=False)\n",
        "# sns.barplot(x=x, y=y3, palette=\"deep\", ax=ax3)\n",
        "# ax3.axhline(0, color=\"k\", clip_on=False)\n",
        "# ax3.set_ylabel(\"Qualitative\")\n",
        "\n",
        "# # Finalize the plot\n",
        "# sns.despine(bottom=True)\n",
        "# plt.setp(f.axes, yticks=[])\n",
        "# plt.tight_layout(h_pad=2)\n",
        "\n",
        "\n",
        "plt.figure(figsize=(12,8))\n",
        "sns.barplot(y=issuer_prem_df['Issuer Name'], x='avg_prem', data=issuer_prem_df);\n",
        "\n",
        "plt.ylabel('')\n",
        "plt.xlabel('Average Premium')\n",
        "plt.title('Average Dental Insurance Premium by Insurer');\n",
        "# plt.xticks(rotation=90);\n",
        "\n",
        "# sns.barplot(x=issuer_prem_df['Issuer Name'], y='avg_prem', data=issuer_prem_df);"
      ],
      "execution_count": 55,
      "outputs": [
        {
          "output_type": "display_data",
          "data": {
            "image/png": "[encoded data removed]",
            "text/plain": [
              "<Figure size 864x576 with 1 Axes>"
            ]
          },
          "metadata": {
            "tags": []
          }
        }
      ]
    },
    {
      "metadata": {
        "id": "Kt06frNJur7W",
        "colab_type": "code",
        "colab": {}
      },
      "cell_type": "code",
      "source": [
        ""
      ],
      "execution_count": 0,
      "outputs": []
    },
    {
      "metadata": {
        "id": "r9_0m7CIxdmo",
        "colab_type": "code",
        "colab": {}
      },
      "cell_type": "code",
      "source": [
        ""
      ],
      "execution_count": 0,
      "outputs": []
    },
    {
      "metadata": {
        "id": "oDmE1mcVxdwc",
        "colab_type": "code",
        "colab": {}
      },
      "cell_type": "code",
      "source": [
        ""
      ],
      "execution_count": 0,
      "outputs": []
    },
    {
      "metadata": {
        "id": "qd_dXUhBLTg9",
        "colab_type": "text"
      },
      "cell_type": "markdown",
      "source": [
        "# Models"
      ]
    },
    {
      "metadata": {
        "id": "OJgsdvTXLUcl",
        "colab_type": "code",
        "colab": {}
      },
      "cell_type": "code",
      "source": [
        "# shuffle data for cross_val_score; function scores poor w/o it\n",
        "shuffle_df = df.reindex(np.random.permutation(df.index))\n",
        "\n",
        "# created modified dataframe of only numeric values\n",
        "mod_df = shuffle_df._get_numeric_data()\n",
        "\n",
        "# eliminate features with near 100% correlation with y-var\n",
        "mod_df = mod_df.drop(['Premium Child',\n",
        "       'Premium Adult Individual Age 21', 'Premium Adult Individual Age 27',\n",
        "       'Premium Adult Individual Age 30 ', 'Premium Adult Individual Age 40 ',\n",
        "       'Premium Adult Individual Age 50 ', 'Premium Adult Individual Age 60 ',\n",
        "       'Premium Couple 21  ', 'Premium Couple 30 ', 'Premium Couple 40 ',\n",
        "       'Premium Couple 50 ', 'Premium Couple 60 ', 'Couple+1 child, Age 21',\n",
        "       'Couple+1 child, Age 30 ', 'Couple+1 child, Age 40 ',\n",
        "       'Couple+1 child, Age 50 ', 'Couple+2 children, Age 21',\n",
        "       'Couple+2 children, Age 30 ', 'Couple+2 children, Age 40 ',\n",
        "       'Couple+2 children, Age 50', 'Couple+3 or more Children, Age 21',\n",
        "       'Couple+3 or more Children, Age 30',\n",
        "       'Couple+3 or more Children, Age 40',\n",
        "       'Couple+3 or more Children, Age 50', 'Individual+1 child, Age 21',\n",
        "       'Individual+1 child, Age 30', 'Individual+1 child, Age 40',\n",
        "       'Individual+1 child, Age 50', 'Individual+2 children, Age 21',\n",
        "       'Individual+2 children, Age 30', 'Individual+2 children, Age 40',\n",
        "       'Individual+2 children, Age 50',\n",
        "       'Individual+3 or more children, Age 21',\n",
        "       'Individual+3 or more children, Age 30',\n",
        "       'Individual+3 or more children, Age 40',\n",
        "       'Individual+3 or more children, Age 50'], axis=1)"
      ],
      "execution_count": 0,
      "outputs": []
    },
    {
      "metadata": {
        "id": "4XKQcI9kNEMt",
        "colab_type": "code",
        "outputId": "dc04deb7-6625-496d-ff45-b5d5d8f81422",
        "colab": {
          "base_uri": "https://localhost:8080/",
          "height": 340
        }
      },
      "cell_type": "code",
      "source": [
        "mod_df.columns"
      ],
      "execution_count": 0,
      "outputs": [
        {
          "output_type": "execute_result",
          "data": {
            "text/plain": [
              "Index(['FIPS County Code', 'Metal Level', 'HIOS Issuer ID', 'Rating Area',\n",
              "       'Routine Dental Services - Adult (Coverage)',\n",
              "       'Basic Dental Care - Adult (Coverage)',\n",
              "       'Major Dental Care - Adult (Coverage)',\n",
              "       'Orthodontia - Adult (Coverage)',\n",
              "       'Dental Check-Up for Children (Coverage)',\n",
              "       'Basic Dental Care - Child (Coverage)',\n",
              "       'Major Dental Care - Child (Coverage)',\n",
              "       'Orthodontia - Child (Coverage)',\n",
              "       'Dental Deductible - Individual - Standard',\n",
              "       'Dental Deductible - Family - Standard',\n",
              "       'Dental Deductible - Family (Per Person) - Standard',\n",
              "       'Dental Maximum Out of Pocket - Individual - Standard',\n",
              "       'Dental Maximum Out of Pocket - Family - Standard',\n",
              "       'Dental Maximum Out of Pocket - Family (Per Person) - Standard',\n",
              "       'StateID', 'StateFreq', 'Pop Density', 'Population', 'Area', 'CountyID',\n",
              "       'IssuerID', 'PlanMarketingID', 'PlanID Encoded', 'SERFF', 'Avg Premium',\n",
              "       'PlansPer100K'],\n",
              "      dtype='object')"
            ]
          },
          "metadata": {
            "tags": []
          },
          "execution_count": 153
        }
      ]
    },
    {
      "metadata": {
        "id": "KRpWu7fYLtsi",
        "colab_type": "code",
        "colab": {}
      },
      "cell_type": "code",
      "source": [
        "X = mod_df.drop(['Avg Premium'], axis=1)\n",
        "y = mod_df['Avg Premium']"
      ],
      "execution_count": 0,
      "outputs": []
    },
    {
      "metadata": {
        "id": "pFFuct4KMtcL",
        "colab_type": "code",
        "colab": {}
      },
      "cell_type": "code",
      "source": [
        "X_train, X_test, y_train, y_test = train_test_split(X, y, test_size=0.33, random_state=99)"
      ],
      "execution_count": 0,
      "outputs": []
    },
    {
      "metadata": {
        "id": "YEU3mSedL9pi",
        "colab_type": "code",
        "colab": {}
      },
      "cell_type": "code",
      "source": [
        "# Root Mean Squared Logarithmic Error (RMSLE)\n",
        "def rmsle(y_pred, y_test) : \n",
        "    if len(y_test) == len(y_pred):\n",
        "        return np.sqrt(np.mean((np.log(1+y_pred) - np.log(1+y_test))**2))\n",
        "      \n",
        "# Root mean squared error (RMSE)\n",
        "def rmse(y_pred, y_test):\n",
        "  return np.sqrt(mean_squared_error(y_test, y_pred))"
      ],
      "execution_count": 0,
      "outputs": []
    },
    {
      "metadata": {
        "id": "kAAkwfMPMmuE",
        "colab_type": "code",
        "outputId": "8ff1854c-5944-4b0b-f6c6-22643f0f428c",
        "colab": {
          "base_uri": "https://localhost:8080/",
          "height": 391
        }
      },
      "cell_type": "code",
      "source": [
        "# Linear Regression\n",
        "lm = LinearRegression()\n",
        "model_lm = lm.fit(X_train,y_train)\n",
        "pred_lm = lm.predict(X_test)\n",
        "result_lm = model_lm.score(X_test, y_test)\n",
        "cv_scores_lm = cross_val_score(lm, X, y, cv=5, scoring='neg_mean_squared_log_error')\n",
        "lm_rmsle = np.sqrt(np.abs(cv_scores_lm.mean()))\n",
        "\n",
        "print(\"=== Linear Regression ===\")\n",
        "print(\"R2: \" + str(result_lm))\n",
        "print(\"RMSLE: \" + str(rmsle(pred_lm, y_test)))\n",
        "print(\"RMSE: \" + str(rmse(pred_lm, y_test)))\n",
        "print(\"Mean RMSLE Score: \", lm_rmsle.mean())\n",
        "print(\"\\n\")\n",
        "\n",
        "# # Random Forest Regression\n",
        "rfr = RandomForestRegressor()\n",
        "model_rfr = rfr.fit(X_train,y_train)\n",
        "pred_rfr = rfr.predict(X_test)\n",
        "result_rfr = model_rfr.score(X_test, y_test)\n",
        "cv_scores_rfr = cross_val_score(rfr, X, y, cv=5, scoring='neg_mean_squared_log_error')\n",
        "rfr_rmsle = np.sqrt(np.abs(cv_scores_rfr.mean()))\n",
        "\n",
        "\n",
        "print(\"=== Random Forest Regression ===\")\n",
        "print(\"R2: \" + str(result_rfr))\n",
        "print(\"RMSLE: \" + str(rmsle(pred_rfr, y_test)))\n",
        "print(\"RMSE: \" + str(rmse(pred_rfr, y_test)))\n",
        "print(\"Mean RMSLE Score: \", rfr_rmsle.mean())\n",
        "print(\"\\n\")\n",
        "\n",
        "# Extra Trees Regression\n",
        "etr = ExtraTreesRegressor()\n",
        "model_etr = etr.fit(X_train,y_train)\n",
        "pred_etr = etr.predict(X_test)\n",
        "result_etr = model_etr.score(X_test, y_test)\n",
        "cv_scores_etr = cross_val_score(etr, X, y, cv=5, scoring='neg_mean_squared_log_error')\n",
        "etr_rmsle = np.sqrt(np.abs(cv_scores_etr.mean()))\n",
        "\n",
        "print(\"=== Extra Trees Regression ===\")\n",
        "print(\"R2: \" + str(result_etr))\n",
        "print(\"RMSLE: \" + str(rmsle(pred_etr, y_test)))\n",
        "print(\"RMSE: \" + str(rmse(pred_etr, y_test)))\n",
        "print(\"Mean RMSLE Score: \", etr_rmsle.mean())\n",
        "print(\"\\n\")"
      ],
      "execution_count": 0,
      "outputs": [
        {
          "output_type": "stream",
          "text": [
            "=== Linear Regression ===\n",
            "R2: 0.5573265232264102\n",
            "RMSLE: 0.18042236830099298\n",
            "RMSE: 5.044867184188538\n",
            "Mean RMSLE Score:  0.17938543859940775\n",
            "\n",
            "\n",
            "=== Random Forest Regression ===\n",
            "R2: 0.9909523446284767\n",
            "RMSLE: 0.02786357474007351\n",
            "RMSE: 0.7212337000906672\n",
            "Mean RMSLE Score:  0.02532616794476377\n",
            "[0.99343089 0.9926545  0.99182183 0.99248094 0.99211092]\n",
            "\n",
            "\n",
            "=== Extra Trees Regression ===\n",
            "R2: 0.9929196626450248\n",
            "RMSLE: 0.024868113468620934\n",
            "RMSE: 0.6380209828223258\n",
            "Mean RMSLE Score:  0.021747385418610467\n",
            "\n",
            "\n"
          ],
          "name": "stdout"
        }
      ]
    },
    {
      "metadata": {
        "id": "nhJY0vmmMyZy",
        "colab_type": "code",
        "colab": {}
      },
      "cell_type": "code",
      "source": [
        "def build_regression_model(model):\n",
        "    pass"
      ],
      "execution_count": 0,
      "outputs": []
    },
    {
      "metadata": {
        "id": "Zcwm_QnCqtzY",
        "colab_type": "code",
        "outputId": "cd884e7b-4088-45cd-86d8-5db7a7ef03c4",
        "colab": {
          "base_uri": "https://localhost:8080/",
          "height": 527
        }
      },
      "cell_type": "code",
      "source": [
        "# feature importance of random forest model\n",
        "rf_fi=RandomForestRegressor()\n",
        "rf_fi.fit(X, y)\n",
        "FI_rf = pd.DataFrame({\"Feature Importance\":rf_fi.feature_importances_}, index=X.columns)\n",
        "FI_rf_sorted = FI_rf.sort_values(\"Feature Importance\",ascending=False)\n",
        "print(FI_rf_sorted.to_string())"
      ],
      "execution_count": 0,
      "outputs": [
        {
          "output_type": "stream",
          "text": [
            "                                                    Feature Importance\n",
            "Metal Level                                                      0.381\n",
            "IssuerID                                                         0.166\n",
            "PlanMarketingID                                                  0.060\n",
            "PlanID Encoded                                                   0.055\n",
            "StateID                                                          0.049\n",
            "Pop Density                                                      0.048\n",
            "Population                                                       0.042\n",
            "HIOS Issuer ID                                                   0.032\n",
            "Major Dental Care - Adult (Coverage)                             0.020\n",
            "Area                                                             0.019\n",
            "Orthodontia - Adult (Coverage)                                   0.018\n",
            "Dental Deductible - Individual - Standard                        0.018\n",
            "Dental Deductible - Family (Per Person) - Standard               0.017\n",
            "Rating Area                                                      0.016\n",
            "FIPS County Code                                                 0.014\n",
            "CountyID                                                         0.013\n",
            "PlansPer100K                                                     0.010\n",
            "Dental Maximum Out of Pocket - Family (Per Pers...               0.009\n",
            "StateFreq                                                        0.007\n",
            "Dental Deductible - Family - Standard                            0.003\n",
            "Basic Dental Care - Adult (Coverage)                             0.003\n",
            "SERFF                                                            0.001\n",
            "Orthodontia - Child (Coverage)                                   0.001\n",
            "Dental Maximum Out of Pocket - Individual - Sta...               0.000\n",
            "Basic Dental Care - Child (Coverage)                             0.000\n",
            "Major Dental Care - Child (Coverage)                             0.000\n",
            "Dental Maximum Out of Pocket - Family - Standard                 0.000\n",
            "Dental Check-Up for Children (Coverage)                          0.000\n",
            "Routine Dental Services - Adult (Coverage)                       0.000\n"
          ],
          "name": "stdout"
        }
      ]
    },
    {
      "metadata": {
        "id": "qTFDzAYgCa22",
        "colab_type": "code",
        "colab": {}
      },
      "cell_type": "code",
      "source": [
        ""
      ],
      "execution_count": 0,
      "outputs": []
    },
    {
      "metadata": {
        "id": "O8NFq-V0JFJ4",
        "colab_type": "code",
        "colab": {}
      },
      "cell_type": "code",
      "source": [
        ""
      ],
      "execution_count": 0,
      "outputs": []
    }
  ]
}